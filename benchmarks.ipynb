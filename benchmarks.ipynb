{
 "cells": [
  {
   "cell_type": "code",
   "execution_count": 20,
   "metadata": {},
   "outputs": [],
   "source": [
    "import os\n",
    "import csv\n",
    "import json\n",
    "\n",
    "from wrapper import read, pretty_file_name, solver, mapf, base_ipf, pe_simple_threshold, global_heatmap, partial_solving, select_portion_based_on_heatmap\n",
    "from os import path\n",
    "from multiprocessing import Pool"
   ]
  },
  {
   "cell_type": "code",
   "execution_count": 21,
   "metadata": {},
   "outputs": [],
   "source": [
    "instances_pool_path = 'instances'\n",
    "instances_pool = [(pretty_file_name(file), read(path.join(instances_pool_path, file))) for file in os.listdir(\n",
    "    instances_pool_path) if path.isfile(path.join(instances_pool_path, file))]\n",
    "\n",
    "\n",
    "timeout = 60 * 5\n",
    "header = ['Step Name', 'Total Time', 'Ground Time', 'Solving Time', 'SAT', 'Additional Data']\n",
    "\n",
    "# row = [{\n",
    "#     'Step Name' : ,\n",
    "#     'Total Time' :,\n",
    "#     'Ground Time': ,\n",
    "#     'Solving Time': ,\n",
    "#     'SAT' : ,\n",
    "#     'Additional Data' :\n",
    "# }]\n"
   ]
  },
  {
   "cell_type": "code",
   "execution_count": 22,
   "metadata": {},
   "outputs": [],
   "source": [
    "def write_csv(filename:str,header:list[str],rows):\n",
    "    with open(file=filename, mode='w') as benchmark_csv:\n",
    "        benchmark_writer = csv.DictWriter(benchmark_csv, delimiter=';', quotechar='\"', quoting=csv.QUOTE_MINIMAL, fieldnames=header)\n",
    "        benchmark_writer.writeheader()\n",
    "        for row in rows:\n",
    "            benchmark_writer.writerow(row)\n",
    "            \n"
   ]
  },
  {
   "cell_type": "code",
   "execution_count": null,
   "metadata": {},
   "outputs": [
    {
     "name": "stdout",
     "output_type": "stream",
     "text": [
      "room_s29_a10_w5_h29\n",
      "Grounding...\n"
     ]
    },
    {
     "ename": "KeyboardInterrupt",
     "evalue": "",
     "output_type": "error",
     "traceback": [
      "\u001b[0;31m---------------------------------------------------------------------------\u001b[0m",
      "\u001b[0;31mKeyboardInterrupt\u001b[0m                         Traceback (most recent call last)",
      "Cell \u001b[0;32mIn[23], line 23\u001b[0m\n\u001b[1;32m     20\u001b[0m mutex \u001b[39m=\u001b[39m pool\u001b[39m.\u001b[39mapply_async(approach,[instance_name,instance_content])\n\u001b[1;32m     22\u001b[0m \u001b[39mtry\u001b[39;00m:\n\u001b[0;32m---> 23\u001b[0m     mutex\u001b[39m.\u001b[39;49mget(timeout\u001b[39m=\u001b[39;49mtimeout)\n\u001b[1;32m     24\u001b[0m \u001b[39mexcept\u001b[39;00m \u001b[39mException\u001b[39;00m \u001b[39mas\u001b[39;00m e:\n\u001b[1;32m     25\u001b[0m     \u001b[39mprint\u001b[39m(e)\n",
      "File \u001b[0;32m/usr/lib/python3.11/multiprocessing/pool.py:768\u001b[0m, in \u001b[0;36mApplyResult.get\u001b[0;34m(self, timeout)\u001b[0m\n\u001b[1;32m    767\u001b[0m \u001b[39mdef\u001b[39;00m \u001b[39mget\u001b[39m(\u001b[39mself\u001b[39m, timeout\u001b[39m=\u001b[39m\u001b[39mNone\u001b[39;00m):\n\u001b[0;32m--> 768\u001b[0m     \u001b[39mself\u001b[39;49m\u001b[39m.\u001b[39;49mwait(timeout)\n\u001b[1;32m    769\u001b[0m     \u001b[39mif\u001b[39;00m \u001b[39mnot\u001b[39;00m \u001b[39mself\u001b[39m\u001b[39m.\u001b[39mready():\n\u001b[1;32m    770\u001b[0m         \u001b[39mraise\u001b[39;00m \u001b[39mTimeoutError\u001b[39;00m\n",
      "File \u001b[0;32m/usr/lib/python3.11/multiprocessing/pool.py:765\u001b[0m, in \u001b[0;36mApplyResult.wait\u001b[0;34m(self, timeout)\u001b[0m\n\u001b[1;32m    764\u001b[0m \u001b[39mdef\u001b[39;00m \u001b[39mwait\u001b[39m(\u001b[39mself\u001b[39m, timeout\u001b[39m=\u001b[39m\u001b[39mNone\u001b[39;00m):\n\u001b[0;32m--> 765\u001b[0m     \u001b[39mself\u001b[39;49m\u001b[39m.\u001b[39;49m_event\u001b[39m.\u001b[39;49mwait(timeout)\n",
      "File \u001b[0;32m/usr/lib/python3.11/threading.py:622\u001b[0m, in \u001b[0;36mEvent.wait\u001b[0;34m(self, timeout)\u001b[0m\n\u001b[1;32m    620\u001b[0m signaled \u001b[39m=\u001b[39m \u001b[39mself\u001b[39m\u001b[39m.\u001b[39m_flag\n\u001b[1;32m    621\u001b[0m \u001b[39mif\u001b[39;00m \u001b[39mnot\u001b[39;00m signaled:\n\u001b[0;32m--> 622\u001b[0m     signaled \u001b[39m=\u001b[39m \u001b[39mself\u001b[39;49m\u001b[39m.\u001b[39;49m_cond\u001b[39m.\u001b[39;49mwait(timeout)\n\u001b[1;32m    623\u001b[0m \u001b[39mreturn\u001b[39;00m signaled\n",
      "File \u001b[0;32m/usr/lib/python3.11/threading.py:324\u001b[0m, in \u001b[0;36mCondition.wait\u001b[0;34m(self, timeout)\u001b[0m\n\u001b[1;32m    322\u001b[0m \u001b[39melse\u001b[39;00m:\n\u001b[1;32m    323\u001b[0m     \u001b[39mif\u001b[39;00m timeout \u001b[39m>\u001b[39m \u001b[39m0\u001b[39m:\n\u001b[0;32m--> 324\u001b[0m         gotit \u001b[39m=\u001b[39m waiter\u001b[39m.\u001b[39;49macquire(\u001b[39mTrue\u001b[39;49;00m, timeout)\n\u001b[1;32m    325\u001b[0m     \u001b[39melse\u001b[39;00m:\n\u001b[1;32m    326\u001b[0m         gotit \u001b[39m=\u001b[39m waiter\u001b[39m.\u001b[39macquire(\u001b[39mFalse\u001b[39;00m)\n",
      "\u001b[0;31mKeyboardInterrupt\u001b[0m: "
     ]
    },
    {
     "name": "stdout",
     "output_type": "stream",
     "text": [
      "Solving...\n",
      "True\n"
     ]
    }
   ],
   "source": [
    "for instance_name, instance_content in instances_pool:\n",
    "    def approach(instance_name,instance_content):\n",
    "        \n",
    "        print(instance_name)\n",
    "        r, s = mapf(instance_content)\n",
    "\n",
    "        row = [{\n",
    "            'Step Name' : 'base_mapf',\n",
    "            'Total Time' : s.total_time,\n",
    "            'Ground Time': s.total_time - s.solve_time,\n",
    "            'Solving Time': s.solve_time,\n",
    "            'SAT' : bool(r),\n",
    "            'Additional Data' : json.dumps(s.additional_data)\n",
    "        }]\n",
    "        \n",
    "        print(bool(r))\n",
    "        write_csv(f'benchmarks_result/{instance_name}-base_mapf.csv', header,row)\n",
    "\n",
    "    pool = Pool(1)       \n",
    "    mutex = pool.apply_async(approach,[instance_name,instance_content])\n",
    "\n",
    "    try:\n",
    "        mutex.get(timeout=timeout)\n",
    "    except Exception as e:\n",
    "        print(e)\n",
    "        pool.terminate()\n",
    "    "
   ]
  },
  {
   "cell_type": "markdown",
   "metadata": {},
   "source": [
    "## Approach 1 : No additional path, heatmap simple threshold elimination, pre-computed path on full graph"
   ]
  },
  {
   "cell_type": "code",
   "execution_count": null,
   "metadata": {},
   "outputs": [
    {
     "name": "stdout",
     "output_type": "stream",
     "text": [
      "room_s29_a10_w5_h29\n",
      "29\n"
     ]
    },
    {
     "name": "stdout",
     "output_type": "stream",
     "text": [
      "Grounding...\n"
     ]
    },
    {
     "name": "stderr",
     "output_type": "stream",
     "text": [
      "Current agent: 10 - at((12,10),0) => at((21,24),29): 100%|██████████| 10/10 [00:00<00:00, 15.59it/s]\n"
     ]
    },
    {
     "name": "stdout",
     "output_type": "stream",
     "text": [
      "SAT\n",
      "406 6 0.1\n",
      "[((2, 25), 26), ((29, 19), 25), ((1, 29), 21), ((21, 17), 20), ((2, 29), 20), ((29, 18), 26)]\n",
      "Grounding...\n",
      "Solving...\n",
      "Done\n",
      "Solver is True\n",
      "Grounding...\n",
      "Solving...\n",
      "Done\n",
      "Solver is True\n",
      "Grounding...\n",
      "Solving...\n",
      "Done\n",
      "Solver is True\n",
      "random_s20_a15_c75_h28\n",
      "28\n",
      "Grounding...\n"
     ]
    },
    {
     "name": "stderr",
     "output_type": "stream",
     "text": [
      "Current agent: 15 - at((17,7),0) => at((17,10),28): 100%|██████████| 15/15 [00:00<00:00, 35.22it/s]\n"
     ]
    },
    {
     "name": "stdout",
     "output_type": "stream",
     "text": [
      "SAT\n",
      "569 24 0.06666666666666667\n",
      "[((16, 6), 8), ((1, 2), 21), ((1, 2), 20), ((1, 2), 19), ((1, 2), 18), ((1, 2), 17), ((1, 2), 16), ((1, 2), 15), ((2, 2), 14), ((18, 3), 13), ((17, 3), 12), ((14, 9), 11), ((17, 7), 4), ((17, 7), 3), ((17, 7), 2), ((16, 3), 11), ((16, 4), 10), ((16, 7), 7), ((16, 5), 9), ((16, 8), 6), ((16, 7), 6), ((13, 7), 21), ((17, 7), 5), ((16, 8), 25)]\n",
      "Grounding...\n",
      "Solving...\n",
      "Done\n",
      "Solver is True\n",
      "Grounding...\n",
      "Solving...\n",
      "Done\n",
      "Solver is True\n",
      "Grounding...\n",
      "Solving...\n",
      "Done\n",
      "Solver is False\n",
      "Grounding...\n",
      "Solving...\n",
      "Done\n",
      "Solver is False\n",
      "Grounding...\n",
      "Solving...\n",
      "Done\n",
      "Solver is False\n",
      "Grounding...\n",
      "Solving...\n",
      "Done\n",
      "Solver is False\n",
      "maze_s10_a20_h40\n",
      "40\n",
      "Grounding...\n"
     ]
    },
    {
     "name": "stderr",
     "output_type": "stream",
     "text": [
      "Current agent: 20 - at((3,18),0) => at((1,18),4): 100%|██████████| 20/20 [00:00<00:00, 68.67it/s]   \n"
     ]
    },
    {
     "name": "stdout",
     "output_type": "stream",
     "text": [
      "SAT\n",
      "820 18 0.05\n",
      "[((10, 13), 32), ((9, 18), 32), ((16, 19), 30), ((14, 19), 28), ((5, 10), 24), ((18, 9), 23), ((5, 13), 19), ((5, 10), 16), ((9, 13), 15), ((9, 3), 13), ((11, 12), 12), ((11, 13), 11), ((9, 3), 8), ((16, 19), 5), ((3, 1), 5), ((3, 18), 4), ((1, 2), 2), ((15, 9), 1)]\n",
      "Grounding...\n",
      "Solving...\n",
      "Done\n",
      "Solver is True\n",
      "Grounding...\n",
      "Solving...\n",
      "Done\n",
      "Solver is True\n",
      "Grounding...\n",
      "Solving...\n",
      "Done\n",
      "Solver is True\n",
      "Grounding...\n",
      "Solving...\n",
      "Done\n",
      "Solver is True\n",
      "Grounding...\n",
      "Solving...\n",
      "Done\n",
      "Solver is True\n",
      "Grounding...\n",
      "Solving...\n",
      "Done\n",
      "Solver is True\n",
      "room_s19_a15_w4_h34\n",
      "34\n",
      "Grounding...\n"
     ]
    },
    {
     "name": "stderr",
     "output_type": "stream",
     "text": [
      "Current agent: 15 - at((15,19),0) => at((19,16),34): 100%|██████████| 15/15 [00:00<00:00, 33.29it/s]\n"
     ]
    },
    {
     "name": "stdout",
     "output_type": "stream",
     "text": [
      "SAT\n",
      "616 8 0.06666666666666667\n",
      "[((12, 9), 12), ((17, 11), 11), ((10, 18), 7), ((4, 5), 6), ((17, 11), 29), ((17, 13), 7), ((17, 7), 7), ((17, 11), 30)]\n",
      "Grounding...\n",
      "Solving...\n",
      "Done\n",
      "Solver is True\n",
      "Grounding...\n",
      "Solving...\n",
      "Done\n",
      "Solver is True\n",
      "Grounding...\n",
      "Solving...\n",
      "Done\n",
      "Solver is True\n",
      "maze_s20_a15_h68\n",
      "68\n",
      "Grounding...\n"
     ]
    },
    {
     "name": "stderr",
     "output_type": "stream",
     "text": [
      "Current agent: 15 - at((1,32),0) => at((5,32),68): 100%|██████████| 15/15 [00:01<00:00, 11.92it/s]  \n"
     ]
    },
    {
     "name": "stdout",
     "output_type": "stream",
     "text": [
      "SAT\n",
      "1047 6 0.06666666666666667\n",
      "[((15, 25), 45), ((6, 29), 22), ((26, 19), 20), ((12, 31), 14), ((4, 37), 6), ((1, 35), 11)]\n",
      "Grounding...\n",
      "Solving...\n",
      "Done\n",
      "Solver is True\n",
      "Grounding...\n",
      "Solving...\n",
      "Done\n",
      "Solver is True\n",
      "Grounding...\n",
      "Solving...\n",
      "Done\n",
      "Solver is True\n",
      "Grounding...\n",
      "Solving...\n",
      "Done\n",
      "Solver is True\n",
      "Grounding...\n",
      "Solving...\n",
      "Done\n",
      "Solver is True\n",
      "room_s47_a15_w5_h37\n",
      "37\n",
      "Grounding...\n"
     ]
    },
    {
     "name": "stderr",
     "output_type": "stream",
     "text": [
      "Current agent: 15 - at((47,34),0) => at((19,38),37): 100%|██████████| 15/15 [00:02<00:00,  6.74it/s]\n"
     ]
    },
    {
     "name": "stdout",
     "output_type": "stream",
     "text": [
      "SAT\n",
      "697 1 0.06666666666666667\n",
      "[((12, 32), 25)]\n",
      "Grounding...\n",
      "Solving...\n",
      "Done\n",
      "Solver is True\n",
      "Grounding...\n",
      "Solving...\n",
      "Done\n",
      "Solver is True\n",
      "Grounding...\n",
      "Solving...\n",
      "Done\n",
      "Solver is True\n",
      "Grounding...\n",
      "Solving...\n",
      "\n",
      "maze_s10_a15_h38\n",
      "38\n",
      "Grounding...\n"
     ]
    },
    {
     "name": "stderr",
     "output_type": "stream",
     "text": [
      "Current agent: 15 - at((9,18),0) => at((10,17),38): 100%|██████████| 15/15 [00:00<00:00, 42.13it/s]\n"
     ]
    },
    {
     "name": "stdout",
     "output_type": "stream",
     "text": [
      "SAT\n",
      "733 54 0.06666666666666667\n",
      "[((9, 13), 27), ((9, 13), 21), ((9, 13), 7), ((9, 17), 37), ((8, 17), 36), ((15, 15), 33), ((11, 12), 24), ((7, 17), 14), ((7, 17), 13), ((7, 17), 12), ((7, 17), 11), ((7, 17), 10), ((7, 17), 9), ((7, 17), 8), ((7, 17), 7), ((7, 17), 6), ((9, 13), 28), ((9, 13), 26), ((9, 13), 25), ((9, 13), 24), ((9, 13), 23), ((9, 13), 22), ((9, 13), 20), ((9, 13), 19), ((9, 13), 18), ((9, 13), 17), ((9, 13), 16), ((9, 13), 15), ((9, 13), 14), ((9, 13), 13), ((9, 13), 12), ((9, 13), 11), ((9, 13), 10), ((9, 13), 9), ((9, 13), 8), ((9, 13), 6), ((9, 13), 5), ((9, 13), 4), ((9, 13), 29), ((7, 17), 35), ((7, 17), 15), ((9, 19), 2), ((10, 19), 1), ((7, 17), 16), ((10, 13), 3), ((9, 13), 30), ((6, 17), 34), ((9, 13), 31), ((7, 17), 17), ((4, 13), 36), ((6, 13), 34), ((4, 13), 32), ((4, 13), 26), ((4, 13), 16)]\n",
      "Grounding...\n",
      "Solving...\n",
      "Done\n",
      "Solver is True\n",
      "Grounding...\n",
      "Solving...\n",
      "Done\n",
      "Solver is True\n",
      "Grounding...\n",
      "Solving...\n",
      "Done\n",
      "Solver is True\n",
      "Grounding...\n",
      "Solving...\n",
      "Done\n",
      "Solver is True\n",
      "Grounding...\n",
      "Solving...\n",
      "Done\n",
      "Solver is True\n",
      "Grounding...\n",
      "Solving...\n",
      "Done\n",
      "Solver is True\n",
      "random_s10_a5_c50_h16\n",
      "16\n",
      "Grounding...\n"
     ]
    },
    {
     "name": "stderr",
     "output_type": "stream",
     "text": [
      "Current agent: 5 - at((9,3),0) => at((9,4),16): 100%|██████████| 5/5 [00:00<00:00, 107.59it/s]\n"
     ]
    },
    {
     "name": "stdout",
     "output_type": "stream",
     "text": [
      "SAT\n",
      "97 1 0.2\n",
      "[((9, 3), 1)]\n",
      "Grounding...\n",
      "Solving...\n",
      "Done\n",
      "Solver is True\n",
      "Grounding...\n",
      "Solving...\n",
      "Done\n",
      "Solver is True\n",
      "Grounding...\n",
      "Solving...\n",
      "Done\n",
      "Solver is True\n",
      "room_s29_a30_w5_h34\n",
      "34\n",
      "Grounding...\n"
     ]
    },
    {
     "name": "stderr",
     "output_type": "stream",
     "text": [
      "Current agent: 30 - at((28,15),0) => at((29,15),34): 100%|██████████| 30/30 [00:01<00:00, 17.01it/s]\n"
     ]
    },
    {
     "name": "stdout",
     "output_type": "stream",
     "text": [
      "SAT\n",
      "1409 83 0.03333333333333333\n",
      "[((6, 21), 9), ((23, 5), 5), ((24, 27), 31), ((14, 19), 28), ((14, 18), 27), ((14, 17), 26), ((23, 5), 23), ((23, 5), 22), ((23, 5), 21), ((23, 5), 20), ((23, 5), 19), ((23, 5), 18), ((23, 5), 17), ((23, 5), 16), ((10, 19), 15), ((23, 5), 15), ((6, 21), 15), ((18, 9), 14), ((23, 5), 14), ((23, 5), 13), ((23, 5), 12), ((23, 5), 11), ((6, 21), 11), ((13, 11), 11), ((29, 18), 11), ((23, 5), 10), ((6, 21), 10), ((13, 11), 10), ((29, 18), 10), ((23, 5), 9), ((13, 11), 9), ((29, 18), 9), ((18, 27), 8), ((23, 5), 8), ((6, 21), 8), ((13, 11), 8), ((29, 18), 8), ((23, 5), 7), ((6, 21), 7), ((13, 11), 7), ((29, 18), 7), ((23, 5), 6), ((6, 21), 6), ((13, 11), 6), ((5, 23), 6), ((29, 18), 6), ((6, 21), 5), ((13, 11), 5), ((29, 18), 5), ((23, 5), 4), ((6, 21), 4), ((13, 11), 4), ((29, 18), 4), ((23, 5), 3), ((6, 21), 3), ((13, 11), 3), ((6, 21), 2), ((13, 11), 2), ((29, 17), 31), ((16, 29), 30), ((18, 9), 17), ((19, 17), 28), ((22, 12), 19), ((17, 11), 17), ((6, 21), 21), ((6, 21), 12), ((23, 5), 24), ((16, 11), 24), ((19, 17), 24), ((6, 21), 13), ((19, 5), 29), ((18, 17), 25), ((5, 21), 22), ((22, 11), 20), ((16, 11), 18), ((6, 21), 14), ((7, 19), 18), ((17, 29), 29), ((17, 9), 18), ((14, 11), 12), ((18, 17), 29), ((23, 5), 25), ((17, 29), 5)]\n",
      "Grounding...\n",
      "Solving...\n",
      "Done\n",
      "Solver is True\n",
      "Grounding...\n",
      "Solving...\n",
      "Done\n",
      "Solver is True\n",
      "Grounding...\n",
      "Solving...\n",
      "Done\n",
      "Solver is True\n",
      "Grounding...\n",
      "Solving...\n",
      "Done\n",
      "Solver is True\n",
      "Grounding...\n",
      "Solving...\n",
      "\n",
      "maze_s10_a25_h45\n",
      "45\n",
      "Grounding...\n"
     ]
    },
    {
     "name": "stderr",
     "output_type": "stream",
     "text": [
      "Current agent: 25 - at((16,15),0) => at((1,18),45): 100%|██████████| 25/25 [00:00<00:00, 38.40it/s] \n"
     ]
    },
    {
     "name": "stdout",
     "output_type": "stream",
     "text": [
      "SAT\n",
      "1376 157 0.04\n",
      "[((13, 15), 16), ((13, 15), 37), ((13, 15), 36), ((5, 10), 33), ((7, 3), 24), ((13, 15), 15), ((13, 15), 14), ((13, 15), 13), ((13, 15), 12), ((13, 15), 11), ((13, 15), 10), ((13, 15), 9), ((13, 15), 8), ((13, 15), 7), ((13, 15), 6), ((13, 15), 5), ((13, 15), 4), ((13, 15), 3), ((13, 15), 17), ((13, 15), 20), ((13, 15), 18), ((13, 15), 19), ((15, 9), 39), ((16, 9), 40), ((14, 15), 39), ((15, 15), 44), ((3, 17), 42), ((3, 16), 41), ((3, 15), 40), ((13, 12), 39), ((3, 14), 39), ((3, 13), 38), ((13, 14), 37), ((4, 13), 37), ((15, 11), 37), ((5, 13), 36), ((15, 11), 36), ((5, 12), 35), ((13, 15), 35), ((15, 11), 35), ((5, 11), 34), ((13, 15), 34), ((15, 11), 34), ((10, 13), 33), ((13, 15), 33), ((15, 11), 33), ((5, 9), 32), ((13, 15), 32), ((15, 11), 32), ((11, 12), 31), ((5, 8), 31), ((11, 6), 31), ((13, 15), 31), ((8, 13), 31), ((15, 11), 31), ((5, 7), 30), ((13, 15), 30), ((15, 11), 30), ((6, 13), 29), ((10, 13), 29), ((11, 3), 29), ((5, 6), 29), ((13, 15), 29), ((15, 11), 29), ((5, 5), 28), ((13, 15), 28), ((15, 11), 28), ((8, 13), 27), ((5, 4), 27), ((13, 15), 27), ((15, 11), 27), ((11, 11), 26), ((5, 3), 26), ((9, 3), 26), ((13, 15), 26), ((15, 11), 26), ((6, 3), 25), ((13, 15), 25), ((15, 11), 25), ((13, 15), 24), ((15, 11), 24), ((8, 3), 23), ((13, 15), 23), ((15, 11), 23), ((11, 11), 22), ((9, 3), 22), ((13, 15), 22), ((15, 11), 22), ((10, 3), 21), ((13, 15), 21), ((15, 11), 21), ((11, 3), 20), ((15, 11), 20), ((15, 11), 19), ((15, 11), 18), ((15, 11), 17), ((5, 10), 16), ((15, 11), 16), ((5, 10), 15), ((15, 11), 15), ((15, 11), 14), ((15, 11), 13), ((15, 11), 12), ((15, 11), 11), ((15, 11), 10), ((15, 11), 9), ((19, 5), 8), ((15, 11), 8), ((19, 5), 7), ((15, 11), 7), ((15, 19), 6), ((19, 5), 6), ((15, 11), 6), ((19, 5), 5), ((15, 11), 5), ((17, 19), 4), ((19, 5), 4), ((15, 11), 4), ((19, 5), 3), ((15, 11), 3), ((19, 19), 2), ((19, 5), 2), ((14, 15), 2), ((15, 11), 2), ((19, 5), 1), ((15, 15), 1), ((13, 15), 38), ((14, 15), 38), ((5, 10), 41), ((17, 9), 41), ((14, 15), 43), ((17, 10), 7), ((15, 10), 38), ((15, 19), 25), ((19, 5), 9), ((13, 15), 42), ((15, 19), 26), ((17, 10), 6), ((11, 12), 30), ((15, 19), 24), ((15, 15), 40), ((1, 8), 39), ((9, 19), 44), ((15, 15), 42), ((5, 11), 40), ((1, 9), 40), ((17, 10), 4), ((17, 10), 3), ((17, 10), 2), ((17, 10), 1), ((14, 15), 41), ((13, 14), 41), ((19, 5), 10), ((17, 10), 5), ((15, 15), 39), ((18, 9), 42), ((13, 13), 40)]\n",
      "Grounding...\n",
      "Solving...\n",
      "Done\n",
      "Solver is True\n",
      "Grounding...\n",
      "Solving...\n",
      "Done\n",
      "Solver is True\n",
      "Grounding...\n",
      "Solving...\n",
      "Done\n",
      "Solver is False\n",
      "Grounding...\n",
      "Solving...\n",
      "Done\n",
      "Solver is False\n",
      "Grounding...\n",
      "Solving...\n",
      "Done\n",
      "Solver is False\n",
      "Grounding...\n",
      "Solving...\n",
      "Done\n",
      "Solver is False\n",
      "room_s47_a10_w5_h59\n",
      "59\n",
      "Grounding...\n"
     ]
    },
    {
     "name": "stderr",
     "output_type": "stream",
     "text": [
      "Current agent: 10 - at((32,47),0) => at((33,1),59): 100%|██████████| 10/10 [00:02<00:00,  4.23it/s]\n"
     ]
    },
    {
     "name": "stdout",
     "output_type": "stream",
     "text": [
      "SAT\n",
      "639 1 0.1\n",
      "[((40, 14), 13)]\n",
      "Grounding...\n",
      "Solving...\n",
      "Done\n",
      "Solver is True\n",
      "Grounding...\n",
      "Solving...\n",
      "Done\n",
      "Solver is True\n",
      "Grounding...\n",
      "Solving...\n",
      "Done\n",
      "Solver is True\n",
      "room_s47_a5_w5_h50\n",
      "50\n",
      "Grounding...\n"
     ]
    },
    {
     "name": "stderr",
     "output_type": "stream",
     "text": [
      "Current agent: 5 - at((4,39),0) => at((29,16),50): 100%|██████████| 5/5 [00:01<00:00,  3.46it/s] \n"
     ]
    },
    {
     "name": "stdout",
     "output_type": "stream",
     "text": [
      "SAT\n",
      "286 0 0.2\n",
      "[]\n",
      "Grounding...\n",
      "Solving...\n",
      "Done\n",
      "Solver is True\n",
      "Grounding...\n"
     ]
    },
    {
     "name": "stderr",
     "output_type": "stream",
     "text": [
      "pathelimination/path_elimination.lp:2:5-25: info: atom does not occur in any rule head:\n",
      "  critical_vertex(V,T)\n",
      "\n",
      "pathelimination/path_elimination.lp:3:5-26: info: atom does not occur in any rule head:\n",
      "  critical_agent(R,V,T)\n",
      "\n"
     ]
    },
    {
     "name": "stdout",
     "output_type": "stream",
     "text": [
      "Solving...\n",
      "Done\n",
      "Solver is True\n",
      "Grounding...\n"
     ]
    },
    {
     "name": "stderr",
     "output_type": "stream",
     "text": [
      "pathselection/path_selection.lp:2:39-55: info: atom does not occur in any rule head:\n",
      "  path_killed(R,I)\n",
      "\n"
     ]
    },
    {
     "name": "stdout",
     "output_type": "stream",
     "text": [
      "Solving...\n",
      "Done\n",
      "Solver is True\n",
      "random_s40_a35_c75_h54\n",
      "54\n",
      "Grounding...\n"
     ]
    },
    {
     "name": "stderr",
     "output_type": "stream",
     "text": [
      "Current agent: 35 - at((24,39),0) => at((24,18),54): 100%|██████████| 35/35 [00:04<00:00,  8.36it/s]\n"
     ]
    },
    {
     "name": "stdout",
     "output_type": "stream",
     "text": [
      "SAT\n",
      "2064 38 0.02857142857142857\n",
      "[((36, 17), 53), ((36, 17), 52), ((36, 17), 51), ((36, 17), 50), ((36, 17), 49), ((36, 17), 48), ((36, 17), 47), ((36, 17), 46), ((36, 17), 45), ((36, 17), 44), ((36, 17), 43), ((36, 17), 42), ((36, 17), 41), ((36, 17), 40), ((15, 10), 40), ((36, 17), 39), ((22, 24), 39), ((36, 17), 38), ((36, 17), 37), ((36, 17), 36), ((36, 17), 35), ((36, 17), 34), ((36, 17), 33), ((36, 17), 32), ((36, 17), 31), ((36, 17), 30), ((36, 17), 29), ((24, 16), 29), ((36, 20), 26), ((36, 17), 23), ((37, 12), 17), ((28, 24), 3), ((34, 7), 10), ((26, 19), 6), ((37, 12), 35), ((26, 6), 41), ((36, 16), 5), ((35, 10), 8)]\n",
      "Grounding...\n",
      "Solving...\n",
      "Done\n",
      "Solver is True\n",
      "Grounding...\n",
      "Solving...\n",
      "Done\n",
      "Solver is True\n",
      "Grounding...\n",
      "Solving...\n",
      "\n",
      "random_s30_a25_c75_h50\n",
      "50\n",
      "Grounding...\n"
     ]
    },
    {
     "name": "stderr",
     "output_type": "stream",
     "text": [
      "Current agent: 25 - at((10,28),0) => at((24,30),50): 100%|██████████| 25/25 [00:02<00:00, 11.69it/s]\n"
     ]
    },
    {
     "name": "stdout",
     "output_type": "stream",
     "text": [
      "SAT\n",
      "1503 32 0.04\n",
      "[((8, 19), 46), ((26, 19), 36), ((12, 12), 33), ((26, 19), 32), ((21, 13), 21), ((22, 13), 20), ((26, 20), 20), ((8, 3), 18), ((24, 3), 13), ((14, 13), 13), ((24, 2), 12), ((24, 1), 11), ((21, 13), 22), ((21, 13), 23), ((26, 21), 42), ((26, 18), 39), ((26, 21), 34), ((2, 9), 49), ((21, 13), 24), ((7, 18), 5), ((2, 10), 48), ((19, 7), 22), ((26, 19), 35), ((21, 14), 28), ((27, 3), 47), ((21, 13), 25), ((21, 14), 27), ((27, 4), 46), ((13, 13), 14), ((28, 3), 48), ((21, 13), 26), ((12, 13), 15)]\n",
      "Grounding...\n",
      "Solving...\n",
      "Done\n",
      "Solver is True\n",
      "Grounding...\n",
      "Solving...\n",
      "Done\n",
      "Solver is True\n",
      "Grounding...\n",
      "Solving...\n",
      "Done\n",
      "Solver is True\n",
      "room_s19_a25_w4_h30\n",
      "30\n",
      "Grounding...\n"
     ]
    },
    {
     "name": "stderr",
     "output_type": "stream",
     "text": [
      "Current agent: 25 - at((18,19),0) => at((18,17),30): 100%|██████████| 25/25 [00:00<00:00, 38.97it/s]\n"
     ]
    },
    {
     "name": "stdout",
     "output_type": "stream",
     "text": [
      "SAT\n",
      "920 27 0.04\n",
      "[((16, 15), 25), ((11, 11), 15), ((12, 6), 28), ((5, 8), 26), ((16, 16), 26), ((6, 8), 25), ((15, 19), 20), ((14, 10), 19), ((8, 5), 12), ((14, 10), 11), ((6, 8), 10), ((8, 5), 9), ((8, 6), 8), ((6, 8), 4), ((6, 8), 1), ((17, 17), 28), ((17, 16), 27), ((17, 18), 29), ((16, 15), 7), ((17, 7), 9), ((16, 9), 8), ((16, 14), 6), ((14, 6), 7), ((17, 14), 6), ((16, 9), 11), ((17, 12), 4), ((11, 11), 7)]\n",
      "Grounding...\n",
      "Solving...\n",
      "Done\n",
      "Solver is True\n",
      "Grounding...\n",
      "Solving...\n",
      "Done\n",
      "Solver is True\n",
      "Grounding...\n",
      "Solving...\n",
      "Done\n",
      "Solver is True\n",
      "Grounding...\n",
      "Solving...\n",
      "Done\n",
      "Solver is True\n",
      "Grounding...\n",
      "Solving...\n",
      "Done\n",
      "Solver is True\n",
      "Grounding...\n",
      "Solving...\n",
      "Done\n",
      "Solver is True\n",
      "random_s20_a15_c50_h43\n",
      "43\n",
      "Grounding...\n"
     ]
    },
    {
     "name": "stderr",
     "output_type": "stream",
     "text": [
      "Current agent: 15 - at((18,7),0) => at((17,17),43): 100%|██████████| 15/15 [00:00<00:00, 41.70it/s]\n"
     ]
    },
    {
     "name": "stdout",
     "output_type": "stream",
     "text": [
      "SAT\n",
      "739 34 0.06666666666666667\n",
      "[((16, 15), 20), ((19, 7), 41), ((2, 8), 37), ((18, 11), 36), ((2, 7), 36), ((2, 6), 35), ((2, 5), 34), ((2, 4), 33), ((2, 3), 32), ((2, 2), 31), ((3, 2), 30), ((4, 2), 29), ((14, 11), 27), ((14, 11), 26), ((18, 11), 23), ((19, 7), 18), ((14, 11), 14), ((17, 18), 14), ((19, 7), 8), ((19, 15), 2), ((11, 11), 1), ((17, 18), 42), ((19, 7), 24), ((18, 11), 29), ((11, 11), 29), ((19, 15), 7), ((14, 11), 32), ((18, 11), 30), ((12, 11), 29), ((14, 11), 31), ((17, 18), 41), ((19, 14), 8), ((16, 15), 35), ((19, 7), 25)]\n",
      "Grounding...\n",
      "Solving...\n",
      "Done\n",
      "Solver is True\n",
      "Grounding...\n",
      "Solving...\n",
      "Done\n",
      "Solver is True\n",
      "Grounding...\n",
      "Solving...\n",
      "Done\n",
      "Solver is True\n",
      "Grounding...\n",
      "Solving...\n",
      "Done\n",
      "Solver is True\n",
      "Grounding...\n",
      "Solving...\n",
      "Done\n",
      "Solver is True\n",
      "Grounding...\n",
      "Solving...\n",
      "Done\n",
      "Solver is True\n",
      "random_s10_a5_c75_h14\n",
      "14\n",
      "Grounding...\n"
     ]
    },
    {
     "name": "stderr",
     "output_type": "stream",
     "text": [
      "Current agent: 5 - at((8,10),0) => at((7,1),14): 100%|██████████| 5/5 [00:00<00:00, 122.33it/s]\n"
     ]
    },
    {
     "name": "stdout",
     "output_type": "stream",
     "text": [
      "SAT\n",
      "90 2 0.2\n",
      "[((6, 5), 4), ((5, 5), 3)]\n",
      "Grounding...\n",
      "Solving...\n",
      "Done\n",
      "Solver is True\n",
      "Grounding...\n",
      "Solving...\n",
      "Done\n",
      "Solver is True\n",
      "Grounding...\n",
      "Solving...\n",
      "Done\n",
      "Solver is True\n",
      "room_s29_a20_w5_h26\n",
      "26\n",
      "Grounding...\n"
     ]
    },
    {
     "name": "stderr",
     "output_type": "stream",
     "text": [
      "Current agent: 20 - at((29,14),0) => at((29,17),26): 100%|██████████| 20/20 [00:01<00:00, 19.56it/s]\n"
     ]
    },
    {
     "name": "stdout",
     "output_type": "stream",
     "text": [
      "SAT\n",
      "749 13 0.05\n",
      "[((24, 5), 11), ((24, 5), 10), ((24, 5), 9), ((24, 5), 8), ((24, 5), 7), ((24, 5), 6), ((22, 7), 24), ((22, 7), 23), ((24, 5), 12), ((29, 14), 16), ((29, 13), 15), ((24, 5), 13), ((25, 11), 2)]\n",
      "Grounding...\n",
      "Solving...\n",
      "Done\n",
      "Solver is True\n",
      "Grounding...\n",
      "Solving...\n",
      "Done\n",
      "Solver is True\n",
      "Grounding...\n",
      "Solving...\n",
      "Done\n",
      "Solver is True\n",
      "maze_s15_a20_h98\n",
      "98\n",
      "Grounding...\n"
     ]
    },
    {
     "name": "stderr",
     "output_type": "stream",
     "text": [
      "Current agent: 20 - at((13,22),0) => at((15,22),98): 100%|██████████| 20/20 [00:01<00:00, 15.67it/s]\n"
     ]
    },
    {
     "name": "stdout",
     "output_type": "stream",
     "text": [
      "SAT\n",
      "2002 32 0.05\n",
      "[((1, 5), 78), ((21, 20), 65), ((15, 26), 64), ((20, 21), 63), ((21, 21), 50), ((20, 21), 49), ((17, 16), 48), ((19, 21), 48), ((18, 21), 47), ((17, 21), 46), ((16, 21), 45), ((15, 21), 44), ((14, 21), 43), ((13, 21), 42), ((12, 21), 41), ((11, 21), 40), ((10, 21), 39), ((9, 21), 38), ((1, 20), 37), ((9, 20), 37), ((9, 19), 36), ((9, 18), 35), ((1, 20), 34), ((9, 17), 34), ((10, 17), 33), ((11, 17), 32), ((12, 17), 31), ((13, 17), 30), ((2, 19), 22), ((8, 29), 21), ((21, 22), 13), ((13, 17), 29)]\n",
      "Grounding...\n",
      "Solving...\n",
      "Done\n",
      "Solver is True\n",
      "Grounding...\n",
      "Solving...\n",
      "Done\n",
      "Solver is True\n",
      "Grounding...\n",
      "Solving...\n",
      "Done\n",
      "Solver is True\n",
      "Grounding...\n",
      "Solving...\n",
      "Done\n",
      "Solver is True\n",
      "Grounding...\n",
      "Solving...\n",
      "Done\n",
      "Solver is True\n",
      "Grounding...\n",
      "Solving...\n",
      "Done\n",
      "Solver is True\n",
      "room_s19_a5_w4_h25\n",
      "25\n",
      "Grounding...\n"
     ]
    },
    {
     "name": "stderr",
     "output_type": "stream",
     "text": [
      "Current agent: 5 - at((15,2),0) => at((10,6),25): 100%|██████████| 5/5 [00:00<00:00, 26.86it/s]\n"
     ]
    },
    {
     "name": "stdout",
     "output_type": "stream",
     "text": [
      "SAT\n",
      "167 1 0.2\n",
      "[((13, 4), 7)]\n",
      "Grounding...\n",
      "Solving...\n",
      "Done\n",
      "Solver is True\n",
      "Grounding...\n",
      "Solving...\n",
      "Done\n",
      "Solver is True\n",
      "Grounding...\n",
      "Solving...\n",
      "Done\n",
      "Solver is True\n",
      "Grounding...\n",
      "Solving...\n",
      "Done\n",
      "Solver is True\n"
     ]
    }
   ],
   "source": [
    "for instance_name, instance_content in instances_pool:\n",
    "    def approach(instance_name,instance_content):\n",
    "        print(instance_name)\n",
    "        rows = []\n",
    "        \n",
    "        r, s_ipf = base_ipf(instance_content)\n",
    "        \n",
    "        rows.append({\n",
    "            'Step Name' : 'base_ipf',\n",
    "            'Total Time' : s_ipf.total_time,\n",
    "            'Ground Time': s_ipf.total_time - s_ipf.solve_time,\n",
    "            'Solving Time': s_ipf.solve_time,\n",
    "            'SAT' : bool(r),\n",
    "            'Additional Data' : json.dumps(s_ipf.additional_data)\n",
    "        })\n",
    "        \n",
    "        ih, gh, lgh, s = global_heatmap(r + instance_content)\n",
    "        \n",
    "        rows.append({\n",
    "            'Step Name' : 'heatmaps',\n",
    "            'Total Time' : s.total_time,\n",
    "            'Ground Time': s.total_time - s.solve_time,\n",
    "            'Solving Time': s.solve_time,\n",
    "            'SAT' : bool(r),\n",
    "            'Additional Data' : json.dumps(s.additional_data)\n",
    "        })\n",
    "        \n",
    "        \n",
    "        cva ,s =  pe_simple_threshold(ih,gh,s_ipf.additional_data['nagent'])\n",
    "        \n",
    "        rows.append({\n",
    "            'Step Name' : 'simple_threshold',\n",
    "            'Total Time' : s.total_time,\n",
    "            'Ground Time': s.total_time - s.solve_time,\n",
    "            'Solving Time': s.solve_time,\n",
    "            'SAT' : bool(r),\n",
    "            'Additional Data' : json.dumps(s.additional_data)\n",
    "        })\n",
    "        \n",
    "        r,s = solver(r + cva + instance_content + lgh['pwlsh'], 'pathelimination/path_elimination.lp', additional_encodings=['pathelimination/convert_to_kill.lp'])\n",
    "        \n",
    "        rows.append({\n",
    "            'Step Name' : 'path_elimination',\n",
    "            'Total Time' : s.total_time,\n",
    "            'Ground Time': s.total_time - s.solve_time,\n",
    "            'Solving Time': s.solve_time,\n",
    "            'SAT' : bool(r),\n",
    "            'Additional Data' : json.dumps(s.additional_data)\n",
    "        })\n",
    "        \n",
    "        \n",
    "        r,s = solver(r, 'pathselection/path_selection.lp', parameters=['0','--opt-strategy=usc'])\n",
    "        \n",
    "        rows.append({\n",
    "            'Step Name' : 'path_selection',\n",
    "            'Total Time' : s.total_time,\n",
    "            'Ground Time': s.total_time - s.solve_time,\n",
    "            'Solving Time': s.solve_time,\n",
    "            'SAT' : bool(r),\n",
    "            'Additional Data' : json.dumps(s.additional_data)\n",
    "        })\n",
    "        \n",
    "        # print(r)\n",
    "        \n",
    "        \n",
    "        r_,s = partial_solving(r, 'mapf/partial_solving.lp', subgraph=False, precomputed_path='mapf/precomputed_path_allgraph.lp')\n",
    "        \n",
    "        rows.append({\n",
    "            'Step Name' : 'partial_solving',\n",
    "\n",
    "            'Total Time' : s.total_time,\n",
    "            'Ground Time': s.total_time - s.solve_time,\n",
    "            'Solving Time': s.solve_time,\n",
    "            'SAT' : bool(r_),\n",
    "            'Additional Data' : json.dumps(s.additional_data)\n",
    "        })\n",
    "        \n",
    "\n",
    "        for i in range (1,6,2):\n",
    "            if s.additional_data['ngoal_reached'] < s_ipf.additional_data['nagent']:\n",
    "                r_,s = partial_solving(r, 'mapf/partial_solving.lp', subgraph=False, precomputed_path='mapf/precomputed_path_allgraph.lp',  horizon_modifier=i)\n",
    "        \n",
    "                rows.append({\n",
    "                    'Step Name' : f'partial_solving_additional_horizon',\n",
    "                    'Total Time' : s.total_time,\n",
    "                    'Ground Time': s.total_time - s.solve_time,\n",
    "                    'Solving Time': s.solve_time,\n",
    "                    'SAT' : bool(r_),\n",
    "                    'Additional Data' : json.dumps(s.additional_data)\n",
    "                })\n",
    "        \n",
    "\n",
    "        write_csv(f'benchmarks_result/{instance_name}-approach01.csv', header,rows)\n",
    "\n",
    "        \n",
    "    pool = Pool(1)       \n",
    "    mutex = pool.apply_async(approach,[instance_name,instance_content])\n",
    "\n",
    "    try:\n",
    "        mutex.get(timeout=timeout)\n",
    "    except Exception as e:\n",
    "        print(e)\n",
    "        pool.terminate()"
   ]
  },
  {
   "cell_type": "markdown",
   "metadata": {},
   "source": [
    "## Approach 2: No additional path, heatmap simple threshold elimination, subgraph approach"
   ]
  },
  {
   "cell_type": "code",
   "execution_count": null,
   "metadata": {},
   "outputs": [
    {
     "name": "stdout",
     "output_type": "stream",
     "text": [
      "room_s29_a10_w5_h29\n",
      "29\n",
      "Grounding...\n"
     ]
    },
    {
     "name": "stderr",
     "output_type": "stream",
     "text": [
      "Current agent: 10 - at((12,10),0) => at((21,24),29): 100%|██████████| 10/10 [00:00<00:00, 15.33it/s]\n"
     ]
    },
    {
     "name": "stdout",
     "output_type": "stream",
     "text": [
      "SAT\n",
      "406 6 0.1\n",
      "[((2, 25), 26), ((29, 19), 25), ((1, 29), 21), ((21, 17), 20), ((2, 29), 20), ((29, 18), 26)]\n",
      "Grounding...\n",
      "Solving...\n",
      "Done\n",
      "Solver is True\n",
      "Grounding...\n",
      "Solving...\n",
      "Done\n",
      "Solver is True\n",
      "\n",
      "Grounding...\n",
      "Solving...\n",
      "Done\n",
      "Solver is True\n",
      "\n",
      "\n",
      "random_s20_a15_c75_h28\n",
      "28\n",
      "Grounding...\n"
     ]
    },
    {
     "name": "stderr",
     "output_type": "stream",
     "text": [
      "Current agent: 15 - at((17,7),0) => at((17,10),28): 100%|██████████| 15/15 [00:00<00:00, 32.40it/s]\n"
     ]
    },
    {
     "name": "stdout",
     "output_type": "stream",
     "text": [
      "SAT\n",
      "569 24 0.06666666666666667\n",
      "[((16, 6), 8), ((1, 2), 21), ((1, 2), 20), ((1, 2), 19), ((1, 2), 18), ((1, 2), 17), ((1, 2), 16), ((1, 2), 15), ((2, 2), 14), ((18, 3), 13), ((17, 3), 12), ((14, 9), 11), ((17, 7), 4), ((17, 7), 3), ((17, 7), 2), ((16, 3), 11), ((16, 4), 10), ((16, 7), 7), ((16, 5), 9), ((16, 8), 6), ((16, 7), 6), ((13, 7), 21), ((17, 7), 5), ((16, 8), 25)]\n",
      "Grounding...\n",
      "Solving...\n",
      "Done\n",
      "Solver is True\n",
      "Grounding...\n",
      "Solving...\n",
      "Done\n",
      "Solver is True\n",
      "\n",
      "Grounding...\n",
      "Solving...\n",
      "Done\n",
      "Solver is True\n",
      "\n",
      "\n",
      "maze_s10_a20_h40\n",
      "40\n",
      "Grounding...\n"
     ]
    },
    {
     "name": "stderr",
     "output_type": "stream",
     "text": [
      "Current agent: 20 - at((3,18),0) => at((1,18),4): 100%|██████████| 20/20 [00:00<00:00, 67.23it/s]   \n"
     ]
    },
    {
     "name": "stdout",
     "output_type": "stream",
     "text": [
      "SAT\n",
      "820 18 0.05\n",
      "[((10, 13), 32), ((9, 18), 32), ((16, 19), 30), ((14, 19), 28), ((5, 10), 24), ((18, 9), 23), ((5, 13), 19), ((5, 10), 16), ((9, 13), 15), ((9, 3), 13), ((11, 12), 12), ((11, 13), 11), ((9, 3), 8), ((16, 19), 5), ((3, 1), 5), ((3, 18), 4), ((1, 2), 2), ((15, 9), 1)]\n",
      "Grounding...\n",
      "Solving...\n",
      "Done\n",
      "Solver is True\n",
      "Grounding...\n",
      "Solving...\n",
      "Done\n",
      "Solver is True\n",
      "\n",
      "Grounding...\n",
      "Solving...\n",
      "Done\n",
      "Solver is True\n",
      "Grounding...\n",
      "Solving...\n",
      "Done\n",
      "Solver is True\n",
      "Grounding...\n",
      "Solving...\n",
      "Done\n",
      "Solver is True\n",
      "\n",
      "\n",
      "room_s19_a15_w4_h34\n",
      "34\n",
      "Grounding...\n"
     ]
    },
    {
     "name": "stderr",
     "output_type": "stream",
     "text": [
      "Current agent: 15 - at((15,19),0) => at((19,16),34): 100%|██████████| 15/15 [00:00<00:00, 33.55it/s]\n"
     ]
    },
    {
     "name": "stdout",
     "output_type": "stream",
     "text": [
      "SAT\n",
      "616 8 0.06666666666666667\n",
      "[((12, 9), 12), ((17, 11), 11), ((10, 18), 7), ((4, 5), 6), ((17, 11), 29), ((17, 13), 7), ((17, 7), 7), ((17, 11), 30)]\n",
      "Grounding...\n",
      "Solving...\n",
      "Done\n",
      "Solver is True\n",
      "Grounding...\n",
      "Solving...\n",
      "Done\n",
      "Solver is True\n",
      "\n",
      "Grounding...\n",
      "Solving...\n",
      "Done\n",
      "Solver is True\n",
      "Grounding...\n",
      "Solving...\n",
      "Done\n",
      "Solver is True\n",
      "Grounding...\n",
      "Solving...\n",
      "Done\n",
      "Solver is True\n",
      "Grounding...\n",
      "Solving...\n",
      "Done\n",
      "Solver is True\n",
      "\n",
      "\n",
      "maze_s20_a15_h68\n",
      "68\n",
      "Grounding...\n"
     ]
    },
    {
     "name": "stderr",
     "output_type": "stream",
     "text": [
      "Current agent: 15 - at((1,32),0) => at((5,32),68): 100%|██████████| 15/15 [00:01<00:00, 12.13it/s]  \n"
     ]
    },
    {
     "name": "stdout",
     "output_type": "stream",
     "text": [
      "SAT\n",
      "1047 6 0.06666666666666667\n",
      "[((15, 25), 45), ((6, 29), 22), ((26, 19), 20), ((12, 31), 14), ((4, 37), 6), ((1, 35), 11)]\n",
      "Grounding...\n",
      "Solving...\n",
      "Done\n",
      "Solver is True\n",
      "Grounding...\n",
      "Solving...\n",
      "Done\n",
      "Solver is True\n",
      "\n",
      "Grounding...\n",
      "Solving...\n",
      "Done\n",
      "Solver is True\n",
      "Grounding...\n",
      "Solving...\n",
      "Done\n",
      "Solver is True\n",
      "Grounding...\n",
      "Solving...\n",
      "Done\n",
      "Solver is True\n",
      "Grounding...\n",
      "Solving...\n",
      "Done\n",
      "Solver is True\n",
      "\n",
      "\n",
      "room_s47_a15_w5_h37\n",
      "37\n",
      "Grounding...\n"
     ]
    },
    {
     "name": "stderr",
     "output_type": "stream",
     "text": [
      "Current agent: 15 - at((47,34),0) => at((19,38),37): 100%|██████████| 15/15 [00:02<00:00,  6.60it/s]\n"
     ]
    },
    {
     "name": "stdout",
     "output_type": "stream",
     "text": [
      "SAT\n",
      "697 1 0.06666666666666667\n",
      "[((12, 32), 25)]\n",
      "Grounding...\n",
      "Solving...\n",
      "Done\n",
      "Solver is True\n",
      "Grounding...\n",
      "Solving...\n",
      "Done\n",
      "Solver is True\n",
      "\n",
      "Grounding...\n",
      "Solving...\n",
      "Done\n",
      "Solver is True\n",
      "\n",
      "\n",
      "maze_s10_a15_h38\n",
      "38\n",
      "Grounding...\n"
     ]
    },
    {
     "name": "stderr",
     "output_type": "stream",
     "text": [
      "Current agent: 15 - at((9,18),0) => at((10,17),38): 100%|██████████| 15/15 [00:00<00:00, 42.70it/s]\n"
     ]
    },
    {
     "name": "stdout",
     "output_type": "stream",
     "text": [
      "SAT\n",
      "733 54 0.06666666666666667\n",
      "[((9, 13), 27), ((9, 13), 21), ((9, 13), 7), ((9, 17), 37), ((8, 17), 36), ((15, 15), 33), ((11, 12), 24), ((7, 17), 14), ((7, 17), 13), ((7, 17), 12), ((7, 17), 11), ((7, 17), 10), ((7, 17), 9), ((7, 17), 8), ((7, 17), 7), ((7, 17), 6), ((9, 13), 28), ((9, 13), 26), ((9, 13), 25), ((9, 13), 24), ((9, 13), 23), ((9, 13), 22), ((9, 13), 20), ((9, 13), 19), ((9, 13), 18), ((9, 13), 17), ((9, 13), 16), ((9, 13), 15), ((9, 13), 14), ((9, 13), 13), ((9, 13), 12), ((9, 13), 11), ((9, 13), 10), ((9, 13), 9), ((9, 13), 8), ((9, 13), 6), ((9, 13), 5), ((9, 13), 4), ((9, 13), 29), ((7, 17), 35), ((7, 17), 15), ((9, 19), 2), ((10, 19), 1), ((7, 17), 16), ((10, 13), 3), ((9, 13), 30), ((6, 17), 34), ((9, 13), 31), ((7, 17), 17), ((4, 13), 36), ((6, 13), 34), ((4, 13), 32), ((4, 13), 26), ((4, 13), 16)]\n",
      "Grounding...\n",
      "Solving...\n",
      "Done\n",
      "Solver is True\n",
      "Grounding...\n",
      "Solving...\n",
      "Done\n",
      "Solver is True\n",
      "\n",
      "Grounding...\n",
      "Solving...\n",
      "Done\n",
      "Solver is True\n",
      "Grounding...\n",
      "Solving...\n",
      "Done\n",
      "Solver is True\n",
      "\n",
      "\n",
      "random_s10_a5_c50_h16\n",
      "16\n",
      "Grounding...\n"
     ]
    },
    {
     "name": "stderr",
     "output_type": "stream",
     "text": [
      "Current agent: 5 - at((9,3),0) => at((9,4),16): 100%|██████████| 5/5 [00:00<00:00, 134.66it/s]\n"
     ]
    },
    {
     "name": "stdout",
     "output_type": "stream",
     "text": [
      "SAT\n",
      "97 1 0.2\n",
      "[((9, 3), 1)]\n",
      "Grounding...\n",
      "Solving...\n",
      "Done\n",
      "Solver is True\n",
      "Grounding...\n",
      "Solving...\n",
      "Done\n",
      "Solver is True\n",
      "\n",
      "Grounding...\n",
      "Solving...\n",
      "Done\n",
      "Solver is True\n",
      "\n",
      "\n",
      "room_s29_a30_w5_h34\n",
      "34\n",
      "Grounding...\n"
     ]
    },
    {
     "name": "stderr",
     "output_type": "stream",
     "text": [
      "Current agent: 30 - at((28,15),0) => at((29,15),34): 100%|██████████| 30/30 [00:01<00:00, 16.66it/s]\n"
     ]
    },
    {
     "name": "stdout",
     "output_type": "stream",
     "text": [
      "SAT\n",
      "1409 83 0.03333333333333333\n",
      "[((6, 21), 9), ((23, 5), 5), ((24, 27), 31), ((14, 19), 28), ((14, 18), 27), ((14, 17), 26), ((23, 5), 23), ((23, 5), 22), ((23, 5), 21), ((23, 5), 20), ((23, 5), 19), ((23, 5), 18), ((23, 5), 17), ((23, 5), 16), ((10, 19), 15), ((23, 5), 15), ((6, 21), 15), ((18, 9), 14), ((23, 5), 14), ((23, 5), 13), ((23, 5), 12), ((23, 5), 11), ((6, 21), 11), ((13, 11), 11), ((29, 18), 11), ((23, 5), 10), ((6, 21), 10), ((13, 11), 10), ((29, 18), 10), ((23, 5), 9), ((13, 11), 9), ((29, 18), 9), ((18, 27), 8), ((23, 5), 8), ((6, 21), 8), ((13, 11), 8), ((29, 18), 8), ((23, 5), 7), ((6, 21), 7), ((13, 11), 7), ((29, 18), 7), ((23, 5), 6), ((6, 21), 6), ((13, 11), 6), ((5, 23), 6), ((29, 18), 6), ((6, 21), 5), ((13, 11), 5), ((29, 18), 5), ((23, 5), 4), ((6, 21), 4), ((13, 11), 4), ((29, 18), 4), ((23, 5), 3), ((6, 21), 3), ((13, 11), 3), ((6, 21), 2), ((13, 11), 2), ((29, 17), 31), ((16, 29), 30), ((18, 9), 17), ((19, 17), 28), ((22, 12), 19), ((17, 11), 17), ((6, 21), 21), ((6, 21), 12), ((23, 5), 24), ((16, 11), 24), ((19, 17), 24), ((6, 21), 13), ((19, 5), 29), ((18, 17), 25), ((5, 21), 22), ((22, 11), 20), ((16, 11), 18), ((6, 21), 14), ((7, 19), 18), ((17, 29), 29), ((17, 9), 18), ((14, 11), 12), ((18, 17), 29), ((23, 5), 25), ((17, 29), 5)]\n",
      "Grounding...\n",
      "Solving...\n",
      "Done\n",
      "Solver is True\n",
      "Grounding...\n",
      "Solving...\n",
      "Done\n",
      "Solver is True\n",
      "\n",
      "Grounding...\n",
      "Solving...\n",
      "Done\n",
      "Solver is True\n",
      "\n",
      "\n",
      "maze_s10_a25_h45\n",
      "45\n",
      "Grounding...\n"
     ]
    },
    {
     "name": "stderr",
     "output_type": "stream",
     "text": [
      "Current agent: 25 - at((16,15),0) => at((1,18),45): 100%|██████████| 25/25 [00:00<00:00, 38.04it/s] \n"
     ]
    },
    {
     "name": "stdout",
     "output_type": "stream",
     "text": [
      "SAT\n",
      "1376 157 0.04\n",
      "[((13, 15), 16), ((13, 15), 37), ((13, 15), 36), ((5, 10), 33), ((7, 3), 24), ((13, 15), 15), ((13, 15), 14), ((13, 15), 13), ((13, 15), 12), ((13, 15), 11), ((13, 15), 10), ((13, 15), 9), ((13, 15), 8), ((13, 15), 7), ((13, 15), 6), ((13, 15), 5), ((13, 15), 4), ((13, 15), 3), ((13, 15), 17), ((13, 15), 20), ((13, 15), 18), ((13, 15), 19), ((15, 9), 39), ((16, 9), 40), ((14, 15), 39), ((15, 15), 44), ((3, 17), 42), ((3, 16), 41), ((3, 15), 40), ((13, 12), 39), ((3, 14), 39), ((3, 13), 38), ((13, 14), 37), ((4, 13), 37), ((15, 11), 37), ((5, 13), 36), ((15, 11), 36), ((5, 12), 35), ((13, 15), 35), ((15, 11), 35), ((5, 11), 34), ((13, 15), 34), ((15, 11), 34), ((10, 13), 33), ((13, 15), 33), ((15, 11), 33), ((5, 9), 32), ((13, 15), 32), ((15, 11), 32), ((11, 12), 31), ((5, 8), 31), ((11, 6), 31), ((13, 15), 31), ((8, 13), 31), ((15, 11), 31), ((5, 7), 30), ((13, 15), 30), ((15, 11), 30), ((6, 13), 29), ((10, 13), 29), ((11, 3), 29), ((5, 6), 29), ((13, 15), 29), ((15, 11), 29), ((5, 5), 28), ((13, 15), 28), ((15, 11), 28), ((8, 13), 27), ((5, 4), 27), ((13, 15), 27), ((15, 11), 27), ((11, 11), 26), ((5, 3), 26), ((9, 3), 26), ((13, 15), 26), ((15, 11), 26), ((6, 3), 25), ((13, 15), 25), ((15, 11), 25), ((13, 15), 24), ((15, 11), 24), ((8, 3), 23), ((13, 15), 23), ((15, 11), 23), ((11, 11), 22), ((9, 3), 22), ((13, 15), 22), ((15, 11), 22), ((10, 3), 21), ((13, 15), 21), ((15, 11), 21), ((11, 3), 20), ((15, 11), 20), ((15, 11), 19), ((15, 11), 18), ((15, 11), 17), ((5, 10), 16), ((15, 11), 16), ((5, 10), 15), ((15, 11), 15), ((15, 11), 14), ((15, 11), 13), ((15, 11), 12), ((15, 11), 11), ((15, 11), 10), ((15, 11), 9), ((19, 5), 8), ((15, 11), 8), ((19, 5), 7), ((15, 11), 7), ((15, 19), 6), ((19, 5), 6), ((15, 11), 6), ((19, 5), 5), ((15, 11), 5), ((17, 19), 4), ((19, 5), 4), ((15, 11), 4), ((19, 5), 3), ((15, 11), 3), ((19, 19), 2), ((19, 5), 2), ((14, 15), 2), ((15, 11), 2), ((19, 5), 1), ((15, 15), 1), ((13, 15), 38), ((14, 15), 38), ((5, 10), 41), ((17, 9), 41), ((14, 15), 43), ((17, 10), 7), ((15, 10), 38), ((15, 19), 25), ((19, 5), 9), ((13, 15), 42), ((15, 19), 26), ((17, 10), 6), ((11, 12), 30), ((15, 19), 24), ((15, 15), 40), ((1, 8), 39), ((9, 19), 44), ((15, 15), 42), ((5, 11), 40), ((1, 9), 40), ((17, 10), 4), ((17, 10), 3), ((17, 10), 2), ((17, 10), 1), ((14, 15), 41), ((13, 14), 41), ((19, 5), 10), ((17, 10), 5), ((15, 15), 39), ((18, 9), 42), ((13, 13), 40)]\n",
      "Grounding...\n",
      "Solving...\n",
      "Done\n",
      "Solver is True\n",
      "Grounding...\n",
      "Solving...\n",
      "Done\n",
      "Solver is True\n",
      "\n",
      "Grounding...\n",
      "Solving...\n",
      "Done\n",
      "Solver is True\n",
      "\n",
      "\n",
      "room_s47_a10_w5_h59\n",
      "59\n",
      "Grounding...\n"
     ]
    },
    {
     "name": "stderr",
     "output_type": "stream",
     "text": [
      "Current agent: 10 - at((32,47),0) => at((33,1),59): 100%|██████████| 10/10 [00:02<00:00,  4.25it/s]\n"
     ]
    },
    {
     "name": "stdout",
     "output_type": "stream",
     "text": [
      "SAT\n",
      "639 1 0.1\n",
      "[((40, 14), 13)]\n",
      "Grounding...\n",
      "Solving...\n",
      "Done\n",
      "Solver is True\n",
      "Grounding...\n",
      "Solving...\n",
      "Done\n",
      "Solver is True\n",
      "\n",
      "Grounding...\n",
      "Solving...\n",
      "Done\n",
      "Solver is True\n",
      "\n",
      "\n",
      "room_s47_a5_w5_h50\n",
      "50\n",
      "Grounding...\n"
     ]
    },
    {
     "name": "stderr",
     "output_type": "stream",
     "text": [
      "Current agent: 5 - at((4,39),0) => at((29,16),50): 100%|██████████| 5/5 [00:01<00:00,  3.47it/s] \n"
     ]
    },
    {
     "name": "stdout",
     "output_type": "stream",
     "text": [
      "SAT\n",
      "286 0 0.2\n",
      "[]\n",
      "Grounding...\n",
      "Solving...\n",
      "Done\n",
      "Solver is True\n",
      "Grounding...\n"
     ]
    },
    {
     "name": "stderr",
     "output_type": "stream",
     "text": [
      "pathelimination/path_elimination.lp:2:5-25: info: atom does not occur in any rule head:\n",
      "  critical_vertex(V,T)\n",
      "\n",
      "pathelimination/path_elimination.lp:3:5-26: info: atom does not occur in any rule head:\n",
      "  critical_agent(R,V,T)\n",
      "\n",
      "pathselection/path_selection.lp:2:39-55: info: atom does not occur in any rule head:\n",
      "  path_killed(R,I)\n",
      "\n"
     ]
    },
    {
     "name": "stdout",
     "output_type": "stream",
     "text": [
      "Solving...\n",
      "Done\n",
      "Solver is True\n",
      "\n",
      "Grounding...\n",
      "Solving...\n",
      "Done\n",
      "Solver is True\n",
      "\n",
      "\n",
      "random_s40_a35_c75_h54\n",
      "54\n",
      "Grounding...\n"
     ]
    },
    {
     "name": "stderr",
     "output_type": "stream",
     "text": [
      "Current agent: 35 - at((24,39),0) => at((24,18),54): 100%|██████████| 35/35 [00:04<00:00,  8.40it/s]\n"
     ]
    },
    {
     "name": "stdout",
     "output_type": "stream",
     "text": [
      "SAT\n",
      "2064 38 0.02857142857142857\n",
      "[((36, 17), 53), ((36, 17), 52), ((36, 17), 51), ((36, 17), 50), ((36, 17), 49), ((36, 17), 48), ((36, 17), 47), ((36, 17), 46), ((36, 17), 45), ((36, 17), 44), ((36, 17), 43), ((36, 17), 42), ((36, 17), 41), ((36, 17), 40), ((15, 10), 40), ((36, 17), 39), ((22, 24), 39), ((36, 17), 38), ((36, 17), 37), ((36, 17), 36), ((36, 17), 35), ((36, 17), 34), ((36, 17), 33), ((36, 17), 32), ((36, 17), 31), ((36, 17), 30), ((36, 17), 29), ((24, 16), 29), ((36, 20), 26), ((36, 17), 23), ((37, 12), 17), ((28, 24), 3), ((34, 7), 10), ((26, 19), 6), ((37, 12), 35), ((26, 6), 41), ((36, 16), 5), ((35, 10), 8)]\n",
      "Grounding...\n",
      "Solving...\n",
      "Done\n",
      "Solver is True\n",
      "Grounding...\n",
      "Solving...\n",
      "Done\n",
      "Solver is True\n",
      "\n",
      "Grounding...\n",
      "Solving...\n",
      "Done\n",
      "Solver is True\n",
      "Grounding...\n",
      "Solving...\n",
      "Done\n",
      "Solver is True\n",
      "Grounding...\n",
      "Solving...\n",
      "Done\n",
      "Solver is True\n",
      "Grounding...\n",
      "Solving...\n",
      "Done\n",
      "Solver is True\n",
      "\n",
      "\n",
      "random_s30_a25_c75_h50\n",
      "50\n",
      "Grounding...\n"
     ]
    },
    {
     "name": "stderr",
     "output_type": "stream",
     "text": [
      "Current agent: 25 - at((10,28),0) => at((24,30),50): 100%|██████████| 25/25 [00:02<00:00, 11.34it/s]\n"
     ]
    },
    {
     "name": "stdout",
     "output_type": "stream",
     "text": [
      "SAT\n",
      "1503 32 0.04\n",
      "[((8, 19), 46), ((26, 19), 36), ((12, 12), 33), ((26, 19), 32), ((21, 13), 21), ((22, 13), 20), ((26, 20), 20), ((8, 3), 18), ((24, 3), 13), ((14, 13), 13), ((24, 2), 12), ((24, 1), 11), ((21, 13), 22), ((21, 13), 23), ((26, 21), 42), ((26, 18), 39), ((26, 21), 34), ((2, 9), 49), ((21, 13), 24), ((7, 18), 5), ((2, 10), 48), ((19, 7), 22), ((26, 19), 35), ((21, 14), 28), ((27, 3), 47), ((21, 13), 25), ((21, 14), 27), ((27, 4), 46), ((13, 13), 14), ((28, 3), 48), ((21, 13), 26), ((12, 13), 15)]\n",
      "Grounding...\n",
      "Solving...\n",
      "Done\n",
      "Solver is True\n",
      "Grounding...\n",
      "Solving...\n",
      "Done\n",
      "Solver is True\n",
      "\n",
      "Grounding...\n",
      "Solving...\n",
      "Done\n",
      "Solver is True\n",
      "\n",
      "\n",
      "room_s19_a25_w4_h30\n",
      "30\n",
      "Grounding...\n"
     ]
    },
    {
     "name": "stderr",
     "output_type": "stream",
     "text": [
      "Current agent: 25 - at((18,19),0) => at((18,17),30): 100%|██████████| 25/25 [00:00<00:00, 38.83it/s]\n"
     ]
    },
    {
     "name": "stdout",
     "output_type": "stream",
     "text": [
      "SAT\n",
      "920 27 0.04\n",
      "[((16, 15), 25), ((11, 11), 15), ((12, 6), 28), ((5, 8), 26), ((16, 16), 26), ((6, 8), 25), ((15, 19), 20), ((14, 10), 19), ((8, 5), 12), ((14, 10), 11), ((6, 8), 10), ((8, 5), 9), ((8, 6), 8), ((6, 8), 4), ((6, 8), 1), ((17, 17), 28), ((17, 16), 27), ((17, 18), 29), ((16, 15), 7), ((17, 7), 9), ((16, 9), 8), ((16, 14), 6), ((14, 6), 7), ((17, 14), 6), ((16, 9), 11), ((17, 12), 4), ((11, 11), 7)]\n",
      "Grounding...\n",
      "Solving...\n",
      "Done\n",
      "Solver is True\n",
      "Grounding...\n",
      "Solving...\n",
      "Done\n",
      "Solver is True\n",
      "\n",
      "Grounding...\n",
      "Solving...\n",
      "Done\n",
      "Solver is True\n",
      "\n",
      "\n",
      "random_s20_a15_c50_h43\n",
      "43\n",
      "Grounding...\n"
     ]
    },
    {
     "name": "stderr",
     "output_type": "stream",
     "text": [
      "Current agent: 15 - at((18,7),0) => at((17,17),43): 100%|██████████| 15/15 [00:00<00:00, 41.81it/s]\n"
     ]
    },
    {
     "name": "stdout",
     "output_type": "stream",
     "text": [
      "SAT\n",
      "739 34 0.06666666666666667\n",
      "[((16, 15), 20), ((19, 7), 41), ((2, 8), 37), ((18, 11), 36), ((2, 7), 36), ((2, 6), 35), ((2, 5), 34), ((2, 4), 33), ((2, 3), 32), ((2, 2), 31), ((3, 2), 30), ((4, 2), 29), ((14, 11), 27), ((14, 11), 26), ((18, 11), 23), ((19, 7), 18), ((14, 11), 14), ((17, 18), 14), ((19, 7), 8), ((19, 15), 2), ((11, 11), 1), ((17, 18), 42), ((19, 7), 24), ((18, 11), 29), ((11, 11), 29), ((19, 15), 7), ((14, 11), 32), ((18, 11), 30), ((12, 11), 29), ((14, 11), 31), ((17, 18), 41), ((19, 14), 8), ((16, 15), 35), ((19, 7), 25)]\n",
      "Grounding...\n",
      "Solving...\n",
      "Done\n",
      "Solver is True\n",
      "Grounding...\n",
      "Solving...\n",
      "Done\n",
      "Solver is True\n",
      "\n",
      "Grounding...\n",
      "Solving...\n",
      "Done\n",
      "Solver is True\n",
      "\n",
      "\n",
      "random_s10_a5_c75_h14\n",
      "14\n",
      "Grounding...\n"
     ]
    },
    {
     "name": "stderr",
     "output_type": "stream",
     "text": [
      "Current agent: 5 - at((8,10),0) => at((7,1),14): 100%|██████████| 5/5 [00:00<00:00, 120.75it/s]\n"
     ]
    },
    {
     "name": "stdout",
     "output_type": "stream",
     "text": [
      "SAT\n",
      "90 2 0.2\n",
      "[((6, 5), 4), ((5, 5), 3)]\n",
      "Grounding...\n",
      "Solving...\n",
      "Done\n",
      "Solver is True\n",
      "Grounding...\n",
      "Solving...\n",
      "Done\n",
      "Solver is True\n",
      "\n",
      "Grounding...\n",
      "Solving...\n",
      "Done\n",
      "Solver is True\n",
      "\n",
      "\n",
      "room_s29_a20_w5_h26\n",
      "26\n",
      "Grounding...\n"
     ]
    },
    {
     "name": "stderr",
     "output_type": "stream",
     "text": [
      "Current agent: 20 - at((29,14),0) => at((29,17),26): 100%|██████████| 20/20 [00:01<00:00, 19.95it/s]\n"
     ]
    },
    {
     "name": "stdout",
     "output_type": "stream",
     "text": [
      "SAT\n",
      "749 13 0.05\n",
      "[((24, 5), 11), ((24, 5), 10), ((24, 5), 9), ((24, 5), 8), ((24, 5), 7), ((24, 5), 6), ((22, 7), 24), ((22, 7), 23), ((24, 5), 12), ((29, 14), 16), ((29, 13), 15), ((24, 5), 13), ((25, 11), 2)]\n",
      "Grounding...\n",
      "Solving...\n",
      "Done\n",
      "Solver is True\n",
      "Grounding...\n",
      "Solving...\n",
      "Done\n",
      "Solver is True\n",
      "\n",
      "Grounding...\n",
      "Solving...\n",
      "Done\n",
      "Solver is True\n",
      "\n",
      "\n",
      "maze_s15_a20_h98\n",
      "98\n",
      "Grounding...\n"
     ]
    },
    {
     "name": "stderr",
     "output_type": "stream",
     "text": [
      "Current agent: 20 - at((13,22),0) => at((15,22),98): 100%|██████████| 20/20 [00:01<00:00, 15.84it/s]\n"
     ]
    },
    {
     "name": "stdout",
     "output_type": "stream",
     "text": [
      "SAT\n",
      "2002 32 0.05\n",
      "[((1, 5), 78), ((21, 20), 65), ((15, 26), 64), ((20, 21), 63), ((21, 21), 50), ((20, 21), 49), ((17, 16), 48), ((19, 21), 48), ((18, 21), 47), ((17, 21), 46), ((16, 21), 45), ((15, 21), 44), ((14, 21), 43), ((13, 21), 42), ((12, 21), 41), ((11, 21), 40), ((10, 21), 39), ((9, 21), 38), ((1, 20), 37), ((9, 20), 37), ((9, 19), 36), ((9, 18), 35), ((1, 20), 34), ((9, 17), 34), ((10, 17), 33), ((11, 17), 32), ((12, 17), 31), ((13, 17), 30), ((2, 19), 22), ((8, 29), 21), ((21, 22), 13), ((13, 17), 29)]\n",
      "Grounding...\n",
      "Solving...\n",
      "Done\n",
      "Solver is True\n",
      "Grounding...\n",
      "Solving...\n",
      "Done\n",
      "Solver is True\n",
      "\n",
      "Grounding...\n",
      "Solving...\n",
      "Done\n",
      "Solver is True\n",
      "\n",
      "\n",
      "room_s19_a5_w4_h25\n",
      "25\n",
      "Grounding...\n"
     ]
    },
    {
     "name": "stderr",
     "output_type": "stream",
     "text": [
      "Current agent: 5 - at((15,2),0) => at((10,6),25): 100%|██████████| 5/5 [00:00<00:00, 29.40it/s]\n"
     ]
    },
    {
     "name": "stdout",
     "output_type": "stream",
     "text": [
      "SAT\n",
      "167 1 0.2\n",
      "[((13, 4), 7)]\n",
      "Grounding...\n",
      "Solving...\n",
      "Done\n",
      "Solver is True\n",
      "Grounding...\n",
      "Solving...\n",
      "Done\n",
      "Solver is True\n",
      "\n",
      "Grounding...\n",
      "Solving...\n",
      "Done\n",
      "Solver is True\n",
      "\n",
      "\n"
     ]
    }
   ],
   "source": [
    "for instance_name, instance_content in instances_pool:\n",
    "    def approach(instance_name, instance_content):\n",
    "        print(instance_name)\n",
    "        rows = []\n",
    "        \n",
    "        r, s_ipf = base_ipf(instance_content)\n",
    "        \n",
    "        rows.append({\n",
    "            'Step Name' : 'base_ipf',\n",
    "            'Total Time' : s_ipf.total_time,\n",
    "            'Ground Time': s_ipf.total_time - s_ipf.solve_time,\n",
    "            'Solving Time': s_ipf.solve_time,\n",
    "            'SAT' : bool(r),\n",
    "            'Additional Data' : json.dumps(s_ipf.additional_data)\n",
    "        })\n",
    "        \n",
    "        ih, gh, lgh, s = global_heatmap(r + instance_content)\n",
    "        \n",
    "        rows.append({\n",
    "            'Step Name' : 'heatmaps',\n",
    "            'Total Time' : s.total_time,\n",
    "            'Ground Time': s.total_time - s.solve_time,\n",
    "            'Solving Time': s.solve_time,\n",
    "            'SAT' : bool(r),\n",
    "            'Additional Data' : json.dumps(s.additional_data)\n",
    "        })\n",
    "        \n",
    "        \n",
    "        cva ,s =  pe_simple_threshold(ih,gh,s_ipf.additional_data['nagent'])\n",
    "        \n",
    "        rows.append({\n",
    "            'Step Name' : 'simple_threshold',\n",
    "            'Total Time' : s.total_time,\n",
    "            'Ground Time': s.total_time - s.solve_time,\n",
    "            'Solving Time': s.solve_time,\n",
    "            'SAT' : bool(r),\n",
    "            'Additional Data' : json.dumps(s.additional_data)\n",
    "        })\n",
    "        \n",
    "        r,s = solver(r + cva + instance_content + lgh['pwlsh'], 'pathelimination/path_elimination.lp', additional_encodings=['pathelimination/convert_to_kill.lp'])\n",
    "        \n",
    "        rows.append({\n",
    "            'Step Name' : 'path_elimination',\n",
    "            'Total Time' : s.total_time,\n",
    "            'Ground Time': s.total_time - s.solve_time,\n",
    "            'Solving Time': s.solve_time,\n",
    "            'SAT' : bool(r),\n",
    "            'Additional Data' : json.dumps(s.additional_data)\n",
    "        })\n",
    "        \n",
    "        \n",
    "        r,s = solver(r, 'pathselection/path_selection.lp', parameters=['0','--opt-strategy=usc'])\n",
    "        \n",
    "        rows.append({\n",
    "            'Step Name' : 'path_selection',\n",
    "            'Total Time' : s.total_time,\n",
    "            'Ground Time': s.total_time - s.solve_time,\n",
    "            'Solving Time': s.solve_time,\n",
    "            'SAT' : bool(r),\n",
    "            'Additional Data' : json.dumps(s.additional_data)\n",
    "        })\n",
    "        # print(r)\n",
    "        \n",
    "        # r,s = solver(r,'mapf/add_lowest_heatmap_path.lp')\n",
    "        \n",
    "        print()\n",
    "        # print(r)\n",
    "        \n",
    "        r_,s = partial_solving(r, 'mapf/partial_solving.lp', subgraph='mapf/subgraph.lp', precomputed_path=False)\n",
    "        \n",
    "        rows.append({\n",
    "            'Step Name' : 'partial_solving',\n",
    "            'Total Time' : s.total_time,\n",
    "            'Ground Time': s.total_time - s.solve_time,\n",
    "            'Solving Time': s.solve_time,\n",
    "            'SAT' : bool(r_),\n",
    "            'Additional Data' : json.dumps(s.additional_data)\n",
    "        })\n",
    "        \n",
    "        for i in range (1,6,2):\n",
    "            if s.additional_data['ngoal_reached'] < s_ipf.additional_data['nagent']:\n",
    "                r_,s = partial_solving(r, 'mapf/partial_solving.lp', subgraph='mapf/subgraph.lp', precomputed_path=False,  horizon_modifier=i)\n",
    "        \n",
    "                rows.append({\n",
    "                    'Step Name' : f'partial_solving_additional_horizon',\n",
    "                    'Total Time' : s.total_time,\n",
    "                    'Ground Time': s.total_time - s.solve_time,\n",
    "                    'Solving Time': s.solve_time,\n",
    "                    'SAT' : bool(r_),\n",
    "                    'Additional Data' : json.dumps(s.additional_data)\n",
    "                })\n",
    "        \n",
    "        print('\\n')\n",
    "        write_csv(f'benchmarks_result/{instance_name}-approach02.csv', header,rows)\n",
    "        \n",
    "    pool = Pool(1)       \n",
    "    mutex = pool.apply_async(approach,[instance_name,instance_content])\n",
    "\n",
    "    try:\n",
    "        mutex.get(timeout=timeout)\n",
    "    except Exception as e:\n",
    "        print(e)\n",
    "        pool.terminate()"
   ]
  },
  {
   "cell_type": "markdown",
   "metadata": {},
   "source": [
    "## Approach 3: no additional paths, simple threshold elimination, precomputed path on subgraph"
   ]
  },
  {
   "cell_type": "code",
   "execution_count": null,
   "metadata": {},
   "outputs": [
    {
     "name": "stdout",
     "output_type": "stream",
     "text": [
      "room_s29_a10_w5_h29\n",
      "29\n"
     ]
    },
    {
     "name": "stdout",
     "output_type": "stream",
     "text": [
      "Grounding...\n"
     ]
    },
    {
     "name": "stderr",
     "output_type": "stream",
     "text": [
      "Current agent: 10 - at((12,10),0) => at((21,24),29): 100%|██████████| 10/10 [00:00<00:00, 15.09it/s]\n"
     ]
    },
    {
     "name": "stdout",
     "output_type": "stream",
     "text": [
      "SAT\n",
      "406 6 0.1\n",
      "[((2, 25), 26), ((29, 19), 25), ((1, 29), 21), ((21, 17), 20), ((2, 29), 20), ((29, 18), 26)]\n",
      "Grounding...\n",
      "Solving...\n",
      "Done\n",
      "Solver is True\n",
      "Grounding...\n",
      "Solving...\n",
      "Done\n",
      "Solver is True\n",
      "\n",
      "Grounding...\n",
      "Solving...\n",
      "Done\n",
      "Solver is True\n",
      "Grounding...\n",
      "Solving...\n",
      "Done\n",
      "Solver is True\n",
      "random_s20_a15_c75_h28\n",
      "28\n",
      "Grounding...\n"
     ]
    },
    {
     "name": "stderr",
     "output_type": "stream",
     "text": [
      "Current agent: 15 - at((17,7),0) => at((17,10),28): 100%|██████████| 15/15 [00:00<00:00, 36.45it/s]\n"
     ]
    },
    {
     "name": "stdout",
     "output_type": "stream",
     "text": [
      "SAT\n",
      "569 24 0.06666666666666667\n",
      "[((16, 6), 8), ((1, 2), 21), ((1, 2), 20), ((1, 2), 19), ((1, 2), 18), ((1, 2), 17), ((1, 2), 16), ((1, 2), 15), ((2, 2), 14), ((18, 3), 13), ((17, 3), 12), ((14, 9), 11), ((17, 7), 4), ((17, 7), 3), ((17, 7), 2), ((16, 3), 11), ((16, 4), 10), ((16, 7), 7), ((16, 5), 9), ((16, 8), 6), ((16, 7), 6), ((13, 7), 21), ((17, 7), 5), ((16, 8), 25)]\n",
      "Grounding...\n",
      "Solving...\n",
      "Done\n",
      "Solver is True\n",
      "Grounding...\n",
      "Solving...\n",
      "Done\n",
      "Solver is True\n",
      "\n",
      "Grounding...\n",
      "Solving...\n",
      "Done\n",
      "Solver is False\n",
      "Grounding...\n",
      "Solving...\n",
      "Done\n",
      "Solver is False\n",
      "Grounding...\n",
      "Solving...\n",
      "Done\n",
      "Solver is False\n",
      "Grounding...\n",
      "Solving...\n",
      "Done\n",
      "Solver is False\n",
      "maze_s10_a20_h40\n",
      "40\n",
      "Grounding...\n"
     ]
    },
    {
     "name": "stderr",
     "output_type": "stream",
     "text": [
      "Current agent: 20 - at((3,18),0) => at((1,18),4): 100%|██████████| 20/20 [00:00<00:00, 66.16it/s]   \n"
     ]
    },
    {
     "name": "stdout",
     "output_type": "stream",
     "text": [
      "SAT\n",
      "820 18 0.05\n",
      "[((10, 13), 32), ((9, 18), 32), ((16, 19), 30), ((14, 19), 28), ((5, 10), 24), ((18, 9), 23), ((5, 13), 19), ((5, 10), 16), ((9, 13), 15), ((9, 3), 13), ((11, 12), 12), ((11, 13), 11), ((9, 3), 8), ((16, 19), 5), ((3, 1), 5), ((3, 18), 4), ((1, 2), 2), ((15, 9), 1)]\n",
      "Grounding...\n",
      "Solving...\n",
      "Done\n",
      "Solver is True\n",
      "Grounding...\n",
      "Solving...\n",
      "Done\n",
      "Solver is True\n",
      "\n",
      "Grounding...\n",
      "Solving...\n",
      "Done\n",
      "Solver is True\n",
      "Grounding...\n",
      "Solving...\n",
      "Done\n",
      "Solver is True\n",
      "Grounding...\n",
      "Solving...\n",
      "Done\n",
      "Solver is True\n",
      "Grounding...\n",
      "Solving...\n",
      "Done\n",
      "Solver is True\n",
      "room_s19_a15_w4_h34\n",
      "34\n",
      "Grounding...\n"
     ]
    },
    {
     "name": "stderr",
     "output_type": "stream",
     "text": [
      "Current agent: 15 - at((15,19),0) => at((19,16),34): 100%|██████████| 15/15 [00:00<00:00, 31.66it/s]\n"
     ]
    },
    {
     "name": "stdout",
     "output_type": "stream",
     "text": [
      "SAT\n",
      "616 8 0.06666666666666667\n",
      "[((12, 9), 12), ((17, 11), 11), ((10, 18), 7), ((4, 5), 6), ((17, 11), 29), ((17, 13), 7), ((17, 7), 7), ((17, 11), 30)]\n",
      "Grounding...\n",
      "Solving...\n",
      "Done\n",
      "Solver is True\n",
      "Grounding...\n",
      "Solving...\n",
      "Done\n",
      "Solver is True\n",
      "\n",
      "Grounding...\n",
      "Solving...\n",
      "Done\n",
      "Solver is True\n",
      "Grounding...\n",
      "Solving...\n",
      "Done\n",
      "Solver is True\n",
      "Grounding...\n",
      "Solving...\n",
      "Done\n",
      "Solver is True\n",
      "Grounding...\n",
      "Solving...\n",
      "Done\n",
      "Solver is True\n",
      "maze_s20_a15_h68\n",
      "68\n",
      "Grounding...\n"
     ]
    },
    {
     "name": "stderr",
     "output_type": "stream",
     "text": [
      "Current agent: 15 - at((1,32),0) => at((5,32),68): 100%|██████████| 15/15 [00:01<00:00, 12.07it/s]  \n"
     ]
    },
    {
     "name": "stdout",
     "output_type": "stream",
     "text": [
      "SAT\n",
      "1047 6 0.06666666666666667\n",
      "[((15, 25), 45), ((6, 29), 22), ((26, 19), 20), ((12, 31), 14), ((4, 37), 6), ((1, 35), 11)]\n",
      "Grounding...\n",
      "Solving...\n",
      "Done\n",
      "Solver is True\n",
      "Grounding...\n",
      "Solving...\n",
      "Done\n",
      "Solver is True\n",
      "\n",
      "Grounding...\n",
      "Solving...\n",
      "Done\n",
      "Solver is True\n",
      "Grounding...\n",
      "Solving...\n",
      "Done\n",
      "Solver is True\n",
      "Grounding...\n",
      "Solving...\n",
      "Done\n",
      "Solver is True\n",
      "Grounding...\n",
      "Solving...\n",
      "Done\n",
      "Solver is True\n",
      "room_s47_a15_w5_h37\n",
      "37\n",
      "Grounding...\n"
     ]
    },
    {
     "name": "stderr",
     "output_type": "stream",
     "text": [
      "Current agent: 15 - at((47,34),0) => at((19,38),37): 100%|██████████| 15/15 [00:02<00:00,  6.66it/s]\n"
     ]
    },
    {
     "name": "stdout",
     "output_type": "stream",
     "text": [
      "SAT\n",
      "697 1 0.06666666666666667\n",
      "[((12, 32), 25)]\n",
      "Grounding...\n",
      "Solving...\n",
      "Done\n",
      "Solver is True\n",
      "Grounding...\n",
      "Solving...\n",
      "Done\n",
      "Solver is True\n",
      "\n",
      "Grounding...\n",
      "Solving...\n",
      "Done\n",
      "Solver is True\n",
      "Grounding...\n",
      "Solving...\n",
      "Done\n",
      "Solver is True\n",
      "Grounding...\n",
      "Solving...\n",
      "Done\n",
      "Solver is True\n",
      "Grounding...\n",
      "Solving...\n",
      "Done\n",
      "Solver is True\n",
      "maze_s10_a15_h38\n",
      "38\n",
      "Grounding...\n"
     ]
    },
    {
     "name": "stderr",
     "output_type": "stream",
     "text": [
      "Current agent: 15 - at((9,18),0) => at((10,17),38): 100%|██████████| 15/15 [00:00<00:00, 41.46it/s]\n"
     ]
    },
    {
     "name": "stdout",
     "output_type": "stream",
     "text": [
      "SAT\n",
      "733 54 0.06666666666666667\n",
      "[((9, 13), 27), ((9, 13), 21), ((9, 13), 7), ((9, 17), 37), ((8, 17), 36), ((15, 15), 33), ((11, 12), 24), ((7, 17), 14), ((7, 17), 13), ((7, 17), 12), ((7, 17), 11), ((7, 17), 10), ((7, 17), 9), ((7, 17), 8), ((7, 17), 7), ((7, 17), 6), ((9, 13), 28), ((9, 13), 26), ((9, 13), 25), ((9, 13), 24), ((9, 13), 23), ((9, 13), 22), ((9, 13), 20), ((9, 13), 19), ((9, 13), 18), ((9, 13), 17), ((9, 13), 16), ((9, 13), 15), ((9, 13), 14), ((9, 13), 13), ((9, 13), 12), ((9, 13), 11), ((9, 13), 10), ((9, 13), 9), ((9, 13), 8), ((9, 13), 6), ((9, 13), 5), ((9, 13), 4), ((9, 13), 29), ((7, 17), 35), ((7, 17), 15), ((9, 19), 2), ((10, 19), 1), ((7, 17), 16), ((10, 13), 3), ((9, 13), 30), ((6, 17), 34), ((9, 13), 31), ((7, 17), 17), ((4, 13), 36), ((6, 13), 34), ((4, 13), 32), ((4, 13), 26), ((4, 13), 16)]\n",
      "Grounding...\n",
      "Solving...\n",
      "Done\n",
      "Solver is True\n",
      "Grounding...\n",
      "Solving...\n",
      "Done\n",
      "Solver is True\n",
      "\n",
      "Grounding...\n",
      "Solving...\n",
      "Done\n",
      "Solver is True\n",
      "Grounding...\n",
      "Solving...\n",
      "Done\n",
      "Solver is True\n",
      "Grounding...\n",
      "Solving...\n",
      "Done\n",
      "Solver is True\n",
      "Grounding...\n",
      "Solving...\n",
      "Done\n",
      "Solver is True\n",
      "random_s10_a5_c50_h16\n",
      "16\n",
      "Grounding...\n"
     ]
    },
    {
     "name": "stderr",
     "output_type": "stream",
     "text": [
      "Current agent: 5 - at((9,3),0) => at((9,4),16): 100%|██████████| 5/5 [00:00<00:00, 130.37it/s]\n"
     ]
    },
    {
     "name": "stdout",
     "output_type": "stream",
     "text": [
      "SAT\n",
      "97 1 0.2\n",
      "[((9, 3), 1)]\n",
      "Grounding...\n",
      "Solving...\n",
      "Done\n",
      "Solver is True\n",
      "Grounding...\n",
      "Solving...\n",
      "Done\n",
      "Solver is True\n",
      "\n",
      "Grounding...\n",
      "Solving...\n",
      "Done\n",
      "Solver is False\n",
      "Grounding...\n",
      "Solving...\n",
      "Done\n",
      "Solver is False\n",
      "Grounding...\n",
      "Solving...\n",
      "Done\n",
      "Solver is False\n",
      "Grounding...\n",
      "Solving...\n",
      "Done\n",
      "Solver is False\n",
      "room_s29_a30_w5_h34\n",
      "34\n",
      "Grounding...\n"
     ]
    },
    {
     "name": "stderr",
     "output_type": "stream",
     "text": [
      "Current agent: 30 - at((28,15),0) => at((29,15),34): 100%|██████████| 30/30 [00:01<00:00, 16.67it/s]\n"
     ]
    },
    {
     "name": "stdout",
     "output_type": "stream",
     "text": [
      "SAT\n",
      "1409 83 0.03333333333333333\n",
      "[((6, 21), 9), ((23, 5), 5), ((24, 27), 31), ((14, 19), 28), ((14, 18), 27), ((14, 17), 26), ((23, 5), 23), ((23, 5), 22), ((23, 5), 21), ((23, 5), 20), ((23, 5), 19), ((23, 5), 18), ((23, 5), 17), ((23, 5), 16), ((10, 19), 15), ((23, 5), 15), ((6, 21), 15), ((18, 9), 14), ((23, 5), 14), ((23, 5), 13), ((23, 5), 12), ((23, 5), 11), ((6, 21), 11), ((13, 11), 11), ((29, 18), 11), ((23, 5), 10), ((6, 21), 10), ((13, 11), 10), ((29, 18), 10), ((23, 5), 9), ((13, 11), 9), ((29, 18), 9), ((18, 27), 8), ((23, 5), 8), ((6, 21), 8), ((13, 11), 8), ((29, 18), 8), ((23, 5), 7), ((6, 21), 7), ((13, 11), 7), ((29, 18), 7), ((23, 5), 6), ((6, 21), 6), ((13, 11), 6), ((5, 23), 6), ((29, 18), 6), ((6, 21), 5), ((13, 11), 5), ((29, 18), 5), ((23, 5), 4), ((6, 21), 4), ((13, 11), 4), ((29, 18), 4), ((23, 5), 3), ((6, 21), 3), ((13, 11), 3), ((6, 21), 2), ((13, 11), 2), ((29, 17), 31), ((16, 29), 30), ((18, 9), 17), ((19, 17), 28), ((22, 12), 19), ((17, 11), 17), ((6, 21), 21), ((6, 21), 12), ((23, 5), 24), ((16, 11), 24), ((19, 17), 24), ((6, 21), 13), ((19, 5), 29), ((18, 17), 25), ((5, 21), 22), ((22, 11), 20), ((16, 11), 18), ((6, 21), 14), ((7, 19), 18), ((17, 29), 29), ((17, 9), 18), ((14, 11), 12), ((18, 17), 29), ((23, 5), 25), ((17, 29), 5)]\n",
      "Grounding...\n",
      "Solving...\n",
      "Done\n",
      "Solver is True\n",
      "Grounding...\n",
      "Solving...\n",
      "Done\n",
      "Solver is True\n",
      "\n",
      "Grounding...\n",
      "Solving...\n",
      "Done\n",
      "Solver is True\n",
      "Grounding...\n",
      "Solving...\n",
      "Done\n",
      "Solver is True\n",
      "Grounding...\n",
      "Solving...\n",
      "Done\n",
      "Solver is True\n",
      "Grounding...\n",
      "Solving...\n",
      "Done\n",
      "Solver is True\n",
      "maze_s10_a25_h45\n",
      "45\n",
      "Grounding...\n"
     ]
    },
    {
     "name": "stderr",
     "output_type": "stream",
     "text": [
      "Current agent: 25 - at((16,15),0) => at((1,18),45): 100%|██████████| 25/25 [00:00<00:00, 37.73it/s] \n"
     ]
    },
    {
     "name": "stdout",
     "output_type": "stream",
     "text": [
      "SAT\n",
      "1376 157 0.04\n",
      "[((13, 15), 16), ((13, 15), 37), ((13, 15), 36), ((5, 10), 33), ((7, 3), 24), ((13, 15), 15), ((13, 15), 14), ((13, 15), 13), ((13, 15), 12), ((13, 15), 11), ((13, 15), 10), ((13, 15), 9), ((13, 15), 8), ((13, 15), 7), ((13, 15), 6), ((13, 15), 5), ((13, 15), 4), ((13, 15), 3), ((13, 15), 17), ((13, 15), 20), ((13, 15), 18), ((13, 15), 19), ((15, 9), 39), ((16, 9), 40), ((14, 15), 39), ((15, 15), 44), ((3, 17), 42), ((3, 16), 41), ((3, 15), 40), ((13, 12), 39), ((3, 14), 39), ((3, 13), 38), ((13, 14), 37), ((4, 13), 37), ((15, 11), 37), ((5, 13), 36), ((15, 11), 36), ((5, 12), 35), ((13, 15), 35), ((15, 11), 35), ((5, 11), 34), ((13, 15), 34), ((15, 11), 34), ((10, 13), 33), ((13, 15), 33), ((15, 11), 33), ((5, 9), 32), ((13, 15), 32), ((15, 11), 32), ((11, 12), 31), ((5, 8), 31), ((11, 6), 31), ((13, 15), 31), ((8, 13), 31), ((15, 11), 31), ((5, 7), 30), ((13, 15), 30), ((15, 11), 30), ((6, 13), 29), ((10, 13), 29), ((11, 3), 29), ((5, 6), 29), ((13, 15), 29), ((15, 11), 29), ((5, 5), 28), ((13, 15), 28), ((15, 11), 28), ((8, 13), 27), ((5, 4), 27), ((13, 15), 27), ((15, 11), 27), ((11, 11), 26), ((5, 3), 26), ((9, 3), 26), ((13, 15), 26), ((15, 11), 26), ((6, 3), 25), ((13, 15), 25), ((15, 11), 25), ((13, 15), 24), ((15, 11), 24), ((8, 3), 23), ((13, 15), 23), ((15, 11), 23), ((11, 11), 22), ((9, 3), 22), ((13, 15), 22), ((15, 11), 22), ((10, 3), 21), ((13, 15), 21), ((15, 11), 21), ((11, 3), 20), ((15, 11), 20), ((15, 11), 19), ((15, 11), 18), ((15, 11), 17), ((5, 10), 16), ((15, 11), 16), ((5, 10), 15), ((15, 11), 15), ((15, 11), 14), ((15, 11), 13), ((15, 11), 12), ((15, 11), 11), ((15, 11), 10), ((15, 11), 9), ((19, 5), 8), ((15, 11), 8), ((19, 5), 7), ((15, 11), 7), ((15, 19), 6), ((19, 5), 6), ((15, 11), 6), ((19, 5), 5), ((15, 11), 5), ((17, 19), 4), ((19, 5), 4), ((15, 11), 4), ((19, 5), 3), ((15, 11), 3), ((19, 19), 2), ((19, 5), 2), ((14, 15), 2), ((15, 11), 2), ((19, 5), 1), ((15, 15), 1), ((13, 15), 38), ((14, 15), 38), ((5, 10), 41), ((17, 9), 41), ((14, 15), 43), ((17, 10), 7), ((15, 10), 38), ((15, 19), 25), ((19, 5), 9), ((13, 15), 42), ((15, 19), 26), ((17, 10), 6), ((11, 12), 30), ((15, 19), 24), ((15, 15), 40), ((1, 8), 39), ((9, 19), 44), ((15, 15), 42), ((5, 11), 40), ((1, 9), 40), ((17, 10), 4), ((17, 10), 3), ((17, 10), 2), ((17, 10), 1), ((14, 15), 41), ((13, 14), 41), ((19, 5), 10), ((17, 10), 5), ((15, 15), 39), ((18, 9), 42), ((13, 13), 40)]\n",
      "Grounding...\n",
      "Solving...\n",
      "Done\n",
      "Solver is True\n",
      "Grounding...\n",
      "Solving...\n",
      "Done\n",
      "Solver is True\n",
      "\n",
      "Grounding...\n",
      "Solving...\n",
      "Done\n",
      "Solver is False\n",
      "Grounding...\n",
      "Solving...\n",
      "Done\n",
      "Solver is False\n",
      "Grounding...\n",
      "Solving...\n",
      "Done\n",
      "Solver is False\n",
      "Grounding...\n",
      "Solving...\n",
      "Done\n",
      "Solver is False\n",
      "room_s47_a10_w5_h59\n",
      "59\n",
      "Grounding...\n"
     ]
    },
    {
     "name": "stderr",
     "output_type": "stream",
     "text": [
      "Current agent: 10 - at((32,47),0) => at((33,1),59): 100%|██████████| 10/10 [00:02<00:00,  4.24it/s]\n"
     ]
    },
    {
     "name": "stdout",
     "output_type": "stream",
     "text": [
      "SAT\n",
      "639 1 0.1\n",
      "[((40, 14), 13)]\n",
      "Grounding...\n",
      "Solving...\n",
      "Done\n",
      "Solver is True\n",
      "Grounding...\n",
      "Solving...\n",
      "Done\n",
      "Solver is True\n",
      "\n",
      "Grounding...\n",
      "Solving...\n",
      "Done\n",
      "Solver is True\n",
      "room_s47_a5_w5_h50\n",
      "50\n",
      "Grounding...\n"
     ]
    },
    {
     "name": "stderr",
     "output_type": "stream",
     "text": [
      "Current agent: 5 - at((4,39),0) => at((29,16),50): 100%|██████████| 5/5 [00:01<00:00,  3.49it/s] \n"
     ]
    },
    {
     "name": "stdout",
     "output_type": "stream",
     "text": [
      "SAT\n",
      "286 0 0.2\n",
      "[]\n",
      "Grounding...\n",
      "Solving...\n",
      "Done\n",
      "Solver is True\n",
      "Grounding...\n"
     ]
    },
    {
     "name": "stderr",
     "output_type": "stream",
     "text": [
      "pathelimination/path_elimination.lp:2:5-25: info: atom does not occur in any rule head:\n",
      "  critical_vertex(V,T)\n",
      "\n",
      "pathelimination/path_elimination.lp:3:5-26: info: atom does not occur in any rule head:\n",
      "  critical_agent(R,V,T)\n",
      "\n"
     ]
    },
    {
     "name": "stdout",
     "output_type": "stream",
     "text": [
      "Solving...\n",
      "Done\n",
      "Solver is True\n",
      "\n",
      "Grounding...\n"
     ]
    },
    {
     "name": "stderr",
     "output_type": "stream",
     "text": [
      "pathselection/path_selection.lp:2:39-55: info: atom does not occur in any rule head:\n",
      "  path_killed(R,I)\n",
      "\n"
     ]
    },
    {
     "name": "stdout",
     "output_type": "stream",
     "text": [
      "Solving...\n",
      "Done\n",
      "Solver is True\n",
      "random_s40_a35_c75_h54\n",
      "54\n",
      "Grounding...\n"
     ]
    },
    {
     "name": "stderr",
     "output_type": "stream",
     "text": [
      "Current agent: 35 - at((24,39),0) => at((24,18),54): 100%|██████████| 35/35 [00:04<00:00,  8.45it/s]\n"
     ]
    },
    {
     "name": "stdout",
     "output_type": "stream",
     "text": [
      "SAT\n",
      "2064 38 0.02857142857142857\n",
      "[((36, 17), 53), ((36, 17), 52), ((36, 17), 51), ((36, 17), 50), ((36, 17), 49), ((36, 17), 48), ((36, 17), 47), ((36, 17), 46), ((36, 17), 45), ((36, 17), 44), ((36, 17), 43), ((36, 17), 42), ((36, 17), 41), ((36, 17), 40), ((15, 10), 40), ((36, 17), 39), ((22, 24), 39), ((36, 17), 38), ((36, 17), 37), ((36, 17), 36), ((36, 17), 35), ((36, 17), 34), ((36, 17), 33), ((36, 17), 32), ((36, 17), 31), ((36, 17), 30), ((36, 17), 29), ((24, 16), 29), ((36, 20), 26), ((36, 17), 23), ((37, 12), 17), ((28, 24), 3), ((34, 7), 10), ((26, 19), 6), ((37, 12), 35), ((26, 6), 41), ((36, 16), 5), ((35, 10), 8)]\n",
      "Grounding...\n",
      "Solving...\n",
      "Done\n",
      "Solver is True\n",
      "Grounding...\n",
      "Solving...\n",
      "Done\n",
      "Solver is True\n",
      "\n",
      "Grounding...\n",
      "Solving...\n",
      "Done\n",
      "Solver is True\n",
      "Grounding...\n",
      "Solving...\n",
      "Done\n",
      "Solver is True\n",
      "Grounding...\n",
      "Solving...\n",
      "Done\n",
      "Solver is True\n",
      "Grounding...\n",
      "Solving...\n",
      "Done\n",
      "Solver is True\n",
      "random_s30_a25_c75_h50\n",
      "50\n",
      "Grounding...\n"
     ]
    },
    {
     "name": "stderr",
     "output_type": "stream",
     "text": [
      "Current agent: 25 - at((10,28),0) => at((24,30),50): 100%|██████████| 25/25 [00:02<00:00, 11.51it/s]\n"
     ]
    },
    {
     "name": "stdout",
     "output_type": "stream",
     "text": [
      "SAT\n",
      "1503 32 0.04\n",
      "[((8, 19), 46), ((26, 19), 36), ((12, 12), 33), ((26, 19), 32), ((21, 13), 21), ((22, 13), 20), ((26, 20), 20), ((8, 3), 18), ((24, 3), 13), ((14, 13), 13), ((24, 2), 12), ((24, 1), 11), ((21, 13), 22), ((21, 13), 23), ((26, 21), 42), ((26, 18), 39), ((26, 21), 34), ((2, 9), 49), ((21, 13), 24), ((7, 18), 5), ((2, 10), 48), ((19, 7), 22), ((26, 19), 35), ((21, 14), 28), ((27, 3), 47), ((21, 13), 25), ((21, 14), 27), ((27, 4), 46), ((13, 13), 14), ((28, 3), 48), ((21, 13), 26), ((12, 13), 15)]\n",
      "Grounding...\n",
      "Solving...\n",
      "Done\n",
      "Solver is True\n",
      "Grounding...\n",
      "Solving...\n",
      "Done\n",
      "Solver is True\n",
      "\n",
      "Grounding...\n",
      "Solving...\n",
      "Done\n",
      "Solver is True\n",
      "room_s19_a25_w4_h30\n",
      "30\n",
      "Grounding...\n"
     ]
    },
    {
     "name": "stderr",
     "output_type": "stream",
     "text": [
      "Current agent: 25 - at((18,19),0) => at((18,17),30): 100%|██████████| 25/25 [00:00<00:00, 41.96it/s]\n"
     ]
    },
    {
     "name": "stdout",
     "output_type": "stream",
     "text": [
      "SAT\n",
      "920 27 0.04\n",
      "[((16, 15), 25), ((11, 11), 15), ((12, 6), 28), ((5, 8), 26), ((16, 16), 26), ((6, 8), 25), ((15, 19), 20), ((14, 10), 19), ((8, 5), 12), ((14, 10), 11), ((6, 8), 10), ((8, 5), 9), ((8, 6), 8), ((6, 8), 4), ((6, 8), 1), ((17, 17), 28), ((17, 16), 27), ((17, 18), 29), ((16, 15), 7), ((17, 7), 9), ((16, 9), 8), ((16, 14), 6), ((14, 6), 7), ((17, 14), 6), ((16, 9), 11), ((17, 12), 4), ((11, 11), 7)]\n",
      "Grounding...\n",
      "Solving...\n",
      "Done\n",
      "Solver is True\n",
      "Grounding...\n",
      "Solving...\n",
      "Done\n",
      "Solver is True\n",
      "\n",
      "Grounding...\n",
      "Solving...\n",
      "Done\n",
      "Solver is True\n",
      "Grounding...\n",
      "Solving...\n",
      "Done\n",
      "Solver is True\n",
      "Grounding...\n",
      "Solving...\n",
      "Done\n",
      "Solver is True\n",
      "Grounding...\n",
      "Solving...\n",
      "Done\n",
      "Solver is True\n",
      "random_s20_a15_c50_h43\n",
      "43\n",
      "Grounding...\n"
     ]
    },
    {
     "name": "stderr",
     "output_type": "stream",
     "text": [
      "Current agent: 15 - at((18,7),0) => at((17,17),43): 100%|██████████| 15/15 [00:00<00:00, 42.25it/s]\n"
     ]
    },
    {
     "name": "stdout",
     "output_type": "stream",
     "text": [
      "SAT\n",
      "739 34 0.06666666666666667\n",
      "[((16, 15), 20), ((19, 7), 41), ((2, 8), 37), ((18, 11), 36), ((2, 7), 36), ((2, 6), 35), ((2, 5), 34), ((2, 4), 33), ((2, 3), 32), ((2, 2), 31), ((3, 2), 30), ((4, 2), 29), ((14, 11), 27), ((14, 11), 26), ((18, 11), 23), ((19, 7), 18), ((14, 11), 14), ((17, 18), 14), ((19, 7), 8), ((19, 15), 2), ((11, 11), 1), ((17, 18), 42), ((19, 7), 24), ((18, 11), 29), ((11, 11), 29), ((19, 15), 7), ((14, 11), 32), ((18, 11), 30), ((12, 11), 29), ((14, 11), 31), ((17, 18), 41), ((19, 14), 8), ((16, 15), 35), ((19, 7), 25)]\n",
      "Grounding...\n",
      "Solving...\n",
      "Done\n",
      "Solver is True\n",
      "Grounding...\n",
      "Solving...\n",
      "Done\n",
      "Solver is True\n",
      "\n",
      "Grounding...\n",
      "Solving...\n",
      "Done\n",
      "Solver is True\n",
      "Grounding...\n",
      "Solving...\n",
      "Done\n",
      "Solver is True\n",
      "Grounding...\n",
      "Solving...\n",
      "Done\n",
      "Solver is True\n",
      "Grounding...\n",
      "Solving...\n",
      "Done\n",
      "Solver is True\n",
      "random_s10_a5_c75_h14\n",
      "14\n",
      "Grounding...\n"
     ]
    },
    {
     "name": "stderr",
     "output_type": "stream",
     "text": [
      "Current agent: 5 - at((8,10),0) => at((7,1),14): 100%|██████████| 5/5 [00:00<00:00, 119.35it/s]\n"
     ]
    },
    {
     "name": "stdout",
     "output_type": "stream",
     "text": [
      "SAT\n",
      "90 2 0.2\n",
      "[((6, 5), 4), ((5, 5), 3)]\n",
      "Grounding...\n",
      "Solving...\n",
      "Done\n",
      "Solver is True\n",
      "Grounding...\n",
      "Solving...\n",
      "Done\n",
      "Solver is True\n",
      "\n",
      "Grounding...\n",
      "Solving...\n",
      "Done\n",
      "Solver is True\n",
      "Grounding...\n",
      "Solving...\n",
      "Done\n",
      "Solver is True\n",
      "Grounding...\n",
      "Solving...\n",
      "Done\n",
      "Solver is True\n",
      "Grounding...\n",
      "Solving...\n",
      "Done\n",
      "Solver is True\n",
      "room_s29_a20_w5_h26\n",
      "26\n",
      "Grounding...\n"
     ]
    },
    {
     "name": "stderr",
     "output_type": "stream",
     "text": [
      "Current agent: 20 - at((29,14),0) => at((29,17),26): 100%|██████████| 20/20 [00:01<00:00, 19.63it/s]\n"
     ]
    },
    {
     "name": "stdout",
     "output_type": "stream",
     "text": [
      "SAT\n",
      "749 13 0.05\n",
      "[((24, 5), 11), ((24, 5), 10), ((24, 5), 9), ((24, 5), 8), ((24, 5), 7), ((24, 5), 6), ((22, 7), 24), ((22, 7), 23), ((24, 5), 12), ((29, 14), 16), ((29, 13), 15), ((24, 5), 13), ((25, 11), 2)]\n",
      "Grounding...\n",
      "Solving...\n",
      "Done\n",
      "Solver is True\n",
      "Grounding...\n",
      "Solving...\n",
      "Done\n",
      "Solver is True\n",
      "\n",
      "Grounding...\n",
      "Solving...\n",
      "Done\n",
      "Solver is True\n",
      "Grounding...\n",
      "Solving...\n",
      "Done\n",
      "Solver is True\n",
      "Grounding...\n",
      "Solving...\n",
      "Done\n",
      "Solver is True\n",
      "maze_s15_a20_h98\n",
      "98\n",
      "Grounding...\n"
     ]
    },
    {
     "name": "stderr",
     "output_type": "stream",
     "text": [
      "Current agent: 20 - at((13,22),0) => at((15,22),98): 100%|██████████| 20/20 [00:01<00:00, 15.82it/s]\n"
     ]
    },
    {
     "name": "stdout",
     "output_type": "stream",
     "text": [
      "SAT\n",
      "2002 32 0.05\n",
      "[((1, 5), 78), ((21, 20), 65), ((15, 26), 64), ((20, 21), 63), ((21, 21), 50), ((20, 21), 49), ((17, 16), 48), ((19, 21), 48), ((18, 21), 47), ((17, 21), 46), ((16, 21), 45), ((15, 21), 44), ((14, 21), 43), ((13, 21), 42), ((12, 21), 41), ((11, 21), 40), ((10, 21), 39), ((9, 21), 38), ((1, 20), 37), ((9, 20), 37), ((9, 19), 36), ((9, 18), 35), ((1, 20), 34), ((9, 17), 34), ((10, 17), 33), ((11, 17), 32), ((12, 17), 31), ((13, 17), 30), ((2, 19), 22), ((8, 29), 21), ((21, 22), 13), ((13, 17), 29)]\n",
      "Grounding...\n",
      "Solving...\n",
      "Done\n",
      "Solver is True\n",
      "Grounding...\n",
      "Solving...\n",
      "Done\n",
      "Solver is True\n",
      "\n",
      "Grounding...\n",
      "Solving...\n",
      "Done\n",
      "Solver is True\n",
      "Grounding...\n",
      "Solving...\n",
      "Done\n",
      "Solver is True\n",
      "Grounding...\n",
      "Solving...\n",
      "Done\n",
      "Solver is True\n",
      "Grounding...\n",
      "Solving...\n",
      "Done\n",
      "Solver is True\n",
      "room_s19_a5_w4_h25\n",
      "25\n",
      "Grounding...\n"
     ]
    },
    {
     "name": "stderr",
     "output_type": "stream",
     "text": [
      "Current agent: 5 - at((15,2),0) => at((10,6),25): 100%|██████████| 5/5 [00:00<00:00, 30.11it/s]\n"
     ]
    },
    {
     "name": "stdout",
     "output_type": "stream",
     "text": [
      "SAT\n",
      "167 1 0.2\n",
      "[((13, 4), 7)]\n",
      "Grounding...\n",
      "Solving...\n",
      "Done\n",
      "Solver is True\n",
      "Grounding...\n",
      "Solving...\n",
      "Done\n",
      "Solver is True\n",
      "\n",
      "Grounding...\n",
      "Solving...\n",
      "Done\n",
      "Solver is True\n",
      "Grounding...\n",
      "Solving...\n",
      "Done\n",
      "Solver is True\n"
     ]
    }
   ],
   "source": [
    "for instance_name, instance_content in instances_pool:\n",
    "    def approach(instance_name,instance_content):\n",
    "        print(instance_name)\n",
    "        rows = []\n",
    "        \n",
    "        r, s_ipf = base_ipf(instance_content)\n",
    "        \n",
    "        rows.append({\n",
    "            'Step Name' : 'base_ipf',\n",
    "            'Total Time' : s_ipf.total_time,\n",
    "            'Ground Time': s_ipf.total_time - s_ipf.solve_time,\n",
    "            'Solving Time': s_ipf.solve_time,\n",
    "            'SAT' : bool(r),\n",
    "            'Additional Data' : json.dumps(s_ipf.additional_data)\n",
    "        })\n",
    "        \n",
    "        ih, gh, lgh, s = global_heatmap(r + instance_content)\n",
    "        \n",
    "        rows.append({\n",
    "            'Step Name' : 'heatmaps',\n",
    "            'Total Time' : s.total_time,\n",
    "            'Ground Time': s.total_time - s.solve_time,\n",
    "            'Solving Time': s.solve_time,\n",
    "            'SAT' : bool(r),\n",
    "            'Additional Data' : json.dumps(s.additional_data)\n",
    "        })\n",
    "        \n",
    "        \n",
    "        cva ,s =  pe_simple_threshold(ih,gh,s_ipf.additional_data['nagent'])\n",
    "        \n",
    "        rows.append({\n",
    "            'Step Name' : 'simple_threshold',\n",
    "            'Total Time' : s.total_time,\n",
    "            'Ground Time': s.total_time - s.solve_time,\n",
    "            'Solving Time': s.solve_time,\n",
    "            'SAT' : bool(r),\n",
    "            'Additional Data' : json.dumps(s.additional_data)\n",
    "        })\n",
    "        \n",
    "        r,s = solver(r + cva + instance_content + lgh['pwlsh'], 'pathelimination/path_elimination.lp', additional_encodings=['pathelimination/convert_to_kill.lp'])\n",
    "        \n",
    "        rows.append({\n",
    "            'Step Name' : 'path_elimination',\n",
    "            'Total Time' : s.total_time,\n",
    "            'Ground Time': s.total_time - s.solve_time,\n",
    "            'Solving Time': s.solve_time,\n",
    "            'SAT' : bool(r),\n",
    "            'Additional Data' : json.dumps(s.additional_data)\n",
    "        })\n",
    "        \n",
    "        \n",
    "        r,s = solver(r, 'pathselection/path_selection.lp', parameters=['0','--opt-strategy=usc'])\n",
    "        \n",
    "        rows.append({\n",
    "            'Step Name' : 'path_selection',\n",
    "            'Total Time' : s.total_time,\n",
    "            'Ground Time': s.total_time - s.solve_time,\n",
    "            'Solving Time': s.solve_time,           \n",
    "            'SAT' : bool(r),\n",
    "            'Additional Data' : json.dumps(s.additional_data)\n",
    "        })\n",
    "        \n",
    "        print()\n",
    "        r_,s = partial_solving(r, 'mapf/partial_solving.lp', subgraph='mapf/subgraph.lp', precomputed_path='mapf/precomputed_path.lp')\n",
    "        \n",
    "        rows.append({\n",
    "            'Step Name' : 'partial_solving',\n",
    "\n",
    "            'Total Time' : s.total_time,\n",
    "            'Ground Time': s.total_time - s.solve_time,\n",
    "            'Solving Time': s.solve_time,\n",
    "            'SAT' : bool(r_),\n",
    "            'Additional Data' : json.dumps(s.additional_data)\n",
    "        })\n",
    "        \n",
    "        for i in range (1,6,2):\n",
    "            if s.additional_data['ngoal_reached'] < s_ipf.additional_data['nagent']:\n",
    "                r_,s = partial_solving(r, 'mapf/partial_solving.lp', subgraph='mapf/subgraph.lp', precomputed_path='mapf/precomputed_path.lp', horizon_modifier=i)\n",
    "        \n",
    "                rows.append({\n",
    "                    'Step Name' : f'partial_solving_additional_horizon',\n",
    "                    'Total Time' : s.total_time,\n",
    "                    'Ground Time': s.total_time - s.solve_time,\n",
    "                    'Solving Time': s.solve_time,\n",
    "                    'SAT' : bool(r_),\n",
    "                    'Additional Data' : json.dumps(s.additional_data)\n",
    "                })\n",
    "        \n",
    "        write_csv(f'benchmarks_result/{instance_name}-approach03.csv', header,rows)\n",
    "        \n",
    "    \n",
    "    pool = Pool(1)       \n",
    "    mutex = pool.apply_async(approach,[instance_name,instance_content])\n",
    "\n",
    "    try:\n",
    "        mutex.get(timeout=timeout)\n",
    "    except Exception as e:\n",
    "        print(e)\n",
    "        pool.terminate()"
   ]
  },
  {
   "cell_type": "markdown",
   "metadata": {},
   "source": [
    "## Approach 4 : additional path, heatmap simple threshold elimination, pre-computed path on full graph"
   ]
  },
  {
   "cell_type": "code",
   "execution_count": null,
   "metadata": {},
   "outputs": [
    {
     "name": "stdout",
     "output_type": "stream",
     "text": [
      "room_s29_a10_w5_h29\n",
      "29\n",
      "Grounding...\n"
     ]
    },
    {
     "name": "stderr",
     "output_type": "stream",
     "text": [
      "Current agent: 10 - at((12,10),0) => at((21,24),29): 100%|██████████| 10/10 [00:00<00:00, 14.14it/s]\n"
     ]
    },
    {
     "name": "stdout",
     "output_type": "stream",
     "text": [
      "SAT\n",
      "406 6 0.1\n",
      "[((2, 25), 26), ((29, 19), 25), ((1, 29), 21), ((21, 17), 20), ((2, 29), 20), ((29, 18), 26)]\n",
      "Grounding...\n",
      "Solving...\n",
      "Done\n",
      "Solver is True\n",
      "Grounding...\n",
      "Solving...\n",
      "Done\n",
      "Solver is True\n",
      "Grounding...\n",
      "Solving...\n",
      "Done\n",
      "Solver is True\n",
      "\n",
      "\n",
      "\n",
      "\n",
      "random_s20_a15_c75_h28\n",
      "28\n",
      "Grounding...\n"
     ]
    },
    {
     "name": "stderr",
     "output_type": "stream",
     "text": [
      "Current agent: 15 - at((17,7),0) => at((17,10),28): 100%|██████████| 15/15 [00:00<00:00, 33.52it/s]\n"
     ]
    },
    {
     "name": "stdout",
     "output_type": "stream",
     "text": [
      "SAT\n",
      "585 24 0.06666666666666667\n",
      "[((16, 6), 8), ((1, 2), 21), ((1, 2), 20), ((1, 2), 19), ((1, 2), 18), ((1, 2), 17), ((1, 2), 16), ((1, 2), 15), ((2, 2), 14), ((18, 3), 13), ((17, 3), 12), ((14, 9), 11), ((17, 7), 4), ((17, 7), 3), ((17, 7), 2), ((16, 3), 11), ((16, 4), 10), ((16, 7), 7), ((16, 5), 9), ((16, 8), 6), ((16, 7), 6), ((13, 7), 21), ((17, 7), 5), ((16, 8), 25)]\n",
      "Grounding...\n",
      "Solving...\n",
      "Done\n",
      "Solver is True\n",
      "Grounding...\n",
      "Solving...\n",
      "Done\n",
      "Solver is True\n",
      "Grounding...\n",
      "Solving...\n",
      "Done\n",
      "Solver is False\n",
      "Grounding...\n",
      "Solving...\n",
      "Done\n",
      "Solver is False\n",
      "Grounding...\n",
      "Solving...\n",
      "Done\n",
      "Solver is False\n",
      "Grounding...\n",
      "Solving...\n",
      "Done\n",
      "Solver is False\n",
      "\n",
      "\n",
      "\n",
      "\n",
      "maze_s10_a20_h40\n",
      "40\n",
      "Grounding...\n"
     ]
    },
    {
     "name": "stderr",
     "output_type": "stream",
     "text": [
      "Current agent: 20 - at((3,18),0) => at((1,18),6): 100%|██████████| 20/20 [00:00<00:00, 27.13it/s]   \n"
     ]
    },
    {
     "name": "stdout",
     "output_type": "stream",
     "text": [
      "SAT\n",
      "1262 33 0.05\n",
      "[((10, 13), 34), ((9, 18), 34), ((16, 19), 32), ((14, 19), 30), ((5, 10), 26), ((18, 9), 25), ((5, 10), 18), ((9, 3), 15), ((9, 3), 10), ((16, 19), 7), ((3, 18), 6), ((5, 13), 21), ((9, 13), 17), ((3, 1), 7), ((11, 12), 14), ((11, 13), 13), ((3, 1), 6), ((1, 2), 4), ((11, 3), 12), ((1, 2), 3), ((10, 13), 32), ((9, 18), 32), ((16, 19), 30), ((14, 19), 28), ((5, 10), 24), ((18, 9), 23), ((5, 10), 16), ((9, 3), 13), ((9, 3), 8), ((16, 19), 5), ((3, 1), 5), ((3, 18), 4), ((15, 9), 2)]\n",
      "Grounding...\n",
      "Solving...\n",
      "Done\n",
      "Solver is True\n",
      "Grounding...\n",
      "Solving...\n",
      "Done\n",
      "Solver is True\n",
      "Grounding...\n",
      "Solving...\n",
      "Done\n",
      "Solver is True\n",
      "Grounding...\n",
      "Solving...\n",
      "Done\n",
      "Solver is True\n",
      "Grounding...\n",
      "Solving...\n",
      "Done\n",
      "Solver is True\n",
      "Grounding...\n",
      "Solving...\n",
      "Done\n",
      "Solver is True\n",
      "\n",
      "\n",
      "\n",
      "\n",
      "room_s19_a15_w4_h34\n",
      "34\n",
      "Grounding...\n"
     ]
    },
    {
     "name": "stderr",
     "output_type": "stream",
     "text": [
      "Current agent: 15 - at((15,19),0) => at((19,16),34): 100%|██████████| 15/15 [00:00<00:00, 22.05it/s]\n"
     ]
    },
    {
     "name": "stdout",
     "output_type": "stream",
     "text": [
      "SAT\n",
      "732 11 0.06666666666666667\n",
      "[((4, 5), 6), ((17, 11), 29), ((17, 11), 13), ((10, 18), 7), ((12, 9), 12), ((10, 18), 9), ((10, 18), 8), ((17, 11), 30), ((17, 11), 11), ((17, 13), 7), ((17, 7), 7)]\n",
      "Grounding...\n",
      "Solving...\n",
      "Done\n",
      "Solver is True\n",
      "Grounding...\n",
      "Solving...\n",
      "Done\n",
      "Solver is True\n",
      "Grounding...\n",
      "Solving...\n",
      "Done\n",
      "Solver is True\n",
      "Grounding...\n",
      "Solving...\n",
      "Done\n",
      "Solver is True\n",
      "Grounding...\n",
      "Solving...\n",
      "Done\n",
      "Solver is True\n",
      "Grounding...\n",
      "Solving...\n",
      "Done\n",
      "Solver is True\n",
      "\n",
      "\n",
      "\n",
      "\n",
      "maze_s20_a15_h68\n",
      "68\n",
      "Grounding...\n"
     ]
    },
    {
     "name": "stderr",
     "output_type": "stream",
     "text": [
      "Current agent: 15 - at((1,32),0) => at((5,32),68): 100%|██████████| 15/15 [00:02<00:00,  6.60it/s]  \n"
     ]
    },
    {
     "name": "stdout",
     "output_type": "stream",
     "text": [
      "SAT\n",
      "1430 8 0.06666666666666667\n",
      "[((14, 25), 46), ((6, 29), 24), ((25, 19), 21), ((1, 35), 12), ((12, 31), 16), ((15, 25), 45), ((26, 19), 20), ((4, 37), 7)]\n",
      "Grounding...\n",
      "Solving...\n",
      "Done\n",
      "Solver is True\n",
      "Grounding...\n",
      "Solving...\n",
      "Done\n",
      "Solver is True\n",
      "Grounding...\n",
      "Solving...\n",
      "Done\n",
      "Solver is True\n",
      "Grounding...\n",
      "Solving...\n",
      "Done\n",
      "Solver is True\n",
      "Grounding...\n",
      "Solving...\n",
      "Done\n",
      "Solver is True\n",
      "Grounding...\n",
      "Solving...\n",
      "Done\n",
      "Solver is True\n",
      "\n",
      "\n",
      "\n",
      "\n",
      "room_s47_a15_w5_h37\n",
      "37\n",
      "Grounding...\n"
     ]
    },
    {
     "name": "stderr",
     "output_type": "stream",
     "text": [
      "Current agent: 15 - at((47,34),0) => at((19,38),37): 100%|██████████| 15/15 [00:03<00:00,  4.59it/s]\n"
     ]
    },
    {
     "name": "stdout",
     "output_type": "stream",
     "text": [
      "SAT\n",
      "864 5 0.06666666666666667\n",
      "[((12, 32), 25), ((13, 32), 24), ((13, 31), 23), ((13, 30), 22), ((13, 29), 21)]\n",
      "Grounding...\n",
      "Solving...\n",
      "Done\n",
      "Solver is True\n",
      "Grounding...\n",
      "Solving...\n",
      "Done\n",
      "Solver is True\n",
      "Grounding...\n",
      "Solving...\n",
      "Done\n",
      "Solver is True\n",
      "Grounding...\n",
      "Solving...\n",
      "Error \n",
      "maze_s10_a15_h38\n",
      "38\n",
      "Grounding...\n"
     ]
    },
    {
     "name": "stderr",
     "output_type": "stream",
     "text": [
      "Current agent: 15 - at((9,18),0) => at((10,17),38): 100%|██████████| 15/15 [00:00<00:00, 42.34it/s]\n"
     ]
    },
    {
     "name": "stdout",
     "output_type": "stream",
     "text": [
      "SAT\n",
      "733 54 0.06666666666666667\n",
      "[((9, 13), 27), ((9, 13), 21), ((9, 13), 7), ((9, 17), 37), ((8, 17), 36), ((15, 15), 33), ((11, 12), 24), ((7, 17), 14), ((7, 17), 13), ((7, 17), 12), ((7, 17), 11), ((7, 17), 10), ((7, 17), 9), ((7, 17), 8), ((7, 17), 7), ((7, 17), 6), ((9, 13), 28), ((9, 13), 26), ((9, 13), 25), ((9, 13), 24), ((9, 13), 23), ((9, 13), 22), ((9, 13), 20), ((9, 13), 19), ((9, 13), 18), ((9, 13), 17), ((9, 13), 16), ((9, 13), 15), ((9, 13), 14), ((9, 13), 13), ((9, 13), 12), ((9, 13), 11), ((9, 13), 10), ((9, 13), 9), ((9, 13), 8), ((9, 13), 6), ((9, 13), 5), ((9, 13), 4), ((9, 13), 29), ((7, 17), 35), ((7, 17), 15), ((9, 19), 2), ((10, 19), 1), ((7, 17), 16), ((10, 13), 3), ((9, 13), 30), ((6, 17), 34), ((9, 13), 31), ((7, 17), 17), ((4, 13), 36), ((6, 13), 34), ((4, 13), 32), ((4, 13), 26), ((4, 13), 16)]\n",
      "Grounding...\n",
      "Solving...\n",
      "Done\n",
      "Solver is True\n",
      "Grounding...\n",
      "Solving...\n",
      "Done\n",
      "Solver is True\n",
      "Grounding...\n",
      "Solving...\n",
      "Done\n",
      "Solver is True\n",
      "Grounding...\n",
      "Solving...\n",
      "Done\n",
      "Solver is True\n",
      "Grounding...\n",
      "Solving...\n",
      "Done\n",
      "Solver is True\n",
      "Grounding...\n",
      "Solving...\n",
      "Done\n",
      "Solver is True\n",
      "\n",
      "\n",
      "\n",
      "\n",
      "random_s10_a5_c50_h16\n",
      "16\n",
      "Grounding...\n"
     ]
    },
    {
     "name": "stderr",
     "output_type": "stream",
     "text": [
      "Current agent: 5 - at((9,3),0) => at((9,4),16): 100%|██████████| 5/5 [00:00<00:00, 72.97it/s]\n"
     ]
    },
    {
     "name": "stdout",
     "output_type": "stream",
     "text": [
      "SAT\n",
      "117 1 0.2\n",
      "[((9, 3), 2)]\n",
      "Grounding...\n",
      "Solving...\n",
      "Done\n",
      "Solver is True\n",
      "Grounding...\n",
      "Solving...\n",
      "Done\n",
      "Solver is True\n",
      "Grounding...\n",
      "Solving...\n",
      "Done\n",
      "Solver is True\n",
      "\n",
      "\n",
      "\n",
      "\n",
      "room_s29_a30_w5_h34\n",
      "34\n",
      "Grounding...\n"
     ]
    },
    {
     "name": "stderr",
     "output_type": "stream",
     "text": [
      "Current agent: 30 - at((28,15),0) => at((29,15),34): 100%|██████████| 30/30 [00:01<00:00, 15.58it/s]\n"
     ]
    },
    {
     "name": "stdout",
     "output_type": "stream",
     "text": [
      "SAT\n",
      "1455 88 0.03333333333333333\n",
      "[((6, 21), 9), ((23, 5), 5), ((24, 27), 31), ((14, 19), 28), ((14, 18), 27), ((14, 17), 26), ((23, 5), 23), ((23, 5), 22), ((23, 5), 21), ((23, 5), 20), ((23, 5), 19), ((23, 5), 18), ((23, 5), 17), ((23, 5), 16), ((23, 5), 15), ((6, 21), 15), ((18, 9), 14), ((23, 5), 14), ((23, 5), 13), ((23, 5), 12), ((23, 5), 11), ((6, 21), 11), ((13, 11), 11), ((29, 18), 11), ((23, 5), 10), ((6, 21), 10), ((13, 11), 10), ((29, 18), 10), ((23, 5), 9), ((13, 11), 9), ((29, 18), 9), ((23, 5), 8), ((6, 21), 8), ((13, 11), 8), ((29, 18), 8), ((23, 5), 7), ((6, 21), 7), ((13, 11), 7), ((29, 18), 7), ((23, 5), 6), ((6, 21), 6), ((13, 11), 6), ((5, 23), 6), ((29, 18), 6), ((6, 21), 5), ((13, 11), 5), ((29, 18), 5), ((23, 5), 4), ((6, 21), 4), ((13, 11), 4), ((29, 18), 4), ((23, 5), 3), ((6, 21), 3), ((13, 11), 3), ((6, 21), 2), ((13, 11), 2), ((29, 17), 31), ((16, 29), 30), ((18, 9), 17), ((19, 17), 28), ((22, 12), 19), ((17, 11), 17), ((6, 21), 12), ((23, 5), 24), ((16, 11), 24), ((19, 17), 24), ((10, 18), 16), ((10, 19), 15), ((18, 27), 10), ((18, 27), 8), ((6, 21), 13), ((17, 29), 7), ((19, 5), 29), ((18, 17), 25), ((8, 19), 19), ((22, 11), 20), ((16, 11), 18), ((6, 21), 14), ((6, 21), 21), ((17, 29), 6), ((17, 29), 5), ((17, 29), 29), ((17, 9), 18), ((14, 11), 12), ((6, 21), 23), ((7, 19), 18), ((18, 17), 29), ((23, 5), 25)]\n",
      "Grounding...\n",
      "Solving...\n",
      "Done\n",
      "Solver is True\n",
      "Grounding...\n",
      "Solving...\n",
      "Done\n",
      "Solver is True\n",
      "Grounding...\n",
      "Solving...\n",
      "Done\n",
      "Solver is True\n",
      "Grounding...\n",
      "Solving...\n",
      "Done\n",
      "Solver is True\n",
      "Grounding...\n",
      "Solving...\n",
      "Error \n",
      "maze_s10_a25_h45\n",
      "45\n",
      "Grounding...\n"
     ]
    },
    {
     "name": "stderr",
     "output_type": "stream",
     "text": [
      "Current agent: 25 - at((16,15),0) => at((1,18),45): 100%|██████████| 25/25 [00:00<00:00, 37.87it/s] \n"
     ]
    },
    {
     "name": "stdout",
     "output_type": "stream",
     "text": [
      "SAT\n",
      "1376 157 0.04\n",
      "[((13, 15), 16), ((13, 15), 37), ((13, 15), 36), ((5, 10), 33), ((7, 3), 24), ((13, 15), 15), ((13, 15), 14), ((13, 15), 13), ((13, 15), 12), ((13, 15), 11), ((13, 15), 10), ((13, 15), 9), ((13, 15), 8), ((13, 15), 7), ((13, 15), 6), ((13, 15), 5), ((13, 15), 4), ((13, 15), 3), ((13, 15), 17), ((13, 15), 20), ((13, 15), 18), ((13, 15), 19), ((15, 9), 39), ((16, 9), 40), ((14, 15), 39), ((15, 15), 44), ((3, 17), 42), ((3, 16), 41), ((3, 15), 40), ((13, 12), 39), ((3, 14), 39), ((3, 13), 38), ((13, 14), 37), ((4, 13), 37), ((15, 11), 37), ((5, 13), 36), ((15, 11), 36), ((5, 12), 35), ((13, 15), 35), ((15, 11), 35), ((5, 11), 34), ((13, 15), 34), ((15, 11), 34), ((10, 13), 33), ((13, 15), 33), ((15, 11), 33), ((5, 9), 32), ((13, 15), 32), ((15, 11), 32), ((11, 12), 31), ((5, 8), 31), ((11, 6), 31), ((13, 15), 31), ((8, 13), 31), ((15, 11), 31), ((5, 7), 30), ((13, 15), 30), ((15, 11), 30), ((6, 13), 29), ((10, 13), 29), ((11, 3), 29), ((5, 6), 29), ((13, 15), 29), ((15, 11), 29), ((5, 5), 28), ((13, 15), 28), ((15, 11), 28), ((8, 13), 27), ((5, 4), 27), ((13, 15), 27), ((15, 11), 27), ((11, 11), 26), ((5, 3), 26), ((9, 3), 26), ((13, 15), 26), ((15, 11), 26), ((6, 3), 25), ((13, 15), 25), ((15, 11), 25), ((13, 15), 24), ((15, 11), 24), ((8, 3), 23), ((13, 15), 23), ((15, 11), 23), ((11, 11), 22), ((9, 3), 22), ((13, 15), 22), ((15, 11), 22), ((10, 3), 21), ((13, 15), 21), ((15, 11), 21), ((11, 3), 20), ((15, 11), 20), ((15, 11), 19), ((15, 11), 18), ((15, 11), 17), ((5, 10), 16), ((15, 11), 16), ((5, 10), 15), ((15, 11), 15), ((15, 11), 14), ((15, 11), 13), ((15, 11), 12), ((15, 11), 11), ((15, 11), 10), ((15, 11), 9), ((19, 5), 8), ((15, 11), 8), ((19, 5), 7), ((15, 11), 7), ((15, 19), 6), ((19, 5), 6), ((15, 11), 6), ((19, 5), 5), ((15, 11), 5), ((17, 19), 4), ((19, 5), 4), ((15, 11), 4), ((19, 5), 3), ((15, 11), 3), ((19, 19), 2), ((19, 5), 2), ((14, 15), 2), ((15, 11), 2), ((19, 5), 1), ((15, 15), 1), ((13, 15), 38), ((14, 15), 38), ((5, 10), 41), ((17, 9), 41), ((14, 15), 43), ((17, 10), 7), ((15, 10), 38), ((15, 19), 25), ((19, 5), 9), ((13, 15), 42), ((15, 19), 26), ((17, 10), 6), ((11, 12), 30), ((15, 19), 24), ((15, 15), 40), ((1, 8), 39), ((9, 19), 44), ((15, 15), 42), ((5, 11), 40), ((1, 9), 40), ((17, 10), 4), ((17, 10), 3), ((17, 10), 2), ((17, 10), 1), ((14, 15), 41), ((13, 14), 41), ((19, 5), 10), ((17, 10), 5), ((15, 15), 39), ((18, 9), 42), ((13, 13), 40)]\n",
      "Grounding...\n",
      "Solving...\n",
      "Done\n",
      "Solver is True\n",
      "Grounding...\n",
      "Solving...\n",
      "Done\n",
      "Solver is True\n",
      "Grounding...\n",
      "Solving...\n",
      "Done\n",
      "Solver is False\n",
      "Grounding...\n",
      "Solving...\n",
      "Done\n",
      "Solver is False\n",
      "Grounding...\n",
      "Solving...\n",
      "Done\n",
      "Solver is False\n",
      "Grounding...\n",
      "Solving...\n",
      "Done\n",
      "Solver is False\n",
      "\n",
      "\n",
      "\n",
      "\n",
      "room_s47_a10_w5_h59\n",
      "59\n",
      "Grounding...\n"
     ]
    },
    {
     "name": "stderr",
     "output_type": "stream",
     "text": [
      "Current agent: 10 - at((32,47),0) => at((33,1),59): 100%|██████████| 10/10 [00:03<00:00,  2.72it/s]\n"
     ]
    },
    {
     "name": "stdout",
     "output_type": "stream",
     "text": [
      "SAT\n",
      "780 2 0.1\n",
      "[((40, 14), 15), ((40, 14), 13)]\n",
      "Grounding...\n",
      "Solving...\n",
      "Done\n",
      "Solver is True\n",
      "Grounding...\n",
      "Solving...\n",
      "Done\n",
      "Solver is True\n",
      "Grounding...\n",
      "Solving...\n",
      "Done\n",
      "Solver is True\n",
      "\n",
      "\n",
      "\n",
      "\n",
      "room_s47_a5_w5_h50\n",
      "50\n",
      "Grounding...\n"
     ]
    },
    {
     "name": "stderr",
     "output_type": "stream",
     "text": [
      "Current agent: 5 - at((4,39),0) => at((29,16),50): 100%|██████████| 5/5 [00:02<00:00,  2.42it/s] \n"
     ]
    },
    {
     "name": "stdout",
     "output_type": "stream",
     "text": [
      "SAT\n",
      "389 0 0.2\n",
      "[]\n",
      "Grounding...\n",
      "Solving...\n",
      "Done\n",
      "Solver is True\n"
     ]
    },
    {
     "name": "stderr",
     "output_type": "stream",
     "text": [
      "pathelimination/path_elimination.lp:2:5-25: info: atom does not occur in any rule head:\n",
      "  critical_vertex(V,T)\n",
      "\n",
      "pathelimination/path_elimination.lp:3:5-26: info: atom does not occur in any rule head:\n",
      "  critical_agent(R,V,T)\n",
      "\n"
     ]
    },
    {
     "name": "stdout",
     "output_type": "stream",
     "text": [
      "Grounding...\n",
      "Solving...\n",
      "Done\n",
      "Solver is True\n"
     ]
    },
    {
     "name": "stderr",
     "output_type": "stream",
     "text": [
      "pathselection/path_selection.lp:2:39-55: info: atom does not occur in any rule head:\n",
      "  path_killed(R,I)\n",
      "\n"
     ]
    },
    {
     "name": "stdout",
     "output_type": "stream",
     "text": [
      "Grounding...\n",
      "Solving...\n",
      "Done\n",
      "Solver is True\n",
      "\n",
      "\n",
      "\n",
      "\n",
      "random_s40_a35_c75_h54\n",
      "54\n",
      "Grounding...\n"
     ]
    },
    {
     "name": "stderr",
     "output_type": "stream",
     "text": [
      "Current agent: 35 - at((24,39),0) => at((24,18),54): 100%|██████████| 35/35 [00:07<00:00,  4.48it/s]\n"
     ]
    },
    {
     "name": "stdout",
     "output_type": "stream",
     "text": [
      "SAT\n",
      "2795 50 0.02857142857142857\n",
      "[((36, 17), 53), ((36, 17), 52), ((36, 17), 51), ((36, 17), 50), ((36, 17), 49), ((36, 17), 48), ((36, 17), 47), ((36, 17), 46), ((36, 17), 45), ((36, 17), 44), ((36, 17), 43), ((36, 17), 42), ((36, 17), 41), ((36, 17), 40), ((36, 17), 39), ((22, 24), 39), ((36, 17), 38), ((36, 17), 37), ((36, 17), 36), ((36, 17), 35), ((36, 17), 34), ((36, 17), 33), ((36, 17), 32), ((36, 17), 31), ((36, 17), 30), ((36, 17), 29), ((28, 24), 5), ((34, 7), 10), ((15, 10), 42), ((15, 10), 40), ((23, 16), 30), ((24, 16), 29), ((36, 19), 27), ((36, 20), 26), ((36, 17), 25), ((36, 17), 23), ((37, 12), 19), ((37, 12), 17), ((35, 10), 2), ((34, 8), 11), ((34, 7), 12), ((37, 12), 37), ((37, 12), 35), ((26, 6), 43), ((26, 6), 41), ((32, 4), 2), ((28, 24), 4), ((28, 24), 3), ((33, 4), 3), ((34, 7), 11)]\n",
      "Grounding...\n",
      "Solving...\n",
      "Done\n",
      "Solver is True\n",
      "Grounding...\n",
      "Solving...\n",
      "Done\n",
      "Solver is True\n",
      "Grounding...\n",
      "Solving...\n",
      "Error \n",
      "random_s30_a25_c75_h50\n",
      "50\n",
      "Grounding...\n"
     ]
    },
    {
     "name": "stderr",
     "output_type": "stream",
     "text": [
      "Current agent: 25 - at((10,28),0) => at((24,30),50): 100%|██████████| 25/25 [00:02<00:00, 10.79it/s]\n"
     ]
    },
    {
     "name": "stdout",
     "output_type": "stream",
     "text": [
      "SAT\n",
      "1553 33 0.04\n",
      "[((8, 19), 46), ((26, 19), 36), ((12, 12), 33), ((26, 19), 32), ((21, 13), 21), ((22, 13), 20), ((26, 20), 20), ((8, 3), 18), ((24, 3), 13), ((14, 13), 13), ((24, 2), 12), ((24, 1), 11), ((21, 13), 22), ((21, 13), 23), ((26, 21), 42), ((26, 18), 39), ((26, 21), 34), ((2, 9), 49), ((21, 13), 24), ((2, 10), 48), ((19, 7), 22), ((26, 19), 35), ((21, 14), 28), ((7, 18), 7), ((27, 3), 47), ((21, 13), 25), ((7, 18), 5), ((21, 14), 27), ((27, 4), 46), ((13, 13), 14), ((28, 3), 48), ((21, 13), 26), ((12, 13), 15)]\n",
      "Grounding...\n",
      "Solving...\n",
      "Done\n",
      "Solver is True\n",
      "Grounding...\n",
      "Solving...\n",
      "Done\n",
      "Solver is True\n",
      "Grounding...\n",
      "Solving...\n",
      "Done\n",
      "Solver is True\n",
      "\n",
      "\n",
      "\n",
      "\n",
      "room_s19_a25_w4_h30\n",
      "30\n",
      "Grounding...\n"
     ]
    },
    {
     "name": "stderr",
     "output_type": "stream",
     "text": [
      "Current agent: 25 - at((18,19),0) => at((18,17),30): 100%|██████████| 25/25 [00:01<00:00, 24.94it/s]\n"
     ]
    },
    {
     "name": "stdout",
     "output_type": "stream",
     "text": [
      "SAT\n",
      "1150 37 0.04\n",
      "[((16, 15), 25), ((12, 6), 28), ((5, 8), 26), ((16, 16), 26), ((6, 8), 25), ((15, 19), 20), ((14, 10), 19), ((8, 5), 12), ((11, 11), 15), ((17, 17), 28), ((17, 16), 27), ((6, 8), 12), ((6, 8), 3), ((14, 11), 13), ((8, 5), 11), ((16, 9), 10), ((14, 6), 8), ((6, 8), 6), ((6, 8), 4), ((17, 18), 29), ((6, 8), 10), ((8, 6), 10), ((13, 6), 6), ((8, 6), 8), ((16, 9), 11), ((17, 7), 9), ((11, 11), 9), ((16, 9), 8), ((14, 6), 7), ((16, 14), 8), ((13, 5), 5), ((11, 11), 7), ((17, 14), 6), ((17, 11), 5), ((9, 6), 7), ((10, 6), 6), ((11, 6), 5)]\n",
      "Grounding...\n",
      "Solving...\n",
      "Done\n",
      "Solver is True\n",
      "Grounding...\n",
      "Solving...\n",
      "Done\n",
      "Solver is True\n",
      "Grounding...\n",
      "Solving...\n",
      "Done\n",
      "Solver is True\n",
      "Grounding...\n",
      "Solving...\n",
      "Done\n",
      "Solver is True\n",
      "Grounding...\n",
      "Solving...\n",
      "Done\n",
      "Solver is True\n",
      "Grounding...\n",
      "Solving...\n",
      "Done\n",
      "Solver is True\n",
      "\n",
      "\n",
      "\n",
      "\n",
      "random_s20_a15_c50_h43\n",
      "43\n",
      "Grounding...\n"
     ]
    },
    {
     "name": "stderr",
     "output_type": "stream",
     "text": [
      "Current agent: 15 - at((18,7),0) => at((17,17),43): 100%|██████████| 15/15 [00:00<00:00, 28.11it/s] \n"
     ]
    },
    {
     "name": "stdout",
     "output_type": "stream",
     "text": [
      "SAT\n",
      "852 39 0.06666666666666667\n",
      "[((16, 15), 20), ((19, 7), 41), ((2, 8), 37), ((18, 11), 36), ((2, 7), 36), ((2, 6), 35), ((2, 5), 34), ((2, 4), 33), ((2, 3), 32), ((2, 2), 31), ((3, 2), 30), ((4, 2), 29), ((14, 11), 27), ((14, 11), 26), ((18, 11), 23), ((19, 7), 18), ((17, 18), 14), ((19, 7), 10), ((17, 18), 42), ((19, 7), 24), ((16, 15), 22), ((16, 14), 21), ((18, 11), 29), ((11, 11), 29), ((11, 11), 1), ((19, 15), 2), ((11, 11), 2), ((14, 11), 32), ((19, 15), 4), ((19, 15), 3), ((18, 11), 30), ((12, 11), 29), ((18, 16), 6), ((14, 11), 31), ((17, 18), 41), ((14, 11), 14), ((16, 15), 35), ((19, 7), 25), ((19, 7), 8)]\n",
      "Grounding...\n",
      "Solving...\n",
      "Done\n",
      "Solver is True\n",
      "Grounding...\n",
      "Solving...\n",
      "Done\n",
      "Solver is True\n",
      "Grounding...\n",
      "Solving...\n",
      "Done\n",
      "Solver is False\n",
      "Grounding...\n",
      "Solving...\n",
      "Done\n",
      "Solver is False\n",
      "Grounding...\n",
      "Solving...\n",
      "Done\n",
      "Solver is False\n",
      "Grounding...\n",
      "Solving...\n",
      "Done\n",
      "Solver is False\n",
      "\n",
      "\n",
      "\n",
      "\n",
      "random_s10_a5_c75_h14\n",
      "14\n",
      "Grounding...\n"
     ]
    },
    {
     "name": "stderr",
     "output_type": "stream",
     "text": [
      "Current agent: 5 - at((8,10),0) => at((7,1),14): 100%|██████████| 5/5 [00:00<00:00, 64.98it/s]\n"
     ]
    },
    {
     "name": "stdout",
     "output_type": "stream",
     "text": [
      "SAT\n",
      "145 3 0.2\n",
      "[((6, 5), 6), ((5, 5), 3), ((5, 5), 5)]\n",
      "Grounding...\n",
      "Solving...\n",
      "Done\n",
      "Solver is True\n",
      "Grounding...\n",
      "Solving...\n",
      "Done\n",
      "Solver is True\n",
      "Grounding...\n",
      "Solving...\n",
      "Done\n",
      "Solver is True\n",
      "\n",
      "\n",
      "\n",
      "\n",
      "room_s29_a20_w5_h26\n",
      "26\n",
      "Grounding...\n"
     ]
    },
    {
     "name": "stderr",
     "output_type": "stream",
     "text": [
      "Current agent: 20 - at((29,14),0) => at((29,17),26): 100%|██████████| 20/20 [00:01<00:00, 18.52it/s]\n"
     ]
    },
    {
     "name": "stdout",
     "output_type": "stream",
     "text": [
      "SAT\n",
      "798 14 0.05\n",
      "[((24, 5), 11), ((24, 5), 10), ((24, 5), 9), ((24, 5), 8), ((24, 5), 7), ((24, 5), 6), ((22, 7), 24), ((22, 7), 23), ((24, 5), 12), ((29, 14), 16), ((29, 13), 15), ((24, 5), 13), ((25, 11), 3), ((25, 11), 2)]\n",
      "Grounding...\n",
      "Solving...\n",
      "Done\n",
      "Solver is True\n",
      "Grounding...\n",
      "Solving...\n",
      "Done\n",
      "Solver is True\n",
      "Grounding...\n",
      "Solving...\n",
      "Done\n",
      "Solver is True\n",
      "\n",
      "\n",
      "\n",
      "\n",
      "maze_s15_a20_h98\n",
      "98\n",
      "Grounding...\n"
     ]
    },
    {
     "name": "stderr",
     "output_type": "stream",
     "text": [
      "Current agent: 20 - at((13,22),0) => at((15,22),98): 100%|██████████| 20/20 [00:02<00:00,  7.70it/s]\n"
     ]
    },
    {
     "name": "stdout",
     "output_type": "stream",
     "text": [
      "SAT\n",
      "2620 102 0.05\n",
      "[((21, 20), 65), ((20, 21), 63), ((21, 21), 50), ((20, 21), 49), ((19, 21), 48), ((18, 21), 47), ((17, 21), 46), ((16, 21), 45), ((15, 21), 44), ((14, 21), 43), ((13, 21), 42), ((12, 21), 41), ((11, 21), 40), ((10, 21), 39), ((9, 21), 38), ((9, 20), 37), ((9, 19), 36), ((9, 18), 35), ((9, 17), 34), ((10, 17), 33), ((11, 17), 32), ((12, 17), 31), ((13, 17), 30), ((1, 5), 80), ((15, 26), 66), ((17, 16), 50), ((9, 17), 48), ((10, 17), 47), ((11, 17), 46), ((12, 17), 45), ((13, 17), 44), ((14, 17), 43), ((15, 17), 42), ((15, 18), 41), ((15, 19), 40), ((16, 19), 39), ((17, 19), 38), ((17, 18), 37), ((1, 20), 36), ((17, 17), 36), ((17, 16), 35), ((17, 15), 34), ((17, 14), 33), ((17, 13), 32), ((17, 12), 31), ((17, 11), 30), ((17, 10), 29), ((17, 9), 28), ((16, 9), 27), ((15, 9), 26), ((15, 10), 25), ((15, 11), 24), ((14, 11), 23), ((13, 11), 22), ((13, 12), 21), ((13, 13), 20), ((12, 13), 19), ((11, 13), 18), ((11, 12), 17), ((11, 11), 16), ((11, 10), 15), ((11, 9), 14), ((10, 9), 13), ((9, 9), 12), ((9, 8), 11), ((9, 7), 10), ((9, 6), 9), ((2, 19), 24), ((9, 5), 8), ((21, 22), 15), ((9, 4), 7), ((9, 3), 6), ((1, 20), 39), ((8, 29), 23), ((1, 20), 38), ((8, 29), 22), ((9, 2), 5), ((15, 25), 3), ((9, 1), 4), ((8, 1), 3), ((9, 29), 21), ((10, 29), 20), ((21, 22), 14), ((7, 1), 2), ((11, 29), 19), ((17, 21), 3), ((12, 29), 18), ((20, 21), 6), ((1, 5), 78), ((15, 26), 64), ((17, 16), 48), ((1, 20), 37), ((1, 20), 34), ((13, 21), 18), ((21, 22), 13), ((19, 21), 5), ((16, 21), 2), ((17, 19), 1), ((7, 2), 1), ((13, 29), 17), ((19, 21), 12), ((18, 21), 4)]\n",
      "Grounding...\n",
      "Solving...\n",
      "Done\n",
      "Solver is True\n",
      "Grounding...\n",
      "Solving...\n",
      "Done\n",
      "Solver is True\n",
      "Grounding...\n",
      "Solving...\n",
      "Done\n",
      "Solver is True\n",
      "Grounding...\n",
      "Solving...\n",
      "Done\n",
      "Solver is True\n",
      "Grounding...\n",
      "Solving...\n",
      "Done\n",
      "Solver is True\n",
      "Grounding...\n",
      "Solving...\n",
      "Done\n",
      "Solver is True\n",
      "\n",
      "\n",
      "\n",
      "\n",
      "room_s19_a5_w4_h25\n",
      "25\n",
      "Grounding...\n"
     ]
    },
    {
     "name": "stderr",
     "output_type": "stream",
     "text": [
      "Current agent: 5 - at((15,2),0) => at((10,6),25): 100%|██████████| 5/5 [00:00<00:00, 23.76it/s]\n"
     ]
    },
    {
     "name": "stdout",
     "output_type": "stream",
     "text": [
      "SAT\n",
      "208 3 0.2\n",
      "[((13, 5), 8), ((13, 4), 7), ((12, 4), 6)]\n",
      "Grounding...\n",
      "Solving...\n",
      "Done\n",
      "Solver is True\n",
      "Grounding...\n",
      "Solving...\n",
      "Done\n",
      "Solver is True\n",
      "Grounding...\n",
      "Solving...\n",
      "Done\n",
      "Solver is True\n",
      "\n",
      "\n",
      "\n",
      "\n"
     ]
    }
   ],
   "source": [
    "for instance_name, instance_content in instances_pool:\n",
    "    def approach(instance_name,instance_content):\n",
    "        print(instance_name)\n",
    "        rows = []\n",
    "        \n",
    "        r, s_ipf = base_ipf(instance_content, additional_paths_computation=True)\n",
    "        \n",
    "        rows.append({\n",
    "            'Step Name' : 'base_ipf',\n",
    "            'Total Time' : s_ipf.total_time,\n",
    "            'Ground Time': s_ipf.total_time - s_ipf.solve_time,\n",
    "            'Solving Time': s_ipf.solve_time,\n",
    "            'SAT' : bool(r),\n",
    "            'Additional Data' : json.dumps(s_ipf.additional_data)\n",
    "        })\n",
    "        \n",
    "        ih, gh, lgh, s = global_heatmap(r + instance_content)\n",
    "        \n",
    "        rows.append({\n",
    "            'Step Name' : 'heatmaps',\n",
    "            'Total Time' : s.total_time,\n",
    "            'Ground Time': s.total_time - s.solve_time,\n",
    "            'Solving Time': s.solve_time,\n",
    "            'SAT' : bool(r),\n",
    "            'Additional Data' : json.dumps(s.additional_data)\n",
    "        })\n",
    "        \n",
    "        \n",
    "        cva ,s =  pe_simple_threshold(ih,gh,s_ipf.additional_data['nagent'])\n",
    "        \n",
    "        rows.append({\n",
    "            'Step Name' : 'simple_threshold',\n",
    "            'Total Time' : s.total_time,\n",
    "            'Ground Time': s.total_time - s.solve_time,\n",
    "            'Solving Time': s.solve_time,\n",
    "            'SAT' : bool(r),\n",
    "            'Additional Data' : json.dumps(s.additional_data)\n",
    "        })\n",
    "        \n",
    "        r,s = solver(r + cva + instance_content + lgh['pwlsh'], 'pathelimination/path_elimination.lp', additional_encodings=['pathelimination/convert_to_kill.lp'])\n",
    "        \n",
    "        rows.append({\n",
    "            'Step Name' : 'path_elimination',\n",
    "            'Total Time' : s.total_time,\n",
    "            'Ground Time': s.total_time - s.solve_time,\n",
    "            'Solving Time': s.solve_time,\n",
    "            'SAT' : bool(r),\n",
    "            'Additional Data' : json.dumps(s.additional_data)\n",
    "        })\n",
    "        \n",
    "        \n",
    "        r,s = solver(r, 'pathselection/path_selection.lp', parameters=['0','--opt-strategy=usc'])\n",
    "        \n",
    "        rows.append({\n",
    "            'Step Name' : 'path_selection',\n",
    "            'Total Time' : s.total_time,\n",
    "            'Ground Time': s.total_time - s.solve_time,\n",
    "            'Solving Time': s.solve_time,\n",
    "            'SAT' : bool(r),\n",
    "            'Additional Data' : json.dumps(s.additional_data)\n",
    "        })\n",
    "        \n",
    "\n",
    "        \n",
    "        r_,s = partial_solving(r, 'mapf/partial_solving.lp', subgraph=False, precomputed_path='mapf/precomputed_path_allgraph.lp')\n",
    "        \n",
    "        rows.append({\n",
    "            'Step Name' : 'partial_solving',\n",
    "\n",
    "            'Total Time' : s.total_time,\n",
    "            'Ground Time': s.total_time - s.solve_time,\n",
    "            'Solving Time': s.solve_time,\n",
    "            'SAT' : bool(r_),\n",
    "            'Additional Data' : json.dumps(s.additional_data)\n",
    "        })\n",
    "        for i in range (1,6,2):\n",
    "            if s.additional_data['ngoal_reached'] < s_ipf.additional_data['nagent']:\n",
    "                r_,s = partial_solving(r, 'mapf/partial_solving.lp', subgraph=False, precomputed_path='mapf/precomputed_path_allgraph.lp', horizon_modifier=i)\n",
    "        \n",
    "                rows.append({\n",
    "                    'Step Name' : f'partial_solving_additional_horizon',\n",
    "                    'Total Time' : s.total_time,\n",
    "                    'Ground Time': s.total_time - s.solve_time,\n",
    "                    'Solving Time': s.solve_time,\n",
    "                    'SAT' : bool(r_),\n",
    "                    'Additional Data' : json.dumps(s.additional_data)\n",
    "                })\n",
    "                \n",
    "        print('\\n\\n\\n')\n",
    "        write_csv(f'benchmarks_result/{instance_name}-approach04.csv', header,rows)\n",
    "        \n",
    "        \n",
    "    pool = Pool(1)       \n",
    "    mutex = pool.apply_async(approach,[instance_name,instance_content])\n",
    "    # mutex.get(timeout=timeout)\n",
    "    try:\n",
    "        mutex.get(timeout=timeout)\n",
    "    except Exception as e:\n",
    "        print('Error',e)\n",
    "        pool.terminate()"
   ]
  },
  {
   "cell_type": "markdown",
   "metadata": {},
   "source": [
    "## Approach 5:  additional path, heatmap simple threshold elimination, subgraph approach"
   ]
  },
  {
   "cell_type": "code",
   "execution_count": null,
   "metadata": {},
   "outputs": [
    {
     "name": "stdout",
     "output_type": "stream",
     "text": [
      "room_s29_a10_w5_h29\n",
      "29\n",
      "Grounding..."
     ]
    },
    {
     "name": "stdout",
     "output_type": "stream",
     "text": [
      "\n"
     ]
    },
    {
     "name": "stderr",
     "output_type": "stream",
     "text": [
      "Current agent: 10 - at((12,10),0) => at((21,24),29): 100%|██████████| 10/10 [00:00<00:00, 15.61it/s]\n"
     ]
    },
    {
     "name": "stdout",
     "output_type": "stream",
     "text": [
      "SAT\n",
      "406 6 0.1\n",
      "[((2, 25), 26), ((29, 19), 25), ((1, 29), 21), ((21, 17), 20), ((2, 29), 20), ((29, 18), 26)]\n",
      "Grounding...\n",
      "Solving...\n",
      "Done\n",
      "Solver is True\n",
      "Grounding...\n",
      "Solving...\n",
      "Done\n",
      "Solver is True\n",
      "Grounding...\n",
      "Solving...\n",
      "Done\n",
      "Solver is True\n",
      "random_s20_a15_c75_h28\n",
      "28\n",
      "Grounding...\n"
     ]
    },
    {
     "name": "stderr",
     "output_type": "stream",
     "text": [
      "Current agent: 15 - at((17,7),0) => at((17,10),28): 100%|██████████| 15/15 [00:00<00:00, 32.54it/s]\n"
     ]
    },
    {
     "name": "stdout",
     "output_type": "stream",
     "text": [
      "SAT\n",
      "585 24 0.06666666666666667\n",
      "[((16, 6), 8), ((1, 2), 21), ((1, 2), 20), ((1, 2), 19), ((1, 2), 18), ((1, 2), 17), ((1, 2), 16), ((1, 2), 15), ((2, 2), 14), ((18, 3), 13), ((17, 3), 12), ((14, 9), 11), ((17, 7), 4), ((17, 7), 3), ((17, 7), 2), ((16, 3), 11), ((16, 4), 10), ((16, 7), 7), ((16, 5), 9), ((16, 8), 6), ((16, 7), 6), ((13, 7), 21), ((17, 7), 5), ((16, 8), 25)]\n",
      "Grounding...\n",
      "Solving...\n",
      "Done\n",
      "Solver is True\n",
      "Grounding...\n",
      "Solving...\n",
      "Done\n",
      "Solver is True\n",
      "Grounding...\n",
      "Solving...\n",
      "Done\n",
      "Solver is True\n",
      "maze_s10_a20_h40\n",
      "40\n",
      "Grounding...\n"
     ]
    },
    {
     "name": "stderr",
     "output_type": "stream",
     "text": [
      "Current agent: 20 - at((3,18),0) => at((1,18),6): 100%|██████████| 20/20 [00:00<00:00, 27.01it/s]   \n"
     ]
    },
    {
     "name": "stdout",
     "output_type": "stream",
     "text": [
      "SAT\n",
      "1262 33 0.05\n",
      "[((10, 13), 34), ((9, 18), 34), ((16, 19), 32), ((14, 19), 30), ((5, 10), 26), ((18, 9), 25), ((5, 10), 18), ((9, 3), 15), ((9, 3), 10), ((16, 19), 7), ((3, 18), 6), ((5, 13), 21), ((9, 13), 17), ((3, 1), 7), ((11, 12), 14), ((11, 13), 13), ((3, 1), 6), ((1, 2), 4), ((11, 3), 12), ((1, 2), 3), ((10, 13), 32), ((9, 18), 32), ((16, 19), 30), ((14, 19), 28), ((5, 10), 24), ((18, 9), 23), ((5, 10), 16), ((9, 3), 13), ((9, 3), 8), ((16, 19), 5), ((3, 1), 5), ((3, 18), 4), ((15, 9), 2)]\n",
      "Grounding...\n",
      "Solving...\n",
      "Done\n",
      "Solver is True\n",
      "Grounding...\n",
      "Solving...\n",
      "Done\n",
      "Solver is True\n",
      "Grounding...\n",
      "Solving...\n",
      "Done\n",
      "Solver is True\n",
      "Grounding...\n",
      "Solving...\n",
      "Done\n",
      "Solver is True\n",
      "Grounding...\n",
      "Solving...\n",
      "Done\n",
      "Solver is True\n",
      "room_s19_a15_w4_h34\n",
      "34\n",
      "Grounding...\n"
     ]
    },
    {
     "name": "stderr",
     "output_type": "stream",
     "text": [
      "Current agent: 15 - at((15,19),0) => at((19,16),34): 100%|██████████| 15/15 [00:00<00:00, 22.86it/s]\n"
     ]
    },
    {
     "name": "stdout",
     "output_type": "stream",
     "text": [
      "SAT\n",
      "732 11 0.06666666666666667\n",
      "[((4, 5), 6), ((17, 11), 29), ((17, 11), 13), ((10, 18), 7), ((12, 9), 12), ((10, 18), 9), ((10, 18), 8), ((17, 11), 30), ((17, 11), 11), ((17, 13), 7), ((17, 7), 7)]\n",
      "Grounding...\n",
      "Solving...\n",
      "Done\n",
      "Solver is True\n",
      "Grounding...\n",
      "Solving...\n",
      "Done\n",
      "Solver is True\n",
      "Grounding...\n",
      "Solving...\n",
      "Done\n",
      "Solver is True\n",
      "maze_s20_a15_h68\n",
      "68\n",
      "Grounding...\n"
     ]
    },
    {
     "name": "stderr",
     "output_type": "stream",
     "text": [
      "Current agent: 15 - at((1,32),0) => at((5,32),68): 100%|██████████| 15/15 [00:02<00:00,  6.40it/s]  \n"
     ]
    },
    {
     "name": "stdout",
     "output_type": "stream",
     "text": [
      "SAT\n",
      "1430 8 0.06666666666666667\n",
      "[((14, 25), 46), ((6, 29), 24), ((25, 19), 21), ((1, 35), 12), ((12, 31), 16), ((15, 25), 45), ((26, 19), 20), ((4, 37), 7)]\n",
      "Grounding...\n",
      "Solving...\n",
      "Done\n",
      "Solver is True\n",
      "Grounding...\n",
      "Solving...\n",
      "Done\n",
      "Solver is True\n",
      "Grounding...\n",
      "Solving...\n",
      "Done\n",
      "Solver is True\n",
      "Grounding...\n",
      "Solving...\n",
      "Done\n",
      "Solver is True\n",
      "Grounding...\n",
      "Solving...\n",
      "Done\n",
      "Solver is True\n",
      "Grounding...\n",
      "Solving...\n",
      "Done\n",
      "Solver is True\n",
      "room_s47_a15_w5_h37\n",
      "37\n",
      "Grounding...\n"
     ]
    },
    {
     "name": "stderr",
     "output_type": "stream",
     "text": [
      "Current agent: 15 - at((47,34),0) => at((19,38),37): 100%|██████████| 15/15 [00:03<00:00,  4.63it/s]\n"
     ]
    },
    {
     "name": "stdout",
     "output_type": "stream",
     "text": [
      "SAT\n",
      "864 5 0.06666666666666667\n",
      "[((12, 32), 25), ((13, 32), 24), ((13, 31), 23), ((13, 30), 22), ((13, 29), 21)]\n",
      "Grounding...\n",
      "Solving...\n",
      "Done\n",
      "Solver is True\n",
      "Grounding...\n",
      "Solving...\n",
      "Done\n",
      "Solver is True\n",
      "Grounding...\n",
      "Solving...\n",
      "Done\n",
      "Solver is True\n",
      "maze_s10_a15_h38\n",
      "38\n",
      "Grounding...\n"
     ]
    },
    {
     "name": "stderr",
     "output_type": "stream",
     "text": [
      "Current agent: 15 - at((9,18),0) => at((10,17),38): 100%|██████████| 15/15 [00:00<00:00, 41.73it/s]\n"
     ]
    },
    {
     "name": "stdout",
     "output_type": "stream",
     "text": [
      "SAT\n",
      "733 54 0.06666666666666667\n",
      "[((9, 13), 27), ((9, 13), 21), ((9, 13), 7), ((9, 17), 37), ((8, 17), 36), ((15, 15), 33), ((11, 12), 24), ((7, 17), 14), ((7, 17), 13), ((7, 17), 12), ((7, 17), 11), ((7, 17), 10), ((7, 17), 9), ((7, 17), 8), ((7, 17), 7), ((7, 17), 6), ((9, 13), 28), ((9, 13), 26), ((9, 13), 25), ((9, 13), 24), ((9, 13), 23), ((9, 13), 22), ((9, 13), 20), ((9, 13), 19), ((9, 13), 18), ((9, 13), 17), ((9, 13), 16), ((9, 13), 15), ((9, 13), 14), ((9, 13), 13), ((9, 13), 12), ((9, 13), 11), ((9, 13), 10), ((9, 13), 9), ((9, 13), 8), ((9, 13), 6), ((9, 13), 5), ((9, 13), 4), ((9, 13), 29), ((7, 17), 35), ((7, 17), 15), ((9, 19), 2), ((10, 19), 1), ((7, 17), 16), ((10, 13), 3), ((9, 13), 30), ((6, 17), 34), ((9, 13), 31), ((7, 17), 17), ((4, 13), 36), ((6, 13), 34), ((4, 13), 32), ((4, 13), 26), ((4, 13), 16)]\n",
      "Grounding...\n",
      "Solving...\n",
      "Done\n",
      "Solver is True\n",
      "Grounding...\n",
      "Solving...\n",
      "Done\n",
      "Solver is True\n",
      "Grounding...\n",
      "Solving...\n",
      "Done\n",
      "Solver is True\n",
      "Grounding...\n",
      "Solving...\n",
      "Done\n",
      "Solver is True\n",
      "random_s10_a5_c50_h16\n",
      "16\n",
      "Grounding...\n"
     ]
    },
    {
     "name": "stderr",
     "output_type": "stream",
     "text": [
      "Current agent: 5 - at((9,3),0) => at((9,4),16): 100%|██████████| 5/5 [00:00<00:00, 86.89it/s]\n"
     ]
    },
    {
     "name": "stdout",
     "output_type": "stream",
     "text": [
      "SAT\n",
      "117 1 0.2\n",
      "[((9, 3), 2)]\n",
      "Grounding...\n",
      "Solving...\n",
      "Done\n",
      "Solver is True\n",
      "Grounding...\n",
      "Solving...\n",
      "Done\n",
      "Solver is True\n",
      "Grounding...\n",
      "Solving...\n",
      "Done\n",
      "Solver is True\n",
      "room_s29_a30_w5_h34\n",
      "34\n",
      "Grounding...\n"
     ]
    },
    {
     "name": "stderr",
     "output_type": "stream",
     "text": [
      "Current agent: 30 - at((28,15),0) => at((29,15),34): 100%|██████████| 30/30 [00:01<00:00, 15.90it/s]\n"
     ]
    },
    {
     "name": "stdout",
     "output_type": "stream",
     "text": [
      "SAT\n",
      "1455 88 0.03333333333333333\n",
      "[((6, 21), 9), ((23, 5), 5), ((24, 27), 31), ((14, 19), 28), ((14, 18), 27), ((14, 17), 26), ((23, 5), 23), ((23, 5), 22), ((23, 5), 21), ((23, 5), 20), ((23, 5), 19), ((23, 5), 18), ((23, 5), 17), ((23, 5), 16), ((23, 5), 15), ((6, 21), 15), ((18, 9), 14), ((23, 5), 14), ((23, 5), 13), ((23, 5), 12), ((23, 5), 11), ((6, 21), 11), ((13, 11), 11), ((29, 18), 11), ((23, 5), 10), ((6, 21), 10), ((13, 11), 10), ((29, 18), 10), ((23, 5), 9), ((13, 11), 9), ((29, 18), 9), ((23, 5), 8), ((6, 21), 8), ((13, 11), 8), ((29, 18), 8), ((23, 5), 7), ((6, 21), 7), ((13, 11), 7), ((29, 18), 7), ((23, 5), 6), ((6, 21), 6), ((13, 11), 6), ((5, 23), 6), ((29, 18), 6), ((6, 21), 5), ((13, 11), 5), ((29, 18), 5), ((23, 5), 4), ((6, 21), 4), ((13, 11), 4), ((29, 18), 4), ((23, 5), 3), ((6, 21), 3), ((13, 11), 3), ((6, 21), 2), ((13, 11), 2), ((29, 17), 31), ((16, 29), 30), ((18, 9), 17), ((19, 17), 28), ((22, 12), 19), ((17, 11), 17), ((6, 21), 12), ((23, 5), 24), ((16, 11), 24), ((19, 17), 24), ((10, 18), 16), ((10, 19), 15), ((18, 27), 10), ((18, 27), 8), ((6, 21), 13), ((17, 29), 7), ((19, 5), 29), ((18, 17), 25), ((8, 19), 19), ((22, 11), 20), ((16, 11), 18), ((6, 21), 14), ((6, 21), 21), ((17, 29), 6), ((17, 29), 5), ((17, 29), 29), ((17, 9), 18), ((14, 11), 12), ((6, 21), 23), ((7, 19), 18), ((18, 17), 29), ((23, 5), 25)]\n",
      "Grounding...\n",
      "Solving...\n",
      "Done\n",
      "Solver is True\n",
      "Grounding...\n",
      "Solving...\n",
      "Done\n",
      "Solver is True\n",
      "Grounding...\n",
      "Solving...\n",
      "Done\n",
      "Solver is True\n",
      "maze_s10_a25_h45\n",
      "45\n",
      "Grounding...\n"
     ]
    },
    {
     "name": "stderr",
     "output_type": "stream",
     "text": [
      "Current agent: 25 - at((16,15),0) => at((1,18),45): 100%|██████████| 25/25 [00:00<00:00, 36.48it/s] \n"
     ]
    },
    {
     "name": "stdout",
     "output_type": "stream",
     "text": [
      "SAT\n",
      "1376 157 0.04\n",
      "[((13, 15), 16), ((13, 15), 37), ((13, 15), 36), ((5, 10), 33), ((7, 3), 24), ((13, 15), 15), ((13, 15), 14), ((13, 15), 13), ((13, 15), 12), ((13, 15), 11), ((13, 15), 10), ((13, 15), 9), ((13, 15), 8), ((13, 15), 7), ((13, 15), 6), ((13, 15), 5), ((13, 15), 4), ((13, 15), 3), ((13, 15), 17), ((13, 15), 20), ((13, 15), 18), ((13, 15), 19), ((15, 9), 39), ((16, 9), 40), ((14, 15), 39), ((15, 15), 44), ((3, 17), 42), ((3, 16), 41), ((3, 15), 40), ((13, 12), 39), ((3, 14), 39), ((3, 13), 38), ((13, 14), 37), ((4, 13), 37), ((15, 11), 37), ((5, 13), 36), ((15, 11), 36), ((5, 12), 35), ((13, 15), 35), ((15, 11), 35), ((5, 11), 34), ((13, 15), 34), ((15, 11), 34), ((10, 13), 33), ((13, 15), 33), ((15, 11), 33), ((5, 9), 32), ((13, 15), 32), ((15, 11), 32), ((11, 12), 31), ((5, 8), 31), ((11, 6), 31), ((13, 15), 31), ((8, 13), 31), ((15, 11), 31), ((5, 7), 30), ((13, 15), 30), ((15, 11), 30), ((6, 13), 29), ((10, 13), 29), ((11, 3), 29), ((5, 6), 29), ((13, 15), 29), ((15, 11), 29), ((5, 5), 28), ((13, 15), 28), ((15, 11), 28), ((8, 13), 27), ((5, 4), 27), ((13, 15), 27), ((15, 11), 27), ((11, 11), 26), ((5, 3), 26), ((9, 3), 26), ((13, 15), 26), ((15, 11), 26), ((6, 3), 25), ((13, 15), 25), ((15, 11), 25), ((13, 15), 24), ((15, 11), 24), ((8, 3), 23), ((13, 15), 23), ((15, 11), 23), ((11, 11), 22), ((9, 3), 22), ((13, 15), 22), ((15, 11), 22), ((10, 3), 21), ((13, 15), 21), ((15, 11), 21), ((11, 3), 20), ((15, 11), 20), ((15, 11), 19), ((15, 11), 18), ((15, 11), 17), ((5, 10), 16), ((15, 11), 16), ((5, 10), 15), ((15, 11), 15), ((15, 11), 14), ((15, 11), 13), ((15, 11), 12), ((15, 11), 11), ((15, 11), 10), ((15, 11), 9), ((19, 5), 8), ((15, 11), 8), ((19, 5), 7), ((15, 11), 7), ((15, 19), 6), ((19, 5), 6), ((15, 11), 6), ((19, 5), 5), ((15, 11), 5), ((17, 19), 4), ((19, 5), 4), ((15, 11), 4), ((19, 5), 3), ((15, 11), 3), ((19, 19), 2), ((19, 5), 2), ((14, 15), 2), ((15, 11), 2), ((19, 5), 1), ((15, 15), 1), ((13, 15), 38), ((14, 15), 38), ((5, 10), 41), ((17, 9), 41), ((14, 15), 43), ((17, 10), 7), ((15, 10), 38), ((15, 19), 25), ((19, 5), 9), ((13, 15), 42), ((15, 19), 26), ((17, 10), 6), ((11, 12), 30), ((15, 19), 24), ((15, 15), 40), ((1, 8), 39), ((9, 19), 44), ((15, 15), 42), ((5, 11), 40), ((1, 9), 40), ((17, 10), 4), ((17, 10), 3), ((17, 10), 2), ((17, 10), 1), ((14, 15), 41), ((13, 14), 41), ((19, 5), 10), ((17, 10), 5), ((15, 15), 39), ((18, 9), 42), ((13, 13), 40)]\n",
      "Grounding...\n",
      "Solving...\n",
      "Done\n",
      "Solver is True\n",
      "Grounding...\n",
      "Solving...\n",
      "Done\n",
      "Solver is True\n",
      "Grounding...\n",
      "Solving...\n",
      "Done\n",
      "Solver is True\n",
      "room_s47_a10_w5_h59\n",
      "59\n",
      "Grounding...\n"
     ]
    },
    {
     "name": "stderr",
     "output_type": "stream",
     "text": [
      "Current agent: 10 - at((32,47),0) => at((33,1),59): 100%|██████████| 10/10 [00:03<00:00,  2.71it/s]\n"
     ]
    },
    {
     "name": "stdout",
     "output_type": "stream",
     "text": [
      "SAT\n",
      "780 2 0.1\n",
      "[((40, 14), 15), ((40, 14), 13)]\n",
      "Grounding...\n",
      "Solving...\n",
      "Done\n",
      "Solver is True\n",
      "Grounding...\n",
      "Solving...\n",
      "Done\n",
      "Solver is True\n",
      "Grounding...\n",
      "Solving...\n",
      "Done\n",
      "Solver is True\n",
      "room_s47_a5_w5_h50\n",
      "50\n",
      "Grounding...\n"
     ]
    },
    {
     "name": "stderr",
     "output_type": "stream",
     "text": [
      "Current agent: 5 - at((4,39),0) => at((29,16),50): 100%|██████████| 5/5 [00:02<00:00,  2.43it/s] \n"
     ]
    },
    {
     "name": "stdout",
     "output_type": "stream",
     "text": [
      "SAT\n",
      "389 0 0.2\n",
      "[]\n",
      "Grounding...\n",
      "Solving...\n",
      "Done\n",
      "Solver is True\n"
     ]
    },
    {
     "name": "stderr",
     "output_type": "stream",
     "text": [
      "pathelimination/path_elimination.lp:2:5-25: info: atom does not occur in any rule head:\n",
      "  critical_vertex(V,T)\n",
      "\n",
      "pathelimination/path_elimination.lp:3:5-26: info: atom does not occur in any rule head:\n",
      "  critical_agent(R,V,T)\n",
      "\n"
     ]
    },
    {
     "name": "stdout",
     "output_type": "stream",
     "text": [
      "Grounding...\n",
      "Solving...\n",
      "Done\n",
      "Solver is True\n"
     ]
    },
    {
     "name": "stderr",
     "output_type": "stream",
     "text": [
      "pathselection/path_selection.lp:2:39-55: info: atom does not occur in any rule head:\n",
      "  path_killed(R,I)\n",
      "\n"
     ]
    },
    {
     "name": "stdout",
     "output_type": "stream",
     "text": [
      "Grounding...\n",
      "Solving...\n",
      "Done\n",
      "Solver is True\n",
      "random_s40_a35_c75_h54\n",
      "54\n",
      "Grounding...\n"
     ]
    },
    {
     "name": "stderr",
     "output_type": "stream",
     "text": [
      "Current agent: 35 - at((24,39),0) => at((24,18),54): 100%|██████████| 35/35 [00:07<00:00,  4.45it/s]\n"
     ]
    },
    {
     "name": "stdout",
     "output_type": "stream",
     "text": [
      "SAT\n",
      "2795 50 0.02857142857142857\n",
      "[((36, 17), 53), ((36, 17), 52), ((36, 17), 51), ((36, 17), 50), ((36, 17), 49), ((36, 17), 48), ((36, 17), 47), ((36, 17), 46), ((36, 17), 45), ((36, 17), 44), ((36, 17), 43), ((36, 17), 42), ((36, 17), 41), ((36, 17), 40), ((36, 17), 39), ((22, 24), 39), ((36, 17), 38), ((36, 17), 37), ((36, 17), 36), ((36, 17), 35), ((36, 17), 34), ((36, 17), 33), ((36, 17), 32), ((36, 17), 31), ((36, 17), 30), ((36, 17), 29), ((28, 24), 5), ((34, 7), 10), ((15, 10), 42), ((15, 10), 40), ((23, 16), 30), ((24, 16), 29), ((36, 19), 27), ((36, 20), 26), ((36, 17), 25), ((36, 17), 23), ((37, 12), 19), ((37, 12), 17), ((35, 10), 2), ((34, 8), 11), ((34, 7), 12), ((37, 12), 37), ((37, 12), 35), ((26, 6), 43), ((26, 6), 41), ((32, 4), 2), ((28, 24), 4), ((28, 24), 3), ((33, 4), 3), ((34, 7), 11)]\n",
      "Grounding...\n",
      "Solving...\n",
      "Done\n",
      "Solver is True\n",
      "Grounding...\n",
      "Solving...\n",
      "Done\n",
      "Solver is True\n",
      "Grounding...\n",
      "Solving...\n",
      "Done\n",
      "Solver is True\n",
      "Grounding...\n",
      "Solving...\n",
      "Done\n",
      "Solver is True\n",
      "Grounding...\n",
      "Solving...\n",
      "Done\n",
      "Solver is True\n",
      "Grounding...\n",
      "Solving...\n",
      "\n",
      "random_s30_a25_c75_h50\n",
      "50\n",
      "Grounding...\n"
     ]
    },
    {
     "name": "stderr",
     "output_type": "stream",
     "text": [
      "Current agent: 25 - at((10,28),0) => at((24,30),50): 100%|██████████| 25/25 [00:02<00:00, 11.08it/s]\n"
     ]
    },
    {
     "name": "stdout",
     "output_type": "stream",
     "text": [
      "SAT\n",
      "1553 33 0.04\n",
      "[((8, 19), 46), ((26, 19), 36), ((12, 12), 33), ((26, 19), 32), ((21, 13), 21), ((22, 13), 20), ((26, 20), 20), ((8, 3), 18), ((24, 3), 13), ((14, 13), 13), ((24, 2), 12), ((24, 1), 11), ((21, 13), 22), ((21, 13), 23), ((26, 21), 42), ((26, 18), 39), ((26, 21), 34), ((2, 9), 49), ((21, 13), 24), ((2, 10), 48), ((19, 7), 22), ((26, 19), 35), ((21, 14), 28), ((7, 18), 7), ((27, 3), 47), ((21, 13), 25), ((7, 18), 5), ((21, 14), 27), ((27, 4), 46), ((13, 13), 14), ((28, 3), 48), ((21, 13), 26), ((12, 13), 15)]\n",
      "Grounding...\n",
      "Solving...\n",
      "Done\n",
      "Solver is True\n",
      "Grounding...\n",
      "Solving...\n",
      "Done\n",
      "Solver is True\n",
      "Grounding...\n",
      "Solving...\n",
      "Done\n",
      "Solver is True\n",
      "room_s19_a25_w4_h30\n",
      "30\n",
      "Grounding...\n"
     ]
    },
    {
     "name": "stderr",
     "output_type": "stream",
     "text": [
      "Current agent: 25 - at((18,19),0) => at((18,17),30): 100%|██████████| 25/25 [00:00<00:00, 26.87it/s]\n"
     ]
    },
    {
     "name": "stdout",
     "output_type": "stream",
     "text": [
      "SAT\n",
      "1150 37 0.04\n",
      "[((16, 15), 25), ((12, 6), 28), ((5, 8), 26), ((16, 16), 26), ((6, 8), 25), ((15, 19), 20), ((14, 10), 19), ((8, 5), 12), ((11, 11), 15), ((17, 17), 28), ((17, 16), 27), ((6, 8), 12), ((6, 8), 3), ((14, 11), 13), ((8, 5), 11), ((16, 9), 10), ((14, 6), 8), ((6, 8), 6), ((6, 8), 4), ((17, 18), 29), ((6, 8), 10), ((8, 6), 10), ((13, 6), 6), ((8, 6), 8), ((16, 9), 11), ((17, 7), 9), ((11, 11), 9), ((16, 9), 8), ((14, 6), 7), ((16, 14), 8), ((13, 5), 5), ((11, 11), 7), ((17, 14), 6), ((17, 11), 5), ((9, 6), 7), ((10, 6), 6), ((11, 6), 5)]\n",
      "Grounding...\n",
      "Solving...\n",
      "Done\n",
      "Solver is True\n",
      "Grounding...\n",
      "Solving...\n",
      "Done\n",
      "Solver is True\n",
      "Grounding...\n",
      "Solving...\n",
      "Done\n",
      "Solver is True\n",
      "random_s20_a15_c50_h43\n",
      "43\n",
      "Grounding...\n"
     ]
    },
    {
     "name": "stderr",
     "output_type": "stream",
     "text": [
      "Current agent: 15 - at((18,7),0) => at((17,17),43): 100%|██████████| 15/15 [00:00<00:00, 29.03it/s] \n"
     ]
    },
    {
     "name": "stdout",
     "output_type": "stream",
     "text": [
      "SAT\n",
      "852 39 0.06666666666666667\n",
      "[((16, 15), 20), ((19, 7), 41), ((2, 8), 37), ((18, 11), 36), ((2, 7), 36), ((2, 6), 35), ((2, 5), 34), ((2, 4), 33), ((2, 3), 32), ((2, 2), 31), ((3, 2), 30), ((4, 2), 29), ((14, 11), 27), ((14, 11), 26), ((18, 11), 23), ((19, 7), 18), ((17, 18), 14), ((19, 7), 10), ((17, 18), 42), ((19, 7), 24), ((16, 15), 22), ((16, 14), 21), ((18, 11), 29), ((11, 11), 29), ((11, 11), 1), ((19, 15), 2), ((11, 11), 2), ((14, 11), 32), ((19, 15), 4), ((19, 15), 3), ((18, 11), 30), ((12, 11), 29), ((18, 16), 6), ((14, 11), 31), ((17, 18), 41), ((14, 11), 14), ((16, 15), 35), ((19, 7), 25), ((19, 7), 8)]\n",
      "Grounding...\n",
      "Solving...\n",
      "Done\n",
      "Solver is True\n",
      "Grounding...\n",
      "Solving...\n",
      "Done\n",
      "Solver is True\n",
      "Grounding...\n",
      "Solving...\n",
      "Done\n",
      "Solver is True\n",
      "random_s10_a5_c75_h14\n",
      "14\n",
      "Grounding...\n"
     ]
    },
    {
     "name": "stderr",
     "output_type": "stream",
     "text": [
      "Current agent: 5 - at((8,10),0) => at((7,1),14): 100%|██████████| 5/5 [00:00<00:00, 73.60it/s]\n"
     ]
    },
    {
     "name": "stdout",
     "output_type": "stream",
     "text": [
      "SAT\n",
      "145 3 0.2\n",
      "[((6, 5), 6), ((5, 5), 3), ((5, 5), 5)]\n",
      "Grounding...\n",
      "Solving...\n",
      "Done\n",
      "Solver is True\n",
      "Grounding...\n",
      "Solving...\n",
      "Done\n",
      "Solver is True\n",
      "Grounding...\n",
      "Solving...\n",
      "Done\n",
      "Solver is True\n",
      "room_s29_a20_w5_h26\n",
      "26\n",
      "Grounding...\n"
     ]
    },
    {
     "name": "stderr",
     "output_type": "stream",
     "text": [
      "Current agent: 20 - at((29,14),0) => at((29,17),26): 100%|██████████| 20/20 [00:01<00:00, 18.67it/s]\n"
     ]
    },
    {
     "name": "stdout",
     "output_type": "stream",
     "text": [
      "SAT\n",
      "798 14 0.05\n",
      "[((24, 5), 11), ((24, 5), 10), ((24, 5), 9), ((24, 5), 8), ((24, 5), 7), ((24, 5), 6), ((22, 7), 24), ((22, 7), 23), ((24, 5), 12), ((29, 14), 16), ((29, 13), 15), ((24, 5), 13), ((25, 11), 3), ((25, 11), 2)]\n",
      "Grounding...\n",
      "Solving...\n",
      "Done\n",
      "Solver is True\n",
      "Grounding...\n",
      "Solving...\n",
      "Done\n",
      "Solver is True\n",
      "Grounding...\n",
      "Solving...\n",
      "Done\n",
      "Solver is True\n",
      "maze_s15_a20_h98\n",
      "98\n",
      "Grounding...\n"
     ]
    },
    {
     "name": "stderr",
     "output_type": "stream",
     "text": [
      "Current agent: 20 - at((13,22),0) => at((15,22),98): 100%|██████████| 20/20 [00:02<00:00,  7.77it/s]\n"
     ]
    },
    {
     "name": "stdout",
     "output_type": "stream",
     "text": [
      "SAT\n",
      "2620 102 0.05\n",
      "[((21, 20), 65), ((20, 21), 63), ((21, 21), 50), ((20, 21), 49), ((19, 21), 48), ((18, 21), 47), ((17, 21), 46), ((16, 21), 45), ((15, 21), 44), ((14, 21), 43), ((13, 21), 42), ((12, 21), 41), ((11, 21), 40), ((10, 21), 39), ((9, 21), 38), ((9, 20), 37), ((9, 19), 36), ((9, 18), 35), ((9, 17), 34), ((10, 17), 33), ((11, 17), 32), ((12, 17), 31), ((13, 17), 30), ((1, 5), 80), ((15, 26), 66), ((17, 16), 50), ((9, 17), 48), ((10, 17), 47), ((11, 17), 46), ((12, 17), 45), ((13, 17), 44), ((14, 17), 43), ((15, 17), 42), ((15, 18), 41), ((15, 19), 40), ((16, 19), 39), ((17, 19), 38), ((17, 18), 37), ((1, 20), 36), ((17, 17), 36), ((17, 16), 35), ((17, 15), 34), ((17, 14), 33), ((17, 13), 32), ((17, 12), 31), ((17, 11), 30), ((17, 10), 29), ((17, 9), 28), ((16, 9), 27), ((15, 9), 26), ((15, 10), 25), ((15, 11), 24), ((14, 11), 23), ((13, 11), 22), ((13, 12), 21), ((13, 13), 20), ((12, 13), 19), ((11, 13), 18), ((11, 12), 17), ((11, 11), 16), ((11, 10), 15), ((11, 9), 14), ((10, 9), 13), ((9, 9), 12), ((9, 8), 11), ((9, 7), 10), ((9, 6), 9), ((2, 19), 24), ((9, 5), 8), ((21, 22), 15), ((9, 4), 7), ((9, 3), 6), ((1, 20), 39), ((8, 29), 23), ((1, 20), 38), ((8, 29), 22), ((9, 2), 5), ((15, 25), 3), ((9, 1), 4), ((8, 1), 3), ((9, 29), 21), ((10, 29), 20), ((21, 22), 14), ((7, 1), 2), ((11, 29), 19), ((17, 21), 3), ((12, 29), 18), ((20, 21), 6), ((1, 5), 78), ((15, 26), 64), ((17, 16), 48), ((1, 20), 37), ((1, 20), 34), ((13, 21), 18), ((21, 22), 13), ((19, 21), 5), ((16, 21), 2), ((17, 19), 1), ((7, 2), 1), ((13, 29), 17), ((19, 21), 12), ((18, 21), 4)]\n",
      "Grounding...\n",
      "Solving...\n",
      "Done\n",
      "Solver is True\n",
      "Grounding...\n",
      "Solving...\n",
      "Done\n",
      "Solver is True\n",
      "Grounding...\n",
      "Solving...\n",
      "Done\n",
      "Solver is True\n",
      "room_s19_a5_w4_h25\n",
      "25\n",
      "Grounding...\n"
     ]
    },
    {
     "name": "stderr",
     "output_type": "stream",
     "text": [
      "Current agent: 5 - at((15,2),0) => at((10,6),25): 100%|██████████| 5/5 [00:00<00:00, 25.55it/s]\n"
     ]
    },
    {
     "name": "stdout",
     "output_type": "stream",
     "text": [
      "SAT\n",
      "208 3 0.2\n",
      "[((13, 5), 8), ((13, 4), 7), ((12, 4), 6)]\n",
      "Grounding...\n",
      "Solving...\n",
      "Done\n",
      "Solver is True\n",
      "Grounding...\n",
      "Solving...\n",
      "Done\n",
      "Solver is True\n",
      "Grounding...\n",
      "Solving...\n",
      "Done\n",
      "Solver is True\n"
     ]
    }
   ],
   "source": [
    "for instance_name, instance_content in instances_pool:\n",
    "    def approach(instance_name,instance_content):\n",
    "        print(instance_name)\n",
    "        rows = []\n",
    "        \n",
    "        r, s_ipf = base_ipf(instance_content, additional_paths_computation=True)\n",
    "        \n",
    "        rows.append({\n",
    "            'Step Name' : 'base_ipf',\n",
    "            'Total Time' : s_ipf.total_time,\n",
    "            'Ground Time': s_ipf.total_time - s_ipf.solve_time,\n",
    "            'Solving Time': s_ipf.solve_time,\n",
    "            'SAT' : bool(r),\n",
    "            'Additional Data' : json.dumps(s_ipf.additional_data)\n",
    "        })\n",
    "        \n",
    "        ih, gh, lgh, s = global_heatmap(r + instance_content)\n",
    "        \n",
    "        rows.append({\n",
    "            'Step Name' : 'heatmaps',\n",
    "            'Total Time' : s.total_time,\n",
    "            'Ground Time': s.total_time - s.solve_time,\n",
    "            'Solving Time': s.solve_time,\n",
    "            'SAT' : bool(r),\n",
    "            'Additional Data' : json.dumps(s.additional_data)\n",
    "        })\n",
    "        \n",
    "        \n",
    "        cva ,s =  pe_simple_threshold(ih,gh,s_ipf.additional_data['nagent'])\n",
    "        \n",
    "        rows.append({\n",
    "            'Step Name' : 'simple_threshold',\n",
    "            'Total Time' : s.total_time,\n",
    "            'Ground Time': s.total_time - s.solve_time,\n",
    "            'Solving Time': s.solve_time,\n",
    "            'SAT' : bool(r),\n",
    "            'Additional Data' : json.dumps(s.additional_data)\n",
    "        })\n",
    "        \n",
    "        r,s = solver(r + cva + instance_content + lgh['pwlsh'], 'pathelimination/path_elimination.lp', additional_encodings=['pathelimination/convert_to_kill.lp'])\n",
    "        \n",
    "        rows.append({\n",
    "            'Step Name' : 'path_elimination',\n",
    "            'Total Time' : s.total_time,\n",
    "            'Ground Time': s.total_time - s.solve_time,\n",
    "            'Solving Time': s.solve_time,\n",
    "            'SAT' : bool(r),\n",
    "            'Additional Data' : json.dumps(s.additional_data)\n",
    "        })\n",
    "        \n",
    "        \n",
    "        r,s = solver(r, 'pathselection/path_selection.lp', parameters=['0','--opt-strategy=usc'])\n",
    "        \n",
    "        rows.append({\n",
    "            'Step Name' : 'path_selection',\n",
    "            'Total Time' : s.total_time,\n",
    "            'Ground Time': s.total_time - s.solve_time,\n",
    "            'Solving Time': s.solve_time,\n",
    "            'SAT' : bool(r),\n",
    "            'Additional Data' : json.dumps(s.additional_data)\n",
    "        })\n",
    "        \n",
    "        \n",
    "        r_,s = partial_solving(r, 'mapf/partial_solving.lp', subgraph='mapf/subgraph.lp', precomputed_path=False)\n",
    "        \n",
    "        rows.append({\n",
    "            'Step Name' : 'partial_solving',\n",
    "\n",
    "            'Total Time' : s.total_time,\n",
    "            'Ground Time': s.total_time - s.solve_time,\n",
    "            'Solving Time': s.solve_time,\n",
    "            'SAT' : bool(r_),\n",
    "            'Additional Data' : json.dumps(s.additional_data)\n",
    "        })\n",
    "        \n",
    "        for i in range (1,6,2):\n",
    "            if s.additional_data['ngoal_reached'] < s_ipf.additional_data['nagent']:\n",
    "                r_,s = partial_solving(r, 'mapf/partial_solving.lp', subgraph='mapf/subgraph.lp', precomputed_path=False,  horizon_modifier=i)\n",
    "        \n",
    "                rows.append({\n",
    "                    'Step Name' : f'partial_solving_additional_horizon',\n",
    "                    'Total Time' : s.total_time,\n",
    "                    'Ground Time': s.total_time - s.solve_time,\n",
    "                    'Solving Time': s.solve_time,\n",
    "                    'SAT' : bool(r_),\n",
    "                    'Additional Data' : json.dumps(s.additional_data)\n",
    "                })\n",
    "        \n",
    "\n",
    "        write_csv(f'benchmarks_result/{instance_name}-approach05.csv', header,rows)\n",
    "        \n",
    "    pool = Pool(1)       \n",
    "    mutex = pool.apply_async(approach,[instance_name,instance_content])\n",
    "\n",
    "    try:\n",
    "        mutex.get(timeout=timeout)\n",
    "    except Exception as e:\n",
    "        print(e)\n",
    "        pool.terminate()"
   ]
  },
  {
   "cell_type": "markdown",
   "metadata": {},
   "source": [
    "## Approach 6: no additional paths, simple threshold elimination, precomputed path on subgraph"
   ]
  },
  {
   "cell_type": "code",
   "execution_count": null,
   "metadata": {},
   "outputs": [
    {
     "name": "stdout",
     "output_type": "stream",
     "text": [
      "room_s29_a10_w5_h29\n",
      "29\n"
     ]
    },
    {
     "name": "stdout",
     "output_type": "stream",
     "text": [
      "Grounding...\n"
     ]
    },
    {
     "name": "stderr",
     "output_type": "stream",
     "text": [
      "Current agent: 10 - at((12,10),0) => at((21,24),29): 100%|██████████| 10/10 [00:00<00:00, 15.06it/s]\n"
     ]
    },
    {
     "name": "stdout",
     "output_type": "stream",
     "text": [
      "SAT\n",
      "406 6 0.1\n",
      "[((2, 25), 26), ((29, 19), 25), ((1, 29), 21), ((21, 17), 20), ((2, 29), 20), ((29, 18), 26)]\n",
      "Grounding...\n",
      "Solving...\n",
      "Done\n",
      "Solver is True\n",
      "Grounding...\n",
      "Solving...\n",
      "Done\n",
      "Solver is True\n",
      "Grounding...\n",
      "Solving...\n",
      "Done\n",
      "Solver is True\n",
      "Grounding...\n",
      "Solving...\n",
      "Done\n",
      "Solver is True\n",
      "random_s20_a15_c75_h28\n",
      "28\n",
      "Grounding...\n"
     ]
    },
    {
     "name": "stderr",
     "output_type": "stream",
     "text": [
      "Current agent: 15 - at((17,7),0) => at((17,10),28): 100%|██████████| 15/15 [00:00<00:00, 33.79it/s]\n"
     ]
    },
    {
     "name": "stdout",
     "output_type": "stream",
     "text": [
      "SAT\n",
      "585 24 0.06666666666666667\n",
      "[((16, 6), 8), ((1, 2), 21), ((1, 2), 20), ((1, 2), 19), ((1, 2), 18), ((1, 2), 17), ((1, 2), 16), ((1, 2), 15), ((2, 2), 14), ((18, 3), 13), ((17, 3), 12), ((14, 9), 11), ((17, 7), 4), ((17, 7), 3), ((17, 7), 2), ((16, 3), 11), ((16, 4), 10), ((16, 7), 7), ((16, 5), 9), ((16, 8), 6), ((16, 7), 6), ((13, 7), 21), ((17, 7), 5), ((16, 8), 25)]\n",
      "Grounding...\n",
      "Solving...\n",
      "Done\n",
      "Solver is True\n",
      "Grounding...\n",
      "Solving...\n",
      "Done\n",
      "Solver is True\n",
      "Grounding...\n",
      "Solving...\n",
      "Done\n",
      "Solver is False\n",
      "Grounding...\n",
      "Solving...\n",
      "Done\n",
      "Solver is False\n",
      "Grounding...\n",
      "Solving...\n",
      "Done\n",
      "Solver is False\n",
      "Grounding...\n",
      "Solving...\n",
      "Done\n",
      "Solver is False\n",
      "maze_s10_a20_h40\n",
      "40\n",
      "Grounding...\n"
     ]
    },
    {
     "name": "stderr",
     "output_type": "stream",
     "text": [
      "Current agent: 20 - at((3,18),0) => at((1,18),6): 100%|██████████| 20/20 [00:00<00:00, 28.38it/s]   \n"
     ]
    },
    {
     "name": "stdout",
     "output_type": "stream",
     "text": [
      "SAT\n",
      "1262 33 0.05\n",
      "[((10, 13), 34), ((9, 18), 34), ((16, 19), 32), ((14, 19), 30), ((5, 10), 26), ((18, 9), 25), ((5, 10), 18), ((9, 3), 15), ((9, 3), 10), ((16, 19), 7), ((3, 18), 6), ((5, 13), 21), ((9, 13), 17), ((3, 1), 7), ((11, 12), 14), ((11, 13), 13), ((3, 1), 6), ((1, 2), 4), ((11, 3), 12), ((1, 2), 3), ((10, 13), 32), ((9, 18), 32), ((16, 19), 30), ((14, 19), 28), ((5, 10), 24), ((18, 9), 23), ((5, 10), 16), ((9, 3), 13), ((9, 3), 8), ((16, 19), 5), ((3, 1), 5), ((3, 18), 4), ((15, 9), 2)]\n",
      "Grounding...\n",
      "Solving...\n",
      "Done\n",
      "Solver is True\n",
      "Grounding...\n",
      "Solving...\n",
      "Done\n",
      "Solver is True\n",
      "Grounding...\n",
      "Solving...\n",
      "Done\n",
      "Solver is True\n",
      "Grounding...\n",
      "Solving...\n",
      "Done\n",
      "Solver is True\n",
      "Grounding...\n",
      "Solving...\n",
      "Done\n",
      "Solver is True\n",
      "Grounding...\n",
      "Solving...\n",
      "Done\n",
      "Solver is True\n",
      "room_s19_a15_w4_h34\n",
      "34\n",
      "Grounding...\n"
     ]
    },
    {
     "name": "stderr",
     "output_type": "stream",
     "text": [
      "Current agent: 15 - at((15,19),0) => at((19,16),34): 100%|██████████| 15/15 [00:00<00:00, 21.20it/s]\n"
     ]
    },
    {
     "name": "stdout",
     "output_type": "stream",
     "text": [
      "SAT\n",
      "732 11 0.06666666666666667\n",
      "[((4, 5), 6), ((17, 11), 29), ((17, 11), 13), ((10, 18), 7), ((12, 9), 12), ((10, 18), 9), ((10, 18), 8), ((17, 11), 30), ((17, 11), 11), ((17, 13), 7), ((17, 7), 7)]\n",
      "Grounding...\n",
      "Solving...\n",
      "Done\n",
      "Solver is True\n",
      "Grounding...\n",
      "Solving...\n",
      "Done\n",
      "Solver is True\n",
      "Grounding...\n",
      "Solving...\n",
      "Done\n",
      "Solver is True\n",
      "Grounding...\n",
      "Solving...\n",
      "Done\n",
      "Solver is True\n",
      "Grounding...\n",
      "Solving...\n",
      "Done\n",
      "Solver is True\n",
      "Grounding...\n",
      "Solving...\n",
      "Done\n",
      "Solver is True\n",
      "maze_s20_a15_h68\n",
      "68\n",
      "Grounding...\n"
     ]
    },
    {
     "name": "stderr",
     "output_type": "stream",
     "text": [
      "Current agent: 15 - at((1,32),0) => at((5,32),68): 100%|██████████| 15/15 [00:02<00:00,  6.49it/s]  \n"
     ]
    },
    {
     "name": "stdout",
     "output_type": "stream",
     "text": [
      "SAT\n",
      "1430 8 0.06666666666666667\n",
      "[((14, 25), 46), ((6, 29), 24), ((25, 19), 21), ((1, 35), 12), ((12, 31), 16), ((15, 25), 45), ((26, 19), 20), ((4, 37), 7)]\n",
      "Grounding...\n",
      "Solving...\n",
      "Done\n",
      "Solver is True\n",
      "Grounding...\n",
      "Solving...\n",
      "Done\n",
      "Solver is True\n",
      "Grounding...\n",
      "Solving...\n",
      "Done\n",
      "Solver is True\n",
      "Grounding...\n",
      "Solving...\n",
      "Done\n",
      "Solver is True\n",
      "Grounding...\n",
      "Solving...\n",
      "Done\n",
      "Solver is True\n",
      "Grounding...\n",
      "Solving...\n",
      "Done\n",
      "Solver is True\n",
      "room_s47_a15_w5_h37\n",
      "37\n",
      "Grounding...\n"
     ]
    },
    {
     "name": "stderr",
     "output_type": "stream",
     "text": [
      "Current agent: 15 - at((47,34),0) => at((19,38),37): 100%|██████████| 15/15 [00:03<00:00,  4.57it/s]\n"
     ]
    },
    {
     "name": "stdout",
     "output_type": "stream",
     "text": [
      "SAT\n",
      "864 5 0.06666666666666667\n",
      "[((12, 32), 25), ((13, 32), 24), ((13, 31), 23), ((13, 30), 22), ((13, 29), 21)]\n",
      "Grounding...\n",
      "Solving...\n",
      "Done\n",
      "Solver is True\n",
      "Grounding...\n",
      "Solving...\n",
      "Done\n",
      "Solver is True\n",
      "Grounding...\n",
      "Solving...\n",
      "Done\n",
      "Solver is True\n",
      "Grounding...\n",
      "Solving...\n",
      "Done\n",
      "Solver is True\n",
      "Grounding...\n",
      "Solving...\n",
      "Done\n",
      "Solver is True\n",
      "Grounding...\n",
      "Solving...\n",
      "Done\n",
      "Solver is True\n",
      "maze_s10_a15_h38\n",
      "38\n",
      "Grounding...\n"
     ]
    },
    {
     "name": "stderr",
     "output_type": "stream",
     "text": [
      "Current agent: 15 - at((9,18),0) => at((10,17),38): 100%|██████████| 15/15 [00:00<00:00, 41.34it/s]\n"
     ]
    },
    {
     "name": "stdout",
     "output_type": "stream",
     "text": [
      "SAT\n",
      "733 54 0.06666666666666667\n",
      "[((9, 13), 27), ((9, 13), 21), ((9, 13), 7), ((9, 17), 37), ((8, 17), 36), ((15, 15), 33), ((11, 12), 24), ((7, 17), 14), ((7, 17), 13), ((7, 17), 12), ((7, 17), 11), ((7, 17), 10), ((7, 17), 9), ((7, 17), 8), ((7, 17), 7), ((7, 17), 6), ((9, 13), 28), ((9, 13), 26), ((9, 13), 25), ((9, 13), 24), ((9, 13), 23), ((9, 13), 22), ((9, 13), 20), ((9, 13), 19), ((9, 13), 18), ((9, 13), 17), ((9, 13), 16), ((9, 13), 15), ((9, 13), 14), ((9, 13), 13), ((9, 13), 12), ((9, 13), 11), ((9, 13), 10), ((9, 13), 9), ((9, 13), 8), ((9, 13), 6), ((9, 13), 5), ((9, 13), 4), ((9, 13), 29), ((7, 17), 35), ((7, 17), 15), ((9, 19), 2), ((10, 19), 1), ((7, 17), 16), ((10, 13), 3), ((9, 13), 30), ((6, 17), 34), ((9, 13), 31), ((7, 17), 17), ((4, 13), 36), ((6, 13), 34), ((4, 13), 32), ((4, 13), 26), ((4, 13), 16)]\n",
      "Grounding...\n",
      "Solving...\n",
      "Done\n",
      "Solver is True\n",
      "Grounding...\n",
      "Solving...\n",
      "Done\n",
      "Solver is True\n",
      "Grounding...\n",
      "Solving...\n",
      "Done\n",
      "Solver is True\n",
      "Grounding...\n",
      "Solving...\n",
      "Done\n",
      "Solver is True\n",
      "Grounding...\n",
      "Solving...\n",
      "Done\n",
      "Solver is True\n",
      "Grounding...\n",
      "Solving...\n",
      "Done\n",
      "Solver is True\n",
      "random_s10_a5_c50_h16\n",
      "16\n",
      "Grounding...\n"
     ]
    },
    {
     "name": "stderr",
     "output_type": "stream",
     "text": [
      "Current agent: 5 - at((9,3),0) => at((9,4),16): 100%|██████████| 5/5 [00:00<00:00, 106.13it/s]\n"
     ]
    },
    {
     "name": "stdout",
     "output_type": "stream",
     "text": [
      "SAT\n",
      "117 1 0.2\n",
      "[((9, 3), 2)]\n",
      "Grounding...\n",
      "Solving...\n",
      "Done\n",
      "Solver is True\n",
      "Grounding...\n",
      "Solving...\n",
      "Done\n",
      "Solver is True\n",
      "Grounding...\n",
      "Solving...\n",
      "Done\n",
      "Solver is True\n",
      "room_s29_a30_w5_h34\n",
      "34\n",
      "Grounding...\n"
     ]
    },
    {
     "name": "stderr",
     "output_type": "stream",
     "text": [
      "Current agent: 30 - at((28,15),0) => at((29,15),34): 100%|██████████| 30/30 [00:01<00:00, 16.09it/s]\n"
     ]
    },
    {
     "name": "stdout",
     "output_type": "stream",
     "text": [
      "SAT\n",
      "1455 88 0.03333333333333333\n",
      "[((6, 21), 9), ((23, 5), 5), ((24, 27), 31), ((14, 19), 28), ((14, 18), 27), ((14, 17), 26), ((23, 5), 23), ((23, 5), 22), ((23, 5), 21), ((23, 5), 20), ((23, 5), 19), ((23, 5), 18), ((23, 5), 17), ((23, 5), 16), ((23, 5), 15), ((6, 21), 15), ((18, 9), 14), ((23, 5), 14), ((23, 5), 13), ((23, 5), 12), ((23, 5), 11), ((6, 21), 11), ((13, 11), 11), ((29, 18), 11), ((23, 5), 10), ((6, 21), 10), ((13, 11), 10), ((29, 18), 10), ((23, 5), 9), ((13, 11), 9), ((29, 18), 9), ((23, 5), 8), ((6, 21), 8), ((13, 11), 8), ((29, 18), 8), ((23, 5), 7), ((6, 21), 7), ((13, 11), 7), ((29, 18), 7), ((23, 5), 6), ((6, 21), 6), ((13, 11), 6), ((5, 23), 6), ((29, 18), 6), ((6, 21), 5), ((13, 11), 5), ((29, 18), 5), ((23, 5), 4), ((6, 21), 4), ((13, 11), 4), ((29, 18), 4), ((23, 5), 3), ((6, 21), 3), ((13, 11), 3), ((6, 21), 2), ((13, 11), 2), ((29, 17), 31), ((16, 29), 30), ((18, 9), 17), ((19, 17), 28), ((22, 12), 19), ((17, 11), 17), ((6, 21), 12), ((23, 5), 24), ((16, 11), 24), ((19, 17), 24), ((10, 18), 16), ((10, 19), 15), ((18, 27), 10), ((18, 27), 8), ((6, 21), 13), ((17, 29), 7), ((19, 5), 29), ((18, 17), 25), ((8, 19), 19), ((22, 11), 20), ((16, 11), 18), ((6, 21), 14), ((6, 21), 21), ((17, 29), 6), ((17, 29), 5), ((17, 29), 29), ((17, 9), 18), ((14, 11), 12), ((6, 21), 23), ((7, 19), 18), ((18, 17), 29), ((23, 5), 25)]\n",
      "Grounding...\n",
      "Solving...\n",
      "Done\n",
      "Solver is True\n",
      "Grounding...\n",
      "Solving...\n",
      "Done\n",
      "Solver is True\n",
      "Grounding...\n",
      "Solving...\n",
      "Done\n",
      "Solver is True\n",
      "Grounding...\n",
      "Solving...\n",
      "Done\n",
      "Solver is True\n",
      "Grounding...\n",
      "Solving...\n",
      "Done\n",
      "Solver is True\n",
      "Grounding...\n",
      "Solving...\n",
      "Done\n",
      "Solver is True\n",
      "maze_s10_a25_h45\n",
      "45\n",
      "Grounding...\n"
     ]
    },
    {
     "name": "stderr",
     "output_type": "stream",
     "text": [
      "Current agent: 25 - at((16,15),0) => at((1,18),45): 100%|██████████| 25/25 [00:00<00:00, 38.10it/s] \n"
     ]
    },
    {
     "name": "stdout",
     "output_type": "stream",
     "text": [
      "SAT\n",
      "1376 157 0.04\n",
      "[((13, 15), 16), ((13, 15), 37), ((13, 15), 36), ((5, 10), 33), ((7, 3), 24), ((13, 15), 15), ((13, 15), 14), ((13, 15), 13), ((13, 15), 12), ((13, 15), 11), ((13, 15), 10), ((13, 15), 9), ((13, 15), 8), ((13, 15), 7), ((13, 15), 6), ((13, 15), 5), ((13, 15), 4), ((13, 15), 3), ((13, 15), 17), ((13, 15), 20), ((13, 15), 18), ((13, 15), 19), ((15, 9), 39), ((16, 9), 40), ((14, 15), 39), ((15, 15), 44), ((3, 17), 42), ((3, 16), 41), ((3, 15), 40), ((13, 12), 39), ((3, 14), 39), ((3, 13), 38), ((13, 14), 37), ((4, 13), 37), ((15, 11), 37), ((5, 13), 36), ((15, 11), 36), ((5, 12), 35), ((13, 15), 35), ((15, 11), 35), ((5, 11), 34), ((13, 15), 34), ((15, 11), 34), ((10, 13), 33), ((13, 15), 33), ((15, 11), 33), ((5, 9), 32), ((13, 15), 32), ((15, 11), 32), ((11, 12), 31), ((5, 8), 31), ((11, 6), 31), ((13, 15), 31), ((8, 13), 31), ((15, 11), 31), ((5, 7), 30), ((13, 15), 30), ((15, 11), 30), ((6, 13), 29), ((10, 13), 29), ((11, 3), 29), ((5, 6), 29), ((13, 15), 29), ((15, 11), 29), ((5, 5), 28), ((13, 15), 28), ((15, 11), 28), ((8, 13), 27), ((5, 4), 27), ((13, 15), 27), ((15, 11), 27), ((11, 11), 26), ((5, 3), 26), ((9, 3), 26), ((13, 15), 26), ((15, 11), 26), ((6, 3), 25), ((13, 15), 25), ((15, 11), 25), ((13, 15), 24), ((15, 11), 24), ((8, 3), 23), ((13, 15), 23), ((15, 11), 23), ((11, 11), 22), ((9, 3), 22), ((13, 15), 22), ((15, 11), 22), ((10, 3), 21), ((13, 15), 21), ((15, 11), 21), ((11, 3), 20), ((15, 11), 20), ((15, 11), 19), ((15, 11), 18), ((15, 11), 17), ((5, 10), 16), ((15, 11), 16), ((5, 10), 15), ((15, 11), 15), ((15, 11), 14), ((15, 11), 13), ((15, 11), 12), ((15, 11), 11), ((15, 11), 10), ((15, 11), 9), ((19, 5), 8), ((15, 11), 8), ((19, 5), 7), ((15, 11), 7), ((15, 19), 6), ((19, 5), 6), ((15, 11), 6), ((19, 5), 5), ((15, 11), 5), ((17, 19), 4), ((19, 5), 4), ((15, 11), 4), ((19, 5), 3), ((15, 11), 3), ((19, 19), 2), ((19, 5), 2), ((14, 15), 2), ((15, 11), 2), ((19, 5), 1), ((15, 15), 1), ((13, 15), 38), ((14, 15), 38), ((5, 10), 41), ((17, 9), 41), ((14, 15), 43), ((17, 10), 7), ((15, 10), 38), ((15, 19), 25), ((19, 5), 9), ((13, 15), 42), ((15, 19), 26), ((17, 10), 6), ((11, 12), 30), ((15, 19), 24), ((15, 15), 40), ((1, 8), 39), ((9, 19), 44), ((15, 15), 42), ((5, 11), 40), ((1, 9), 40), ((17, 10), 4), ((17, 10), 3), ((17, 10), 2), ((17, 10), 1), ((14, 15), 41), ((13, 14), 41), ((19, 5), 10), ((17, 10), 5), ((15, 15), 39), ((18, 9), 42), ((13, 13), 40)]\n",
      "Grounding...\n",
      "Solving...\n",
      "Done\n",
      "Solver is True\n",
      "Grounding...\n",
      "Solving...\n",
      "Done\n",
      "Solver is True\n",
      "Grounding...\n",
      "Solving...\n",
      "Done\n",
      "Solver is False\n",
      "Grounding...\n",
      "Solving...\n",
      "Done\n",
      "Solver is False\n",
      "Grounding...\n",
      "Solving...\n",
      "Done\n",
      "Solver is False\n",
      "Grounding...\n",
      "Solving...\n",
      "Done\n",
      "Solver is False\n",
      "room_s47_a10_w5_h59\n",
      "59\n",
      "Grounding...\n"
     ]
    },
    {
     "name": "stderr",
     "output_type": "stream",
     "text": [
      "Current agent: 10 - at((32,47),0) => at((33,1),59): 100%|██████████| 10/10 [00:03<00:00,  2.72it/s]\n"
     ]
    },
    {
     "name": "stdout",
     "output_type": "stream",
     "text": [
      "SAT\n",
      "780 2 0.1\n",
      "[((40, 14), 15), ((40, 14), 13)]\n",
      "Grounding...\n",
      "Solving...\n",
      "Done\n",
      "Solver is True\n",
      "Grounding...\n",
      "Solving...\n",
      "Done\n",
      "Solver is True\n",
      "Grounding...\n",
      "Solving...\n",
      "Done\n",
      "Solver is True\n",
      "room_s47_a5_w5_h50\n",
      "50\n",
      "Grounding...\n"
     ]
    },
    {
     "name": "stderr",
     "output_type": "stream",
     "text": [
      "Current agent: 5 - at((4,39),0) => at((29,16),50): 100%|██████████| 5/5 [00:02<00:00,  2.43it/s] \n"
     ]
    },
    {
     "name": "stdout",
     "output_type": "stream",
     "text": [
      "SAT\n",
      "389 0 0.2\n",
      "[]\n",
      "Grounding...\n",
      "Solving...\n",
      "Done\n",
      "Solver is True\n"
     ]
    },
    {
     "name": "stderr",
     "output_type": "stream",
     "text": [
      "pathelimination/path_elimination.lp:2:5-25: info: atom does not occur in any rule head:\n",
      "  critical_vertex(V,T)\n",
      "\n",
      "pathelimination/path_elimination.lp:3:5-26: info: atom does not occur in any rule head:\n",
      "  critical_agent(R,V,T)\n",
      "\n"
     ]
    },
    {
     "name": "stdout",
     "output_type": "stream",
     "text": [
      "Grounding...\n",
      "Solving...\n",
      "Done\n",
      "Solver is True\n"
     ]
    },
    {
     "name": "stderr",
     "output_type": "stream",
     "text": [
      "pathselection/path_selection.lp:2:39-55: info: atom does not occur in any rule head:\n",
      "  path_killed(R,I)\n",
      "\n"
     ]
    },
    {
     "name": "stdout",
     "output_type": "stream",
     "text": [
      "Grounding...\n",
      "Solving...\n",
      "Done\n",
      "Solver is True\n",
      "random_s40_a35_c75_h54\n",
      "54\n",
      "Grounding...\n"
     ]
    },
    {
     "name": "stderr",
     "output_type": "stream",
     "text": [
      "Current agent: 35 - at((24,39),0) => at((24,18),54): 100%|██████████| 35/35 [00:07<00:00,  4.48it/s]\n"
     ]
    },
    {
     "name": "stdout",
     "output_type": "stream",
     "text": [
      "SAT\n",
      "2795 50 0.02857142857142857\n",
      "[((36, 17), 53), ((36, 17), 52), ((36, 17), 51), ((36, 17), 50), ((36, 17), 49), ((36, 17), 48), ((36, 17), 47), ((36, 17), 46), ((36, 17), 45), ((36, 17), 44), ((36, 17), 43), ((36, 17), 42), ((36, 17), 41), ((36, 17), 40), ((36, 17), 39), ((22, 24), 39), ((36, 17), 38), ((36, 17), 37), ((36, 17), 36), ((36, 17), 35), ((36, 17), 34), ((36, 17), 33), ((36, 17), 32), ((36, 17), 31), ((36, 17), 30), ((36, 17), 29), ((28, 24), 5), ((34, 7), 10), ((15, 10), 42), ((15, 10), 40), ((23, 16), 30), ((24, 16), 29), ((36, 19), 27), ((36, 20), 26), ((36, 17), 25), ((36, 17), 23), ((37, 12), 19), ((37, 12), 17), ((35, 10), 2), ((34, 8), 11), ((34, 7), 12), ((37, 12), 37), ((37, 12), 35), ((26, 6), 43), ((26, 6), 41), ((32, 4), 2), ((28, 24), 4), ((28, 24), 3), ((33, 4), 3), ((34, 7), 11)]\n",
      "Grounding...\n",
      "Solving...\n",
      "Done\n",
      "Solver is True\n",
      "Grounding...\n",
      "Solving...\n",
      "Done\n",
      "Solver is True\n",
      "Grounding...\n",
      "Solving...\n",
      "Done\n",
      "Solver is True\n",
      "Grounding...\n",
      "Solving...\n",
      "Done\n",
      "Solver is True\n",
      "Grounding...\n",
      "Solving...\n",
      "Done\n",
      "Solver is True\n",
      "Grounding...\n",
      "Solving...\n",
      "\n",
      "random_s30_a25_c75_h50\n",
      "50\n",
      "Grounding...\n"
     ]
    },
    {
     "name": "stderr",
     "output_type": "stream",
     "text": [
      "Current agent: 25 - at((10,28),0) => at((24,30),50): 100%|██████████| 25/25 [00:02<00:00, 11.08it/s]\n"
     ]
    },
    {
     "name": "stdout",
     "output_type": "stream",
     "text": [
      "SAT\n",
      "1553 33 0.04\n",
      "[((8, 19), 46), ((26, 19), 36), ((12, 12), 33), ((26, 19), 32), ((21, 13), 21), ((22, 13), 20), ((26, 20), 20), ((8, 3), 18), ((24, 3), 13), ((14, 13), 13), ((24, 2), 12), ((24, 1), 11), ((21, 13), 22), ((21, 13), 23), ((26, 21), 42), ((26, 18), 39), ((26, 21), 34), ((2, 9), 49), ((21, 13), 24), ((2, 10), 48), ((19, 7), 22), ((26, 19), 35), ((21, 14), 28), ((7, 18), 7), ((27, 3), 47), ((21, 13), 25), ((7, 18), 5), ((21, 14), 27), ((27, 4), 46), ((13, 13), 14), ((28, 3), 48), ((21, 13), 26), ((12, 13), 15)]\n",
      "Grounding...\n",
      "Solving...\n",
      "Done\n",
      "Solver is True\n",
      "Grounding...\n",
      "Solving...\n",
      "Done\n",
      "Solver is True\n",
      "Grounding...\n",
      "Solving...\n",
      "Done\n",
      "Solver is True\n",
      "room_s19_a25_w4_h30\n",
      "30\n",
      "Grounding...\n"
     ]
    },
    {
     "name": "stderr",
     "output_type": "stream",
     "text": [
      "Current agent: 25 - at((18,19),0) => at((18,17),30): 100%|██████████| 25/25 [00:00<00:00, 25.04it/s]\n"
     ]
    },
    {
     "name": "stdout",
     "output_type": "stream",
     "text": [
      "SAT\n",
      "1150 37 0.04\n",
      "[((16, 15), 25), ((12, 6), 28), ((5, 8), 26), ((16, 16), 26), ((6, 8), 25), ((15, 19), 20), ((14, 10), 19), ((8, 5), 12), ((11, 11), 15), ((17, 17), 28), ((17, 16), 27), ((6, 8), 12), ((6, 8), 3), ((14, 11), 13), ((8, 5), 11), ((16, 9), 10), ((14, 6), 8), ((6, 8), 6), ((6, 8), 4), ((17, 18), 29), ((6, 8), 10), ((8, 6), 10), ((13, 6), 6), ((8, 6), 8), ((16, 9), 11), ((17, 7), 9), ((11, 11), 9), ((16, 9), 8), ((14, 6), 7), ((16, 14), 8), ((13, 5), 5), ((11, 11), 7), ((17, 14), 6), ((17, 11), 5), ((9, 6), 7), ((10, 6), 6), ((11, 6), 5)]\n",
      "Grounding...\n",
      "Solving...\n",
      "Done\n",
      "Solver is True\n",
      "Grounding...\n",
      "Solving...\n",
      "Done\n",
      "Solver is True\n",
      "Grounding...\n",
      "Solving...\n",
      "Done\n",
      "Solver is True\n",
      "Grounding...\n",
      "Solving...\n",
      "Done\n",
      "Solver is True\n",
      "Grounding...\n",
      "Solving...\n",
      "Done\n",
      "Solver is True\n",
      "Grounding...\n",
      "Solving...\n",
      "Done\n",
      "Solver is True\n",
      "random_s20_a15_c50_h43\n",
      "43\n",
      "Grounding...\n"
     ]
    },
    {
     "name": "stderr",
     "output_type": "stream",
     "text": [
      "Current agent: 15 - at((18,7),0) => at((17,17),43): 100%|██████████| 15/15 [00:00<00:00, 30.14it/s]\n"
     ]
    },
    {
     "name": "stdout",
     "output_type": "stream",
     "text": [
      "SAT\n",
      "852 39 0.06666666666666667\n",
      "[((16, 15), 20), ((19, 7), 41), ((2, 8), 37), ((18, 11), 36), ((2, 7), 36), ((2, 6), 35), ((2, 5), 34), ((2, 4), 33), ((2, 3), 32), ((2, 2), 31), ((3, 2), 30), ((4, 2), 29), ((14, 11), 27), ((14, 11), 26), ((18, 11), 23), ((19, 7), 18), ((17, 18), 14), ((19, 7), 10), ((17, 18), 42), ((19, 7), 24), ((16, 15), 22), ((16, 14), 21), ((18, 11), 29), ((11, 11), 29), ((11, 11), 1), ((19, 15), 2), ((11, 11), 2), ((14, 11), 32), ((19, 15), 4), ((19, 15), 3), ((18, 11), 30), ((12, 11), 29), ((18, 16), 6), ((14, 11), 31), ((17, 18), 41), ((14, 11), 14), ((16, 15), 35), ((19, 7), 25), ((19, 7), 8)]\n",
      "Grounding...\n",
      "Solving...\n",
      "Done\n",
      "Solver is True\n",
      "Grounding...\n",
      "Solving...\n",
      "Done\n",
      "Solver is True\n",
      "Grounding...\n",
      "Solving...\n",
      "Done\n",
      "Solver is False\n",
      "Grounding...\n",
      "Solving...\n",
      "Done\n",
      "Solver is False\n",
      "Grounding...\n",
      "Solving...\n",
      "Done\n",
      "Solver is False\n",
      "Grounding...\n",
      "Solving...\n",
      "Done\n",
      "Solver is False\n",
      "random_s10_a5_c75_h14\n",
      "14\n",
      "Grounding...\n"
     ]
    },
    {
     "name": "stderr",
     "output_type": "stream",
     "text": [
      "Current agent: 5 - at((8,10),0) => at((7,1),14): 100%|██████████| 5/5 [00:00<00:00, 66.77it/s]\n"
     ]
    },
    {
     "name": "stdout",
     "output_type": "stream",
     "text": [
      "SAT\n",
      "145 3 0.2\n",
      "[((6, 5), 6), ((5, 5), 3), ((5, 5), 5)]\n",
      "Grounding...\n",
      "Solving...\n",
      "Done\n",
      "Solver is True\n",
      "Grounding...\n",
      "Solving...\n",
      "Done\n",
      "Solver is True\n",
      "Grounding...\n",
      "Solving...\n",
      "Done\n",
      "Solver is True\n",
      "room_s29_a20_w5_h26\n",
      "26\n",
      "Grounding...\n"
     ]
    },
    {
     "name": "stderr",
     "output_type": "stream",
     "text": [
      "Current agent: 20 - at((29,14),0) => at((29,17),26): 100%|██████████| 20/20 [00:01<00:00, 17.88it/s]\n"
     ]
    },
    {
     "name": "stdout",
     "output_type": "stream",
     "text": [
      "SAT\n",
      "798 14 0.05\n",
      "[((24, 5), 11), ((24, 5), 10), ((24, 5), 9), ((24, 5), 8), ((24, 5), 7), ((24, 5), 6), ((22, 7), 24), ((22, 7), 23), ((24, 5), 12), ((29, 14), 16), ((29, 13), 15), ((24, 5), 13), ((25, 11), 3), ((25, 11), 2)]\n",
      "Grounding...\n",
      "Solving...\n",
      "Done\n",
      "Solver is True\n",
      "Grounding...\n",
      "Solving...\n",
      "Done\n",
      "Solver is True\n",
      "Grounding...\n",
      "Solving...\n",
      "Done\n",
      "Solver is True\n",
      "Grounding...\n",
      "Solving...\n",
      "Done\n",
      "Solver is True\n",
      "Grounding...\n",
      "Solving...\n",
      "Done\n",
      "Solver is True\n",
      "maze_s15_a20_h98\n",
      "98\n",
      "Grounding...\n"
     ]
    },
    {
     "name": "stderr",
     "output_type": "stream",
     "text": [
      "Current agent: 20 - at((13,22),0) => at((15,22),98): 100%|██████████| 20/20 [00:02<00:00,  7.68it/s]\n"
     ]
    },
    {
     "name": "stdout",
     "output_type": "stream",
     "text": [
      "SAT\n",
      "2620 102 0.05\n",
      "[((21, 20), 65), ((20, 21), 63), ((21, 21), 50), ((20, 21), 49), ((19, 21), 48), ((18, 21), 47), ((17, 21), 46), ((16, 21), 45), ((15, 21), 44), ((14, 21), 43), ((13, 21), 42), ((12, 21), 41), ((11, 21), 40), ((10, 21), 39), ((9, 21), 38), ((9, 20), 37), ((9, 19), 36), ((9, 18), 35), ((9, 17), 34), ((10, 17), 33), ((11, 17), 32), ((12, 17), 31), ((13, 17), 30), ((1, 5), 80), ((15, 26), 66), ((17, 16), 50), ((9, 17), 48), ((10, 17), 47), ((11, 17), 46), ((12, 17), 45), ((13, 17), 44), ((14, 17), 43), ((15, 17), 42), ((15, 18), 41), ((15, 19), 40), ((16, 19), 39), ((17, 19), 38), ((17, 18), 37), ((1, 20), 36), ((17, 17), 36), ((17, 16), 35), ((17, 15), 34), ((17, 14), 33), ((17, 13), 32), ((17, 12), 31), ((17, 11), 30), ((17, 10), 29), ((17, 9), 28), ((16, 9), 27), ((15, 9), 26), ((15, 10), 25), ((15, 11), 24), ((14, 11), 23), ((13, 11), 22), ((13, 12), 21), ((13, 13), 20), ((12, 13), 19), ((11, 13), 18), ((11, 12), 17), ((11, 11), 16), ((11, 10), 15), ((11, 9), 14), ((10, 9), 13), ((9, 9), 12), ((9, 8), 11), ((9, 7), 10), ((9, 6), 9), ((2, 19), 24), ((9, 5), 8), ((21, 22), 15), ((9, 4), 7), ((9, 3), 6), ((1, 20), 39), ((8, 29), 23), ((1, 20), 38), ((8, 29), 22), ((9, 2), 5), ((15, 25), 3), ((9, 1), 4), ((8, 1), 3), ((9, 29), 21), ((10, 29), 20), ((21, 22), 14), ((7, 1), 2), ((11, 29), 19), ((17, 21), 3), ((12, 29), 18), ((20, 21), 6), ((1, 5), 78), ((15, 26), 64), ((17, 16), 48), ((1, 20), 37), ((1, 20), 34), ((13, 21), 18), ((21, 22), 13), ((19, 21), 5), ((16, 21), 2), ((17, 19), 1), ((7, 2), 1), ((13, 29), 17), ((19, 21), 12), ((18, 21), 4)]\n",
      "Grounding...\n",
      "Solving...\n",
      "Done\n",
      "Solver is True\n",
      "Grounding...\n",
      "Solving...\n",
      "Done\n",
      "Solver is True\n",
      "Grounding...\n",
      "Solving...\n",
      "Done\n",
      "Solver is True\n",
      "Grounding...\n",
      "Solving...\n",
      "Done\n",
      "Solver is True\n",
      "Grounding...\n",
      "Solving...\n",
      "Done\n",
      "Solver is True\n",
      "Grounding...\n",
      "Solving...\n",
      "Done\n",
      "Solver is True\n",
      "room_s19_a5_w4_h25\n",
      "25\n",
      "Grounding...\n"
     ]
    },
    {
     "name": "stderr",
     "output_type": "stream",
     "text": [
      "Current agent: 5 - at((15,2),0) => at((10,6),25): 100%|██████████| 5/5 [00:00<00:00, 24.71it/s]\n"
     ]
    },
    {
     "name": "stdout",
     "output_type": "stream",
     "text": [
      "SAT\n",
      "208 3 0.2\n",
      "[((13, 5), 8), ((13, 4), 7), ((12, 4), 6)]\n",
      "Grounding...\n",
      "Solving...\n",
      "Done\n",
      "Solver is True\n",
      "Grounding...\n",
      "Solving...\n",
      "Done\n",
      "Solver is True\n",
      "Grounding...\n",
      "Solving...\n",
      "Done\n",
      "Solver is True\n"
     ]
    }
   ],
   "source": [
    "for instance_name, instance_content in instances_pool:\n",
    "    def approach(instance_name,instance_content):\n",
    "        print(instance_name)\n",
    "        rows = []\n",
    "        \n",
    "        r, s_ipf = base_ipf(instance_content, additional_paths_computation=True)\n",
    "        \n",
    "        rows.append({\n",
    "            'Step Name' : 'base_ipf',\n",
    "            'Total Time' : s_ipf.total_time,\n",
    "            'Ground Time': s_ipf.total_time - s_ipf.solve_time,\n",
    "            'Solving Time': s_ipf.solve_time,\n",
    "            'SAT' : bool(r),\n",
    "            'Additional Data' : json.dumps(s_ipf.additional_data)\n",
    "        })\n",
    "        \n",
    "        ih, gh, lgh, s = global_heatmap(r + instance_content)\n",
    "        \n",
    "        rows.append({\n",
    "            'Step Name' : 'heatmaps',\n",
    "            'Total Time' : s.total_time,\n",
    "            'Ground Time': s.total_time - s.solve_time,\n",
    "            'Solving Time': s.solve_time,\n",
    "            'SAT' : bool(r),\n",
    "            'Additional Data' : json.dumps(s.additional_data)\n",
    "        })\n",
    "        \n",
    "        \n",
    "        cva ,s =  pe_simple_threshold(ih,gh,s_ipf.additional_data['nagent'])\n",
    "        \n",
    "        rows.append({\n",
    "            'Step Name' : 'simple_threshold',\n",
    "            'Total Time' : s.total_time,\n",
    "            'Ground Time': s.total_time - s.solve_time,\n",
    "            'Solving Time': s.solve_time,\n",
    "            'SAT' : bool(r),\n",
    "            'Additional Data' : json.dumps(s.additional_data)\n",
    "        })\n",
    "        \n",
    "        r,s = solver(r + cva + instance_content + lgh['pwlsh'], 'pathelimination/path_elimination.lp', additional_encodings=['pathelimination/convert_to_kill.lp'])\n",
    "        \n",
    "        rows.append({\n",
    "            'Step Name' : 'path_elimination',\n",
    "            'Total Time' : s.total_time,\n",
    "            'Ground Time': s.total_time - s.solve_time,\n",
    "            'Solving Time': s.solve_time,\n",
    "            'SAT' : bool(r),\n",
    "            'Additional Data' : json.dumps(s.additional_data)\n",
    "        })\n",
    "        \n",
    "        \n",
    "        r,s = solver(r, 'pathselection/path_selection.lp', parameters=['0','--opt-strategy=usc'])\n",
    "        \n",
    "        rows.append({\n",
    "            'Step Name' : 'path_selection',\n",
    "            'Total Time' : s.total_time,\n",
    "            'Ground Time': s.total_time - s.solve_time,\n",
    "            'Solving Time': s.solve_time,\n",
    "            'SAT' : bool(r),\n",
    "            'Additional Data' : json.dumps(s.additional_data)\n",
    "        })\n",
    "        \n",
    "        \n",
    "        r_,s = partial_solving(r, 'mapf/partial_solving.lp', subgraph='mapf/subgraph.lp', precomputed_path='mapf/precomputed_path.lp')\n",
    "        \n",
    "        rows.append({\n",
    "            'Step Name' : 'partial_solving',\n",
    "\n",
    "            'Total Time' : s.total_time,\n",
    "            'Ground Time': s.total_time - s.solve_time,\n",
    "            'Solving Time': s.solve_time,\n",
    "            'SAT' : bool(r_),\n",
    "            'Additional Data' : json.dumps(s.additional_data)\n",
    "        })\n",
    "        \n",
    "        for i in range (1,6,2):\n",
    "            if s.additional_data['ngoal_reached'] < s_ipf.additional_data['nagent']:\n",
    "                r_,s = partial_solving(r, 'mapf/partial_solving.lp', subgraph='mapf/subgraph.lp', precomputed_path='mapf/precomputed_path.lp', horizon_modifier=i)\n",
    "        \n",
    "                rows.append({\n",
    "                    'Step Name' : f'partial_solving_additional_horizon',\n",
    "                    'Total Time' : s.total_time,\n",
    "                    'Ground Time': s.total_time - s.solve_time,\n",
    "                    'Solving Time': s.solve_time,\n",
    "                    'SAT' : bool(r_),\n",
    "                    'Additional Data' : json.dumps(s.additional_data)\n",
    "                })\n",
    "        \n",
    "        write_csv(f'benchmarks_result/{instance_name}-approach06.csv', header,rows)\n",
    "        \n",
    "    pool = Pool(1)       \n",
    "    mutex = pool.apply_async(approach,[instance_name,instance_content])\n",
    "\n",
    "    try:\n",
    "        mutex.get(timeout=timeout)\n",
    "    except Exception as e:\n",
    "        print(e)\n",
    "        pool.terminate()"
   ]
  },
  {
   "cell_type": "markdown",
   "metadata": {},
   "source": [
    "## Approach 7: no additional paths, simple threshold elimination, subgraph with corridor"
   ]
  },
  {
   "cell_type": "code",
   "execution_count": null,
   "metadata": {},
   "outputs": [
    {
     "name": "stdout",
     "output_type": "stream",
     "text": [
      "room_s29_a10_w5_h29\n",
      "29\n",
      "Grounding...\n"
     ]
    },
    {
     "name": "stderr",
     "output_type": "stream",
     "text": [
      "Current agent: 10 - at((12,10),0) => at((21,24),29): 100%|██████████| 10/10 [00:00<00:00, 15.71it/s]\n"
     ]
    },
    {
     "name": "stdout",
     "output_type": "stream",
     "text": [
      "SAT\n",
      "406 6 0.1\n",
      "[((2, 25), 26), ((29, 19), 25), ((1, 29), 21), ((21, 17), 20), ((2, 29), 20), ((29, 18), 26)]\n",
      "Grounding...\n",
      "Solving...\n",
      "Done\n",
      "Solver is True\n",
      "Grounding...\n",
      "Solving...\n",
      "Done\n",
      "Solver is True\n",
      "Grounding...\n",
      "Solving...\n",
      "Done\n",
      "Solver is True\n",
      "Grounding...\n",
      "Solving...\n",
      "Done\n",
      "Solver is True\n",
      "\n",
      "\n",
      "random_s20_a15_c75_h28\n",
      "28\n",
      "Grounding...\n"
     ]
    },
    {
     "name": "stderr",
     "output_type": "stream",
     "text": [
      "Current agent: 15 - at((17,7),0) => at((17,10),28): 100%|██████████| 15/15 [00:00<00:00, 36.11it/s]\n"
     ]
    },
    {
     "name": "stdout",
     "output_type": "stream",
     "text": [
      "SAT\n",
      "569 24 0.06666666666666667\n",
      "[((16, 6), 8), ((1, 2), 21), ((1, 2), 20), ((1, 2), 19), ((1, 2), 18), ((1, 2), 17), ((1, 2), 16), ((1, 2), 15), ((2, 2), 14), ((18, 3), 13), ((17, 3), 12), ((14, 9), 11), ((17, 7), 4), ((17, 7), 3), ((17, 7), 2), ((16, 3), 11), ((16, 4), 10), ((16, 7), 7), ((16, 5), 9), ((16, 8), 6), ((16, 7), 6), ((13, 7), 21), ((17, 7), 5), ((16, 8), 25)]\n",
      "Grounding...\n",
      "Solving...\n",
      "Done\n",
      "Solver is True\n",
      "Grounding...\n",
      "Solving...\n",
      "Done\n",
      "Solver is True\n",
      "Grounding...\n",
      "Solving...\n",
      "Done\n",
      "Solver is True\n",
      "Grounding...\n",
      "Solving...\n",
      "Done\n",
      "Solver is True\n",
      "\n",
      "\n",
      "maze_s10_a20_h40\n",
      "40\n",
      "Grounding...\n"
     ]
    },
    {
     "name": "stderr",
     "output_type": "stream",
     "text": [
      "Current agent: 20 - at((3,18),0) => at((1,18),4): 100%|██████████| 20/20 [00:00<00:00, 64.98it/s]   \n"
     ]
    },
    {
     "name": "stdout",
     "output_type": "stream",
     "text": [
      "SAT\n",
      "820 18 0.05\n",
      "[((10, 13), 32), ((9, 18), 32), ((16, 19), 30), ((14, 19), 28), ((5, 10), 24), ((18, 9), 23), ((5, 13), 19), ((5, 10), 16), ((9, 13), 15), ((9, 3), 13), ((11, 12), 12), ((11, 13), 11), ((9, 3), 8), ((16, 19), 5), ((3, 1), 5), ((3, 18), 4), ((1, 2), 2), ((15, 9), 1)]\n",
      "Grounding...\n",
      "Solving...\n",
      "Done\n",
      "Solver is True\n",
      "Grounding...\n",
      "Solving...\n",
      "Done\n",
      "Solver is True\n",
      "Grounding...\n",
      "Solving...\n",
      "Done\n",
      "Solver is True\n",
      "Grounding...\n",
      "Solving...\n",
      "Done\n",
      "Solver is True\n",
      "Grounding...\n",
      "Solving...\n",
      "Done\n",
      "Solver is True\n",
      "Grounding...\n",
      "Solving...\n",
      "Done\n",
      "Solver is True\n",
      "\n",
      "\n",
      "room_s19_a15_w4_h34\n",
      "34\n",
      "Grounding...\n"
     ]
    },
    {
     "name": "stderr",
     "output_type": "stream",
     "text": [
      "Current agent: 15 - at((15,19),0) => at((19,16),34): 100%|██████████| 15/15 [00:00<00:00, 32.29it/s]\n"
     ]
    },
    {
     "name": "stdout",
     "output_type": "stream",
     "text": [
      "SAT\n",
      "616 8 0.06666666666666667\n",
      "[((12, 9), 12), ((17, 11), 11), ((10, 18), 7), ((4, 5), 6), ((17, 11), 29), ((17, 13), 7), ((17, 7), 7), ((17, 11), 30)]\n",
      "Grounding...\n",
      "Solving...\n",
      "Done\n",
      "Solver is True\n",
      "Grounding...\n",
      "Solving...\n",
      "Done\n",
      "Solver is True\n",
      "Grounding...\n",
      "Solving...\n",
      "Done\n",
      "Solver is True\n",
      "Grounding...\n",
      "Solving...\n",
      "Done\n",
      "Solver is True\n",
      "Grounding...\n",
      "Solving...\n",
      "Done\n",
      "Solver is True\n",
      "Grounding...\n",
      "Solving...\n",
      "Done\n",
      "Solver is True\n",
      "Grounding...\n",
      "Solving...\n",
      "Done\n",
      "Solver is True\n",
      "\n",
      "\n",
      "maze_s20_a15_h68\n",
      "68\n",
      "Grounding...\n"
     ]
    },
    {
     "name": "stderr",
     "output_type": "stream",
     "text": [
      "Current agent: 15 - at((1,32),0) => at((5,32),68): 100%|██████████| 15/15 [00:01<00:00, 12.20it/s]  \n"
     ]
    },
    {
     "name": "stdout",
     "output_type": "stream",
     "text": [
      "SAT\n",
      "1047 6 0.06666666666666667\n",
      "[((15, 25), 45), ((6, 29), 22), ((26, 19), 20), ((12, 31), 14), ((4, 37), 6), ((1, 35), 11)]\n",
      "Grounding...\n",
      "Solving...\n",
      "Done\n",
      "Solver is True\n",
      "Grounding...\n",
      "Solving...\n",
      "Done\n",
      "Solver is True\n",
      "Grounding...\n",
      "Solving...\n",
      "Done\n",
      "Solver is True\n",
      "Grounding...\n",
      "Solving...\n",
      "Done\n",
      "Solver is True\n",
      "Grounding...\n",
      "Solving...\n",
      "Done\n",
      "Solver is True\n",
      "Grounding...\n",
      "Solving...\n",
      "Done\n",
      "Solver is True\n",
      "Grounding...\n",
      "Solving...\n",
      "Done\n",
      "Solver is True\n",
      "\n",
      "\n",
      "room_s47_a15_w5_h37\n",
      "37\n",
      "Grounding...\n"
     ]
    },
    {
     "name": "stderr",
     "output_type": "stream",
     "text": [
      "Current agent: 15 - at((47,34),0) => at((19,38),37): 100%|██████████| 15/15 [00:02<00:00,  6.62it/s]\n"
     ]
    },
    {
     "name": "stdout",
     "output_type": "stream",
     "text": [
      "SAT\n",
      "697 1 0.06666666666666667\n",
      "[((12, 32), 25)]\n",
      "Grounding...\n",
      "Solving...\n",
      "Done\n",
      "Solver is True\n",
      "Grounding...\n",
      "Solving...\n",
      "Done\n",
      "Solver is True\n",
      "Grounding...\n",
      "Solving...\n",
      "Done\n",
      "Solver is True\n",
      "Grounding...\n",
      "Solving...\n",
      "Done\n",
      "Solver is True\n",
      "\n",
      "\n",
      "maze_s10_a15_h38\n",
      "38\n",
      "Grounding...\n"
     ]
    },
    {
     "name": "stderr",
     "output_type": "stream",
     "text": [
      "Current agent: 15 - at((9,18),0) => at((10,17),38): 100%|██████████| 15/15 [00:00<00:00, 41.81it/s]\n"
     ]
    },
    {
     "name": "stdout",
     "output_type": "stream",
     "text": [
      "SAT\n",
      "733 54 0.06666666666666667\n",
      "[((9, 13), 27), ((9, 13), 21), ((9, 13), 7), ((9, 17), 37), ((8, 17), 36), ((15, 15), 33), ((11, 12), 24), ((7, 17), 14), ((7, 17), 13), ((7, 17), 12), ((7, 17), 11), ((7, 17), 10), ((7, 17), 9), ((7, 17), 8), ((7, 17), 7), ((7, 17), 6), ((9, 13), 28), ((9, 13), 26), ((9, 13), 25), ((9, 13), 24), ((9, 13), 23), ((9, 13), 22), ((9, 13), 20), ((9, 13), 19), ((9, 13), 18), ((9, 13), 17), ((9, 13), 16), ((9, 13), 15), ((9, 13), 14), ((9, 13), 13), ((9, 13), 12), ((9, 13), 11), ((9, 13), 10), ((9, 13), 9), ((9, 13), 8), ((9, 13), 6), ((9, 13), 5), ((9, 13), 4), ((9, 13), 29), ((7, 17), 35), ((7, 17), 15), ((9, 19), 2), ((10, 19), 1), ((7, 17), 16), ((10, 13), 3), ((9, 13), 30), ((6, 17), 34), ((9, 13), 31), ((7, 17), 17), ((4, 13), 36), ((6, 13), 34), ((4, 13), 32), ((4, 13), 26), ((4, 13), 16)]\n",
      "Grounding...\n",
      "Solving...\n",
      "Done\n",
      "Solver is True\n",
      "Grounding...\n",
      "Solving...\n",
      "Done\n",
      "Solver is True\n",
      "Grounding...\n",
      "Solving...\n",
      "Done\n",
      "Solver is True\n",
      "Grounding...\n",
      "Solving...\n",
      "Done\n",
      "Solver is True\n",
      "Grounding...\n",
      "Solving...\n",
      "Done\n",
      "Solver is True\n",
      "\n",
      "\n",
      "random_s10_a5_c50_h16\n",
      "16\n",
      "Grounding...\n"
     ]
    },
    {
     "name": "stderr",
     "output_type": "stream",
     "text": [
      "Current agent: 5 - at((9,3),0) => at((9,4),16): 100%|██████████| 5/5 [00:00<00:00, 136.88it/s]\n"
     ]
    },
    {
     "name": "stdout",
     "output_type": "stream",
     "text": [
      "SAT\n",
      "97 1 0.2\n",
      "[((9, 3), 1)]\n",
      "Grounding...\n",
      "Solving...\n",
      "Done\n",
      "Solver is True\n",
      "Grounding...\n",
      "Solving...\n",
      "Done\n",
      "Solver is True\n",
      "Grounding...\n",
      "Solving...\n",
      "Done\n",
      "Solver is True\n",
      "Grounding...\n",
      "Solving...\n",
      "Done\n",
      "Solver is True\n",
      "\n",
      "\n",
      "room_s29_a30_w5_h34\n",
      "34\n",
      "Grounding...\n"
     ]
    },
    {
     "name": "stderr",
     "output_type": "stream",
     "text": [
      "Current agent: 30 - at((28,15),0) => at((29,15),34): 100%|██████████| 30/30 [00:01<00:00, 16.74it/s]\n"
     ]
    },
    {
     "name": "stdout",
     "output_type": "stream",
     "text": [
      "SAT\n",
      "1409 83 0.03333333333333333\n",
      "[((6, 21), 9), ((23, 5), 5), ((24, 27), 31), ((14, 19), 28), ((14, 18), 27), ((14, 17), 26), ((23, 5), 23), ((23, 5), 22), ((23, 5), 21), ((23, 5), 20), ((23, 5), 19), ((23, 5), 18), ((23, 5), 17), ((23, 5), 16), ((10, 19), 15), ((23, 5), 15), ((6, 21), 15), ((18, 9), 14), ((23, 5), 14), ((23, 5), 13), ((23, 5), 12), ((23, 5), 11), ((6, 21), 11), ((13, 11), 11), ((29, 18), 11), ((23, 5), 10), ((6, 21), 10), ((13, 11), 10), ((29, 18), 10), ((23, 5), 9), ((13, 11), 9), ((29, 18), 9), ((18, 27), 8), ((23, 5), 8), ((6, 21), 8), ((13, 11), 8), ((29, 18), 8), ((23, 5), 7), ((6, 21), 7), ((13, 11), 7), ((29, 18), 7), ((23, 5), 6), ((6, 21), 6), ((13, 11), 6), ((5, 23), 6), ((29, 18), 6), ((6, 21), 5), ((13, 11), 5), ((29, 18), 5), ((23, 5), 4), ((6, 21), 4), ((13, 11), 4), ((29, 18), 4), ((23, 5), 3), ((6, 21), 3), ((13, 11), 3), ((6, 21), 2), ((13, 11), 2), ((29, 17), 31), ((16, 29), 30), ((18, 9), 17), ((19, 17), 28), ((22, 12), 19), ((17, 11), 17), ((6, 21), 21), ((6, 21), 12), ((23, 5), 24), ((16, 11), 24), ((19, 17), 24), ((6, 21), 13), ((19, 5), 29), ((18, 17), 25), ((5, 21), 22), ((22, 11), 20), ((16, 11), 18), ((6, 21), 14), ((7, 19), 18), ((17, 29), 29), ((17, 9), 18), ((14, 11), 12), ((18, 17), 29), ((23, 5), 25), ((17, 29), 5)]\n",
      "Grounding...\n",
      "Solving...\n",
      "Done\n",
      "Solver is True\n",
      "Grounding...\n",
      "Solving...\n",
      "Done\n",
      "Solver is True\n",
      "Grounding...\n",
      "Solving...\n",
      "Done\n",
      "Solver is True\n",
      "Grounding...\n",
      "Solving...\n",
      "Done\n",
      "Solver is True\n",
      "\n",
      "\n",
      "maze_s10_a25_h45\n",
      "45\n",
      "Grounding...\n"
     ]
    },
    {
     "name": "stderr",
     "output_type": "stream",
     "text": [
      "Current agent: 25 - at((16,15),0) => at((1,18),45): 100%|██████████| 25/25 [00:00<00:00, 37.44it/s] \n"
     ]
    },
    {
     "name": "stdout",
     "output_type": "stream",
     "text": [
      "SAT\n",
      "1376 157 0.04\n",
      "[((13, 15), 16), ((13, 15), 37), ((13, 15), 36), ((5, 10), 33), ((7, 3), 24), ((13, 15), 15), ((13, 15), 14), ((13, 15), 13), ((13, 15), 12), ((13, 15), 11), ((13, 15), 10), ((13, 15), 9), ((13, 15), 8), ((13, 15), 7), ((13, 15), 6), ((13, 15), 5), ((13, 15), 4), ((13, 15), 3), ((13, 15), 17), ((13, 15), 20), ((13, 15), 18), ((13, 15), 19), ((15, 9), 39), ((16, 9), 40), ((14, 15), 39), ((15, 15), 44), ((3, 17), 42), ((3, 16), 41), ((3, 15), 40), ((13, 12), 39), ((3, 14), 39), ((3, 13), 38), ((13, 14), 37), ((4, 13), 37), ((15, 11), 37), ((5, 13), 36), ((15, 11), 36), ((5, 12), 35), ((13, 15), 35), ((15, 11), 35), ((5, 11), 34), ((13, 15), 34), ((15, 11), 34), ((10, 13), 33), ((13, 15), 33), ((15, 11), 33), ((5, 9), 32), ((13, 15), 32), ((15, 11), 32), ((11, 12), 31), ((5, 8), 31), ((11, 6), 31), ((13, 15), 31), ((8, 13), 31), ((15, 11), 31), ((5, 7), 30), ((13, 15), 30), ((15, 11), 30), ((6, 13), 29), ((10, 13), 29), ((11, 3), 29), ((5, 6), 29), ((13, 15), 29), ((15, 11), 29), ((5, 5), 28), ((13, 15), 28), ((15, 11), 28), ((8, 13), 27), ((5, 4), 27), ((13, 15), 27), ((15, 11), 27), ((11, 11), 26), ((5, 3), 26), ((9, 3), 26), ((13, 15), 26), ((15, 11), 26), ((6, 3), 25), ((13, 15), 25), ((15, 11), 25), ((13, 15), 24), ((15, 11), 24), ((8, 3), 23), ((13, 15), 23), ((15, 11), 23), ((11, 11), 22), ((9, 3), 22), ((13, 15), 22), ((15, 11), 22), ((10, 3), 21), ((13, 15), 21), ((15, 11), 21), ((11, 3), 20), ((15, 11), 20), ((15, 11), 19), ((15, 11), 18), ((15, 11), 17), ((5, 10), 16), ((15, 11), 16), ((5, 10), 15), ((15, 11), 15), ((15, 11), 14), ((15, 11), 13), ((15, 11), 12), ((15, 11), 11), ((15, 11), 10), ((15, 11), 9), ((19, 5), 8), ((15, 11), 8), ((19, 5), 7), ((15, 11), 7), ((15, 19), 6), ((19, 5), 6), ((15, 11), 6), ((19, 5), 5), ((15, 11), 5), ((17, 19), 4), ((19, 5), 4), ((15, 11), 4), ((19, 5), 3), ((15, 11), 3), ((19, 19), 2), ((19, 5), 2), ((14, 15), 2), ((15, 11), 2), ((19, 5), 1), ((15, 15), 1), ((13, 15), 38), ((14, 15), 38), ((5, 10), 41), ((17, 9), 41), ((14, 15), 43), ((17, 10), 7), ((15, 10), 38), ((15, 19), 25), ((19, 5), 9), ((13, 15), 42), ((15, 19), 26), ((17, 10), 6), ((11, 12), 30), ((15, 19), 24), ((15, 15), 40), ((1, 8), 39), ((9, 19), 44), ((15, 15), 42), ((5, 11), 40), ((1, 9), 40), ((17, 10), 4), ((17, 10), 3), ((17, 10), 2), ((17, 10), 1), ((14, 15), 41), ((13, 14), 41), ((19, 5), 10), ((17, 10), 5), ((15, 15), 39), ((18, 9), 42), ((13, 13), 40)]\n",
      "Grounding...\n",
      "Solving...\n",
      "Done\n",
      "Solver is True\n",
      "Grounding...\n",
      "Solving...\n",
      "Done\n",
      "Solver is True\n",
      "Grounding...\n",
      "Solving...\n",
      "Done\n",
      "Solver is True\n",
      "Grounding...\n",
      "Solving...\n",
      "Done\n",
      "Solver is True\n",
      "\n",
      "\n",
      "room_s47_a10_w5_h59\n",
      "59\n",
      "Grounding...\n"
     ]
    },
    {
     "name": "stderr",
     "output_type": "stream",
     "text": [
      "Current agent: 10 - at((32,47),0) => at((33,1),59): 100%|██████████| 10/10 [00:02<00:00,  4.21it/s]\n"
     ]
    },
    {
     "name": "stdout",
     "output_type": "stream",
     "text": [
      "SAT\n",
      "639 1 0.1\n",
      "[((40, 14), 13)]\n",
      "Grounding...\n",
      "Solving...\n",
      "Done\n",
      "Solver is True\n",
      "Grounding...\n",
      "Solving...\n",
      "Done\n",
      "Solver is True\n",
      "Grounding...\n",
      "Solving...\n",
      "Done\n",
      "Solver is True\n",
      "Grounding...\n",
      "Solving...\n",
      "Done\n",
      "Solver is True\n",
      "\n",
      "\n",
      "room_s47_a5_w5_h50\n",
      "50\n",
      "Grounding...\n"
     ]
    },
    {
     "name": "stderr",
     "output_type": "stream",
     "text": [
      "Current agent: 5 - at((4,39),0) => at((29,16),50): 100%|██████████| 5/5 [00:01<00:00,  3.43it/s] \n"
     ]
    },
    {
     "name": "stdout",
     "output_type": "stream",
     "text": [
      "SAT\n",
      "286 0 0.2\n",
      "[]\n",
      "Grounding...\n",
      "Solving...\n",
      "Done\n",
      "Solver is True\n",
      "Grounding...\n"
     ]
    },
    {
     "name": "stderr",
     "output_type": "stream",
     "text": [
      "pathelimination/path_elimination.lp:2:5-25: info: atom does not occur in any rule head:\n",
      "  critical_vertex(V,T)\n",
      "\n",
      "pathelimination/path_elimination.lp:3:5-26: info: atom does not occur in any rule head:\n",
      "  critical_agent(R,V,T)\n",
      "\n",
      "pathselection/path_selection.lp:2:39-55: info: atom does not occur in any rule head:\n",
      "  path_killed(R,I)\n",
      "\n"
     ]
    },
    {
     "name": "stdout",
     "output_type": "stream",
     "text": [
      "Solving...\n",
      "Done\n",
      "Solver is True\n",
      "Grounding...\n",
      "Solving...\n",
      "Done\n",
      "Solver is True\n",
      "Grounding...\n",
      "Solving...\n",
      "Done\n",
      "Solver is True\n",
      "\n",
      "\n",
      "random_s40_a35_c75_h54\n",
      "54\n",
      "Grounding...\n"
     ]
    },
    {
     "name": "stderr",
     "output_type": "stream",
     "text": [
      "Current agent: 35 - at((24,39),0) => at((24,18),54): 100%|██████████| 35/35 [00:04<00:00,  8.46it/s]\n"
     ]
    },
    {
     "name": "stdout",
     "output_type": "stream",
     "text": [
      "SAT\n",
      "2064 38 0.02857142857142857\n",
      "[((36, 17), 53), ((36, 17), 52), ((36, 17), 51), ((36, 17), 50), ((36, 17), 49), ((36, 17), 48), ((36, 17), 47), ((36, 17), 46), ((36, 17), 45), ((36, 17), 44), ((36, 17), 43), ((36, 17), 42), ((36, 17), 41), ((36, 17), 40), ((15, 10), 40), ((36, 17), 39), ((22, 24), 39), ((36, 17), 38), ((36, 17), 37), ((36, 17), 36), ((36, 17), 35), ((36, 17), 34), ((36, 17), 33), ((36, 17), 32), ((36, 17), 31), ((36, 17), 30), ((36, 17), 29), ((24, 16), 29), ((36, 20), 26), ((36, 17), 23), ((37, 12), 17), ((28, 24), 3), ((34, 7), 10), ((26, 19), 6), ((37, 12), 35), ((26, 6), 41), ((36, 16), 5), ((35, 10), 8)]\n",
      "Grounding...\n",
      "Solving...\n",
      "Done\n",
      "Solver is True\n",
      "Grounding...\n",
      "Solving...\n",
      "Done\n",
      "Solver is True\n",
      "Grounding...\n",
      "Solving...\n",
      "Done\n",
      "Solver is True\n",
      "Grounding...\n",
      "Solving...\n",
      "Done\n",
      "Solver is True\n",
      "Grounding...\n",
      "Solving...\n",
      "Done\n",
      "Solver is True\n",
      "Grounding...\n",
      "Solving...\n",
      "Done\n",
      "Solver is True\n",
      "Grounding...\n",
      "Solving...\n",
      "Done\n",
      "Solver is True\n",
      "\n",
      "\n",
      "random_s30_a25_c75_h50\n",
      "50\n",
      "Grounding...\n"
     ]
    },
    {
     "name": "stderr",
     "output_type": "stream",
     "text": [
      "Current agent: 25 - at((10,28),0) => at((24,30),50): 100%|██████████| 25/25 [00:02<00:00, 11.51it/s]\n"
     ]
    },
    {
     "name": "stdout",
     "output_type": "stream",
     "text": [
      "SAT\n",
      "1503 32 0.04\n",
      "[((8, 19), 46), ((26, 19), 36), ((12, 12), 33), ((26, 19), 32), ((21, 13), 21), ((22, 13), 20), ((26, 20), 20), ((8, 3), 18), ((24, 3), 13), ((14, 13), 13), ((24, 2), 12), ((24, 1), 11), ((21, 13), 22), ((21, 13), 23), ((26, 21), 42), ((26, 18), 39), ((26, 21), 34), ((2, 9), 49), ((21, 13), 24), ((7, 18), 5), ((2, 10), 48), ((19, 7), 22), ((26, 19), 35), ((21, 14), 28), ((27, 3), 47), ((21, 13), 25), ((21, 14), 27), ((27, 4), 46), ((13, 13), 14), ((28, 3), 48), ((21, 13), 26), ((12, 13), 15)]\n",
      "Grounding...\n",
      "Solving...\n",
      "Done\n",
      "Solver is True\n",
      "Grounding...\n",
      "Solving...\n",
      "Done\n",
      "Solver is True\n",
      "Grounding...\n",
      "Solving...\n",
      "Done\n",
      "Solver is True\n",
      "Grounding...\n",
      "Solving...\n",
      "Done\n",
      "Solver is True\n",
      "\n",
      "\n",
      "room_s19_a25_w4_h30\n",
      "30\n",
      "Grounding...\n"
     ]
    },
    {
     "name": "stderr",
     "output_type": "stream",
     "text": [
      "Current agent: 25 - at((18,19),0) => at((18,17),30): 100%|██████████| 25/25 [00:00<00:00, 41.00it/s]\n"
     ]
    },
    {
     "name": "stdout",
     "output_type": "stream",
     "text": [
      "SAT\n",
      "920 27 0.04\n",
      "[((16, 15), 25), ((11, 11), 15), ((12, 6), 28), ((5, 8), 26), ((16, 16), 26), ((6, 8), 25), ((15, 19), 20), ((14, 10), 19), ((8, 5), 12), ((14, 10), 11), ((6, 8), 10), ((8, 5), 9), ((8, 6), 8), ((6, 8), 4), ((6, 8), 1), ((17, 17), 28), ((17, 16), 27), ((17, 18), 29), ((16, 15), 7), ((17, 7), 9), ((16, 9), 8), ((16, 14), 6), ((14, 6), 7), ((17, 14), 6), ((16, 9), 11), ((17, 12), 4), ((11, 11), 7)]\n",
      "Grounding...\n",
      "Solving...\n",
      "Done\n",
      "Solver is True\n",
      "Grounding...\n",
      "Solving...\n",
      "Done\n",
      "Solver is True\n",
      "Grounding...\n",
      "Solving...\n",
      "Done\n",
      "Solver is True\n",
      "Grounding...\n",
      "Solving...\n",
      "Done\n",
      "Solver is True\n",
      "\n",
      "\n",
      "random_s20_a15_c50_h43\n",
      "43\n",
      "Grounding...\n"
     ]
    },
    {
     "name": "stderr",
     "output_type": "stream",
     "text": [
      "Current agent: 15 - at((18,7),0) => at((17,17),43): 100%|██████████| 15/15 [00:00<00:00, 41.99it/s]\n"
     ]
    },
    {
     "name": "stdout",
     "output_type": "stream",
     "text": [
      "SAT\n",
      "739 34 0.06666666666666667\n",
      "[((16, 15), 20), ((19, 7), 41), ((2, 8), 37), ((18, 11), 36), ((2, 7), 36), ((2, 6), 35), ((2, 5), 34), ((2, 4), 33), ((2, 3), 32), ((2, 2), 31), ((3, 2), 30), ((4, 2), 29), ((14, 11), 27), ((14, 11), 26), ((18, 11), 23), ((19, 7), 18), ((14, 11), 14), ((17, 18), 14), ((19, 7), 8), ((19, 15), 2), ((11, 11), 1), ((17, 18), 42), ((19, 7), 24), ((18, 11), 29), ((11, 11), 29), ((19, 15), 7), ((14, 11), 32), ((18, 11), 30), ((12, 11), 29), ((14, 11), 31), ((17, 18), 41), ((19, 14), 8), ((16, 15), 35), ((19, 7), 25)]\n",
      "Grounding...\n",
      "Solving...\n",
      "Done\n",
      "Solver is True\n",
      "Grounding...\n",
      "Solving...\n",
      "Done\n",
      "Solver is True\n",
      "Grounding...\n",
      "Solving...\n",
      "Done\n",
      "Solver is True\n",
      "Grounding...\n",
      "Solving...\n",
      "Done\n",
      "Solver is True\n",
      "\n",
      "\n",
      "random_s10_a5_c75_h14\n",
      "14\n",
      "Grounding...\n"
     ]
    },
    {
     "name": "stderr",
     "output_type": "stream",
     "text": [
      "Current agent: 5 - at((8,10),0) => at((7,1),14): 100%|██████████| 5/5 [00:00<00:00, 96.50it/s]\n"
     ]
    },
    {
     "name": "stdout",
     "output_type": "stream",
     "text": [
      "SAT\n",
      "90 2 0.2\n",
      "[((6, 5), 4), ((5, 5), 3)]\n",
      "Grounding...\n",
      "Solving...\n",
      "Done\n",
      "Solver is True\n",
      "Grounding...\n",
      "Solving...\n",
      "Done\n",
      "Solver is True\n",
      "Grounding...\n",
      "Solving...\n",
      "Done\n",
      "Solver is True\n",
      "Grounding...\n",
      "Solving...\n",
      "Done\n",
      "Solver is True\n",
      "\n",
      "\n",
      "room_s29_a20_w5_h26\n",
      "26\n",
      "Grounding...\n"
     ]
    },
    {
     "name": "stderr",
     "output_type": "stream",
     "text": [
      "Current agent: 20 - at((29,14),0) => at((29,17),26): 100%|██████████| 20/20 [00:00<00:00, 20.52it/s]\n"
     ]
    },
    {
     "name": "stdout",
     "output_type": "stream",
     "text": [
      "SAT\n",
      "749 13 0.05\n",
      "[((24, 5), 11), ((24, 5), 10), ((24, 5), 9), ((24, 5), 8), ((24, 5), 7), ((24, 5), 6), ((22, 7), 24), ((22, 7), 23), ((24, 5), 12), ((29, 14), 16), ((29, 13), 15), ((24, 5), 13), ((25, 11), 2)]\n",
      "Grounding...\n",
      "Solving...\n",
      "Done\n",
      "Solver is True\n",
      "Grounding...\n",
      "Solving...\n",
      "Done\n",
      "Solver is True\n",
      "Grounding...\n",
      "Solving...\n",
      "Done\n",
      "Solver is True\n",
      "Grounding...\n",
      "Solving...\n",
      "Done\n",
      "Solver is True\n",
      "\n",
      "\n",
      "maze_s15_a20_h98\n",
      "98\n",
      "Grounding...\n"
     ]
    },
    {
     "name": "stderr",
     "output_type": "stream",
     "text": [
      "Current agent: 20 - at((13,22),0) => at((15,22),98): 100%|██████████| 20/20 [00:01<00:00, 15.74it/s]\n"
     ]
    },
    {
     "name": "stdout",
     "output_type": "stream",
     "text": [
      "SAT\n",
      "2002 32 0.05\n",
      "[((1, 5), 78), ((21, 20), 65), ((15, 26), 64), ((20, 21), 63), ((21, 21), 50), ((20, 21), 49), ((17, 16), 48), ((19, 21), 48), ((18, 21), 47), ((17, 21), 46), ((16, 21), 45), ((15, 21), 44), ((14, 21), 43), ((13, 21), 42), ((12, 21), 41), ((11, 21), 40), ((10, 21), 39), ((9, 21), 38), ((1, 20), 37), ((9, 20), 37), ((9, 19), 36), ((9, 18), 35), ((1, 20), 34), ((9, 17), 34), ((10, 17), 33), ((11, 17), 32), ((12, 17), 31), ((13, 17), 30), ((2, 19), 22), ((8, 29), 21), ((21, 22), 13), ((13, 17), 29)]\n",
      "Grounding...\n",
      "Solving...\n",
      "Done\n",
      "Solver is True\n",
      "Grounding...\n",
      "Solving...\n",
      "Done\n",
      "Solver is True\n",
      "Grounding...\n",
      "Solving...\n",
      "Done\n",
      "Solver is True\n",
      "Grounding...\n",
      "Solving...\n",
      "Done\n",
      "Solver is True\n",
      "\n",
      "\n",
      "room_s19_a5_w4_h25\n",
      "25\n",
      "Grounding...\n"
     ]
    },
    {
     "name": "stderr",
     "output_type": "stream",
     "text": [
      "Current agent: 5 - at((15,2),0) => at((10,6),25): 100%|██████████| 5/5 [00:00<00:00, 31.29it/s]\n"
     ]
    },
    {
     "name": "stdout",
     "output_type": "stream",
     "text": [
      "SAT\n",
      "167 1 0.2\n",
      "[((13, 4), 7)]\n",
      "Grounding...\n",
      "Solving...\n",
      "Done\n",
      "Solver is True\n",
      "Grounding...\n",
      "Solving...\n",
      "Done\n",
      "Solver is True\n",
      "Grounding...\n",
      "Solving...\n",
      "Done\n",
      "Solver is True\n",
      "Grounding...\n",
      "Solving...\n",
      "Done\n",
      "Solver is True\n",
      "\n",
      "\n"
     ]
    }
   ],
   "source": [
    "for instance_name, instance_content in instances_pool:\n",
    "    def approach(instance_name, instance_content):\n",
    "        print(instance_name)\n",
    "        rows = []\n",
    "        \n",
    "        r, s_ipf = base_ipf(instance_content)\n",
    "        \n",
    "        rows.append({\n",
    "            'Step Name' : 'base_ipf',\n",
    "            'Total Time' : s_ipf.total_time,\n",
    "            'Ground Time': s_ipf.total_time - s_ipf.solve_time,\n",
    "            'Solving Time': s_ipf.solve_time,\n",
    "            'SAT' : bool(r),\n",
    "            'Additional Data' : json.dumps(s_ipf.additional_data)\n",
    "        })\n",
    "        \n",
    "        ih, gh, lgh, s = global_heatmap(r + instance_content)\n",
    "        \n",
    "        rows.append({\n",
    "            'Step Name' : 'heatmaps',\n",
    "            'Total Time' : s.total_time,\n",
    "            'Ground Time': s.total_time - s.solve_time,\n",
    "            'Solving Time': s.solve_time,\n",
    "            'SAT' : bool(r),\n",
    "            'Additional Data' : json.dumps(s.additional_data)\n",
    "        })\n",
    "        \n",
    "        \n",
    "        cva ,s =  pe_simple_threshold(ih,gh,s_ipf.additional_data['nagent'])\n",
    "        \n",
    "        rows.append({\n",
    "            'Step Name' : 'simple_threshold',\n",
    "            'Total Time' : s.total_time,\n",
    "            'Ground Time': s.total_time - s.solve_time,\n",
    "            'Solving Time': s.solve_time,\n",
    "            'SAT' : bool(r),\n",
    "            'Additional Data' : json.dumps(s.additional_data)\n",
    "        })\n",
    "        \n",
    "        r,s = solver(r + cva + instance_content + lgh['pwlsh'], 'pathelimination/path_elimination.lp', additional_encodings=['pathelimination/convert_to_kill.lp'])\n",
    "        \n",
    "        rows.append({\n",
    "            'Step Name' : 'path_elimination',\n",
    "            'Total Time' : s.total_time,\n",
    "            'Ground Time': s.total_time - s.solve_time,\n",
    "            'Solving Time': s.solve_time,\n",
    "            'SAT' : bool(r),\n",
    "            'Additional Data' : json.dumps(s.additional_data)\n",
    "        })\n",
    "        \n",
    "        \n",
    "        r,s = solver(r, 'pathselection/path_selection.lp', parameters=['0','--opt-strategy=usc'])\n",
    "        \n",
    "        rows.append({\n",
    "            'Step Name' : 'path_selection',\n",
    "            'Total Time' : s.total_time,\n",
    "            'Ground Time': s.total_time - s.solve_time,\n",
    "            'Solving Time': s.solve_time,\n",
    "            'SAT' : bool(r),\n",
    "            'Additional Data' : json.dumps(s.additional_data)\n",
    "        })\n",
    "        # print(r)\n",
    "        \n",
    "        r,s = solver(r,'strategies/corridor.lp', additional_encodings=['strategies/determination.lp'])\n",
    "        \n",
    "        rows.append({\n",
    "            'Step Name' : 'strategy',\n",
    "            'Total Time' : s.total_time,\n",
    "            'Ground Time': s.total_time - s.solve_time,\n",
    "            'Solving Time': s.solve_time,\n",
    "            'SAT' : bool(r),\n",
    "            'Additional Data' : json.dumps(s.additional_data)\n",
    "        })\n",
    "        \n",
    "        r_,s = partial_solving(r, 'mapf/partial_solving.lp', subgraph='mapf/subgraph.lp', precomputed_path=False)\n",
    "        \n",
    "        rows.append({\n",
    "            'Step Name' : 'partial_solving',\n",
    "            'Total Time' : s.total_time,\n",
    "            'Ground Time': s.total_time - s.solve_time,\n",
    "            'Solving Time': s.solve_time,\n",
    "            'SAT' : bool(r_),\n",
    "            'Additional Data' : json.dumps(s.additional_data)\n",
    "        })\n",
    "        \n",
    "        for i in range (1,6,2):\n",
    "            if s.additional_data['ngoal_reached'] < s_ipf.additional_data['nagent']:\n",
    "                r_,s = partial_solving(r, 'mapf/partial_solving.lp', subgraph='mapf/subgraph.lp', precomputed_path=False,  horizon_modifier=i)\n",
    "        \n",
    "                rows.append({\n",
    "                    'Step Name' : f'partial_solving_additional_horizon',\n",
    "                    'Total Time' : s.total_time,\n",
    "                    'Ground Time': s.total_time - s.solve_time,\n",
    "                    'Solving Time': s.solve_time,\n",
    "                    'SAT' : bool(r_),\n",
    "                    'Additional Data' : json.dumps(s.additional_data)\n",
    "                })\n",
    "        \n",
    "        print('\\n')\n",
    "        write_csv(f'benchmarks_result/{instance_name}-approach07.csv', header,rows)\n",
    "        \n",
    "    pool = Pool(1)       \n",
    "    mutex = pool.apply_async(approach,[instance_name,instance_content])\n",
    "\n",
    "    try:\n",
    "        mutex.get(timeout=timeout)\n",
    "    except Exception as e:\n",
    "        print(e)\n",
    "        pool.terminate()"
   ]
  },
  {
   "cell_type": "markdown",
   "metadata": {},
   "source": [
    "## Approach 8: no additional paths, simple threshold elimination, subgraph with diamond"
   ]
  },
  {
   "cell_type": "code",
   "execution_count": null,
   "metadata": {},
   "outputs": [
    {
     "name": "stdout",
     "output_type": "stream",
     "text": [
      "room_s29_a10_w5_h29\n",
      "29\n"
     ]
    },
    {
     "name": "stdout",
     "output_type": "stream",
     "text": [
      "Grounding...\n"
     ]
    },
    {
     "name": "stderr",
     "output_type": "stream",
     "text": [
      "Current agent: 10 - at((12,10),0) => at((21,24),29): 100%|██████████| 10/10 [00:00<00:00, 15.33it/s]\n"
     ]
    },
    {
     "name": "stdout",
     "output_type": "stream",
     "text": [
      "SAT\n",
      "406 6 0.1\n",
      "[((2, 25), 26), ((29, 19), 25), ((1, 29), 21), ((21, 17), 20), ((2, 29), 20), ((29, 18), 26)]\n",
      "Grounding...\n",
      "Solving...\n",
      "Done\n",
      "Solver is True\n",
      "Grounding...\n",
      "Solving...\n",
      "Done\n",
      "Solver is True\n",
      "Grounding...\n",
      "Solving...\n",
      "Done\n",
      "Solver is True\n",
      "Grounding...\n",
      "Solving...\n",
      "Done\n",
      "Solver is True\n",
      "\n",
      "\n",
      "random_s20_a15_c75_h28\n",
      "28\n",
      "Grounding...\n"
     ]
    },
    {
     "name": "stderr",
     "output_type": "stream",
     "text": [
      "Current agent: 15 - at((17,7),0) => at((17,10),28): 100%|██████████| 15/15 [00:00<00:00, 32.64it/s]\n"
     ]
    },
    {
     "name": "stdout",
     "output_type": "stream",
     "text": [
      "SAT\n",
      "569 24 0.06666666666666667\n",
      "[((16, 6), 8), ((1, 2), 21), ((1, 2), 20), ((1, 2), 19), ((1, 2), 18), ((1, 2), 17), ((1, 2), 16), ((1, 2), 15), ((2, 2), 14), ((18, 3), 13), ((17, 3), 12), ((14, 9), 11), ((17, 7), 4), ((17, 7), 3), ((17, 7), 2), ((16, 3), 11), ((16, 4), 10), ((16, 7), 7), ((16, 5), 9), ((16, 8), 6), ((16, 7), 6), ((13, 7), 21), ((17, 7), 5), ((16, 8), 25)]\n",
      "Grounding...\n",
      "Solving...\n",
      "Done\n",
      "Solver is True\n",
      "Grounding...\n",
      "Solving...\n",
      "Done\n",
      "Solver is True\n",
      "Grounding...\n",
      "Solving...\n",
      "Done\n",
      "Solver is True\n",
      "Grounding...\n",
      "Solving...\n",
      "Done\n",
      "Solver is True\n",
      "\n",
      "\n",
      "maze_s10_a20_h40\n",
      "40\n",
      "Grounding...\n"
     ]
    },
    {
     "name": "stderr",
     "output_type": "stream",
     "text": [
      "Current agent: 20 - at((3,18),0) => at((1,18),4): 100%|██████████| 20/20 [00:00<00:00, 61.68it/s]   \n"
     ]
    },
    {
     "name": "stdout",
     "output_type": "stream",
     "text": [
      "SAT\n",
      "820 18 0.05\n",
      "[((10, 13), 32), ((9, 18), 32), ((16, 19), 30), ((14, 19), 28), ((5, 10), 24), ((18, 9), 23), ((5, 13), 19), ((5, 10), 16), ((9, 13), 15), ((9, 3), 13), ((11, 12), 12), ((11, 13), 11), ((9, 3), 8), ((16, 19), 5), ((3, 1), 5), ((3, 18), 4), ((1, 2), 2), ((15, 9), 1)]\n",
      "Grounding...\n",
      "Solving...\n",
      "Done\n",
      "Solver is True\n",
      "Grounding...\n",
      "Solving...\n",
      "Done\n",
      "Solver is True\n",
      "Grounding...\n",
      "Solving...\n",
      "Done\n",
      "Solver is True\n",
      "Grounding...\n",
      "Solving...\n",
      "Done\n",
      "Solver is True\n",
      "Grounding...\n",
      "Solving...\n",
      "Done\n",
      "Solver is True\n",
      "Grounding...\n",
      "Solving...\n",
      "Done\n",
      "Solver is True\n",
      "\n",
      "\n",
      "room_s19_a15_w4_h34\n",
      "34\n",
      "Grounding...\n"
     ]
    },
    {
     "name": "stderr",
     "output_type": "stream",
     "text": [
      "Current agent: 15 - at((15,19),0) => at((19,16),34): 100%|██████████| 15/15 [00:00<00:00, 31.23it/s]\n"
     ]
    },
    {
     "name": "stdout",
     "output_type": "stream",
     "text": [
      "SAT\n",
      "616 8 0.06666666666666667\n",
      "[((12, 9), 12), ((17, 11), 11), ((10, 18), 7), ((4, 5), 6), ((17, 11), 29), ((17, 13), 7), ((17, 7), 7), ((17, 11), 30)]\n",
      "Grounding...\n",
      "Solving...\n",
      "Done\n",
      "Solver is True\n",
      "Grounding...\n",
      "Solving...\n",
      "Done\n",
      "Solver is True\n",
      "Grounding...\n",
      "Solving...\n",
      "Done\n",
      "Solver is True\n",
      "Grounding...\n",
      "Solving...\n",
      "Done\n",
      "Solver is True\n",
      "Grounding...\n",
      "Solving...\n",
      "Done\n",
      "Solver is True\n",
      "Grounding...\n",
      "Solving...\n",
      "Done\n",
      "Solver is True\n",
      "Grounding...\n",
      "Solving...\n",
      "Done\n",
      "Solver is True\n",
      "\n",
      "\n",
      "maze_s20_a15_h68\n",
      "68\n",
      "Grounding...\n"
     ]
    },
    {
     "name": "stderr",
     "output_type": "stream",
     "text": [
      "Current agent: 15 - at((1,32),0) => at((5,32),68): 100%|██████████| 15/15 [00:01<00:00, 11.96it/s]  \n"
     ]
    },
    {
     "name": "stdout",
     "output_type": "stream",
     "text": [
      "SAT\n",
      "1047 6 0.06666666666666667\n",
      "[((15, 25), 45), ((6, 29), 22), ((26, 19), 20), ((12, 31), 14), ((4, 37), 6), ((1, 35), 11)]\n",
      "Grounding...\n",
      "Solving...\n",
      "Done\n",
      "Solver is True\n",
      "Grounding...\n",
      "Solving...\n",
      "Done\n",
      "Solver is True\n",
      "Grounding...\n",
      "Solving...\n",
      "Done\n",
      "Solver is True\n",
      "Grounding...\n",
      "Solving...\n",
      "Done\n",
      "Solver is True\n",
      "Grounding...\n",
      "Solving...\n",
      "Done\n",
      "Solver is True\n",
      "Grounding...\n",
      "Solving...\n",
      "Done\n",
      "Solver is True\n",
      "Grounding...\n",
      "Solving...\n",
      "Done\n",
      "Solver is True\n",
      "\n",
      "\n",
      "room_s47_a15_w5_h37\n",
      "37\n",
      "Grounding...\n"
     ]
    },
    {
     "name": "stderr",
     "output_type": "stream",
     "text": [
      "Current agent: 15 - at((47,34),0) => at((19,38),37): 100%|██████████| 15/15 [00:02<00:00,  6.67it/s]\n"
     ]
    },
    {
     "name": "stdout",
     "output_type": "stream",
     "text": [
      "SAT\n",
      "697 1 0.06666666666666667\n",
      "[((12, 32), 25)]\n",
      "Grounding...\n",
      "Solving...\n",
      "Done\n",
      "Solver is True\n",
      "Grounding...\n",
      "Solving...\n",
      "Done\n",
      "Solver is True\n",
      "Grounding...\n",
      "Solving...\n",
      "Done\n",
      "Solver is True\n",
      "Grounding...\n",
      "Solving...\n",
      "Done\n",
      "Solver is True\n",
      "\n",
      "\n",
      "maze_s10_a15_h38\n",
      "38\n",
      "Grounding...\n"
     ]
    },
    {
     "name": "stderr",
     "output_type": "stream",
     "text": [
      "Current agent: 15 - at((9,18),0) => at((10,17),38): 100%|██████████| 15/15 [00:00<00:00, 41.19it/s]\n"
     ]
    },
    {
     "name": "stdout",
     "output_type": "stream",
     "text": [
      "SAT\n",
      "733 54 0.06666666666666667\n",
      "[((9, 13), 27), ((9, 13), 21), ((9, 13), 7), ((9, 17), 37), ((8, 17), 36), ((15, 15), 33), ((11, 12), 24), ((7, 17), 14), ((7, 17), 13), ((7, 17), 12), ((7, 17), 11), ((7, 17), 10), ((7, 17), 9), ((7, 17), 8), ((7, 17), 7), ((7, 17), 6), ((9, 13), 28), ((9, 13), 26), ((9, 13), 25), ((9, 13), 24), ((9, 13), 23), ((9, 13), 22), ((9, 13), 20), ((9, 13), 19), ((9, 13), 18), ((9, 13), 17), ((9, 13), 16), ((9, 13), 15), ((9, 13), 14), ((9, 13), 13), ((9, 13), 12), ((9, 13), 11), ((9, 13), 10), ((9, 13), 9), ((9, 13), 8), ((9, 13), 6), ((9, 13), 5), ((9, 13), 4), ((9, 13), 29), ((7, 17), 35), ((7, 17), 15), ((9, 19), 2), ((10, 19), 1), ((7, 17), 16), ((10, 13), 3), ((9, 13), 30), ((6, 17), 34), ((9, 13), 31), ((7, 17), 17), ((4, 13), 36), ((6, 13), 34), ((4, 13), 32), ((4, 13), 26), ((4, 13), 16)]\n",
      "Grounding...\n",
      "Solving...\n",
      "Done\n",
      "Solver is True\n",
      "Grounding...\n",
      "Solving...\n",
      "Done\n",
      "Solver is True\n",
      "Grounding...\n",
      "Solving...\n",
      "Done\n",
      "Solver is True\n",
      "Grounding...\n",
      "Solving...\n",
      "Done\n",
      "Solver is True\n",
      "Grounding...\n",
      "Solving...\n",
      "Done\n",
      "Solver is True\n",
      "\n",
      "\n",
      "random_s10_a5_c50_h16\n",
      "16\n",
      "Grounding...\n"
     ]
    },
    {
     "name": "stderr",
     "output_type": "stream",
     "text": [
      "Current agent: 5 - at((9,3),0) => at((9,4),16): 100%|██████████| 5/5 [00:00<00:00, 106.72it/s]\n"
     ]
    },
    {
     "name": "stdout",
     "output_type": "stream",
     "text": [
      "SAT\n",
      "97 1 0.2\n",
      "[((9, 3), 1)]\n",
      "Grounding...\n",
      "Solving...\n",
      "Done\n",
      "Solver is True\n",
      "Grounding...\n",
      "Solving...\n",
      "Done\n",
      "Solver is True\n",
      "Grounding...\n",
      "Solving...\n",
      "Done\n",
      "Solver is True\n",
      "Grounding...\n",
      "Solving...\n",
      "Done\n",
      "Solver is True\n",
      "\n",
      "\n",
      "room_s29_a30_w5_h34\n",
      "34\n",
      "Grounding...\n"
     ]
    },
    {
     "name": "stderr",
     "output_type": "stream",
     "text": [
      "Current agent: 30 - at((28,15),0) => at((29,15),34): 100%|██████████| 30/30 [00:01<00:00, 16.67it/s]\n"
     ]
    },
    {
     "name": "stdout",
     "output_type": "stream",
     "text": [
      "SAT\n",
      "1409 83 0.03333333333333333\n",
      "[((6, 21), 9), ((23, 5), 5), ((24, 27), 31), ((14, 19), 28), ((14, 18), 27), ((14, 17), 26), ((23, 5), 23), ((23, 5), 22), ((23, 5), 21), ((23, 5), 20), ((23, 5), 19), ((23, 5), 18), ((23, 5), 17), ((23, 5), 16), ((10, 19), 15), ((23, 5), 15), ((6, 21), 15), ((18, 9), 14), ((23, 5), 14), ((23, 5), 13), ((23, 5), 12), ((23, 5), 11), ((6, 21), 11), ((13, 11), 11), ((29, 18), 11), ((23, 5), 10), ((6, 21), 10), ((13, 11), 10), ((29, 18), 10), ((23, 5), 9), ((13, 11), 9), ((29, 18), 9), ((18, 27), 8), ((23, 5), 8), ((6, 21), 8), ((13, 11), 8), ((29, 18), 8), ((23, 5), 7), ((6, 21), 7), ((13, 11), 7), ((29, 18), 7), ((23, 5), 6), ((6, 21), 6), ((13, 11), 6), ((5, 23), 6), ((29, 18), 6), ((6, 21), 5), ((13, 11), 5), ((29, 18), 5), ((23, 5), 4), ((6, 21), 4), ((13, 11), 4), ((29, 18), 4), ((23, 5), 3), ((6, 21), 3), ((13, 11), 3), ((6, 21), 2), ((13, 11), 2), ((29, 17), 31), ((16, 29), 30), ((18, 9), 17), ((19, 17), 28), ((22, 12), 19), ((17, 11), 17), ((6, 21), 21), ((6, 21), 12), ((23, 5), 24), ((16, 11), 24), ((19, 17), 24), ((6, 21), 13), ((19, 5), 29), ((18, 17), 25), ((5, 21), 22), ((22, 11), 20), ((16, 11), 18), ((6, 21), 14), ((7, 19), 18), ((17, 29), 29), ((17, 9), 18), ((14, 11), 12), ((18, 17), 29), ((23, 5), 25), ((17, 29), 5)]\n",
      "Grounding...\n",
      "Solving...\n",
      "Done\n",
      "Solver is True\n",
      "Grounding...\n",
      "Solving...\n",
      "Done\n",
      "Solver is True\n",
      "Grounding...\n",
      "Solving...\n",
      "Done\n",
      "Solver is True\n",
      "Grounding...\n",
      "Solving...\n",
      "Done\n",
      "Solver is True\n",
      "\n",
      "\n",
      "maze_s10_a25_h45\n",
      "45\n",
      "Grounding...\n"
     ]
    },
    {
     "name": "stderr",
     "output_type": "stream",
     "text": [
      "Current agent: 25 - at((16,15),0) => at((1,18),45): 100%|██████████| 25/25 [00:00<00:00, 37.13it/s] \n"
     ]
    },
    {
     "name": "stdout",
     "output_type": "stream",
     "text": [
      "SAT\n",
      "1376 157 0.04\n",
      "[((13, 15), 16), ((13, 15), 37), ((13, 15), 36), ((5, 10), 33), ((7, 3), 24), ((13, 15), 15), ((13, 15), 14), ((13, 15), 13), ((13, 15), 12), ((13, 15), 11), ((13, 15), 10), ((13, 15), 9), ((13, 15), 8), ((13, 15), 7), ((13, 15), 6), ((13, 15), 5), ((13, 15), 4), ((13, 15), 3), ((13, 15), 17), ((13, 15), 20), ((13, 15), 18), ((13, 15), 19), ((15, 9), 39), ((16, 9), 40), ((14, 15), 39), ((15, 15), 44), ((3, 17), 42), ((3, 16), 41), ((3, 15), 40), ((13, 12), 39), ((3, 14), 39), ((3, 13), 38), ((13, 14), 37), ((4, 13), 37), ((15, 11), 37), ((5, 13), 36), ((15, 11), 36), ((5, 12), 35), ((13, 15), 35), ((15, 11), 35), ((5, 11), 34), ((13, 15), 34), ((15, 11), 34), ((10, 13), 33), ((13, 15), 33), ((15, 11), 33), ((5, 9), 32), ((13, 15), 32), ((15, 11), 32), ((11, 12), 31), ((5, 8), 31), ((11, 6), 31), ((13, 15), 31), ((8, 13), 31), ((15, 11), 31), ((5, 7), 30), ((13, 15), 30), ((15, 11), 30), ((6, 13), 29), ((10, 13), 29), ((11, 3), 29), ((5, 6), 29), ((13, 15), 29), ((15, 11), 29), ((5, 5), 28), ((13, 15), 28), ((15, 11), 28), ((8, 13), 27), ((5, 4), 27), ((13, 15), 27), ((15, 11), 27), ((11, 11), 26), ((5, 3), 26), ((9, 3), 26), ((13, 15), 26), ((15, 11), 26), ((6, 3), 25), ((13, 15), 25), ((15, 11), 25), ((13, 15), 24), ((15, 11), 24), ((8, 3), 23), ((13, 15), 23), ((15, 11), 23), ((11, 11), 22), ((9, 3), 22), ((13, 15), 22), ((15, 11), 22), ((10, 3), 21), ((13, 15), 21), ((15, 11), 21), ((11, 3), 20), ((15, 11), 20), ((15, 11), 19), ((15, 11), 18), ((15, 11), 17), ((5, 10), 16), ((15, 11), 16), ((5, 10), 15), ((15, 11), 15), ((15, 11), 14), ((15, 11), 13), ((15, 11), 12), ((15, 11), 11), ((15, 11), 10), ((15, 11), 9), ((19, 5), 8), ((15, 11), 8), ((19, 5), 7), ((15, 11), 7), ((15, 19), 6), ((19, 5), 6), ((15, 11), 6), ((19, 5), 5), ((15, 11), 5), ((17, 19), 4), ((19, 5), 4), ((15, 11), 4), ((19, 5), 3), ((15, 11), 3), ((19, 19), 2), ((19, 5), 2), ((14, 15), 2), ((15, 11), 2), ((19, 5), 1), ((15, 15), 1), ((13, 15), 38), ((14, 15), 38), ((5, 10), 41), ((17, 9), 41), ((14, 15), 43), ((17, 10), 7), ((15, 10), 38), ((15, 19), 25), ((19, 5), 9), ((13, 15), 42), ((15, 19), 26), ((17, 10), 6), ((11, 12), 30), ((15, 19), 24), ((15, 15), 40), ((1, 8), 39), ((9, 19), 44), ((15, 15), 42), ((5, 11), 40), ((1, 9), 40), ((17, 10), 4), ((17, 10), 3), ((17, 10), 2), ((17, 10), 1), ((14, 15), 41), ((13, 14), 41), ((19, 5), 10), ((17, 10), 5), ((15, 15), 39), ((18, 9), 42), ((13, 13), 40)]\n",
      "Grounding...\n",
      "Solving...\n",
      "Done\n",
      "Solver is True\n",
      "Grounding...\n",
      "Solving...\n",
      "Done\n",
      "Solver is True\n",
      "Grounding...\n",
      "Solving...\n",
      "Done\n",
      "Solver is True\n",
      "Grounding...\n",
      "Solving...\n",
      "Done\n",
      "Solver is True\n",
      "\n",
      "\n",
      "room_s47_a10_w5_h59\n",
      "59\n",
      "Grounding...\n"
     ]
    },
    {
     "name": "stderr",
     "output_type": "stream",
     "text": [
      "Current agent: 10 - at((32,47),0) => at((33,1),59): 100%|██████████| 10/10 [00:02<00:00,  4.22it/s]\n"
     ]
    },
    {
     "name": "stdout",
     "output_type": "stream",
     "text": [
      "SAT\n",
      "639 1 0.1\n",
      "[((40, 14), 13)]\n",
      "Grounding...\n",
      "Solving...\n",
      "Done\n",
      "Solver is True\n",
      "Grounding...\n",
      "Solving...\n",
      "Done\n",
      "Solver is True\n",
      "Grounding...\n",
      "Solving...\n",
      "Done\n",
      "Solver is True\n",
      "Grounding...\n",
      "Solving...\n",
      "Done\n",
      "Solver is True\n",
      "\n",
      "\n",
      "room_s47_a5_w5_h50\n",
      "50\n",
      "Grounding...\n"
     ]
    },
    {
     "name": "stderr",
     "output_type": "stream",
     "text": [
      "Current agent: 5 - at((4,39),0) => at((29,16),50): 100%|██████████| 5/5 [00:01<00:00,  3.44it/s] \n"
     ]
    },
    {
     "name": "stdout",
     "output_type": "stream",
     "text": [
      "SAT\n",
      "286 0 0.2\n",
      "[]\n",
      "Grounding...\n",
      "Solving...\n",
      "Done\n",
      "Solver is True\n",
      "Grounding...\n"
     ]
    },
    {
     "name": "stderr",
     "output_type": "stream",
     "text": [
      "pathelimination/path_elimination.lp:2:5-25: info: atom does not occur in any rule head:\n",
      "  critical_vertex(V,T)\n",
      "\n",
      "pathelimination/path_elimination.lp:3:5-26: info: atom does not occur in any rule head:\n",
      "  critical_agent(R,V,T)\n",
      "\n"
     ]
    },
    {
     "name": "stdout",
     "output_type": "stream",
     "text": [
      "Solving...\n",
      "Done\n",
      "Solver is True\n",
      "Grounding...\n"
     ]
    },
    {
     "name": "stderr",
     "output_type": "stream",
     "text": [
      "pathselection/path_selection.lp:2:39-55: info: atom does not occur in any rule head:\n",
      "  path_killed(R,I)\n",
      "\n"
     ]
    },
    {
     "name": "stdout",
     "output_type": "stream",
     "text": [
      "Solving...\n",
      "Done\n",
      "Solver is True\n",
      "Grounding...\n",
      "Solving...\n",
      "Done\n",
      "Solver is True\n",
      "\n",
      "\n",
      "random_s40_a35_c75_h54\n",
      "54\n",
      "Grounding...\n"
     ]
    },
    {
     "name": "stderr",
     "output_type": "stream",
     "text": [
      "Current agent: 35 - at((24,39),0) => at((24,18),54): 100%|██████████| 35/35 [00:04<00:00,  8.42it/s]\n"
     ]
    },
    {
     "name": "stdout",
     "output_type": "stream",
     "text": [
      "SAT\n",
      "2064 38 0.02857142857142857\n",
      "[((36, 17), 53), ((36, 17), 52), ((36, 17), 51), ((36, 17), 50), ((36, 17), 49), ((36, 17), 48), ((36, 17), 47), ((36, 17), 46), ((36, 17), 45), ((36, 17), 44), ((36, 17), 43), ((36, 17), 42), ((36, 17), 41), ((36, 17), 40), ((15, 10), 40), ((36, 17), 39), ((22, 24), 39), ((36, 17), 38), ((36, 17), 37), ((36, 17), 36), ((36, 17), 35), ((36, 17), 34), ((36, 17), 33), ((36, 17), 32), ((36, 17), 31), ((36, 17), 30), ((36, 17), 29), ((24, 16), 29), ((36, 20), 26), ((36, 17), 23), ((37, 12), 17), ((28, 24), 3), ((34, 7), 10), ((26, 19), 6), ((37, 12), 35), ((26, 6), 41), ((36, 16), 5), ((35, 10), 8)]\n",
      "Grounding...\n",
      "Solving...\n",
      "Done\n",
      "Solver is True\n",
      "Grounding...\n",
      "Solving...\n",
      "Done\n",
      "Solver is True\n",
      "Grounding...\n",
      "Solving...\n",
      "Done\n",
      "Solver is True\n",
      "Grounding...\n",
      "Solving...\n",
      "Done\n",
      "Solver is True\n",
      "Grounding...\n",
      "Solving...\n",
      "Done\n",
      "Solver is True\n",
      "Grounding...\n",
      "Solving...\n",
      "Done\n",
      "Solver is True\n",
      "Grounding...\n",
      "Solving...\n",
      "Done\n",
      "Solver is True\n",
      "\n",
      "\n",
      "random_s30_a25_c75_h50\n",
      "50\n",
      "Grounding...\n"
     ]
    },
    {
     "name": "stderr",
     "output_type": "stream",
     "text": [
      "Current agent: 25 - at((10,28),0) => at((24,30),50): 100%|██████████| 25/25 [00:02<00:00, 11.37it/s]\n"
     ]
    },
    {
     "name": "stdout",
     "output_type": "stream",
     "text": [
      "SAT\n",
      "1503 32 0.04\n",
      "[((8, 19), 46), ((26, 19), 36), ((12, 12), 33), ((26, 19), 32), ((21, 13), 21), ((22, 13), 20), ((26, 20), 20), ((8, 3), 18), ((24, 3), 13), ((14, 13), 13), ((24, 2), 12), ((24, 1), 11), ((21, 13), 22), ((21, 13), 23), ((26, 21), 42), ((26, 18), 39), ((26, 21), 34), ((2, 9), 49), ((21, 13), 24), ((7, 18), 5), ((2, 10), 48), ((19, 7), 22), ((26, 19), 35), ((21, 14), 28), ((27, 3), 47), ((21, 13), 25), ((21, 14), 27), ((27, 4), 46), ((13, 13), 14), ((28, 3), 48), ((21, 13), 26), ((12, 13), 15)]\n",
      "Grounding...\n",
      "Solving...\n",
      "Done\n",
      "Solver is True\n",
      "Grounding...\n",
      "Solving...\n",
      "Done\n",
      "Solver is True\n",
      "Grounding...\n",
      "Solving...\n",
      "Done\n",
      "Solver is True\n",
      "Grounding...\n",
      "Solving...\n",
      "Done\n",
      "Solver is True\n",
      "\n",
      "\n",
      "room_s19_a25_w4_h30\n",
      "30\n",
      "Grounding...\n"
     ]
    },
    {
     "name": "stderr",
     "output_type": "stream",
     "text": [
      "Current agent: 25 - at((18,19),0) => at((18,17),30): 100%|██████████| 25/25 [00:00<00:00, 41.57it/s]\n"
     ]
    },
    {
     "name": "stdout",
     "output_type": "stream",
     "text": [
      "SAT\n",
      "920 27 0.04\n",
      "[((16, 15), 25), ((11, 11), 15), ((12, 6), 28), ((5, 8), 26), ((16, 16), 26), ((6, 8), 25), ((15, 19), 20), ((14, 10), 19), ((8, 5), 12), ((14, 10), 11), ((6, 8), 10), ((8, 5), 9), ((8, 6), 8), ((6, 8), 4), ((6, 8), 1), ((17, 17), 28), ((17, 16), 27), ((17, 18), 29), ((16, 15), 7), ((17, 7), 9), ((16, 9), 8), ((16, 14), 6), ((14, 6), 7), ((17, 14), 6), ((16, 9), 11), ((17, 12), 4), ((11, 11), 7)]\n",
      "Grounding...\n",
      "Solving...\n",
      "Done\n",
      "Solver is True\n",
      "Grounding...\n",
      "Solving...\n",
      "Done\n",
      "Solver is True\n",
      "Grounding...\n",
      "Solving...\n",
      "Done\n",
      "Solver is True\n",
      "Grounding...\n",
      "Solving...\n",
      "Done\n",
      "Solver is True\n",
      "\n",
      "\n",
      "random_s20_a15_c50_h43\n",
      "43\n",
      "Grounding...\n"
     ]
    },
    {
     "name": "stderr",
     "output_type": "stream",
     "text": [
      "Current agent: 15 - at((18,7),0) => at((17,17),43): 100%|██████████| 15/15 [00:00<00:00, 41.57it/s]\n"
     ]
    },
    {
     "name": "stdout",
     "output_type": "stream",
     "text": [
      "SAT\n",
      "739 34 0.06666666666666667\n",
      "[((16, 15), 20), ((19, 7), 41), ((2, 8), 37), ((18, 11), 36), ((2, 7), 36), ((2, 6), 35), ((2, 5), 34), ((2, 4), 33), ((2, 3), 32), ((2, 2), 31), ((3, 2), 30), ((4, 2), 29), ((14, 11), 27), ((14, 11), 26), ((18, 11), 23), ((19, 7), 18), ((14, 11), 14), ((17, 18), 14), ((19, 7), 8), ((19, 15), 2), ((11, 11), 1), ((17, 18), 42), ((19, 7), 24), ((18, 11), 29), ((11, 11), 29), ((19, 15), 7), ((14, 11), 32), ((18, 11), 30), ((12, 11), 29), ((14, 11), 31), ((17, 18), 41), ((19, 14), 8), ((16, 15), 35), ((19, 7), 25)]\n",
      "Grounding...\n",
      "Solving...\n",
      "Done\n",
      "Solver is True\n",
      "Grounding...\n",
      "Solving...\n",
      "Done\n",
      "Solver is True\n",
      "Grounding...\n",
      "Solving...\n",
      "Done\n",
      "Solver is True\n",
      "Grounding...\n",
      "Solving...\n",
      "Done\n",
      "Solver is True\n",
      "\n",
      "\n",
      "random_s10_a5_c75_h14\n",
      "14\n",
      "Grounding...\n"
     ]
    },
    {
     "name": "stderr",
     "output_type": "stream",
     "text": [
      "Current agent: 5 - at((8,10),0) => at((7,1),14): 100%|██████████| 5/5 [00:00<00:00, 123.20it/s]\n"
     ]
    },
    {
     "name": "stdout",
     "output_type": "stream",
     "text": [
      "SAT\n",
      "90 2 0.2\n",
      "[((6, 5), 4), ((5, 5), 3)]\n",
      "Grounding...\n",
      "Solving...\n",
      "Done\n",
      "Solver is True\n",
      "Grounding...\n",
      "Solving...\n",
      "Done\n",
      "Solver is True\n",
      "Grounding...\n",
      "Solving...\n",
      "Done\n",
      "Solver is True\n",
      "Grounding...\n",
      "Solving...\n",
      "Done\n",
      "Solver is True\n",
      "\n",
      "\n",
      "room_s29_a20_w5_h26\n",
      "26\n",
      "Grounding...\n"
     ]
    },
    {
     "name": "stderr",
     "output_type": "stream",
     "text": [
      "Current agent: 20 - at((29,14),0) => at((29,17),26): 100%|██████████| 20/20 [00:00<00:00, 20.62it/s]\n"
     ]
    },
    {
     "name": "stdout",
     "output_type": "stream",
     "text": [
      "SAT\n",
      "749 13 0.05\n",
      "[((24, 5), 11), ((24, 5), 10), ((24, 5), 9), ((24, 5), 8), ((24, 5), 7), ((24, 5), 6), ((22, 7), 24), ((22, 7), 23), ((24, 5), 12), ((29, 14), 16), ((29, 13), 15), ((24, 5), 13), ((25, 11), 2)]\n",
      "Grounding...\n",
      "Solving...\n",
      "Done\n",
      "Solver is True\n",
      "Grounding...\n",
      "Solving...\n",
      "Done\n",
      "Solver is True\n",
      "Grounding...\n",
      "Solving...\n",
      "Done\n",
      "Solver is True\n",
      "Grounding...\n",
      "Solving...\n",
      "Done\n",
      "Solver is True\n",
      "\n",
      "\n",
      "maze_s15_a20_h98\n",
      "98\n",
      "Grounding...\n"
     ]
    },
    {
     "name": "stderr",
     "output_type": "stream",
     "text": [
      "Current agent: 20 - at((13,22),0) => at((15,22),98): 100%|██████████| 20/20 [00:01<00:00, 16.00it/s]\n"
     ]
    },
    {
     "name": "stdout",
     "output_type": "stream",
     "text": [
      "SAT\n",
      "2002 32 0.05\n",
      "[((1, 5), 78), ((21, 20), 65), ((15, 26), 64), ((20, 21), 63), ((21, 21), 50), ((20, 21), 49), ((17, 16), 48), ((19, 21), 48), ((18, 21), 47), ((17, 21), 46), ((16, 21), 45), ((15, 21), 44), ((14, 21), 43), ((13, 21), 42), ((12, 21), 41), ((11, 21), 40), ((10, 21), 39), ((9, 21), 38), ((1, 20), 37), ((9, 20), 37), ((9, 19), 36), ((9, 18), 35), ((1, 20), 34), ((9, 17), 34), ((10, 17), 33), ((11, 17), 32), ((12, 17), 31), ((13, 17), 30), ((2, 19), 22), ((8, 29), 21), ((21, 22), 13), ((13, 17), 29)]\n",
      "Grounding...\n",
      "Solving...\n",
      "Done\n",
      "Solver is True\n",
      "Grounding...\n",
      "Solving...\n",
      "Done\n",
      "Solver is True\n",
      "Grounding...\n",
      "Solving...\n",
      "Done\n",
      "Solver is True\n",
      "Grounding...\n",
      "Solving...\n",
      "Done\n",
      "Solver is True\n",
      "\n",
      "\n",
      "room_s19_a5_w4_h25\n",
      "25\n",
      "Grounding...\n"
     ]
    },
    {
     "name": "stderr",
     "output_type": "stream",
     "text": [
      "Current agent: 5 - at((15,2),0) => at((10,6),25): 100%|██████████| 5/5 [00:00<00:00, 31.35it/s]\n"
     ]
    },
    {
     "name": "stdout",
     "output_type": "stream",
     "text": [
      "SAT\n",
      "167 1 0.2\n",
      "[((13, 4), 7)]\n",
      "Grounding...\n",
      "Solving...\n",
      "Done\n",
      "Solver is True\n",
      "Grounding...\n",
      "Solving...\n",
      "Done\n",
      "Solver is True\n",
      "Grounding...\n",
      "Solving...\n",
      "Done\n",
      "Solver is True\n",
      "Grounding...\n",
      "Solving...\n",
      "Done\n",
      "Solver is True\n",
      "\n",
      "\n"
     ]
    }
   ],
   "source": [
    "for instance_name, instance_content in instances_pool:\n",
    "    def approach(instance_name, instance_content):\n",
    "        print(instance_name)\n",
    "        rows = []\n",
    "        \n",
    "        r, s_ipf = base_ipf(instance_content)\n",
    "        \n",
    "        rows.append({\n",
    "            'Step Name' : 'base_ipf',\n",
    "            'Total Time' : s_ipf.total_time,\n",
    "            'Ground Time': s_ipf.total_time - s_ipf.solve_time,\n",
    "            'Solving Time': s_ipf.solve_time,\n",
    "            'SAT' : bool(r),\n",
    "            'Additional Data' : json.dumps(s_ipf.additional_data)\n",
    "        })\n",
    "        \n",
    "        ih, gh, lgh, s = global_heatmap(r + instance_content)\n",
    "        \n",
    "        rows.append({\n",
    "            'Step Name' : 'heatmaps',\n",
    "            'Total Time' : s.total_time,\n",
    "            'Ground Time': s.total_time - s.solve_time,\n",
    "            'Solving Time': s.solve_time,\n",
    "            'SAT' : bool(r),\n",
    "            'Additional Data' : json.dumps(s.additional_data)\n",
    "        })\n",
    "        \n",
    "        \n",
    "        cva ,s =  pe_simple_threshold(ih,gh,s_ipf.additional_data['nagent'])\n",
    "        \n",
    "        rows.append({\n",
    "            'Step Name' : 'simple_threshold',\n",
    "            'Total Time' : s.total_time,\n",
    "            'Ground Time': s.total_time - s.solve_time,\n",
    "            'Solving Time': s.solve_time,\n",
    "            'SAT' : bool(r),\n",
    "            'Additional Data' : json.dumps(s.additional_data)\n",
    "        })\n",
    "        \n",
    "        r,s = solver(r + cva + instance_content + lgh['pwlsh'], 'pathelimination/path_elimination.lp', additional_encodings=['pathelimination/convert_to_kill.lp'])\n",
    "        \n",
    "        rows.append({\n",
    "            'Step Name' : 'path_elimination',\n",
    "            'Total Time' : s.total_time,\n",
    "            'Ground Time': s.total_time - s.solve_time,\n",
    "            'Solving Time': s.solve_time,\n",
    "            'SAT' : bool(r),\n",
    "            'Additional Data' : json.dumps(s.additional_data)\n",
    "        })\n",
    "        \n",
    "        \n",
    "        r,s = solver(r, 'pathselection/path_selection.lp', parameters=['0','--opt-strategy=usc'])\n",
    "        \n",
    "        rows.append({\n",
    "            'Step Name' : 'path_selection',\n",
    "            'Total Time' : s.total_time,\n",
    "            'Ground Time': s.total_time - s.solve_time,\n",
    "            'Solving Time': s.solve_time,\n",
    "            'SAT' : bool(r),\n",
    "            'Additional Data' : json.dumps(s.additional_data)\n",
    "        })\n",
    "        # print(r)\n",
    "        \n",
    "        r,s = solver(r,'strategies/diamond.lp', additional_encodings=['strategies/determination.lp'])\n",
    "        \n",
    "        rows.append({\n",
    "            'Step Name' : 'strategy',\n",
    "            'Total Time' : s.total_time,\n",
    "            'Ground Time': s.total_time - s.solve_time,\n",
    "            'Solving Time': s.solve_time,\n",
    "            'SAT' : bool(r),\n",
    "            'Additional Data' : json.dumps(s.additional_data)\n",
    "        })\n",
    "        \n",
    "        r_,s = partial_solving(r, 'mapf/partial_solving.lp', subgraph='mapf/subgraph.lp', precomputed_path=False)\n",
    "        \n",
    "        rows.append({\n",
    "            'Step Name' : 'partial_solving',\n",
    "            'Total Time' : s.total_time,\n",
    "            'Ground Time': s.total_time - s.solve_time,\n",
    "            'Solving Time': s.solve_time,\n",
    "            'SAT' : bool(r_),\n",
    "            'Additional Data' : json.dumps(s.additional_data)\n",
    "        })\n",
    "        \n",
    "        for i in range (1,6,2):\n",
    "            if s.additional_data['ngoal_reached'] < s_ipf.additional_data['nagent']:\n",
    "                r_,s = partial_solving(r, 'mapf/partial_solving.lp', subgraph='mapf/subgraph.lp', precomputed_path=False,  horizon_modifier=i)\n",
    "        \n",
    "                rows.append({\n",
    "                    'Step Name' : f'partial_solving_additional_horizon',\n",
    "                    'Total Time' : s.total_time,\n",
    "                    'Ground Time': s.total_time - s.solve_time,\n",
    "                    'Solving Time': s.solve_time,\n",
    "                    'SAT' : bool(r_),\n",
    "                    'Additional Data' : json.dumps(s.additional_data)\n",
    "                })\n",
    "        \n",
    "        print('\\n')\n",
    "        write_csv(f'benchmarks_result/{instance_name}-approach08.csv', header,rows)\n",
    "        \n",
    "    pool = Pool(1)       \n",
    "    mutex = pool.apply_async(approach,[instance_name,instance_content])\n",
    "\n",
    "    try:\n",
    "        mutex.get(timeout=timeout)\n",
    "    except Exception as e:\n",
    "        print(e)\n",
    "        pool.terminate()"
   ]
  },
  {
   "cell_type": "markdown",
   "metadata": {},
   "source": [
    "## Approach 9: no additional paths, simple threshold elimination, subgraph with corridor and diamond"
   ]
  },
  {
   "cell_type": "code",
   "execution_count": null,
   "metadata": {},
   "outputs": [
    {
     "name": "stdout",
     "output_type": "stream",
     "text": [
      "room_s29_a10_w5_h29\n",
      "29\n"
     ]
    },
    {
     "name": "stdout",
     "output_type": "stream",
     "text": [
      "Grounding...\n"
     ]
    },
    {
     "name": "stderr",
     "output_type": "stream",
     "text": [
      "Current agent: 10 - at((12,10),0) => at((21,24),29): 100%|██████████| 10/10 [00:00<00:00, 15.22it/s]\n"
     ]
    },
    {
     "name": "stdout",
     "output_type": "stream",
     "text": [
      "SAT\n",
      "406 6 0.1\n",
      "[((2, 25), 26), ((29, 19), 25), ((1, 29), 21), ((21, 17), 20), ((2, 29), 20), ((29, 18), 26)]\n",
      "Grounding...\n",
      "Solving...\n",
      "Done\n",
      "Solver is True\n",
      "Grounding...\n",
      "Solving...\n",
      "Done\n",
      "Solver is True\n",
      "Grounding...\n",
      "Solving...\n",
      "Done\n",
      "Solver is True\n",
      "Grounding...\n",
      "Solving...\n",
      "Done\n",
      "Solver is True\n",
      "\n",
      "\n",
      "random_s20_a15_c75_h28\n",
      "28\n",
      "Grounding...\n"
     ]
    },
    {
     "name": "stderr",
     "output_type": "stream",
     "text": [
      "Current agent: 15 - at((17,7),0) => at((17,10),28): 100%|██████████| 15/15 [00:00<00:00, 34.66it/s]\n"
     ]
    },
    {
     "name": "stdout",
     "output_type": "stream",
     "text": [
      "SAT\n",
      "569 24 0.06666666666666667\n",
      "[((16, 6), 8), ((1, 2), 21), ((1, 2), 20), ((1, 2), 19), ((1, 2), 18), ((1, 2), 17), ((1, 2), 16), ((1, 2), 15), ((2, 2), 14), ((18, 3), 13), ((17, 3), 12), ((14, 9), 11), ((17, 7), 4), ((17, 7), 3), ((17, 7), 2), ((16, 3), 11), ((16, 4), 10), ((16, 7), 7), ((16, 5), 9), ((16, 8), 6), ((16, 7), 6), ((13, 7), 21), ((17, 7), 5), ((16, 8), 25)]\n",
      "Grounding...\n",
      "Solving...\n",
      "Done\n",
      "Solver is True\n",
      "Grounding...\n",
      "Solving...\n",
      "Done\n",
      "Solver is True\n",
      "Grounding...\n",
      "Solving...\n",
      "Done\n",
      "Solver is True\n",
      "Grounding...\n",
      "Solving...\n",
      "Done\n",
      "Solver is True\n",
      "\n",
      "\n",
      "maze_s10_a20_h40\n",
      "40\n",
      "Grounding...\n"
     ]
    },
    {
     "name": "stderr",
     "output_type": "stream",
     "text": [
      "Current agent: 20 - at((3,18),0) => at((1,18),4): 100%|██████████| 20/20 [00:00<00:00, 68.45it/s]   \n"
     ]
    },
    {
     "name": "stdout",
     "output_type": "stream",
     "text": [
      "SAT\n",
      "820 18 0.05\n",
      "[((10, 13), 32), ((9, 18), 32), ((16, 19), 30), ((14, 19), 28), ((5, 10), 24), ((18, 9), 23), ((5, 13), 19), ((5, 10), 16), ((9, 13), 15), ((9, 3), 13), ((11, 12), 12), ((11, 13), 11), ((9, 3), 8), ((16, 19), 5), ((3, 1), 5), ((3, 18), 4), ((1, 2), 2), ((15, 9), 1)]\n",
      "Grounding...\n",
      "Solving...\n",
      "Done\n",
      "Solver is True\n",
      "Grounding...\n",
      "Solving...\n",
      "Done\n",
      "Solver is True\n",
      "Grounding...\n",
      "Solving...\n",
      "Done\n",
      "Solver is True\n",
      "Grounding...\n",
      "Solving...\n",
      "Done\n",
      "Solver is True\n",
      "Grounding...\n",
      "Solving...\n",
      "Done\n",
      "Solver is True\n",
      "Grounding...\n",
      "Solving...\n",
      "Done\n",
      "Solver is True\n",
      "\n",
      "\n",
      "room_s19_a15_w4_h34\n",
      "34\n",
      "Grounding...\n"
     ]
    },
    {
     "name": "stderr",
     "output_type": "stream",
     "text": [
      "Current agent: 15 - at((15,19),0) => at((19,16),34): 100%|██████████| 15/15 [00:00<00:00, 33.28it/s]\n"
     ]
    },
    {
     "name": "stdout",
     "output_type": "stream",
     "text": [
      "SAT\n",
      "616 8 0.06666666666666667\n",
      "[((12, 9), 12), ((17, 11), 11), ((10, 18), 7), ((4, 5), 6), ((17, 11), 29), ((17, 13), 7), ((17, 7), 7), ((17, 11), 30)]\n",
      "Grounding...\n",
      "Solving...\n",
      "Done\n",
      "Solver is True\n",
      "Grounding...\n",
      "Solving...\n",
      "Done\n",
      "Solver is True\n",
      "Grounding...\n",
      "Solving...\n",
      "Done\n",
      "Solver is True\n",
      "Grounding...\n",
      "Solving...\n",
      "Done\n",
      "Solver is True\n",
      "Grounding...\n",
      "Solving...\n",
      "Done\n",
      "Solver is True\n",
      "Grounding...\n",
      "Solving...\n",
      "Done\n",
      "Solver is True\n",
      "Grounding...\n",
      "Solving...\n",
      "Done\n",
      "Solver is True\n",
      "\n",
      "\n",
      "maze_s20_a15_h68\n",
      "68\n",
      "Grounding...\n"
     ]
    },
    {
     "name": "stderr",
     "output_type": "stream",
     "text": [
      "Current agent: 15 - at((1,32),0) => at((5,32),68): 100%|██████████| 15/15 [00:01<00:00, 11.98it/s]  \n"
     ]
    },
    {
     "name": "stdout",
     "output_type": "stream",
     "text": [
      "SAT\n",
      "1047 6 0.06666666666666667\n",
      "[((15, 25), 45), ((6, 29), 22), ((26, 19), 20), ((12, 31), 14), ((4, 37), 6), ((1, 35), 11)]\n",
      "Grounding...\n",
      "Solving...\n",
      "Done\n",
      "Solver is True\n",
      "Grounding...\n",
      "Solving...\n",
      "Done\n",
      "Solver is True\n",
      "Grounding...\n",
      "Solving...\n",
      "Done\n",
      "Solver is True\n",
      "Grounding...\n",
      "Solving...\n",
      "Done\n",
      "Solver is True\n",
      "Grounding...\n",
      "Solving...\n",
      "Done\n",
      "Solver is True\n",
      "Grounding...\n",
      "Solving...\n",
      "Done\n",
      "Solver is True\n",
      "Grounding...\n",
      "Solving...\n",
      "Done\n",
      "Solver is True\n",
      "\n",
      "\n",
      "room_s47_a15_w5_h37\n",
      "37\n",
      "Grounding...\n"
     ]
    },
    {
     "name": "stderr",
     "output_type": "stream",
     "text": [
      "Current agent: 15 - at((47,34),0) => at((19,38),37): 100%|██████████| 15/15 [00:02<00:00,  6.67it/s]\n"
     ]
    },
    {
     "name": "stdout",
     "output_type": "stream",
     "text": [
      "SAT\n",
      "697 1 0.06666666666666667\n",
      "[((12, 32), 25)]\n",
      "Grounding...\n",
      "Solving...\n",
      "Done\n",
      "Solver is True\n",
      "Grounding...\n",
      "Solving...\n",
      "Done\n",
      "Solver is True\n",
      "Grounding...\n",
      "Solving...\n",
      "Done\n",
      "Solver is True\n",
      "Grounding...\n",
      "Solving...\n",
      "Done\n",
      "Solver is True\n",
      "\n",
      "\n",
      "maze_s10_a15_h38\n",
      "38\n",
      "Grounding...\n"
     ]
    },
    {
     "name": "stderr",
     "output_type": "stream",
     "text": [
      "Current agent: 15 - at((9,18),0) => at((10,17),38): 100%|██████████| 15/15 [00:00<00:00, 41.75it/s]\n"
     ]
    },
    {
     "name": "stdout",
     "output_type": "stream",
     "text": [
      "SAT\n",
      "733 54 0.06666666666666667\n",
      "[((9, 13), 27), ((9, 13), 21), ((9, 13), 7), ((9, 17), 37), ((8, 17), 36), ((15, 15), 33), ((11, 12), 24), ((7, 17), 14), ((7, 17), 13), ((7, 17), 12), ((7, 17), 11), ((7, 17), 10), ((7, 17), 9), ((7, 17), 8), ((7, 17), 7), ((7, 17), 6), ((9, 13), 28), ((9, 13), 26), ((9, 13), 25), ((9, 13), 24), ((9, 13), 23), ((9, 13), 22), ((9, 13), 20), ((9, 13), 19), ((9, 13), 18), ((9, 13), 17), ((9, 13), 16), ((9, 13), 15), ((9, 13), 14), ((9, 13), 13), ((9, 13), 12), ((9, 13), 11), ((9, 13), 10), ((9, 13), 9), ((9, 13), 8), ((9, 13), 6), ((9, 13), 5), ((9, 13), 4), ((9, 13), 29), ((7, 17), 35), ((7, 17), 15), ((9, 19), 2), ((10, 19), 1), ((7, 17), 16), ((10, 13), 3), ((9, 13), 30), ((6, 17), 34), ((9, 13), 31), ((7, 17), 17), ((4, 13), 36), ((6, 13), 34), ((4, 13), 32), ((4, 13), 26), ((4, 13), 16)]\n",
      "Grounding...\n",
      "Solving...\n",
      "Done\n",
      "Solver is True\n",
      "Grounding...\n",
      "Solving...\n",
      "Done\n",
      "Solver is True\n",
      "Grounding...\n",
      "Solving...\n",
      "Done\n",
      "Solver is True\n",
      "Grounding...\n",
      "Solving...\n",
      "Done\n",
      "Solver is True\n",
      "Grounding...\n",
      "Solving...\n",
      "Done\n",
      "Solver is True\n",
      "\n",
      "\n",
      "random_s10_a5_c50_h16\n",
      "16\n",
      "Grounding...\n"
     ]
    },
    {
     "name": "stderr",
     "output_type": "stream",
     "text": [
      "Current agent: 5 - at((9,3),0) => at((9,4),16): 100%|██████████| 5/5 [00:00<00:00, 147.08it/s]\n"
     ]
    },
    {
     "name": "stdout",
     "output_type": "stream",
     "text": [
      "SAT\n",
      "97 1 0.2\n",
      "[((9, 3), 1)]\n",
      "Grounding...\n",
      "Solving...\n",
      "Done\n",
      "Solver is True\n",
      "Grounding...\n",
      "Solving...\n",
      "Done\n",
      "Solver is True\n",
      "Grounding...\n",
      "Solving...\n",
      "Done\n",
      "Solver is True\n",
      "Grounding...\n",
      "Solving...\n",
      "Done\n",
      "Solver is True\n",
      "\n",
      "\n",
      "room_s29_a30_w5_h34\n",
      "34\n",
      "Grounding...\n"
     ]
    },
    {
     "name": "stderr",
     "output_type": "stream",
     "text": [
      "Current agent: 30 - at((28,15),0) => at((29,15),34): 100%|██████████| 30/30 [00:01<00:00, 17.05it/s]\n"
     ]
    },
    {
     "name": "stdout",
     "output_type": "stream",
     "text": [
      "SAT\n",
      "1409 83 0.03333333333333333\n",
      "[((6, 21), 9), ((23, 5), 5), ((24, 27), 31), ((14, 19), 28), ((14, 18), 27), ((14, 17), 26), ((23, 5), 23), ((23, 5), 22), ((23, 5), 21), ((23, 5), 20), ((23, 5), 19), ((23, 5), 18), ((23, 5), 17), ((23, 5), 16), ((10, 19), 15), ((23, 5), 15), ((6, 21), 15), ((18, 9), 14), ((23, 5), 14), ((23, 5), 13), ((23, 5), 12), ((23, 5), 11), ((6, 21), 11), ((13, 11), 11), ((29, 18), 11), ((23, 5), 10), ((6, 21), 10), ((13, 11), 10), ((29, 18), 10), ((23, 5), 9), ((13, 11), 9), ((29, 18), 9), ((18, 27), 8), ((23, 5), 8), ((6, 21), 8), ((13, 11), 8), ((29, 18), 8), ((23, 5), 7), ((6, 21), 7), ((13, 11), 7), ((29, 18), 7), ((23, 5), 6), ((6, 21), 6), ((13, 11), 6), ((5, 23), 6), ((29, 18), 6), ((6, 21), 5), ((13, 11), 5), ((29, 18), 5), ((23, 5), 4), ((6, 21), 4), ((13, 11), 4), ((29, 18), 4), ((23, 5), 3), ((6, 21), 3), ((13, 11), 3), ((6, 21), 2), ((13, 11), 2), ((29, 17), 31), ((16, 29), 30), ((18, 9), 17), ((19, 17), 28), ((22, 12), 19), ((17, 11), 17), ((6, 21), 21), ((6, 21), 12), ((23, 5), 24), ((16, 11), 24), ((19, 17), 24), ((6, 21), 13), ((19, 5), 29), ((18, 17), 25), ((5, 21), 22), ((22, 11), 20), ((16, 11), 18), ((6, 21), 14), ((7, 19), 18), ((17, 29), 29), ((17, 9), 18), ((14, 11), 12), ((18, 17), 29), ((23, 5), 25), ((17, 29), 5)]\n",
      "Grounding...\n",
      "Solving...\n",
      "Done\n",
      "Solver is True\n",
      "Grounding...\n",
      "Solving...\n",
      "Done\n",
      "Solver is True\n",
      "Grounding...\n",
      "Solving...\n",
      "Done\n",
      "Solver is True\n",
      "Grounding...\n",
      "Solving...\n",
      "Done\n",
      "Solver is True\n",
      "\n",
      "\n",
      "maze_s10_a25_h45\n",
      "45\n",
      "Grounding...\n"
     ]
    },
    {
     "name": "stderr",
     "output_type": "stream",
     "text": [
      "Current agent: 25 - at((16,15),0) => at((1,18),45): 100%|██████████| 25/25 [00:00<00:00, 37.63it/s] \n"
     ]
    },
    {
     "name": "stdout",
     "output_type": "stream",
     "text": [
      "SAT\n",
      "1376 157 0.04\n",
      "[((13, 15), 16), ((13, 15), 37), ((13, 15), 36), ((5, 10), 33), ((7, 3), 24), ((13, 15), 15), ((13, 15), 14), ((13, 15), 13), ((13, 15), 12), ((13, 15), 11), ((13, 15), 10), ((13, 15), 9), ((13, 15), 8), ((13, 15), 7), ((13, 15), 6), ((13, 15), 5), ((13, 15), 4), ((13, 15), 3), ((13, 15), 17), ((13, 15), 20), ((13, 15), 18), ((13, 15), 19), ((15, 9), 39), ((16, 9), 40), ((14, 15), 39), ((15, 15), 44), ((3, 17), 42), ((3, 16), 41), ((3, 15), 40), ((13, 12), 39), ((3, 14), 39), ((3, 13), 38), ((13, 14), 37), ((4, 13), 37), ((15, 11), 37), ((5, 13), 36), ((15, 11), 36), ((5, 12), 35), ((13, 15), 35), ((15, 11), 35), ((5, 11), 34), ((13, 15), 34), ((15, 11), 34), ((10, 13), 33), ((13, 15), 33), ((15, 11), 33), ((5, 9), 32), ((13, 15), 32), ((15, 11), 32), ((11, 12), 31), ((5, 8), 31), ((11, 6), 31), ((13, 15), 31), ((8, 13), 31), ((15, 11), 31), ((5, 7), 30), ((13, 15), 30), ((15, 11), 30), ((6, 13), 29), ((10, 13), 29), ((11, 3), 29), ((5, 6), 29), ((13, 15), 29), ((15, 11), 29), ((5, 5), 28), ((13, 15), 28), ((15, 11), 28), ((8, 13), 27), ((5, 4), 27), ((13, 15), 27), ((15, 11), 27), ((11, 11), 26), ((5, 3), 26), ((9, 3), 26), ((13, 15), 26), ((15, 11), 26), ((6, 3), 25), ((13, 15), 25), ((15, 11), 25), ((13, 15), 24), ((15, 11), 24), ((8, 3), 23), ((13, 15), 23), ((15, 11), 23), ((11, 11), 22), ((9, 3), 22), ((13, 15), 22), ((15, 11), 22), ((10, 3), 21), ((13, 15), 21), ((15, 11), 21), ((11, 3), 20), ((15, 11), 20), ((15, 11), 19), ((15, 11), 18), ((15, 11), 17), ((5, 10), 16), ((15, 11), 16), ((5, 10), 15), ((15, 11), 15), ((15, 11), 14), ((15, 11), 13), ((15, 11), 12), ((15, 11), 11), ((15, 11), 10), ((15, 11), 9), ((19, 5), 8), ((15, 11), 8), ((19, 5), 7), ((15, 11), 7), ((15, 19), 6), ((19, 5), 6), ((15, 11), 6), ((19, 5), 5), ((15, 11), 5), ((17, 19), 4), ((19, 5), 4), ((15, 11), 4), ((19, 5), 3), ((15, 11), 3), ((19, 19), 2), ((19, 5), 2), ((14, 15), 2), ((15, 11), 2), ((19, 5), 1), ((15, 15), 1), ((13, 15), 38), ((14, 15), 38), ((5, 10), 41), ((17, 9), 41), ((14, 15), 43), ((17, 10), 7), ((15, 10), 38), ((15, 19), 25), ((19, 5), 9), ((13, 15), 42), ((15, 19), 26), ((17, 10), 6), ((11, 12), 30), ((15, 19), 24), ((15, 15), 40), ((1, 8), 39), ((9, 19), 44), ((15, 15), 42), ((5, 11), 40), ((1, 9), 40), ((17, 10), 4), ((17, 10), 3), ((17, 10), 2), ((17, 10), 1), ((14, 15), 41), ((13, 14), 41), ((19, 5), 10), ((17, 10), 5), ((15, 15), 39), ((18, 9), 42), ((13, 13), 40)]\n",
      "Grounding...\n",
      "Solving...\n",
      "Done\n",
      "Solver is True\n",
      "Grounding...\n",
      "Solving...\n",
      "Done\n",
      "Solver is True\n",
      "Grounding...\n",
      "Solving...\n",
      "Done\n",
      "Solver is True\n",
      "Grounding...\n",
      "Solving...\n",
      "Done\n",
      "Solver is True\n",
      "\n",
      "\n",
      "room_s47_a10_w5_h59\n",
      "59\n",
      "Grounding...\n"
     ]
    },
    {
     "name": "stderr",
     "output_type": "stream",
     "text": [
      "Current agent: 10 - at((32,47),0) => at((33,1),59): 100%|██████████| 10/10 [00:02<00:00,  4.25it/s]\n"
     ]
    },
    {
     "name": "stdout",
     "output_type": "stream",
     "text": [
      "SAT\n",
      "639 1 0.1\n",
      "[((40, 14), 13)]\n",
      "Grounding...\n",
      "Solving...\n",
      "Done\n",
      "Solver is True\n",
      "Grounding...\n",
      "Solving...\n",
      "Done\n",
      "Solver is True\n",
      "Grounding...\n",
      "Solving...\n",
      "Done\n",
      "Solver is True\n",
      "Grounding...\n",
      "Solving...\n",
      "Done\n",
      "Solver is True\n",
      "\n",
      "\n",
      "room_s47_a5_w5_h50\n",
      "50\n",
      "Grounding...\n"
     ]
    },
    {
     "name": "stderr",
     "output_type": "stream",
     "text": [
      "Current agent: 5 - at((4,39),0) => at((29,16),50): 100%|██████████| 5/5 [00:01<00:00,  3.47it/s] \n"
     ]
    },
    {
     "name": "stdout",
     "output_type": "stream",
     "text": [
      "SAT\n",
      "286 0 0.2\n",
      "[]\n",
      "Grounding...\n",
      "Solving...\n",
      "Done\n",
      "Solver is True\n",
      "Grounding...\n"
     ]
    },
    {
     "name": "stderr",
     "output_type": "stream",
     "text": [
      "pathelimination/path_elimination.lp:2:5-25: info: atom does not occur in any rule head:\n",
      "  critical_vertex(V,T)\n",
      "\n",
      "pathelimination/path_elimination.lp:3:5-26: info: atom does not occur in any rule head:\n",
      "  critical_agent(R,V,T)\n",
      "\n"
     ]
    },
    {
     "name": "stdout",
     "output_type": "stream",
     "text": [
      "Solving...\n",
      "Done\n",
      "Solver is True\n",
      "Grounding...\n"
     ]
    },
    {
     "name": "stderr",
     "output_type": "stream",
     "text": [
      "pathselection/path_selection.lp:2:39-55: info: atom does not occur in any rule head:\n",
      "  path_killed(R,I)\n",
      "\n"
     ]
    },
    {
     "name": "stdout",
     "output_type": "stream",
     "text": [
      "Solving...\n",
      "Done\n",
      "Solver is True\n",
      "Grounding...\n",
      "Solving...\n",
      "Done\n",
      "Solver is True\n",
      "\n",
      "\n",
      "random_s40_a35_c75_h54\n",
      "54\n",
      "Grounding...\n"
     ]
    },
    {
     "name": "stderr",
     "output_type": "stream",
     "text": [
      "Current agent: 35 - at((24,39),0) => at((24,18),54): 100%|██████████| 35/35 [00:04<00:00,  8.42it/s]\n"
     ]
    },
    {
     "name": "stdout",
     "output_type": "stream",
     "text": [
      "SAT\n",
      "2064 38 0.02857142857142857\n",
      "[((36, 17), 53), ((36, 17), 52), ((36, 17), 51), ((36, 17), 50), ((36, 17), 49), ((36, 17), 48), ((36, 17), 47), ((36, 17), 46), ((36, 17), 45), ((36, 17), 44), ((36, 17), 43), ((36, 17), 42), ((36, 17), 41), ((36, 17), 40), ((15, 10), 40), ((36, 17), 39), ((22, 24), 39), ((36, 17), 38), ((36, 17), 37), ((36, 17), 36), ((36, 17), 35), ((36, 17), 34), ((36, 17), 33), ((36, 17), 32), ((36, 17), 31), ((36, 17), 30), ((36, 17), 29), ((24, 16), 29), ((36, 20), 26), ((36, 17), 23), ((37, 12), 17), ((28, 24), 3), ((34, 7), 10), ((26, 19), 6), ((37, 12), 35), ((26, 6), 41), ((36, 16), 5), ((35, 10), 8)]\n",
      "Grounding...\n",
      "Solving...\n",
      "Done\n",
      "Solver is True\n",
      "Grounding...\n",
      "Solving...\n",
      "Done\n",
      "Solver is True\n",
      "Grounding...\n",
      "Solving...\n",
      "Done\n",
      "Solver is True\n",
      "Grounding...\n",
      "Solving...\n",
      "Done\n",
      "Solver is True\n",
      "Grounding...\n",
      "Solving...\n",
      "Done\n",
      "Solver is True\n",
      "Grounding...\n",
      "Solving...\n",
      "Done\n",
      "Solver is True\n",
      "Grounding...\n",
      "Solving...\n",
      "Done\n",
      "Solver is True\n",
      "\n",
      "\n",
      "random_s30_a25_c75_h50\n",
      "50\n",
      "Grounding...\n"
     ]
    },
    {
     "name": "stderr",
     "output_type": "stream",
     "text": [
      "Current agent: 25 - at((10,28),0) => at((24,30),50): 100%|██████████| 25/25 [00:02<00:00, 11.26it/s]\n"
     ]
    },
    {
     "name": "stdout",
     "output_type": "stream",
     "text": [
      "SAT\n",
      "1503 32 0.04\n",
      "[((8, 19), 46), ((26, 19), 36), ((12, 12), 33), ((26, 19), 32), ((21, 13), 21), ((22, 13), 20), ((26, 20), 20), ((8, 3), 18), ((24, 3), 13), ((14, 13), 13), ((24, 2), 12), ((24, 1), 11), ((21, 13), 22), ((21, 13), 23), ((26, 21), 42), ((26, 18), 39), ((26, 21), 34), ((2, 9), 49), ((21, 13), 24), ((7, 18), 5), ((2, 10), 48), ((19, 7), 22), ((26, 19), 35), ((21, 14), 28), ((27, 3), 47), ((21, 13), 25), ((21, 14), 27), ((27, 4), 46), ((13, 13), 14), ((28, 3), 48), ((21, 13), 26), ((12, 13), 15)]\n",
      "Grounding...\n",
      "Solving...\n",
      "Done\n",
      "Solver is True\n",
      "Grounding...\n",
      "Solving...\n",
      "Done\n",
      "Solver is True\n",
      "Grounding...\n",
      "Solving...\n",
      "Done\n",
      "Solver is True\n",
      "Grounding...\n",
      "Solving...\n",
      "Done\n",
      "Solver is True\n",
      "\n",
      "\n",
      "room_s19_a25_w4_h30\n",
      "30\n",
      "Grounding...\n"
     ]
    },
    {
     "name": "stderr",
     "output_type": "stream",
     "text": [
      "Current agent: 25 - at((18,19),0) => at((18,17),30): 100%|██████████| 25/25 [00:00<00:00, 39.67it/s]\n"
     ]
    },
    {
     "name": "stdout",
     "output_type": "stream",
     "text": [
      "SAT\n",
      "920 27 0.04\n",
      "[((16, 15), 25), ((11, 11), 15), ((12, 6), 28), ((5, 8), 26), ((16, 16), 26), ((6, 8), 25), ((15, 19), 20), ((14, 10), 19), ((8, 5), 12), ((14, 10), 11), ((6, 8), 10), ((8, 5), 9), ((8, 6), 8), ((6, 8), 4), ((6, 8), 1), ((17, 17), 28), ((17, 16), 27), ((17, 18), 29), ((16, 15), 7), ((17, 7), 9), ((16, 9), 8), ((16, 14), 6), ((14, 6), 7), ((17, 14), 6), ((16, 9), 11), ((17, 12), 4), ((11, 11), 7)]\n",
      "Grounding...\n",
      "Solving...\n",
      "Done\n",
      "Solver is True\n",
      "Grounding...\n",
      "Solving...\n",
      "Done\n",
      "Solver is True\n",
      "Grounding...\n",
      "Solving...\n",
      "Done\n",
      "Solver is True\n",
      "Grounding...\n",
      "Solving...\n",
      "Done\n",
      "Solver is True\n",
      "\n",
      "\n",
      "random_s20_a15_c50_h43\n",
      "43\n",
      "Grounding...\n"
     ]
    },
    {
     "name": "stderr",
     "output_type": "stream",
     "text": [
      "Current agent: 15 - at((18,7),0) => at((17,17),43): 100%|██████████| 15/15 [00:00<00:00, 35.42it/s]\n"
     ]
    },
    {
     "name": "stdout",
     "output_type": "stream",
     "text": [
      "SAT\n",
      "739 34 0.06666666666666667\n",
      "[((16, 15), 20), ((19, 7), 41), ((2, 8), 37), ((18, 11), 36), ((2, 7), 36), ((2, 6), 35), ((2, 5), 34), ((2, 4), 33), ((2, 3), 32), ((2, 2), 31), ((3, 2), 30), ((4, 2), 29), ((14, 11), 27), ((14, 11), 26), ((18, 11), 23), ((19, 7), 18), ((14, 11), 14), ((17, 18), 14), ((19, 7), 8), ((19, 15), 2), ((11, 11), 1), ((17, 18), 42), ((19, 7), 24), ((18, 11), 29), ((11, 11), 29), ((19, 15), 7), ((14, 11), 32), ((18, 11), 30), ((12, 11), 29), ((14, 11), 31), ((17, 18), 41), ((19, 14), 8), ((16, 15), 35), ((19, 7), 25)]\n",
      "Grounding...\n",
      "Solving...\n",
      "Done\n",
      "Solver is True\n",
      "Grounding...\n",
      "Solving...\n",
      "Done\n",
      "Solver is True\n",
      "Grounding...\n",
      "Solving...\n",
      "Done\n",
      "Solver is True\n",
      "Grounding...\n",
      "Solving...\n",
      "Done\n",
      "Solver is True\n",
      "\n",
      "\n",
      "random_s10_a5_c75_h14\n",
      "14\n",
      "Grounding...\n"
     ]
    },
    {
     "name": "stderr",
     "output_type": "stream",
     "text": [
      "Current agent: 5 - at((8,10),0) => at((7,1),14): 100%|██████████| 5/5 [00:00<00:00, 108.18it/s]\n"
     ]
    },
    {
     "name": "stdout",
     "output_type": "stream",
     "text": [
      "SAT\n",
      "90 2 0.2\n",
      "[((6, 5), 4), ((5, 5), 3)]\n",
      "Grounding...\n",
      "Solving...\n",
      "Done\n",
      "Solver is True\n",
      "Grounding...\n",
      "Solving...\n",
      "Done\n",
      "Solver is True\n",
      "Grounding...\n",
      "Solving...\n",
      "Done\n",
      "Solver is True\n",
      "Grounding...\n",
      "Solving...\n",
      "Done\n",
      "Solver is True\n",
      "\n",
      "\n",
      "room_s29_a20_w5_h26\n",
      "26\n",
      "Grounding...\n"
     ]
    },
    {
     "name": "stderr",
     "output_type": "stream",
     "text": [
      "Current agent: 20 - at((29,14),0) => at((29,17),26): 100%|██████████| 20/20 [00:01<00:00, 19.96it/s]\n"
     ]
    },
    {
     "name": "stdout",
     "output_type": "stream",
     "text": [
      "SAT\n",
      "749 13 0.05\n",
      "[((24, 5), 11), ((24, 5), 10), ((24, 5), 9), ((24, 5), 8), ((24, 5), 7), ((24, 5), 6), ((22, 7), 24), ((22, 7), 23), ((24, 5), 12), ((29, 14), 16), ((29, 13), 15), ((24, 5), 13), ((25, 11), 2)]\n",
      "Grounding...\n",
      "Solving...\n",
      "Done\n",
      "Solver is True\n",
      "Grounding...\n",
      "Solving...\n",
      "Done\n",
      "Solver is True\n",
      "Grounding...\n",
      "Solving...\n",
      "Done\n",
      "Solver is True\n",
      "Grounding...\n",
      "Solving...\n",
      "Done\n",
      "Solver is True\n",
      "\n",
      "\n",
      "maze_s15_a20_h98\n",
      "98\n",
      "Grounding...\n"
     ]
    },
    {
     "name": "stderr",
     "output_type": "stream",
     "text": [
      "Current agent: 20 - at((13,22),0) => at((15,22),98): 100%|██████████| 20/20 [00:01<00:00, 15.62it/s]\n"
     ]
    },
    {
     "name": "stdout",
     "output_type": "stream",
     "text": [
      "SAT\n",
      "2002 32 0.05\n",
      "[((1, 5), 78), ((21, 20), 65), ((15, 26), 64), ((20, 21), 63), ((21, 21), 50), ((20, 21), 49), ((17, 16), 48), ((19, 21), 48), ((18, 21), 47), ((17, 21), 46), ((16, 21), 45), ((15, 21), 44), ((14, 21), 43), ((13, 21), 42), ((12, 21), 41), ((11, 21), 40), ((10, 21), 39), ((9, 21), 38), ((1, 20), 37), ((9, 20), 37), ((9, 19), 36), ((9, 18), 35), ((1, 20), 34), ((9, 17), 34), ((10, 17), 33), ((11, 17), 32), ((12, 17), 31), ((13, 17), 30), ((2, 19), 22), ((8, 29), 21), ((21, 22), 13), ((13, 17), 29)]\n",
      "Grounding...\n",
      "Solving...\n",
      "Done\n",
      "Solver is True\n",
      "Grounding...\n",
      "Solving...\n",
      "Done\n",
      "Solver is True\n",
      "Grounding...\n",
      "Solving...\n",
      "Done\n",
      "Solver is True\n",
      "Grounding...\n",
      "Solving...\n",
      "Done\n",
      "Solver is True\n",
      "\n",
      "\n",
      "room_s19_a5_w4_h25\n",
      "25\n",
      "Grounding...\n"
     ]
    },
    {
     "name": "stderr",
     "output_type": "stream",
     "text": [
      "Current agent: 5 - at((15,2),0) => at((10,6),25): 100%|██████████| 5/5 [00:00<00:00, 31.53it/s]\n"
     ]
    },
    {
     "name": "stdout",
     "output_type": "stream",
     "text": [
      "SAT\n",
      "167 1 0.2\n",
      "[((13, 4), 7)]\n",
      "Grounding...\n",
      "Solving...\n",
      "Done\n",
      "Solver is True\n",
      "Grounding...\n",
      "Solving...\n",
      "Done\n",
      "Solver is True\n",
      "Grounding...\n",
      "Solving...\n",
      "Done\n",
      "Solver is True\n",
      "Grounding...\n",
      "Solving...\n",
      "Done\n",
      "Solver is True\n",
      "\n",
      "\n"
     ]
    }
   ],
   "source": [
    "for instance_name, instance_content in instances_pool:\n",
    "    def approach(instance_name, instance_content):\n",
    "        print(instance_name)\n",
    "        rows = []\n",
    "        \n",
    "        r, s_ipf = base_ipf(instance_content)\n",
    "        \n",
    "        rows.append({\n",
    "            'Step Name' : 'base_ipf',\n",
    "            'Total Time' : s_ipf.total_time,\n",
    "            'Ground Time': s_ipf.total_time - s_ipf.solve_time,\n",
    "            'Solving Time': s_ipf.solve_time,\n",
    "            'SAT' : bool(r),\n",
    "            'Additional Data' : json.dumps(s_ipf.additional_data)\n",
    "        })\n",
    "        \n",
    "        ih, gh, lgh, s = global_heatmap(r + instance_content)\n",
    "        \n",
    "        rows.append({\n",
    "            'Step Name' : 'heatmaps',\n",
    "            'Total Time' : s.total_time,\n",
    "            'Ground Time': s.total_time - s.solve_time,\n",
    "            'Solving Time': s.solve_time,\n",
    "            'SAT' : bool(r),\n",
    "            'Additional Data' : json.dumps(s.additional_data)\n",
    "        })\n",
    "        \n",
    "        \n",
    "        cva ,s =  pe_simple_threshold(ih,gh,s_ipf.additional_data['nagent'])\n",
    "        \n",
    "        rows.append({\n",
    "            'Step Name' : 'simple_threshold',\n",
    "            'Total Time' : s.total_time,\n",
    "            'Ground Time': s.total_time - s.solve_time,\n",
    "            'Solving Time': s.solve_time,\n",
    "            'SAT' : bool(r),\n",
    "            'Additional Data' : json.dumps(s.additional_data)\n",
    "        })\n",
    "        \n",
    "        r,s = solver(r + cva + instance_content + lgh['pwlsh'], 'pathelimination/path_elimination.lp', additional_encodings=['pathelimination/convert_to_kill.lp'])\n",
    "        \n",
    "        rows.append({\n",
    "            'Step Name' : 'path_elimination',\n",
    "            'Total Time' : s.total_time,\n",
    "            'Ground Time': s.total_time - s.solve_time,\n",
    "            'Solving Time': s.solve_time,\n",
    "            'SAT' : bool(r),\n",
    "            'Additional Data' : json.dumps(s.additional_data)\n",
    "        })\n",
    "        \n",
    "        \n",
    "        r,s = solver(r, 'pathselection/path_selection.lp', parameters=['0','--opt-strategy=usc'])\n",
    "        \n",
    "        rows.append({\n",
    "            'Step Name' : 'path_selection',\n",
    "            'Total Time' : s.total_time,\n",
    "            'Ground Time': s.total_time - s.solve_time,\n",
    "            'Solving Time': s.solve_time,\n",
    "            'SAT' : bool(r),\n",
    "            'Additional Data' : json.dumps(s.additional_data)\n",
    "        })\n",
    "        # print(r)\n",
    "        \n",
    "        r,s = solver(r,'strategies/diamond.lp', additional_encodings=['strategies/corridor.lp', 'strategies/determination.lp'])\n",
    "        \n",
    "        rows.append({\n",
    "            'Step Name' : 'strategy',\n",
    "            'Total Time' : s.total_time,\n",
    "            'Ground Time': s.total_time - s.solve_time,\n",
    "            'Solving Time': s.solve_time,\n",
    "            'SAT' : bool(r),\n",
    "            'Additional Data' : json.dumps(s.additional_data)\n",
    "        })\n",
    "        \n",
    "        r_,s = partial_solving(r, 'mapf/partial_solving.lp', subgraph='mapf/subgraph.lp', precomputed_path=False)\n",
    "        \n",
    "        rows.append({\n",
    "            'Step Name' : 'partial_solving',\n",
    "            'Total Time' : s.total_time,\n",
    "            'Ground Time': s.total_time - s.solve_time,\n",
    "            'Solving Time': s.solve_time,\n",
    "            'SAT' : bool(r_),\n",
    "            'Additional Data' : json.dumps(s.additional_data)\n",
    "        })\n",
    "        \n",
    "        for i in range (1,6,2):\n",
    "            if s.additional_data['ngoal_reached'] < s_ipf.additional_data['nagent']:\n",
    "                r_,s = partial_solving(r, 'mapf/partial_solving.lp', subgraph='mapf/subgraph.lp', precomputed_path=False,  horizon_modifier=i)\n",
    "        \n",
    "                rows.append({\n",
    "                    'Step Name' : f'partial_solving_additional_horizon',\n",
    "                    'Total Time' : s.total_time,\n",
    "                    'Ground Time': s.total_time - s.solve_time,\n",
    "                    'Solving Time': s.solve_time,\n",
    "                    'SAT' : bool(r_),\n",
    "                    'Additional Data' : json.dumps(s.additional_data)\n",
    "                })\n",
    "        \n",
    "        print('\\n')\n",
    "        write_csv(f'benchmarks_result/{instance_name}-approach09.csv', header,rows)\n",
    "        \n",
    "    pool = Pool(1)       \n",
    "    mutex = pool.apply_async(approach,[instance_name,instance_content])\n",
    "\n",
    "    try:\n",
    "        mutex.get(timeout=timeout)\n",
    "    except Exception as e:\n",
    "        print(e)\n",
    "        pool.terminate()"
   ]
  },
  {
   "cell_type": "markdown",
   "metadata": {},
   "source": [
    "## Approach 10: additional paths, simple threshold elimination, precomputed path +  subgraph with corridor and diamond"
   ]
  },
  {
   "cell_type": "code",
   "execution_count": null,
   "metadata": {},
   "outputs": [
    {
     "name": "stdout",
     "output_type": "stream",
     "text": [
      "room_s29_a10_w5_h29\n",
      "29\n"
     ]
    },
    {
     "name": "stdout",
     "output_type": "stream",
     "text": [
      "Grounding...\n"
     ]
    },
    {
     "name": "stderr",
     "output_type": "stream",
     "text": [
      "Current agent: 10 - at((12,10),0) => at((21,24),29): 100%|██████████| 10/10 [00:00<00:00, 16.02it/s]\n"
     ]
    },
    {
     "name": "stdout",
     "output_type": "stream",
     "text": [
      "SAT\n",
      "406 6 0.1\n",
      "[((2, 25), 26), ((29, 19), 25), ((1, 29), 21), ((21, 17), 20), ((2, 29), 20), ((29, 18), 26)]\n",
      "Grounding...\n",
      "Solving...\n",
      "Done\n",
      "Solver is True\n",
      "Grounding...\n",
      "Solving...\n",
      "Done\n",
      "Solver is True\n",
      "Grounding...\n",
      "Solving...\n",
      "Done\n",
      "Solver is True\n",
      "Grounding...\n",
      "Solving...\n",
      "Done\n",
      "Solver is True\n",
      "Grounding...\n",
      "Solving...\n",
      "Done\n",
      "Solver is True\n",
      "\n",
      "\n",
      "random_s20_a15_c75_h28\n",
      "28\n",
      "Grounding...\n"
     ]
    },
    {
     "name": "stderr",
     "output_type": "stream",
     "text": [
      "Current agent: 15 - at((17,7),0) => at((17,10),28): 100%|██████████| 15/15 [00:00<00:00, 33.86it/s]\n"
     ]
    },
    {
     "name": "stdout",
     "output_type": "stream",
     "text": [
      "SAT\n",
      "585 24 0.06666666666666667\n",
      "[((16, 6), 8), ((1, 2), 21), ((1, 2), 20), ((1, 2), 19), ((1, 2), 18), ((1, 2), 17), ((1, 2), 16), ((1, 2), 15), ((2, 2), 14), ((18, 3), 13), ((17, 3), 12), ((14, 9), 11), ((17, 7), 4), ((17, 7), 3), ((17, 7), 2), ((16, 3), 11), ((16, 4), 10), ((16, 7), 7), ((16, 5), 9), ((16, 8), 6), ((16, 7), 6), ((13, 7), 21), ((17, 7), 5), ((16, 8), 25)]\n",
      "Grounding...\n",
      "Solving...\n",
      "Done\n",
      "Solver is True\n",
      "Grounding...\n",
      "Solving...\n",
      "Done\n",
      "Solver is True\n",
      "Grounding...\n",
      "Solving...\n",
      "Done\n",
      "Solver is True\n",
      "Grounding...\n",
      "Solving...\n",
      "Done\n",
      "Solver is False\n",
      "Grounding...\n",
      "Solving...\n",
      "Done\n",
      "Solver is False\n",
      "Grounding...\n",
      "Solving...\n",
      "Done\n",
      "Solver is False\n",
      "Grounding...\n",
      "Solving...\n",
      "Done\n",
      "Solver is False\n",
      "\n",
      "\n",
      "maze_s10_a20_h40\n",
      "40\n",
      "Grounding...\n"
     ]
    },
    {
     "name": "stderr",
     "output_type": "stream",
     "text": [
      "Current agent: 20 - at((3,18),0) => at((1,18),6): 100%|██████████| 20/20 [00:00<00:00, 27.60it/s]   \n"
     ]
    },
    {
     "name": "stdout",
     "output_type": "stream",
     "text": [
      "SAT\n",
      "1262 33 0.05\n",
      "[((10, 13), 34), ((9, 18), 34), ((16, 19), 32), ((14, 19), 30), ((5, 10), 26), ((18, 9), 25), ((5, 10), 18), ((9, 3), 15), ((9, 3), 10), ((16, 19), 7), ((3, 18), 6), ((5, 13), 21), ((9, 13), 17), ((3, 1), 7), ((11, 12), 14), ((11, 13), 13), ((3, 1), 6), ((1, 2), 4), ((11, 3), 12), ((1, 2), 3), ((10, 13), 32), ((9, 18), 32), ((16, 19), 30), ((14, 19), 28), ((5, 10), 24), ((18, 9), 23), ((5, 10), 16), ((9, 3), 13), ((9, 3), 8), ((16, 19), 5), ((3, 1), 5), ((3, 18), 4), ((15, 9), 2)]\n",
      "Grounding...\n",
      "Solving...\n",
      "Done\n",
      "Solver is True\n",
      "Grounding...\n",
      "Solving...\n",
      "Done\n",
      "Solver is True\n",
      "Grounding...\n",
      "Solving...\n",
      "Done\n",
      "Solver is True\n",
      "Grounding...\n",
      "Solving...\n",
      "Done\n",
      "Solver is True\n",
      "Grounding...\n",
      "Solving...\n",
      "Done\n",
      "Solver is True\n",
      "Grounding...\n",
      "Solving...\n",
      "Done\n",
      "Solver is True\n",
      "Grounding...\n",
      "Solving...\n",
      "Done\n",
      "Solver is True\n",
      "\n",
      "\n",
      "room_s19_a15_w4_h34\n",
      "34\n",
      "Grounding...\n"
     ]
    },
    {
     "name": "stderr",
     "output_type": "stream",
     "text": [
      "Current agent: 15 - at((15,19),0) => at((19,16),34): 100%|██████████| 15/15 [00:00<00:00, 21.81it/s]\n"
     ]
    },
    {
     "name": "stdout",
     "output_type": "stream",
     "text": [
      "SAT\n",
      "732 11 0.06666666666666667\n",
      "[((4, 5), 6), ((17, 11), 29), ((17, 11), 13), ((10, 18), 7), ((12, 9), 12), ((10, 18), 9), ((10, 18), 8), ((17, 11), 30), ((17, 11), 11), ((17, 13), 7), ((17, 7), 7)]\n",
      "Grounding...\n",
      "Solving...\n",
      "Done\n",
      "Solver is True\n",
      "Grounding...\n",
      "Solving...\n",
      "Done\n",
      "Solver is True\n",
      "Grounding...\n",
      "Solving...\n",
      "Done\n",
      "Solver is True\n",
      "Grounding...\n",
      "Solving...\n",
      "Done\n",
      "Solver is True\n",
      "Grounding...\n",
      "Solving...\n",
      "Done\n",
      "Solver is True\n",
      "Grounding...\n",
      "Solving...\n",
      "Done\n",
      "Solver is True\n",
      "Grounding...\n",
      "Solving...\n",
      "Done\n",
      "Solver is True\n",
      "\n",
      "\n",
      "maze_s20_a15_h68\n",
      "68\n",
      "Grounding...\n"
     ]
    },
    {
     "name": "stderr",
     "output_type": "stream",
     "text": [
      "Current agent: 15 - at((1,32),0) => at((5,32),68): 100%|██████████| 15/15 [00:02<00:00,  6.52it/s]  \n"
     ]
    },
    {
     "name": "stdout",
     "output_type": "stream",
     "text": [
      "SAT\n",
      "1430 8 0.06666666666666667\n",
      "[((14, 25), 46), ((6, 29), 24), ((25, 19), 21), ((1, 35), 12), ((12, 31), 16), ((15, 25), 45), ((26, 19), 20), ((4, 37), 7)]\n",
      "Grounding...\n",
      "Solving...\n",
      "Done\n",
      "Solver is True\n",
      "Grounding...\n",
      "Solving...\n",
      "Done\n",
      "Solver is True\n",
      "Grounding...\n",
      "Solving...\n",
      "Done\n",
      "Solver is True\n",
      "Grounding...\n",
      "Solving...\n",
      "Done\n",
      "Solver is True\n",
      "Grounding...\n",
      "Solving...\n",
      "Done\n",
      "Solver is True\n",
      "Grounding...\n",
      "Solving...\n",
      "Done\n",
      "Solver is True\n",
      "Grounding...\n",
      "Solving...\n",
      "Done\n",
      "Solver is True\n",
      "\n",
      "\n",
      "room_s47_a15_w5_h37\n",
      "37\n",
      "Grounding...\n"
     ]
    },
    {
     "name": "stderr",
     "output_type": "stream",
     "text": [
      "Current agent: 15 - at((47,34),0) => at((19,38),37): 100%|██████████| 15/15 [00:03<00:00,  4.65it/s]\n"
     ]
    },
    {
     "name": "stdout",
     "output_type": "stream",
     "text": [
      "SAT\n",
      "864 5 0.06666666666666667\n",
      "[((12, 32), 25), ((13, 32), 24), ((13, 31), 23), ((13, 30), 22), ((13, 29), 21)]\n",
      "Grounding...\n",
      "Solving...\n",
      "Done\n",
      "Solver is True\n",
      "Grounding...\n",
      "Solving...\n",
      "Done\n",
      "Solver is True\n",
      "Grounding...\n",
      "Solving...\n",
      "Done\n",
      "Solver is True\n",
      "Grounding...\n",
      "Solving...\n",
      "Done\n",
      "Solver is True\n",
      "Grounding...\n",
      "Solving...\n",
      "Done\n",
      "Solver is True\n",
      "Grounding...\n",
      "Solving...\n",
      "Done\n",
      "Solver is True\n",
      "Grounding...\n",
      "Solving...\n",
      "Done\n",
      "Solver is True\n",
      "\n",
      "\n",
      "maze_s10_a15_h38\n",
      "38\n",
      "Grounding...\n"
     ]
    },
    {
     "name": "stderr",
     "output_type": "stream",
     "text": [
      "Current agent: 15 - at((9,18),0) => at((10,17),38): 100%|██████████| 15/15 [00:00<00:00, 39.18it/s]\n"
     ]
    },
    {
     "name": "stdout",
     "output_type": "stream",
     "text": [
      "SAT\n",
      "733 54 0.06666666666666667\n",
      "[((9, 13), 27), ((9, 13), 21), ((9, 13), 7), ((9, 17), 37), ((8, 17), 36), ((15, 15), 33), ((11, 12), 24), ((7, 17), 14), ((7, 17), 13), ((7, 17), 12), ((7, 17), 11), ((7, 17), 10), ((7, 17), 9), ((7, 17), 8), ((7, 17), 7), ((7, 17), 6), ((9, 13), 28), ((9, 13), 26), ((9, 13), 25), ((9, 13), 24), ((9, 13), 23), ((9, 13), 22), ((9, 13), 20), ((9, 13), 19), ((9, 13), 18), ((9, 13), 17), ((9, 13), 16), ((9, 13), 15), ((9, 13), 14), ((9, 13), 13), ((9, 13), 12), ((9, 13), 11), ((9, 13), 10), ((9, 13), 9), ((9, 13), 8), ((9, 13), 6), ((9, 13), 5), ((9, 13), 4), ((9, 13), 29), ((7, 17), 35), ((7, 17), 15), ((9, 19), 2), ((10, 19), 1), ((7, 17), 16), ((10, 13), 3), ((9, 13), 30), ((6, 17), 34), ((9, 13), 31), ((7, 17), 17), ((4, 13), 36), ((6, 13), 34), ((4, 13), 32), ((4, 13), 26), ((4, 13), 16)]\n",
      "Grounding...\n",
      "Solving...\n",
      "Done\n",
      "Solver is True\n",
      "Grounding...\n",
      "Solving...\n",
      "Done\n",
      "Solver is True\n",
      "Grounding...\n",
      "Solving...\n",
      "Done\n",
      "Solver is True\n",
      "Grounding...\n",
      "Solving...\n",
      "Done\n",
      "Solver is True\n",
      "Grounding...\n",
      "Solving...\n",
      "Done\n",
      "Solver is True\n",
      "Grounding...\n",
      "Solving...\n",
      "Done\n",
      "Solver is True\n",
      "Grounding...\n",
      "Solving...\n",
      "Done\n",
      "Solver is True\n",
      "\n",
      "\n",
      "random_s10_a5_c50_h16\n",
      "16\n",
      "Grounding...\n"
     ]
    },
    {
     "name": "stderr",
     "output_type": "stream",
     "text": [
      "Current agent: 5 - at((9,3),0) => at((9,4),16): 100%|██████████| 5/5 [00:00<00:00, 102.21it/s]\n"
     ]
    },
    {
     "name": "stdout",
     "output_type": "stream",
     "text": [
      "SAT\n",
      "117 1 0.2\n",
      "[((9, 3), 2)]\n",
      "Grounding...\n",
      "Solving...\n",
      "Done\n",
      "Solver is True\n",
      "Grounding...\n",
      "Solving...\n",
      "Done\n",
      "Solver is True\n",
      "Grounding...\n",
      "Solving...\n",
      "Done\n",
      "Solver is True\n",
      "Grounding...\n",
      "Solving...\n",
      "Done\n",
      "Solver is True\n",
      "\n",
      "\n",
      "room_s29_a30_w5_h34\n",
      "34\n",
      "Grounding...\n"
     ]
    },
    {
     "name": "stderr",
     "output_type": "stream",
     "text": [
      "Current agent: 30 - at((28,15),0) => at((29,15),34): 100%|██████████| 30/30 [00:01<00:00, 15.87it/s]\n"
     ]
    },
    {
     "name": "stdout",
     "output_type": "stream",
     "text": [
      "SAT\n",
      "1455 88 0.03333333333333333\n",
      "[((6, 21), 9), ((23, 5), 5), ((24, 27), 31), ((14, 19), 28), ((14, 18), 27), ((14, 17), 26), ((23, 5), 23), ((23, 5), 22), ((23, 5), 21), ((23, 5), 20), ((23, 5), 19), ((23, 5), 18), ((23, 5), 17), ((23, 5), 16), ((23, 5), 15), ((6, 21), 15), ((18, 9), 14), ((23, 5), 14), ((23, 5), 13), ((23, 5), 12), ((23, 5), 11), ((6, 21), 11), ((13, 11), 11), ((29, 18), 11), ((23, 5), 10), ((6, 21), 10), ((13, 11), 10), ((29, 18), 10), ((23, 5), 9), ((13, 11), 9), ((29, 18), 9), ((23, 5), 8), ((6, 21), 8), ((13, 11), 8), ((29, 18), 8), ((23, 5), 7), ((6, 21), 7), ((13, 11), 7), ((29, 18), 7), ((23, 5), 6), ((6, 21), 6), ((13, 11), 6), ((5, 23), 6), ((29, 18), 6), ((6, 21), 5), ((13, 11), 5), ((29, 18), 5), ((23, 5), 4), ((6, 21), 4), ((13, 11), 4), ((29, 18), 4), ((23, 5), 3), ((6, 21), 3), ((13, 11), 3), ((6, 21), 2), ((13, 11), 2), ((29, 17), 31), ((16, 29), 30), ((18, 9), 17), ((19, 17), 28), ((22, 12), 19), ((17, 11), 17), ((6, 21), 12), ((23, 5), 24), ((16, 11), 24), ((19, 17), 24), ((10, 18), 16), ((10, 19), 15), ((18, 27), 10), ((18, 27), 8), ((6, 21), 13), ((17, 29), 7), ((19, 5), 29), ((18, 17), 25), ((8, 19), 19), ((22, 11), 20), ((16, 11), 18), ((6, 21), 14), ((6, 21), 21), ((17, 29), 6), ((17, 29), 5), ((17, 29), 29), ((17, 9), 18), ((14, 11), 12), ((6, 21), 23), ((7, 19), 18), ((18, 17), 29), ((23, 5), 25)]\n",
      "Grounding...\n",
      "Solving...\n",
      "Done\n",
      "Solver is True\n",
      "Grounding...\n",
      "Solving...\n",
      "Done\n",
      "Solver is True\n",
      "Grounding...\n",
      "Solving...\n",
      "Done\n",
      "Solver is True\n",
      "Grounding...\n",
      "Solving...\n",
      "Done\n",
      "Solver is True\n",
      "Grounding...\n",
      "Solving...\n",
      "Done\n",
      "Solver is True\n",
      "Grounding...\n",
      "Solving...\n",
      "Done\n",
      "Solver is True\n",
      "Grounding...\n",
      "Solving...\n",
      "Done\n",
      "Solver is True\n",
      "\n",
      "\n",
      "maze_s10_a25_h45\n",
      "45\n",
      "Grounding...\n"
     ]
    },
    {
     "name": "stderr",
     "output_type": "stream",
     "text": [
      "Current agent: 25 - at((16,15),0) => at((1,18),45): 100%|██████████| 25/25 [00:00<00:00, 36.08it/s] \n"
     ]
    },
    {
     "name": "stdout",
     "output_type": "stream",
     "text": [
      "SAT\n",
      "1376 157 0.04\n",
      "[((13, 15), 16), ((13, 15), 37), ((13, 15), 36), ((5, 10), 33), ((7, 3), 24), ((13, 15), 15), ((13, 15), 14), ((13, 15), 13), ((13, 15), 12), ((13, 15), 11), ((13, 15), 10), ((13, 15), 9), ((13, 15), 8), ((13, 15), 7), ((13, 15), 6), ((13, 15), 5), ((13, 15), 4), ((13, 15), 3), ((13, 15), 17), ((13, 15), 20), ((13, 15), 18), ((13, 15), 19), ((15, 9), 39), ((16, 9), 40), ((14, 15), 39), ((15, 15), 44), ((3, 17), 42), ((3, 16), 41), ((3, 15), 40), ((13, 12), 39), ((3, 14), 39), ((3, 13), 38), ((13, 14), 37), ((4, 13), 37), ((15, 11), 37), ((5, 13), 36), ((15, 11), 36), ((5, 12), 35), ((13, 15), 35), ((15, 11), 35), ((5, 11), 34), ((13, 15), 34), ((15, 11), 34), ((10, 13), 33), ((13, 15), 33), ((15, 11), 33), ((5, 9), 32), ((13, 15), 32), ((15, 11), 32), ((11, 12), 31), ((5, 8), 31), ((11, 6), 31), ((13, 15), 31), ((8, 13), 31), ((15, 11), 31), ((5, 7), 30), ((13, 15), 30), ((15, 11), 30), ((6, 13), 29), ((10, 13), 29), ((11, 3), 29), ((5, 6), 29), ((13, 15), 29), ((15, 11), 29), ((5, 5), 28), ((13, 15), 28), ((15, 11), 28), ((8, 13), 27), ((5, 4), 27), ((13, 15), 27), ((15, 11), 27), ((11, 11), 26), ((5, 3), 26), ((9, 3), 26), ((13, 15), 26), ((15, 11), 26), ((6, 3), 25), ((13, 15), 25), ((15, 11), 25), ((13, 15), 24), ((15, 11), 24), ((8, 3), 23), ((13, 15), 23), ((15, 11), 23), ((11, 11), 22), ((9, 3), 22), ((13, 15), 22), ((15, 11), 22), ((10, 3), 21), ((13, 15), 21), ((15, 11), 21), ((11, 3), 20), ((15, 11), 20), ((15, 11), 19), ((15, 11), 18), ((15, 11), 17), ((5, 10), 16), ((15, 11), 16), ((5, 10), 15), ((15, 11), 15), ((15, 11), 14), ((15, 11), 13), ((15, 11), 12), ((15, 11), 11), ((15, 11), 10), ((15, 11), 9), ((19, 5), 8), ((15, 11), 8), ((19, 5), 7), ((15, 11), 7), ((15, 19), 6), ((19, 5), 6), ((15, 11), 6), ((19, 5), 5), ((15, 11), 5), ((17, 19), 4), ((19, 5), 4), ((15, 11), 4), ((19, 5), 3), ((15, 11), 3), ((19, 19), 2), ((19, 5), 2), ((14, 15), 2), ((15, 11), 2), ((19, 5), 1), ((15, 15), 1), ((13, 15), 38), ((14, 15), 38), ((5, 10), 41), ((17, 9), 41), ((14, 15), 43), ((17, 10), 7), ((15, 10), 38), ((15, 19), 25), ((19, 5), 9), ((13, 15), 42), ((15, 19), 26), ((17, 10), 6), ((11, 12), 30), ((15, 19), 24), ((15, 15), 40), ((1, 8), 39), ((9, 19), 44), ((15, 15), 42), ((5, 11), 40), ((1, 9), 40), ((17, 10), 4), ((17, 10), 3), ((17, 10), 2), ((17, 10), 1), ((14, 15), 41), ((13, 14), 41), ((19, 5), 10), ((17, 10), 5), ((15, 15), 39), ((18, 9), 42), ((13, 13), 40)]\n",
      "Grounding...\n",
      "Solving...\n",
      "Done\n",
      "Solver is True\n",
      "Grounding...\n",
      "Solving...\n",
      "Done\n",
      "Solver is True\n",
      "Grounding...\n",
      "Solving...\n",
      "Done\n",
      "Solver is True\n",
      "Grounding...\n",
      "Solving...\n",
      "Done\n",
      "Solver is False\n",
      "Grounding...\n",
      "Solving...\n",
      "Done\n",
      "Solver is False\n",
      "Grounding...\n",
      "Solving...\n",
      "Done\n",
      "Solver is False\n",
      "Grounding...\n",
      "Solving...\n",
      "Done\n",
      "Solver is False\n",
      "\n",
      "\n",
      "room_s47_a10_w5_h59\n",
      "59\n",
      "Grounding...\n"
     ]
    },
    {
     "name": "stderr",
     "output_type": "stream",
     "text": [
      "Current agent: 10 - at((32,47),0) => at((33,1),59): 100%|██████████| 10/10 [00:03<00:00,  2.70it/s]\n"
     ]
    },
    {
     "name": "stdout",
     "output_type": "stream",
     "text": [
      "SAT\n",
      "780 2 0.1\n",
      "[((40, 14), 15), ((40, 14), 13)]\n",
      "Grounding...\n",
      "Solving...\n",
      "Done\n",
      "Solver is True\n",
      "Grounding...\n",
      "Solving...\n",
      "Done\n",
      "Solver is True\n",
      "Grounding...\n",
      "Solving...\n",
      "Done\n",
      "Solver is True\n",
      "Grounding...\n",
      "Solving...\n",
      "Done\n",
      "Solver is True\n",
      "\n",
      "\n",
      "room_s47_a5_w5_h50\n",
      "50\n",
      "Grounding...\n"
     ]
    },
    {
     "name": "stderr",
     "output_type": "stream",
     "text": [
      "Current agent: 5 - at((4,39),0) => at((29,16),50): 100%|██████████| 5/5 [00:02<00:00,  2.42it/s] \n"
     ]
    },
    {
     "name": "stdout",
     "output_type": "stream",
     "text": [
      "SAT\n",
      "389 0 0.2\n",
      "[]\n",
      "Grounding...\n",
      "Solving...\n",
      "Done\n",
      "Solver is True\n"
     ]
    },
    {
     "name": "stderr",
     "output_type": "stream",
     "text": [
      "pathelimination/path_elimination.lp:2:5-25: info: atom does not occur in any rule head:\n",
      "  critical_vertex(V,T)\n",
      "\n",
      "pathelimination/path_elimination.lp:3:5-26: info: atom does not occur in any rule head:\n",
      "  critical_agent(R,V,T)\n",
      "\n"
     ]
    },
    {
     "name": "stdout",
     "output_type": "stream",
     "text": [
      "Grounding...\n",
      "Solving...\n",
      "Done\n",
      "Solver is True\n"
     ]
    },
    {
     "name": "stderr",
     "output_type": "stream",
     "text": [
      "pathselection/path_selection.lp:2:39-55: info: atom does not occur in any rule head:\n",
      "  path_killed(R,I)\n",
      "\n"
     ]
    },
    {
     "name": "stdout",
     "output_type": "stream",
     "text": [
      "Grounding...\n",
      "Solving...\n",
      "Done\n",
      "Solver is True\n",
      "Grounding...\n",
      "Solving...\n",
      "Done\n",
      "Solver is True\n",
      "\n",
      "\n",
      "random_s40_a35_c75_h54\n",
      "54\n",
      "Grounding...\n"
     ]
    },
    {
     "name": "stderr",
     "output_type": "stream",
     "text": [
      "Current agent: 35 - at((24,39),0) => at((24,18),54): 100%|██████████| 35/35 [00:07<00:00,  4.44it/s]\n"
     ]
    },
    {
     "name": "stdout",
     "output_type": "stream",
     "text": [
      "SAT\n",
      "2795 50 0.02857142857142857\n",
      "[((36, 17), 53), ((36, 17), 52), ((36, 17), 51), ((36, 17), 50), ((36, 17), 49), ((36, 17), 48), ((36, 17), 47), ((36, 17), 46), ((36, 17), 45), ((36, 17), 44), ((36, 17), 43), ((36, 17), 42), ((36, 17), 41), ((36, 17), 40), ((36, 17), 39), ((22, 24), 39), ((36, 17), 38), ((36, 17), 37), ((36, 17), 36), ((36, 17), 35), ((36, 17), 34), ((36, 17), 33), ((36, 17), 32), ((36, 17), 31), ((36, 17), 30), ((36, 17), 29), ((28, 24), 5), ((34, 7), 10), ((15, 10), 42), ((15, 10), 40), ((23, 16), 30), ((24, 16), 29), ((36, 19), 27), ((36, 20), 26), ((36, 17), 25), ((36, 17), 23), ((37, 12), 19), ((37, 12), 17), ((35, 10), 2), ((34, 8), 11), ((34, 7), 12), ((37, 12), 37), ((37, 12), 35), ((26, 6), 43), ((26, 6), 41), ((32, 4), 2), ((28, 24), 4), ((28, 24), 3), ((33, 4), 3), ((34, 7), 11)]\n",
      "Grounding...\n",
      "Solving...\n",
      "Done\n",
      "Solver is True\n",
      "Grounding...\n",
      "Solving...\n",
      "Done\n",
      "Solver is True\n",
      "Grounding...\n",
      "Solving...\n",
      "Done\n",
      "Solver is True\n",
      "Grounding...\n",
      "Solving...\n",
      "Done\n",
      "Solver is True\n",
      "Grounding...\n",
      "Solving...\n",
      "Done\n",
      "Solver is True\n",
      "Grounding...\n",
      "Solving...\n",
      "Done\n",
      "Solver is True\n",
      "Grounding...\n",
      "Solving...\n",
      "\n",
      "random_s30_a25_c75_h50\n",
      "50\n",
      "Grounding...\n"
     ]
    },
    {
     "name": "stderr",
     "output_type": "stream",
     "text": [
      "Current agent: 25 - at((10,28),0) => at((24,30),50): 100%|██████████| 25/25 [00:02<00:00, 10.97it/s]\n"
     ]
    },
    {
     "name": "stdout",
     "output_type": "stream",
     "text": [
      "SAT\n",
      "1553 33 0.04\n",
      "[((8, 19), 46), ((26, 19), 36), ((12, 12), 33), ((26, 19), 32), ((21, 13), 21), ((22, 13), 20), ((26, 20), 20), ((8, 3), 18), ((24, 3), 13), ((14, 13), 13), ((24, 2), 12), ((24, 1), 11), ((21, 13), 22), ((21, 13), 23), ((26, 21), 42), ((26, 18), 39), ((26, 21), 34), ((2, 9), 49), ((21, 13), 24), ((2, 10), 48), ((19, 7), 22), ((26, 19), 35), ((21, 14), 28), ((7, 18), 7), ((27, 3), 47), ((21, 13), 25), ((7, 18), 5), ((21, 14), 27), ((27, 4), 46), ((13, 13), 14), ((28, 3), 48), ((21, 13), 26), ((12, 13), 15)]\n",
      "Grounding...\n",
      "Solving...\n",
      "Done\n",
      "Solver is True\n",
      "Grounding...\n",
      "Solving...\n",
      "Done\n",
      "Solver is True\n",
      "Grounding...\n",
      "Solving...\n",
      "Done\n",
      "Solver is True\n",
      "Grounding...\n",
      "Solving...\n",
      "Done\n",
      "Solver is True\n",
      "\n",
      "\n",
      "room_s19_a25_w4_h30\n",
      "30\n",
      "Grounding...\n"
     ]
    },
    {
     "name": "stderr",
     "output_type": "stream",
     "text": [
      "Current agent: 25 - at((18,19),0) => at((18,17),30): 100%|██████████| 25/25 [00:00<00:00, 26.46it/s]\n"
     ]
    },
    {
     "name": "stdout",
     "output_type": "stream",
     "text": [
      "SAT\n",
      "1150 37 0.04\n",
      "[((16, 15), 25), ((12, 6), 28), ((5, 8), 26), ((16, 16), 26), ((6, 8), 25), ((15, 19), 20), ((14, 10), 19), ((8, 5), 12), ((11, 11), 15), ((17, 17), 28), ((17, 16), 27), ((6, 8), 12), ((6, 8), 3), ((14, 11), 13), ((8, 5), 11), ((16, 9), 10), ((14, 6), 8), ((6, 8), 6), ((6, 8), 4), ((17, 18), 29), ((6, 8), 10), ((8, 6), 10), ((13, 6), 6), ((8, 6), 8), ((16, 9), 11), ((17, 7), 9), ((11, 11), 9), ((16, 9), 8), ((14, 6), 7), ((16, 14), 8), ((13, 5), 5), ((11, 11), 7), ((17, 14), 6), ((17, 11), 5), ((9, 6), 7), ((10, 6), 6), ((11, 6), 5)]\n",
      "Grounding...\n",
      "Solving...\n",
      "Done\n",
      "Solver is True\n",
      "Grounding...\n",
      "Solving...\n",
      "Done\n",
      "Solver is True\n",
      "Grounding...\n",
      "Solving...\n",
      "Done\n",
      "Solver is True\n",
      "Grounding...\n",
      "Solving...\n",
      "Done\n",
      "Solver is True\n",
      "Grounding...\n",
      "Solving...\n",
      "Done\n",
      "Solver is True\n",
      "Grounding...\n",
      "Solving...\n",
      "Done\n",
      "Solver is True\n",
      "Grounding...\n",
      "Solving...\n",
      "Done\n",
      "Solver is True\n",
      "\n",
      "\n",
      "random_s20_a15_c50_h43\n",
      "43\n",
      "Grounding...\n"
     ]
    },
    {
     "name": "stderr",
     "output_type": "stream",
     "text": [
      "Current agent: 15 - at((18,7),0) => at((17,17),43): 100%|██████████| 15/15 [00:00<00:00, 29.82it/s]\n"
     ]
    },
    {
     "name": "stdout",
     "output_type": "stream",
     "text": [
      "SAT\n",
      "852 39 0.06666666666666667\n",
      "[((16, 15), 20), ((19, 7), 41), ((2, 8), 37), ((18, 11), 36), ((2, 7), 36), ((2, 6), 35), ((2, 5), 34), ((2, 4), 33), ((2, 3), 32), ((2, 2), 31), ((3, 2), 30), ((4, 2), 29), ((14, 11), 27), ((14, 11), 26), ((18, 11), 23), ((19, 7), 18), ((17, 18), 14), ((19, 7), 10), ((17, 18), 42), ((19, 7), 24), ((16, 15), 22), ((16, 14), 21), ((18, 11), 29), ((11, 11), 29), ((11, 11), 1), ((19, 15), 2), ((11, 11), 2), ((14, 11), 32), ((19, 15), 4), ((19, 15), 3), ((18, 11), 30), ((12, 11), 29), ((18, 16), 6), ((14, 11), 31), ((17, 18), 41), ((14, 11), 14), ((16, 15), 35), ((19, 7), 25), ((19, 7), 8)]\n",
      "Grounding...\n",
      "Solving...\n",
      "Done\n",
      "Solver is True\n",
      "Grounding...\n",
      "Solving...\n",
      "Done\n",
      "Solver is True\n",
      "Grounding...\n",
      "Solving...\n",
      "Done\n",
      "Solver is True\n",
      "Grounding...\n",
      "Solving...\n",
      "Done\n",
      "Solver is False\n",
      "Grounding...\n",
      "Solving...\n",
      "Done\n",
      "Solver is False\n",
      "Grounding...\n",
      "Solving...\n",
      "Done\n",
      "Solver is False\n",
      "Grounding...\n",
      "Solving...\n",
      "Done\n",
      "Solver is False\n",
      "\n",
      "\n",
      "random_s10_a5_c75_h14\n",
      "14\n",
      "Grounding...\n"
     ]
    },
    {
     "name": "stderr",
     "output_type": "stream",
     "text": [
      "Current agent: 5 - at((8,10),0) => at((7,1),14): 100%|██████████| 5/5 [00:00<00:00, 67.85it/s]\n"
     ]
    },
    {
     "name": "stdout",
     "output_type": "stream",
     "text": [
      "SAT\n",
      "145 3 0.2\n",
      "[((6, 5), 6), ((5, 5), 3), ((5, 5), 5)]\n",
      "Grounding...\n",
      "Solving...\n",
      "Done\n",
      "Solver is True\n",
      "Grounding...\n",
      "Solving...\n",
      "Done\n",
      "Solver is True\n",
      "Grounding...\n",
      "Solving...\n",
      "Done\n",
      "Solver is True\n",
      "Grounding...\n",
      "Solving...\n",
      "Done\n",
      "Solver is True\n",
      "\n",
      "\n",
      "room_s29_a20_w5_h26\n",
      "26\n",
      "Grounding...\n"
     ]
    },
    {
     "name": "stderr",
     "output_type": "stream",
     "text": [
      "Current agent: 20 - at((29,14),0) => at((29,17),26): 100%|██████████| 20/20 [00:01<00:00, 17.03it/s]\n"
     ]
    },
    {
     "name": "stdout",
     "output_type": "stream",
     "text": [
      "SAT\n",
      "798 14 0.05\n",
      "[((24, 5), 11), ((24, 5), 10), ((24, 5), 9), ((24, 5), 8), ((24, 5), 7), ((24, 5), 6), ((22, 7), 24), ((22, 7), 23), ((24, 5), 12), ((29, 14), 16), ((29, 13), 15), ((24, 5), 13), ((25, 11), 3), ((25, 11), 2)]\n",
      "Grounding...\n",
      "Solving...\n",
      "Done\n",
      "Solver is True\n",
      "Grounding...\n",
      "Solving...\n",
      "Done\n",
      "Solver is True\n",
      "Grounding...\n",
      "Solving...\n",
      "Done\n",
      "Solver is True\n",
      "Grounding...\n",
      "Solving...\n",
      "Done\n",
      "Solver is True\n",
      "Grounding...\n",
      "Solving...\n",
      "Done\n",
      "Solver is True\n",
      "Grounding...\n",
      "Solving...\n",
      "Done\n",
      "Solver is True\n",
      "\n",
      "\n",
      "maze_s15_a20_h98\n",
      "98\n",
      "Grounding...\n"
     ]
    },
    {
     "name": "stderr",
     "output_type": "stream",
     "text": [
      "Current agent: 20 - at((13,22),0) => at((15,22),98): 100%|██████████| 20/20 [00:02<00:00,  7.59it/s]\n"
     ]
    },
    {
     "name": "stdout",
     "output_type": "stream",
     "text": [
      "SAT\n",
      "2620 102 0.05\n",
      "[((21, 20), 65), ((20, 21), 63), ((21, 21), 50), ((20, 21), 49), ((19, 21), 48), ((18, 21), 47), ((17, 21), 46), ((16, 21), 45), ((15, 21), 44), ((14, 21), 43), ((13, 21), 42), ((12, 21), 41), ((11, 21), 40), ((10, 21), 39), ((9, 21), 38), ((9, 20), 37), ((9, 19), 36), ((9, 18), 35), ((9, 17), 34), ((10, 17), 33), ((11, 17), 32), ((12, 17), 31), ((13, 17), 30), ((1, 5), 80), ((15, 26), 66), ((17, 16), 50), ((9, 17), 48), ((10, 17), 47), ((11, 17), 46), ((12, 17), 45), ((13, 17), 44), ((14, 17), 43), ((15, 17), 42), ((15, 18), 41), ((15, 19), 40), ((16, 19), 39), ((17, 19), 38), ((17, 18), 37), ((1, 20), 36), ((17, 17), 36), ((17, 16), 35), ((17, 15), 34), ((17, 14), 33), ((17, 13), 32), ((17, 12), 31), ((17, 11), 30), ((17, 10), 29), ((17, 9), 28), ((16, 9), 27), ((15, 9), 26), ((15, 10), 25), ((15, 11), 24), ((14, 11), 23), ((13, 11), 22), ((13, 12), 21), ((13, 13), 20), ((12, 13), 19), ((11, 13), 18), ((11, 12), 17), ((11, 11), 16), ((11, 10), 15), ((11, 9), 14), ((10, 9), 13), ((9, 9), 12), ((9, 8), 11), ((9, 7), 10), ((9, 6), 9), ((2, 19), 24), ((9, 5), 8), ((21, 22), 15), ((9, 4), 7), ((9, 3), 6), ((1, 20), 39), ((8, 29), 23), ((1, 20), 38), ((8, 29), 22), ((9, 2), 5), ((15, 25), 3), ((9, 1), 4), ((8, 1), 3), ((9, 29), 21), ((10, 29), 20), ((21, 22), 14), ((7, 1), 2), ((11, 29), 19), ((17, 21), 3), ((12, 29), 18), ((20, 21), 6), ((1, 5), 78), ((15, 26), 64), ((17, 16), 48), ((1, 20), 37), ((1, 20), 34), ((13, 21), 18), ((21, 22), 13), ((19, 21), 5), ((16, 21), 2), ((17, 19), 1), ((7, 2), 1), ((13, 29), 17), ((19, 21), 12), ((18, 21), 4)]\n",
      "Grounding...\n",
      "Solving...\n",
      "Done\n",
      "Solver is True\n",
      "Grounding...\n",
      "Solving...\n",
      "Done\n",
      "Solver is True\n",
      "Grounding...\n",
      "Solving...\n",
      "Done\n",
      "Solver is True\n",
      "Grounding...\n",
      "Solving...\n",
      "Done\n",
      "Solver is True\n",
      "Grounding...\n",
      "Solving...\n",
      "Done\n",
      "Solver is True\n",
      "Grounding...\n",
      "Solving...\n",
      "Done\n",
      "Solver is True\n",
      "Grounding...\n",
      "Solving...\n",
      "Done\n",
      "Solver is True\n",
      "\n",
      "\n",
      "room_s19_a5_w4_h25\n",
      "25\n",
      "Grounding...\n"
     ]
    },
    {
     "name": "stderr",
     "output_type": "stream",
     "text": [
      "Current agent: 5 - at((15,2),0) => at((10,6),25): 100%|██████████| 5/5 [00:00<00:00, 25.18it/s]\n"
     ]
    },
    {
     "name": "stdout",
     "output_type": "stream",
     "text": [
      "SAT\n",
      "208 3 0.2\n",
      "[((13, 5), 8), ((13, 4), 7), ((12, 4), 6)]\n",
      "Grounding...\n",
      "Solving...\n",
      "Done\n",
      "Solver is True\n",
      "Grounding...\n",
      "Solving...\n",
      "Done\n",
      "Solver is True\n",
      "Grounding...\n",
      "Solving...\n",
      "Done\n",
      "Solver is True\n",
      "Grounding...\n",
      "Solving...\n",
      "Done\n",
      "Solver is True\n",
      "\n",
      "\n"
     ]
    }
   ],
   "source": [
    "for instance_name, instance_content in instances_pool:\n",
    "    def approach(instance_name, instance_content):\n",
    "        print(instance_name)\n",
    "        rows = []\n",
    "        \n",
    "        r, s_ipf = base_ipf(instance_content, additional_paths_computation=True)\n",
    "        \n",
    "        rows.append({\n",
    "            'Step Name' : 'base_ipf',\n",
    "            'Total Time' : s_ipf.total_time,\n",
    "            'Ground Time': s_ipf.total_time - s_ipf.solve_time,\n",
    "            'Solving Time': s_ipf.solve_time,\n",
    "            'SAT' : bool(r),\n",
    "            'Additional Data' : json.dumps(s_ipf.additional_data)\n",
    "        })\n",
    "        \n",
    "        ih, gh, lgh, s = global_heatmap(r + instance_content)\n",
    "        \n",
    "        rows.append({\n",
    "            'Step Name' : 'heatmaps',\n",
    "            'Total Time' : s.total_time,\n",
    "            'Ground Time': s.total_time - s.solve_time,\n",
    "            'Solving Time': s.solve_time,\n",
    "            'SAT' : bool(r),\n",
    "            'Additional Data' : json.dumps(s.additional_data)\n",
    "        })\n",
    "        \n",
    "        \n",
    "        cva ,s =  pe_simple_threshold(ih,gh,s_ipf.additional_data['nagent'])\n",
    "        \n",
    "        rows.append({\n",
    "            'Step Name' : 'simple_threshold',\n",
    "            'Total Time' : s.total_time,\n",
    "            'Ground Time': s.total_time - s.solve_time,\n",
    "            'Solving Time': s.solve_time,\n",
    "            'SAT' : bool(r),\n",
    "            'Additional Data' : json.dumps(s.additional_data)\n",
    "        })\n",
    "        \n",
    "        r,s = solver(r + cva + instance_content + lgh['pwlsh'], 'pathelimination/path_elimination.lp', additional_encodings=['pathelimination/convert_to_kill.lp'])\n",
    "        \n",
    "        rows.append({\n",
    "            'Step Name' : 'path_elimination',\n",
    "            'Total Time' : s.total_time,\n",
    "            'Ground Time': s.total_time - s.solve_time,\n",
    "            'Solving Time': s.solve_time,\n",
    "            'SAT' : bool(r),\n",
    "            'Additional Data' : json.dumps(s.additional_data)\n",
    "        })\n",
    "        \n",
    "        \n",
    "        r,s = solver(r, 'pathselection/path_selection.lp', parameters=['0','--opt-strategy=usc'])\n",
    "        \n",
    "        rows.append({\n",
    "            'Step Name' : 'path_selection',\n",
    "            'Total Time' : s.total_time,\n",
    "            'Ground Time': s.total_time - s.solve_time,\n",
    "            'Solving Time': s.solve_time,\n",
    "            'SAT' : bool(r),\n",
    "            'Additional Data' : json.dumps(s.additional_data)\n",
    "        })\n",
    "        # print(r)\n",
    "        \n",
    "        r,s = solver(r,'strategies/diamond.lp', additional_encodings=['strategies/corridor.lp', 'strategies/determination.lp'])\n",
    "        \n",
    "        rows.append({\n",
    "            'Step Name' : 'strategy',\n",
    "            'Total Time' : s.total_time,\n",
    "            'Ground Time': s.total_time - s.solve_time,\n",
    "            'Solving Time': s.solve_time,\n",
    "            'SAT' : bool(r),\n",
    "            'Additional Data' : json.dumps(s.additional_data)\n",
    "        })\n",
    "\n",
    "        r_,s = partial_solving(r, 'mapf/partial_solving.lp', subgraph='mapf/subgraph.lp', precomputed_path='mapf/precomputed_path.lp')\n",
    "        \n",
    "        rows.append({\n",
    "            'Step Name' : 'partial_solving',\n",
    "            'Total Time' : s.total_time,\n",
    "            'Ground Time': s.total_time - s.solve_time,\n",
    "            'Solving Time': s.solve_time,\n",
    "            'SAT' : bool(r_),\n",
    "            'Additional Data' : json.dumps(s.additional_data)\n",
    "        })\n",
    "        \n",
    "        for i in range (1,6,2):\n",
    "            if s.additional_data['ngoal_reached'] < s_ipf.additional_data['nagent']:\n",
    "                r_,s = partial_solving(r, 'mapf/partial_solving.lp', subgraph='mapf/subgraph.lp', precomputed_path='mapf/precomputed_path.lp',  horizon_modifier=i)\n",
    "        \n",
    "                rows.append({\n",
    "                    'Step Name' : f'partial_solving_additional_horizon',\n",
    "                    'Total Time' : s.total_time,\n",
    "                    'Ground Time': s.total_time - s.solve_time,\n",
    "                    'Solving Time': s.solve_time,\n",
    "                    'SAT' : bool(r_),\n",
    "                    'Additional Data' : json.dumps(s.additional_data)\n",
    "                })\n",
    "        \n",
    "        print('\\n')\n",
    "        write_csv(f'benchmarks_result/{instance_name}-approach010.csv', header,rows)\n",
    "        \n",
    "    pool = Pool(1)       \n",
    "    mutex = pool.apply_async(approach,[instance_name,instance_content])\n",
    "\n",
    "    try:\n",
    "        mutex.get(timeout=timeout)\n",
    "    except Exception as e:\n",
    "        print(e)\n",
    "        pool.terminate()"
   ]
  },
  {
   "cell_type": "markdown",
   "metadata": {},
   "source": [
    "## Approach 11: no additional paths, summed heatmap elimination, precomputed path"
   ]
  },
  {
   "cell_type": "code",
   "execution_count": null,
   "metadata": {},
   "outputs": [
    {
     "name": "stdout",
     "output_type": "stream",
     "text": [
      "room_s29_a10_w5_h29\n",
      "29\n",
      "Grounding...\n"
     ]
    },
    {
     "name": "stderr",
     "output_type": "stream",
     "text": [
      "Current agent: 10 - at((12,10),0) => at((21,24),29): 100%|██████████| 10/10 [00:00<00:00, 14.58it/s]\n"
     ]
    },
    {
     "name": "stdout",
     "output_type": "stream",
     "text": [
      "SAT\n",
      "Grounding...\n",
      "Solving...\n",
      "Done\n",
      "Solver is True\n",
      "Grounding...\n",
      "Solving...\n"
     ]
    },
    {
     "name": "stderr",
     "output_type": "stream",
     "text": [
      "pathelimination/path_elimination.lp:2:5-25: info: atom does not occur in any rule head:\n",
      "  critical_vertex(V,T)\n",
      "\n",
      "pathelimination/path_elimination.lp:3:5-26: info: atom does not occur in any rule head:\n",
      "  critical_agent(R,V,T)\n",
      "\n"
     ]
    },
    {
     "name": "stdout",
     "output_type": "stream",
     "text": [
      "Done\n",
      "Solver is True\n",
      "Grounding...\n",
      "Solving...\n",
      "Done\n",
      "Solver is True\n",
      "random_s20_a15_c75_h28\n",
      "28\n",
      "Grounding...\n"
     ]
    },
    {
     "name": "stderr",
     "output_type": "stream",
     "text": [
      "Current agent: 15 - at((17,7),0) => at((17,10),28): 100%|██████████| 15/15 [00:00<00:00, 30.88it/s]\n"
     ]
    },
    {
     "name": "stdout",
     "output_type": "stream",
     "text": [
      "SAT\n",
      "Grounding...\n",
      "Solving...\n",
      "Done\n",
      "Solver is True\n",
      "Grounding...\n",
      "Solving...\n"
     ]
    },
    {
     "name": "stderr",
     "output_type": "stream",
     "text": [
      "pathelimination/path_elimination.lp:2:5-25: info: atom does not occur in any rule head:\n",
      "  critical_vertex(V,T)\n",
      "\n",
      "pathelimination/path_elimination.lp:3:5-26: info: atom does not occur in any rule head:\n",
      "  critical_agent(R,V,T)\n",
      "\n"
     ]
    },
    {
     "name": "stdout",
     "output_type": "stream",
     "text": [
      "Done\n",
      "Solver is True\n",
      "Grounding...\n",
      "Solving...\n",
      "Done\n",
      "Solver is True\n",
      "maze_s10_a20_h40\n",
      "40\n",
      "Grounding...\n"
     ]
    },
    {
     "name": "stderr",
     "output_type": "stream",
     "text": [
      "Current agent: 20 - at((3,18),0) => at((1,18),4): 100%|██████████| 20/20 [00:00<00:00, 54.01it/s]   \n"
     ]
    },
    {
     "name": "stdout",
     "output_type": "stream",
     "text": [
      "SAT\n",
      "Grounding...\n",
      "Solving...\n",
      "Done\n",
      "Solver is True\n",
      "Grounding...\n",
      "Solving...\n",
      "Done\n",
      "Solver is True\n",
      "Grounding...\n"
     ]
    },
    {
     "name": "stderr",
     "output_type": "stream",
     "text": [
      "pathelimination/path_elimination.lp:2:5-25: info: atom does not occur in any rule head:\n",
      "  critical_vertex(V,T)\n",
      "\n",
      "pathelimination/path_elimination.lp:3:5-26: info: atom does not occur in any rule head:\n",
      "  critical_agent(R,V,T)\n",
      "\n"
     ]
    },
    {
     "name": "stdout",
     "output_type": "stream",
     "text": [
      "Solving...\n",
      "Done\n",
      "Solver is True\n",
      "Grounding...\n",
      "Solving...\n",
      "Done\n",
      "Solver is True\n",
      "Grounding...\n",
      "Solving...\n",
      "Done\n",
      "Solver is True\n",
      "Grounding...\n",
      "Solving...\n",
      "Done\n",
      "Solver is True\n",
      "room_s19_a15_w4_h34\n",
      "34\n",
      "Grounding...\n"
     ]
    },
    {
     "name": "stderr",
     "output_type": "stream",
     "text": [
      "Current agent: 15 - at((15,19),0) => at((19,16),34): 100%|██████████| 15/15 [00:00<00:00, 30.76it/s]\n"
     ]
    },
    {
     "name": "stdout",
     "output_type": "stream",
     "text": [
      "SAT\n",
      "Grounding...\n",
      "Solving...\n",
      "Done\n",
      "Solver is True\n",
      "Grounding...\n",
      "Solving...\n"
     ]
    },
    {
     "name": "stderr",
     "output_type": "stream",
     "text": [
      "pathelimination/path_elimination.lp:2:5-25: info: atom does not occur in any rule head:\n",
      "  critical_vertex(V,T)\n",
      "\n",
      "pathelimination/path_elimination.lp:3:5-26: info: atom does not occur in any rule head:\n",
      "  critical_agent(R,V,T)\n",
      "\n"
     ]
    },
    {
     "name": "stdout",
     "output_type": "stream",
     "text": [
      "Done\n",
      "Solver is True\n",
      "Grounding...\n",
      "Solving...\n",
      "Done\n",
      "Solver is True\n",
      "Grounding...\n",
      "Solving...\n",
      "Done\n",
      "Solver is True\n",
      "Grounding...\n",
      "Solving...\n",
      "Done\n",
      "Solver is True\n",
      "Grounding...\n",
      "Solving...\n",
      "Done\n",
      "Solver is True\n",
      "maze_s20_a15_h68\n",
      "68\n",
      "Grounding...\n"
     ]
    },
    {
     "name": "stderr",
     "output_type": "stream",
     "text": [
      "Current agent: 15 - at((1,32),0) => at((5,32),68): 100%|██████████| 15/15 [00:01<00:00, 11.62it/s]  \n"
     ]
    },
    {
     "name": "stdout",
     "output_type": "stream",
     "text": [
      "SAT\n",
      "Grounding...\n",
      "Solving...\n",
      "Done\n",
      "Solver is True\n",
      "Grounding...\n",
      "Solving...\n",
      "Done\n",
      "Solver is True\n"
     ]
    },
    {
     "name": "stderr",
     "output_type": "stream",
     "text": [
      "pathelimination/path_elimination.lp:2:5-25: info: atom does not occur in any rule head:\n",
      "  critical_vertex(V,T)\n",
      "\n",
      "pathelimination/path_elimination.lp:3:5-26: info: atom does not occur in any rule head:\n",
      "  critical_agent(R,V,T)\n",
      "\n"
     ]
    },
    {
     "name": "stdout",
     "output_type": "stream",
     "text": [
      "Grounding...\n",
      "Solving...\n",
      "Done\n",
      "Solver is True\n",
      "room_s47_a15_w5_h37\n",
      "37\n",
      "Grounding...\n"
     ]
    },
    {
     "name": "stderr",
     "output_type": "stream",
     "text": [
      "Current agent: 15 - at((47,34),0) => at((19,38),37): 100%|██████████| 15/15 [00:02<00:00,  6.53it/s]\n"
     ]
    },
    {
     "name": "stdout",
     "output_type": "stream",
     "text": [
      "SAT\n",
      "Grounding...\n",
      "Solving...\n",
      "Done\n",
      "Solver is True\n"
     ]
    },
    {
     "name": "stderr",
     "output_type": "stream",
     "text": [
      "pathelimination/path_elimination.lp:2:5-25: info: atom does not occur in any rule head:\n",
      "  critical_vertex(V,T)\n",
      "\n",
      "pathelimination/path_elimination.lp:3:5-26: info: atom does not occur in any rule head:\n",
      "  critical_agent(R,V,T)\n",
      "\n"
     ]
    },
    {
     "name": "stdout",
     "output_type": "stream",
     "text": [
      "Grounding...\n",
      "Solving...\n",
      "Done\n",
      "Solver is True\n",
      "Grounding...\n",
      "Solving...\n",
      "Done\n",
      "Solver is True\n",
      "Grounding...\n",
      "Solving...\n",
      " <built-in method with_traceback of TimeoutError object at 0x7fecb0233dc0>\n",
      "maze_s10_a15_h38\n",
      "38\n",
      "Grounding...\n"
     ]
    },
    {
     "name": "stderr",
     "output_type": "stream",
     "text": [
      "Current agent: 15 - at((9,18),0) => at((10,17),38): 100%|██████████| 15/15 [00:00<00:00, 40.56it/s]\n"
     ]
    },
    {
     "name": "stdout",
     "output_type": "stream",
     "text": [
      "SAT\n",
      "Grounding...\n",
      "Solving...\n",
      "Done\n",
      "Solver is True\n",
      "Grounding...\n",
      "Solving...\n"
     ]
    },
    {
     "name": "stderr",
     "output_type": "stream",
     "text": [
      "pathelimination/path_elimination.lp:2:5-25: info: atom does not occur in any rule head:\n",
      "  critical_vertex(V,T)\n",
      "\n",
      "pathelimination/path_elimination.lp:3:5-26: info: atom does not occur in any rule head:\n",
      "  critical_agent(R,V,T)\n",
      "\n"
     ]
    },
    {
     "name": "stdout",
     "output_type": "stream",
     "text": [
      "Done\n",
      "Solver is True\n",
      "Grounding...\n",
      "Solving...\n",
      "Done\n",
      "Solver is False\n",
      "Grounding...\n",
      "Solving...\n",
      "Done\n",
      "Solver is False\n",
      "Grounding...\n",
      "Solving...\n",
      "Done\n",
      "Solver is False\n",
      "Grounding...\n",
      "Solving...\n",
      "Done\n",
      "Solver is False\n",
      "random_s10_a5_c50_h16\n",
      "16\n",
      "Grounding...\n"
     ]
    },
    {
     "name": "stderr",
     "output_type": "stream",
     "text": [
      "Current agent: 5 - at((9,3),0) => at((9,4),16): 100%|██████████| 5/5 [00:00<00:00, 102.38it/s]\n"
     ]
    },
    {
     "name": "stdout",
     "output_type": "stream",
     "text": [
      "SAT\n",
      "Grounding...\n",
      "Solving...\n",
      "Done\n",
      "Solver is True\n",
      "Grounding...\n",
      "Solving...\n",
      "Done\n",
      "Solver is True\n",
      "Grounding...\n",
      "Solving...\n"
     ]
    },
    {
     "name": "stderr",
     "output_type": "stream",
     "text": [
      "pathelimination/path_elimination.lp:2:5-25: info: atom does not occur in any rule head:\n",
      "  critical_vertex(V,T)\n",
      "\n",
      "pathelimination/path_elimination.lp:3:5-26: info: atom does not occur in any rule head:\n",
      "  critical_agent(R,V,T)\n",
      "\n"
     ]
    },
    {
     "name": "stdout",
     "output_type": "stream",
     "text": [
      "Done\n",
      "Solver is True\n",
      "room_s29_a30_w5_h34\n",
      "34\n",
      "Grounding...\n"
     ]
    },
    {
     "name": "stderr",
     "output_type": "stream",
     "text": [
      "Current agent: 30 - at((28,15),0) => at((29,15),34): 100%|██████████| 30/30 [00:01<00:00, 16.27it/s]\n"
     ]
    },
    {
     "name": "stdout",
     "output_type": "stream",
     "text": [
      "SAT\n",
      "Grounding...\n",
      "Solving...\n"
     ]
    },
    {
     "name": "stderr",
     "output_type": "stream",
     "text": [
      "pathelimination/path_elimination.lp:2:5-25: info: atom does not occur in any rule head:\n",
      "  critical_vertex(V,T)\n",
      "\n",
      "pathelimination/path_elimination.lp:3:5-26: info: atom does not occur in any rule head:\n",
      "  critical_agent(R,V,T)\n",
      "\n"
     ]
    },
    {
     "name": "stdout",
     "output_type": "stream",
     "text": [
      "Done\n",
      "Solver is True\n",
      "Grounding...\n",
      "Solving...\n",
      "Done\n",
      "Solver is True\n",
      "Grounding...\n",
      "Solving...\n",
      "Done\n",
      "Solver is True\n",
      "Grounding...\n",
      "Solving...\n",
      "Done\n",
      "Solver is True\n",
      "Grounding...\n",
      "Solving...\n",
      " <built-in method with_traceback of TimeoutError object at 0x7fecb0233c40>\n",
      "maze_s10_a25_h45\n",
      "45\n",
      "Grounding...\n"
     ]
    },
    {
     "name": "stderr",
     "output_type": "stream",
     "text": [
      "Current agent: 25 - at((16,15),0) => at((1,18),45): 100%|██████████| 25/25 [00:00<00:00, 32.48it/s] \n"
     ]
    },
    {
     "name": "stdout",
     "output_type": "stream",
     "text": [
      "SAT\n",
      "Grounding...\n",
      "Solving...\n"
     ]
    },
    {
     "name": "stderr",
     "output_type": "stream",
     "text": [
      "pathelimination/path_elimination.lp:2:5-25: info: atom does not occur in any rule head:\n",
      "  critical_vertex(V,T)\n",
      "\n",
      "pathelimination/path_elimination.lp:3:5-26: info: atom does not occur in any rule head:\n",
      "  critical_agent(R,V,T)\n",
      "\n"
     ]
    },
    {
     "name": "stdout",
     "output_type": "stream",
     "text": [
      "Done\n",
      "Solver is True\n",
      "Grounding...\n",
      "Solving...\n",
      "Done\n",
      "Solver is True\n",
      "Grounding...\n",
      "Solving...\n",
      "Done\n",
      "Solver is False\n",
      "Grounding...\n",
      "Solving...\n",
      "Done\n",
      "Solver is False\n",
      "Grounding...\n",
      "Solving...\n",
      "Done\n",
      "Solver is False\n",
      "Grounding...\n",
      "Solving...\n",
      "Done\n",
      "Solver is False\n",
      "room_s47_a10_w5_h59\n",
      "59\n",
      "Grounding...\n"
     ]
    },
    {
     "name": "stderr",
     "output_type": "stream",
     "text": [
      "Current agent: 10 - at((32,47),0) => at((33,1),59): 100%|██████████| 10/10 [00:02<00:00,  4.17it/s]\n"
     ]
    },
    {
     "name": "stdout",
     "output_type": "stream",
     "text": [
      "SAT\n",
      "Grounding...\n",
      "Solving...\n",
      "Done\n",
      "Solver is True\n"
     ]
    },
    {
     "name": "stderr",
     "output_type": "stream",
     "text": [
      "pathelimination/path_elimination.lp:2:5-25: info: atom does not occur in any rule head:\n",
      "  critical_vertex(V,T)\n",
      "\n",
      "pathelimination/path_elimination.lp:3:5-26: info: atom does not occur in any rule head:\n",
      "  critical_agent(R,V,T)\n",
      "\n"
     ]
    },
    {
     "name": "stdout",
     "output_type": "stream",
     "text": [
      "Grounding...\n",
      "Solving...\n",
      "Done\n",
      "Solver is True\n",
      "Grounding...\n",
      "Solving...\n",
      "Done\n",
      "Solver is True\n",
      "room_s47_a5_w5_h50\n",
      "50\n",
      "Grounding...\n"
     ]
    },
    {
     "name": "stderr",
     "output_type": "stream",
     "text": [
      "Current agent: 5 - at((4,39),0) => at((29,16),50): 100%|██████████| 5/5 [00:01<00:00,  3.34it/s] \n"
     ]
    },
    {
     "name": "stdout",
     "output_type": "stream",
     "text": [
      "SAT\n",
      "Grounding...\n",
      "Solving...\n",
      "Done\n",
      "Solver is True\n",
      "Grounding...\n"
     ]
    },
    {
     "name": "stderr",
     "output_type": "stream",
     "text": [
      "pathelimination/path_elimination.lp:2:5-25: info: atom does not occur in any rule head:\n",
      "  critical_vertex(V,T)\n",
      "\n",
      "pathelimination/path_elimination.lp:3:5-26: info: atom does not occur in any rule head:\n",
      "  critical_agent(R,V,T)\n",
      "\n"
     ]
    },
    {
     "name": "stdout",
     "output_type": "stream",
     "text": [
      "Solving...\n",
      "Done\n",
      "Solver is True\n",
      "Grounding...\n",
      "Solving...\n",
      "Done\n",
      "Solver is True\n",
      "random_s40_a35_c75_h54\n",
      "54\n",
      "Grounding...\n"
     ]
    },
    {
     "name": "stderr",
     "output_type": "stream",
     "text": [
      "Current agent: 35 - at((24,39),0) => at((24,18),54): 100%|██████████| 35/35 [00:04<00:00,  8.16it/s]\n"
     ]
    },
    {
     "name": "stdout",
     "output_type": "stream",
     "text": [
      "SAT\n",
      "Grounding...\n",
      "Solving...\n"
     ]
    },
    {
     "name": "stderr",
     "output_type": "stream",
     "text": [
      "pathelimination/path_elimination.lp:2:5-25: info: atom does not occur in any rule head:\n",
      "  critical_vertex(V,T)\n",
      "\n",
      "pathelimination/path_elimination.lp:3:5-26: info: atom does not occur in any rule head:\n",
      "  critical_agent(R,V,T)\n",
      "\n"
     ]
    },
    {
     "name": "stdout",
     "output_type": "stream",
     "text": [
      "Done\n",
      "Solver is True\n",
      "Grounding...\n",
      "Solving...\n",
      "Done\n",
      "Solver is True\n",
      "Grounding...\n",
      "Solving...\n",
      " <built-in method with_traceback of TimeoutError object at 0x7fecb027c340>\n",
      "random_s30_a25_c75_h50\n",
      "50\n",
      "Grounding...\n"
     ]
    },
    {
     "name": "stderr",
     "output_type": "stream",
     "text": [
      "Current agent: 25 - at((10,28),0) => at((24,30),50): 100%|██████████| 25/25 [00:02<00:00, 11.34it/s]\n"
     ]
    },
    {
     "name": "stdout",
     "output_type": "stream",
     "text": [
      "SAT\n",
      "Grounding...\n",
      "Solving...\n"
     ]
    },
    {
     "name": "stderr",
     "output_type": "stream",
     "text": [
      "pathelimination/path_elimination.lp:2:5-25: info: atom does not occur in any rule head:\n",
      "  critical_vertex(V,T)\n",
      "\n",
      "pathelimination/path_elimination.lp:3:5-26: info: atom does not occur in any rule head:\n",
      "  critical_agent(R,V,T)\n",
      "\n"
     ]
    },
    {
     "name": "stdout",
     "output_type": "stream",
     "text": [
      "Done\n",
      "Solver is True\n",
      "Grounding...\n",
      "Solving...\n",
      "Done\n",
      "Solver is True\n",
      "Grounding...\n",
      "Solving...\n",
      "Done\n",
      "Solver is True\n",
      "room_s19_a25_w4_h30\n",
      "30\n",
      "Grounding...\n"
     ]
    },
    {
     "name": "stderr",
     "output_type": "stream",
     "text": [
      "Current agent: 25 - at((18,19),0) => at((18,17),30): 100%|██████████| 25/25 [00:00<00:00, 37.76it/s]\n"
     ]
    },
    {
     "name": "stdout",
     "output_type": "stream",
     "text": [
      "SAT\n",
      "Grounding...\n",
      "Solving...\n",
      "Done\n",
      "Solver is True\n",
      "Grounding...\n"
     ]
    },
    {
     "name": "stderr",
     "output_type": "stream",
     "text": [
      "pathelimination/path_elimination.lp:2:5-25: info: atom does not occur in any rule head:\n",
      "  critical_vertex(V,T)\n",
      "\n",
      "pathelimination/path_elimination.lp:3:5-26: info: atom does not occur in any rule head:\n",
      "  critical_agent(R,V,T)\n",
      "\n"
     ]
    },
    {
     "name": "stdout",
     "output_type": "stream",
     "text": [
      "Solving...\n",
      "Done\n",
      "Solver is True\n",
      "Grounding...\n",
      "Solving...\n",
      "Done\n",
      "Solver is True\n",
      "random_s20_a15_c50_h43\n",
      "43\n",
      "Grounding...\n"
     ]
    },
    {
     "name": "stderr",
     "output_type": "stream",
     "text": [
      "Current agent: 15 - at((18,7),0) => at((17,17),43): 100%|██████████| 15/15 [00:00<00:00, 38.47it/s]\n"
     ]
    },
    {
     "name": "stdout",
     "output_type": "stream",
     "text": [
      "SAT\n",
      "Grounding...\n",
      "Solving...\n",
      "Done\n",
      "Solver is True\n",
      "Grounding...\n",
      "Solving...\n",
      "Done\n",
      "Solver is True\n"
     ]
    },
    {
     "name": "stderr",
     "output_type": "stream",
     "text": [
      "pathelimination/path_elimination.lp:2:5-25: info: atom does not occur in any rule head:\n",
      "  critical_vertex(V,T)\n",
      "\n",
      "pathelimination/path_elimination.lp:3:5-26: info: atom does not occur in any rule head:\n",
      "  critical_agent(R,V,T)\n",
      "\n"
     ]
    },
    {
     "name": "stdout",
     "output_type": "stream",
     "text": [
      "Grounding...\n",
      "Solving...\n",
      "Done\n",
      "Solver is True\n",
      "Grounding...\n",
      "Solving...\n",
      "Done\n",
      "Solver is True\n",
      "Grounding...\n",
      "Solving...\n",
      "Done\n",
      "Solver is True\n",
      "Grounding...\n",
      "Solving...\n",
      "Done\n",
      "Solver is True\n",
      "random_s10_a5_c75_h14\n",
      "14\n",
      "Grounding...\n"
     ]
    },
    {
     "name": "stderr",
     "output_type": "stream",
     "text": [
      "Current agent: 5 - at((8,10),0) => at((7,1),14): 100%|██████████| 5/5 [00:00<00:00, 120.33it/s]\n"
     ]
    },
    {
     "name": "stdout",
     "output_type": "stream",
     "text": [
      "SAT\n",
      "Grounding...\n",
      "Solving...\n",
      "Done\n",
      "Solver is True\n",
      "Grounding...\n",
      "Solving...\n",
      "Done\n",
      "Solver is True\n",
      "Grounding...\n",
      "Solving...\n"
     ]
    },
    {
     "name": "stderr",
     "output_type": "stream",
     "text": [
      "pathelimination/path_elimination.lp:2:5-25: info: atom does not occur in any rule head:\n",
      "  critical_vertex(V,T)\n",
      "\n",
      "pathelimination/path_elimination.lp:3:5-26: info: atom does not occur in any rule head:\n",
      "  critical_agent(R,V,T)\n",
      "\n"
     ]
    },
    {
     "name": "stdout",
     "output_type": "stream",
     "text": [
      "Done\n",
      "Solver is True\n",
      "room_s29_a20_w5_h26\n",
      "26\n",
      "Grounding...\n"
     ]
    },
    {
     "name": "stderr",
     "output_type": "stream",
     "text": [
      "Current agent: 20 - at((29,14),0) => at((29,17),26): 100%|██████████| 20/20 [00:00<00:00, 20.66it/s]\n"
     ]
    },
    {
     "name": "stdout",
     "output_type": "stream",
     "text": [
      "SAT\n",
      "Grounding...\n",
      "Solving...\n",
      "Done\n",
      "Solver is True\n",
      "Grounding...\n"
     ]
    },
    {
     "name": "stderr",
     "output_type": "stream",
     "text": [
      "pathelimination/path_elimination.lp:2:5-25: info: atom does not occur in any rule head:\n",
      "  critical_vertex(V,T)\n",
      "\n",
      "pathelimination/path_elimination.lp:3:5-26: info: atom does not occur in any rule head:\n",
      "  critical_agent(R,V,T)\n",
      "\n"
     ]
    },
    {
     "name": "stdout",
     "output_type": "stream",
     "text": [
      "Solving...\n",
      "Done\n",
      "Solver is True\n",
      "Grounding...\n",
      "Solving...\n",
      "Done\n",
      "Solver is True\n",
      "maze_s15_a20_h98\n",
      "98\n",
      "Grounding...\n"
     ]
    },
    {
     "name": "stderr",
     "output_type": "stream",
     "text": [
      "Current agent: 20 - at((13,22),0) => at((15,22),98): 100%|██████████| 20/20 [00:01<00:00, 15.13it/s]\n"
     ]
    },
    {
     "name": "stdout",
     "output_type": "stream",
     "text": [
      "SAT\n",
      "Grounding...\n",
      "Solving...\n",
      "Done\n",
      "Solver is True\n",
      "Grounding...\n",
      "Solving...\n",
      "Done\n"
     ]
    },
    {
     "name": "stderr",
     "output_type": "stream",
     "text": [
      "pathelimination/path_elimination.lp:2:5-25: info: atom does not occur in any rule head:\n",
      "  critical_vertex(V,T)\n",
      "\n",
      "pathelimination/path_elimination.lp:3:5-26: info: atom does not occur in any rule head:\n",
      "  critical_agent(R,V,T)\n",
      "\n"
     ]
    },
    {
     "name": "stdout",
     "output_type": "stream",
     "text": [
      "Solver is True\n",
      "Grounding...\n",
      "Solving...\n",
      "Done\n",
      "Solver is True\n",
      "Grounding...\n",
      "Solving...\n",
      "Done\n",
      "Solver is True\n",
      "Grounding...\n",
      "Solving...\n",
      "Done\n",
      "Solver is True\n",
      "Grounding...\n",
      "Solving...\n",
      "Done\n",
      "Solver is True\n",
      "room_s19_a5_w4_h25\n",
      "25\n",
      "Grounding...\n"
     ]
    },
    {
     "name": "stderr",
     "output_type": "stream",
     "text": [
      "Current agent: 5 - at((15,2),0) => at((10,6),25): 100%|██████████| 5/5 [00:00<00:00, 25.79it/s]\n"
     ]
    },
    {
     "name": "stdout",
     "output_type": "stream",
     "text": [
      "SAT\n",
      "Grounding...\n",
      "Solving...\n",
      "Done\n",
      "Solver is True\n",
      "Grounding...\n",
      "Solving...\n",
      "Done\n",
      "Solver is True\n",
      "Grounding...\n"
     ]
    },
    {
     "name": "stderr",
     "output_type": "stream",
     "text": [
      "pathelimination/path_elimination.lp:2:5-25: info: atom does not occur in any rule head:\n",
      "  critical_vertex(V,T)\n",
      "\n",
      "pathelimination/path_elimination.lp:3:5-26: info: atom does not occur in any rule head:\n",
      "  critical_agent(R,V,T)\n",
      "\n"
     ]
    },
    {
     "name": "stdout",
     "output_type": "stream",
     "text": [
      "Solving...\n",
      "Done\n",
      "Solver is True\n",
      "Grounding...\n",
      "Solving...\n",
      "Done\n",
      "Solver is True\n"
     ]
    }
   ],
   "source": [
    "for instance_name, instance_content in instances_pool:\n",
    "    def approach(instance_name,instance_content):\n",
    "        print(instance_name)\n",
    "        rows = []\n",
    "        \n",
    "        r, s_ipf = base_ipf(instance_content)\n",
    "        \n",
    "        rows.append({\n",
    "            'Step Name' : 'base_ipf',\n",
    "            'Total Time' : s_ipf.total_time,\n",
    "            'Ground Time': s_ipf.total_time - s_ipf.solve_time,\n",
    "            'Solving Time': s_ipf.solve_time,\n",
    "            'SAT' : bool(r),\n",
    "            'Additional Data' : json.dumps(s_ipf.additional_data)\n",
    "        })\n",
    "        \n",
    "        ih, gh, lgh, s = global_heatmap(r + instance_content)\n",
    "        \n",
    "        rows.append({\n",
    "            'Step Name' : 'heatmaps',\n",
    "            'Total Time' : s.total_time,\n",
    "            'Ground Time': s.total_time - s.solve_time,\n",
    "            'Solving Time': s.solve_time,\n",
    "            'SAT' : bool(r),\n",
    "            'Additional Data' : json.dumps(s.additional_data)\n",
    "        })\n",
    "        \n",
    "        \n",
    "        cva ,s =  select_portion_based_on_heatmap(lgh['summed_heatmap_per_path'])\n",
    "        \n",
    "        rows.append({\n",
    "            'Step Name' : 'select_portion_based_on_heatmap',\n",
    "            'Total Time' : s.total_time,\n",
    "            'Ground Time': s.total_time - s.solve_time,\n",
    "            'Solving Time': s.solve_time,\n",
    "            'SAT' : bool(r),\n",
    "            'Additional Data' : json.dumps(s.additional_data)\n",
    "        })\n",
    "        \n",
    "        r,s = solver(r + cva + instance_content + lgh['pwlsh'], 'pathelimination/path_elimination.lp', additional_encodings=['pathelimination/convert_to_kill.lp'])\n",
    "        \n",
    "        rows.append({\n",
    "            'Step Name' : 'path_elimination',\n",
    "            'Total Time' : s.total_time,\n",
    "            'Ground Time': s.total_time - s.solve_time,\n",
    "            'Solving Time': s.solve_time,\n",
    "            'SAT' : bool(r),\n",
    "            'Additional Data' : json.dumps(s.additional_data)\n",
    "        })\n",
    "        \n",
    "        \n",
    "        r,s = solver(r, 'pathselection/path_selection.lp', parameters=['0','--opt-strategy=usc'])\n",
    "        \n",
    "        rows.append({\n",
    "            'Step Name' : 'path_selection',\n",
    "            'Total Time' : s.total_time,\n",
    "            'Ground Time': s.total_time - s.solve_time,\n",
    "            'Solving Time': s.solve_time,\n",
    "            'SAT' : bool(r),\n",
    "            'Additional Data' : json.dumps(s.additional_data)\n",
    "        })\n",
    "        \n",
    "        # print(r)\n",
    "        \n",
    "        \n",
    "        r_,s = partial_solving(r, 'mapf/partial_solving.lp', subgraph=False, precomputed_path='mapf/precomputed_path_allgraph.lp')\n",
    "        \n",
    "        rows.append({\n",
    "            'Step Name' : 'partial_solving',\n",
    "\n",
    "            'Total Time' : s.total_time,\n",
    "            'Ground Time': s.total_time - s.solve_time,\n",
    "            'Solving Time': s.solve_time,\n",
    "            'SAT' : bool(r_),\n",
    "            'Additional Data' : json.dumps(s.additional_data)\n",
    "        })\n",
    "        \n",
    "\n",
    "        for i in range (1,6,2):\n",
    "            if s.additional_data['ngoal_reached'] < s_ipf.additional_data['nagent']:\n",
    "                r_,s = partial_solving(r, 'mapf/partial_solving.lp', subgraph=False, precomputed_path='mapf/precomputed_path_allgraph.lp',  horizon_modifier=i)\n",
    "        \n",
    "                rows.append({\n",
    "                    'Step Name' : f'partial_solving_additional_horizon',\n",
    "                    'Total Time' : s.total_time,\n",
    "                    'Ground Time': s.total_time - s.solve_time,\n",
    "                    'Solving Time': s.solve_time,\n",
    "                    'SAT' : bool(r_),\n",
    "                    'Additional Data' : json.dumps(s.additional_data)\n",
    "                })\n",
    "        \n",
    "\n",
    "        write_csv(f'benchmarks_result/{instance_name}-approach11.csv', header,rows)\n",
    "\n",
    "        \n",
    "    pool = Pool(1)       \n",
    "    mutex = pool.apply_async(approach,[instance_name,instance_content])\n",
    "\n",
    "    try:\n",
    "        mutex.get(timeout=timeout)\n",
    "    except Exception as e:\n",
    "        print(e, e.with_traceback)\n",
    "        pool.terminate()"
   ]
  },
  {
   "cell_type": "markdown",
   "metadata": {},
   "source": [
    "## Approach 12: No additional path,summed heatmap elimination, subgraph approach"
   ]
  },
  {
   "cell_type": "code",
   "execution_count": null,
   "metadata": {},
   "outputs": [
    {
     "name": "stdout",
     "output_type": "stream",
     "text": [
      "room_s29_a10_w5_h29\n"
     ]
    },
    {
     "name": "stdout",
     "output_type": "stream",
     "text": [
      "29\n",
      "Grounding...\n"
     ]
    },
    {
     "name": "stderr",
     "output_type": "stream",
     "text": [
      "Current agent: 10 - at((12,10),0) => at((21,24),29): 100%|██████████| 10/10 [00:00<00:00, 15.93it/s]\n"
     ]
    },
    {
     "name": "stdout",
     "output_type": "stream",
     "text": [
      "SAT\n",
      "Grounding...\n",
      "Solving...\n",
      "Done\n",
      "Solver is True\n",
      "Grounding...\n",
      "Solving...\n"
     ]
    },
    {
     "name": "stderr",
     "output_type": "stream",
     "text": [
      "pathelimination/path_elimination.lp:2:5-25: info: atom does not occur in any rule head:\n",
      "  critical_vertex(V,T)\n",
      "\n",
      "pathelimination/path_elimination.lp:3:5-26: info: atom does not occur in any rule head:\n",
      "  critical_agent(R,V,T)\n",
      "\n"
     ]
    },
    {
     "name": "stdout",
     "output_type": "stream",
     "text": [
      "Done\n",
      "Solver is True\n",
      "\n",
      "Grounding...\n",
      "Solving...\n",
      "Done\n",
      "Solver is True\n",
      "\n",
      "\n",
      "random_s20_a15_c75_h28\n",
      "28\n",
      "Grounding...\n"
     ]
    },
    {
     "name": "stderr",
     "output_type": "stream",
     "text": [
      "Current agent: 15 - at((17,7),0) => at((17,10),28): 100%|██████████| 15/15 [00:00<00:00, 36.35it/s]\n"
     ]
    },
    {
     "name": "stdout",
     "output_type": "stream",
     "text": [
      "SAT\n",
      "Grounding...\n",
      "Solving...\n",
      "Done\n",
      "Solver is True\n",
      "Grounding...\n",
      "Solving...\n"
     ]
    },
    {
     "name": "stderr",
     "output_type": "stream",
     "text": [
      "pathelimination/path_elimination.lp:2:5-25: info: atom does not occur in any rule head:\n",
      "  critical_vertex(V,T)\n",
      "\n",
      "pathelimination/path_elimination.lp:3:5-26: info: atom does not occur in any rule head:\n",
      "  critical_agent(R,V,T)\n",
      "\n"
     ]
    },
    {
     "name": "stdout",
     "output_type": "stream",
     "text": [
      "Done\n",
      "Solver is True\n",
      "\n",
      "Grounding...\n",
      "Solving...\n",
      "Done\n",
      "Solver is True\n",
      "\n",
      "\n",
      "maze_s10_a20_h40\n",
      "40\n",
      "Grounding...\n"
     ]
    },
    {
     "name": "stderr",
     "output_type": "stream",
     "text": [
      "Current agent: 20 - at((3,18),0) => at((1,18),4): 100%|██████████| 20/20 [00:00<00:00, 61.95it/s]   \n"
     ]
    },
    {
     "name": "stdout",
     "output_type": "stream",
     "text": [
      "SAT\n",
      "Grounding...\n",
      "Solving...\n",
      "Done\n",
      "Solver is True\n",
      "Grounding...\n",
      "Solving...\n",
      "Done\n",
      "Solver is True\n",
      "\n",
      "Grounding...\n"
     ]
    },
    {
     "name": "stderr",
     "output_type": "stream",
     "text": [
      "pathelimination/path_elimination.lp:2:5-25: info: atom does not occur in any rule head:\n",
      "  critical_vertex(V,T)\n",
      "\n",
      "pathelimination/path_elimination.lp:3:5-26: info: atom does not occur in any rule head:\n",
      "  critical_agent(R,V,T)\n",
      "\n"
     ]
    },
    {
     "name": "stdout",
     "output_type": "stream",
     "text": [
      "Solving...\n",
      "Done\n",
      "Solver is True\n",
      "Grounding...\n",
      "Solving...\n",
      "Done\n",
      "Solver is True\n",
      "Grounding...\n",
      "Solving...\n",
      "Done\n",
      "Solver is True\n",
      "\n",
      "\n",
      "room_s19_a15_w4_h34\n",
      "34\n",
      "Grounding...\n"
     ]
    },
    {
     "name": "stderr",
     "output_type": "stream",
     "text": [
      "Current agent: 15 - at((15,19),0) => at((19,16),34): 100%|██████████| 15/15 [00:00<00:00, 31.98it/s]\n"
     ]
    },
    {
     "name": "stdout",
     "output_type": "stream",
     "text": [
      "SAT\n",
      "Grounding...\n",
      "Solving...\n",
      "Done\n",
      "Solver is True\n",
      "Grounding...\n",
      "Solving...\n"
     ]
    },
    {
     "name": "stderr",
     "output_type": "stream",
     "text": [
      "pathelimination/path_elimination.lp:2:5-25: info: atom does not occur in any rule head:\n",
      "  critical_vertex(V,T)\n",
      "\n",
      "pathelimination/path_elimination.lp:3:5-26: info: atom does not occur in any rule head:\n",
      "  critical_agent(R,V,T)\n",
      "\n"
     ]
    },
    {
     "name": "stdout",
     "output_type": "stream",
     "text": [
      "Done\n",
      "Solver is True\n",
      "\n",
      "Grounding...\n",
      "Solving...\n",
      "Done\n",
      "Solver is True\n",
      "Grounding...\n",
      "Solving...\n",
      "Done\n",
      "Solver is True\n",
      "Grounding...\n",
      "Solving...\n",
      "Done\n",
      "Solver is True\n",
      "Grounding...\n",
      "Solving...\n",
      "Done\n",
      "Solver is True\n",
      "\n",
      "\n",
      "maze_s20_a15_h68\n",
      "68\n",
      "Grounding...\n"
     ]
    },
    {
     "name": "stderr",
     "output_type": "stream",
     "text": [
      "Current agent: 15 - at((1,32),0) => at((5,32),68): 100%|██████████| 15/15 [00:01<00:00, 12.03it/s]  \n"
     ]
    },
    {
     "name": "stdout",
     "output_type": "stream",
     "text": [
      "SAT\n",
      "Grounding...\n",
      "Solving...\n",
      "Done\n",
      "Solver is True\n",
      "Grounding...\n",
      "Solving...\n",
      "Done\n",
      "Solver is True\n",
      "\n",
      "Grounding...\n"
     ]
    },
    {
     "name": "stderr",
     "output_type": "stream",
     "text": [
      "pathelimination/path_elimination.lp:2:5-25: info: atom does not occur in any rule head:\n",
      "  critical_vertex(V,T)\n",
      "\n",
      "pathelimination/path_elimination.lp:3:5-26: info: atom does not occur in any rule head:\n",
      "  critical_agent(R,V,T)\n",
      "\n"
     ]
    },
    {
     "name": "stdout",
     "output_type": "stream",
     "text": [
      "Solving...\n",
      "Done\n",
      "Solver is True\n",
      "Grounding...\n",
      "Solving...\n",
      "Done\n",
      "Solver is True\n",
      "Grounding...\n",
      "Solving...\n",
      "Done\n",
      "Solver is True\n",
      "Grounding...\n",
      "Solving...\n",
      "Done\n",
      "Solver is True\n",
      "\n",
      "\n",
      "room_s47_a15_w5_h37\n",
      "37\n",
      "Grounding...\n"
     ]
    },
    {
     "name": "stderr",
     "output_type": "stream",
     "text": [
      "Current agent: 15 - at((47,34),0) => at((19,38),37): 100%|██████████| 15/15 [00:02<00:00,  6.66it/s]\n"
     ]
    },
    {
     "name": "stdout",
     "output_type": "stream",
     "text": [
      "SAT\n",
      "Grounding...\n",
      "Solving...\n",
      "Done\n",
      "Solver is True\n"
     ]
    },
    {
     "name": "stderr",
     "output_type": "stream",
     "text": [
      "pathelimination/path_elimination.lp:2:5-25: info: atom does not occur in any rule head:\n",
      "  critical_vertex(V,T)\n",
      "\n",
      "pathelimination/path_elimination.lp:3:5-26: info: atom does not occur in any rule head:\n",
      "  critical_agent(R,V,T)\n",
      "\n"
     ]
    },
    {
     "name": "stdout",
     "output_type": "stream",
     "text": [
      "Grounding...\n",
      "Solving...\n",
      "Done\n",
      "Solver is True\n",
      "\n",
      "Grounding...\n",
      "Solving...\n",
      "Done\n",
      "Solver is True\n",
      "\n",
      "\n",
      "maze_s10_a15_h38\n",
      "38\n",
      "Grounding...\n"
     ]
    },
    {
     "name": "stderr",
     "output_type": "stream",
     "text": [
      "Current agent: 15 - at((9,18),0) => at((10,17),38): 100%|██████████| 15/15 [00:00<00:00, 42.28it/s]\n"
     ]
    },
    {
     "name": "stdout",
     "output_type": "stream",
     "text": [
      "SAT\n",
      "Grounding...\n",
      "Solving...\n",
      "Done\n",
      "Solver is True\n",
      "Grounding...\n"
     ]
    },
    {
     "name": "stderr",
     "output_type": "stream",
     "text": [
      "pathelimination/path_elimination.lp:2:5-25: info: atom does not occur in any rule head:\n",
      "  critical_vertex(V,T)\n",
      "\n",
      "pathelimination/path_elimination.lp:3:5-26: info: atom does not occur in any rule head:\n",
      "  critical_agent(R,V,T)\n",
      "\n"
     ]
    },
    {
     "name": "stdout",
     "output_type": "stream",
     "text": [
      "Solving...\n",
      "Done\n",
      "Solver is True\n",
      "\n",
      "Grounding...\n",
      "Solving...\n",
      "Done\n",
      "Solver is True\n",
      "Grounding...\n",
      "Solving...\n",
      "Done\n",
      "Solver is True\n",
      "\n",
      "\n",
      "random_s10_a5_c50_h16\n",
      "16\n",
      "Grounding...\n"
     ]
    },
    {
     "name": "stderr",
     "output_type": "stream",
     "text": [
      "Current agent: 5 - at((9,3),0) => at((9,4),16): 100%|██████████| 5/5 [00:00<00:00, 153.12it/s]\n"
     ]
    },
    {
     "name": "stdout",
     "output_type": "stream",
     "text": [
      "SAT\n",
      "Grounding...\n",
      "Solving...\n",
      "Done\n",
      "Solver is True\n",
      "Grounding...\n",
      "Solving...\n",
      "Done\n",
      "Solver is True\n",
      "\n",
      "Grounding...\n",
      "Solving...\n",
      "Done\n",
      "Solver is True\n",
      "\n",
      "\n"
     ]
    },
    {
     "name": "stderr",
     "output_type": "stream",
     "text": [
      "pathelimination/path_elimination.lp:2:5-25: info: atom does not occur in any rule head:\n",
      "  critical_vertex(V,T)\n",
      "\n",
      "pathelimination/path_elimination.lp:3:5-26: info: atom does not occur in any rule head:\n",
      "  critical_agent(R,V,T)\n",
      "\n"
     ]
    },
    {
     "name": "stdout",
     "output_type": "stream",
     "text": [
      "room_s29_a30_w5_h34\n",
      "34\n",
      "Grounding...\n"
     ]
    },
    {
     "name": "stderr",
     "output_type": "stream",
     "text": [
      "Current agent: 30 - at((28,15),0) => at((29,15),34): 100%|██████████| 30/30 [00:01<00:00, 17.08it/s]\n"
     ]
    },
    {
     "name": "stdout",
     "output_type": "stream",
     "text": [
      "SAT\n",
      "Grounding...\n",
      "Solving...\n"
     ]
    },
    {
     "name": "stderr",
     "output_type": "stream",
     "text": [
      "pathelimination/path_elimination.lp:2:5-25: info: atom does not occur in any rule head:\n",
      "  critical_vertex(V,T)\n",
      "\n",
      "pathelimination/path_elimination.lp:3:5-26: info: atom does not occur in any rule head:\n",
      "  critical_agent(R,V,T)\n",
      "\n"
     ]
    },
    {
     "name": "stdout",
     "output_type": "stream",
     "text": [
      "Done\n",
      "Solver is True\n",
      "Grounding...\n",
      "Solving...\n",
      "Done\n",
      "Solver is True\n",
      "\n",
      "Grounding...\n",
      "Solving...\n",
      "Done\n",
      "Solver is True\n",
      "\n",
      "\n",
      "maze_s10_a25_h45\n",
      "45\n",
      "Grounding...\n"
     ]
    },
    {
     "name": "stderr",
     "output_type": "stream",
     "text": [
      "Current agent: 25 - at((16,15),0) => at((1,18),45): 100%|██████████| 25/25 [00:00<00:00, 37.10it/s] \n"
     ]
    },
    {
     "name": "stdout",
     "output_type": "stream",
     "text": [
      "SAT\n",
      "Grounding...\n",
      "Solving...\n"
     ]
    },
    {
     "name": "stderr",
     "output_type": "stream",
     "text": [
      "pathelimination/path_elimination.lp:2:5-25: info: atom does not occur in any rule head:\n",
      "  critical_vertex(V,T)\n",
      "\n",
      "pathelimination/path_elimination.lp:3:5-26: info: atom does not occur in any rule head:\n",
      "  critical_agent(R,V,T)\n",
      "\n"
     ]
    },
    {
     "name": "stdout",
     "output_type": "stream",
     "text": [
      "Done\n",
      "Solver is True\n",
      "Grounding...\n",
      "Solving...\n",
      "Done\n",
      "Solver is True\n",
      "\n",
      "Grounding...\n",
      "Solving...\n",
      "Done\n",
      "Solver is True\n",
      "\n",
      "\n",
      "room_s47_a10_w5_h59\n",
      "59\n",
      "Grounding...\n"
     ]
    },
    {
     "name": "stderr",
     "output_type": "stream",
     "text": [
      "Current agent: 10 - at((32,47),0) => at((33,1),59): 100%|██████████| 10/10 [00:02<00:00,  4.20it/s]\n"
     ]
    },
    {
     "name": "stdout",
     "output_type": "stream",
     "text": [
      "SAT\n",
      "Grounding...\n",
      "Solving...\n",
      "Done\n",
      "Solver is True\n"
     ]
    },
    {
     "name": "stderr",
     "output_type": "stream",
     "text": [
      "pathelimination/path_elimination.lp:2:5-25: info: atom does not occur in any rule head:\n",
      "  critical_vertex(V,T)\n",
      "\n",
      "pathelimination/path_elimination.lp:3:5-26: info: atom does not occur in any rule head:\n",
      "  critical_agent(R,V,T)\n",
      "\n"
     ]
    },
    {
     "name": "stdout",
     "output_type": "stream",
     "text": [
      "Grounding...\n",
      "Solving...\n",
      "Done\n",
      "Solver is True\n",
      "\n",
      "Grounding...\n",
      "Solving...\n",
      "Done\n",
      "Solver is True\n",
      "\n",
      "\n",
      "room_s47_a5_w5_h50\n",
      "50\n",
      "Grounding...\n"
     ]
    },
    {
     "name": "stderr",
     "output_type": "stream",
     "text": [
      "Current agent: 5 - at((4,39),0) => at((29,16),50): 100%|██████████| 5/5 [00:01<00:00,  3.37it/s] \n"
     ]
    },
    {
     "name": "stdout",
     "output_type": "stream",
     "text": [
      "SAT\n",
      "Grounding...\n",
      "Solving...\n",
      "Done\n",
      "Solver is True\n",
      "Grounding...\n"
     ]
    },
    {
     "name": "stderr",
     "output_type": "stream",
     "text": [
      "pathelimination/path_elimination.lp:2:5-25: info: atom does not occur in any rule head:\n",
      "  critical_vertex(V,T)\n",
      "\n",
      "pathelimination/path_elimination.lp:3:5-26: info: atom does not occur in any rule head:\n",
      "  critical_agent(R,V,T)\n",
      "\n"
     ]
    },
    {
     "name": "stdout",
     "output_type": "stream",
     "text": [
      "Solving...\n",
      "Done\n",
      "Solver is True\n",
      "\n",
      "Grounding...\n",
      "Solving...\n",
      "Done\n",
      "Solver is True\n",
      "\n",
      "\n",
      "random_s40_a35_c75_h54\n",
      "54\n",
      "Grounding...\n"
     ]
    },
    {
     "name": "stderr",
     "output_type": "stream",
     "text": [
      "Current agent: 35 - at((24,39),0) => at((24,18),54): 100%|██████████| 35/35 [00:04<00:00,  8.42it/s]\n"
     ]
    },
    {
     "name": "stdout",
     "output_type": "stream",
     "text": [
      "SAT\n",
      "Grounding...\n",
      "Solving...\n"
     ]
    },
    {
     "name": "stderr",
     "output_type": "stream",
     "text": [
      "pathelimination/path_elimination.lp:2:5-25: info: atom does not occur in any rule head:\n",
      "  critical_vertex(V,T)\n",
      "\n",
      "pathelimination/path_elimination.lp:3:5-26: info: atom does not occur in any rule head:\n",
      "  critical_agent(R,V,T)\n",
      "\n"
     ]
    },
    {
     "name": "stdout",
     "output_type": "stream",
     "text": [
      "Done\n",
      "Solver is True\n",
      "Grounding...\n",
      "Solving...\n",
      "Done\n",
      "Solver is True\n",
      "\n",
      "Grounding...\n",
      "Solving...\n",
      "Done\n",
      "Solver is True\n",
      "Grounding...\n",
      "Solving...\n",
      "Done\n",
      "Solver is True\n",
      "Grounding...\n",
      "Solving...\n",
      "Done\n",
      "Solver is True\n",
      "Grounding...\n",
      "Solving...\n",
      "Done\n",
      "Solver is True\n",
      "\n",
      "\n",
      "random_s30_a25_c75_h50\n",
      "50\n",
      "Grounding...\n"
     ]
    },
    {
     "name": "stderr",
     "output_type": "stream",
     "text": [
      "Current agent: 25 - at((10,28),0) => at((24,30),50): 100%|██████████| 25/25 [00:02<00:00, 11.50it/s]\n"
     ]
    },
    {
     "name": "stdout",
     "output_type": "stream",
     "text": [
      "SAT\n",
      "Grounding...\n",
      "Solving...\n"
     ]
    },
    {
     "name": "stderr",
     "output_type": "stream",
     "text": [
      "pathelimination/path_elimination.lp:2:5-25: info: atom does not occur in any rule head:\n",
      "  critical_vertex(V,T)\n",
      "\n",
      "pathelimination/path_elimination.lp:3:5-26: info: atom does not occur in any rule head:\n",
      "  critical_agent(R,V,T)\n",
      "\n"
     ]
    },
    {
     "name": "stdout",
     "output_type": "stream",
     "text": [
      "Done\n",
      "Solver is True\n",
      "Grounding...\n",
      "Solving...\n",
      "Done\n",
      "Solver is True\n",
      "\n",
      "Grounding...\n",
      "Solving...\n",
      "Done\n",
      "Solver is True\n",
      "\n",
      "\n",
      "room_s19_a25_w4_h30\n",
      "30\n",
      "Grounding...\n"
     ]
    },
    {
     "name": "stderr",
     "output_type": "stream",
     "text": [
      "Current agent: 25 - at((18,19),0) => at((18,17),30): 100%|██████████| 25/25 [00:00<00:00, 38.47it/s]\n"
     ]
    },
    {
     "name": "stdout",
     "output_type": "stream",
     "text": [
      "SAT\n",
      "Grounding...\n",
      "Solving...\n",
      "Done\n",
      "Solver is True\n",
      "Grounding...\n",
      "Solving...\n"
     ]
    },
    {
     "name": "stderr",
     "output_type": "stream",
     "text": [
      "pathelimination/path_elimination.lp:2:5-25: info: atom does not occur in any rule head:\n",
      "  critical_vertex(V,T)\n",
      "\n",
      "pathelimination/path_elimination.lp:3:5-26: info: atom does not occur in any rule head:\n",
      "  critical_agent(R,V,T)\n",
      "\n"
     ]
    },
    {
     "name": "stdout",
     "output_type": "stream",
     "text": [
      "Done\n",
      "Solver is True\n",
      "\n",
      "Grounding...\n",
      "Solving...\n",
      "Done\n",
      "Solver is True\n",
      "\n",
      "\n",
      "random_s20_a15_c50_h43\n",
      "43\n",
      "Grounding...\n"
     ]
    },
    {
     "name": "stderr",
     "output_type": "stream",
     "text": [
      "Current agent: 15 - at((18,7),0) => at((17,17),43): 100%|██████████| 15/15 [00:00<00:00, 42.18it/s]\n"
     ]
    },
    {
     "name": "stdout",
     "output_type": "stream",
     "text": [
      "SAT\n",
      "Grounding...\n",
      "Solving...\n",
      "Done\n",
      "Solver is True\n",
      "Grounding...\n",
      "Solving...\n",
      "Done\n",
      "Solver is True\n",
      "\n"
     ]
    },
    {
     "name": "stderr",
     "output_type": "stream",
     "text": [
      "pathelimination/path_elimination.lp:2:5-25: info: atom does not occur in any rule head:\n",
      "  critical_vertex(V,T)\n",
      "\n",
      "pathelimination/path_elimination.lp:3:5-26: info: atom does not occur in any rule head:\n",
      "  critical_agent(R,V,T)\n",
      "\n"
     ]
    },
    {
     "name": "stdout",
     "output_type": "stream",
     "text": [
      "Grounding...\n",
      "Solving...\n",
      "Done\n",
      "Solver is True\n",
      "\n",
      "\n",
      "random_s10_a5_c75_h14\n",
      "14\n",
      "Grounding...\n"
     ]
    },
    {
     "name": "stderr",
     "output_type": "stream",
     "text": [
      "Current agent: 5 - at((8,10),0) => at((7,1),14): 100%|██████████| 5/5 [00:00<00:00, 117.67it/s]\n"
     ]
    },
    {
     "name": "stdout",
     "output_type": "stream",
     "text": [
      "SAT\n",
      "Grounding...\n",
      "Solving...\n",
      "Done\n",
      "Solver is True\n",
      "Grounding...\n",
      "Solving...\n",
      "Done\n",
      "Solver is True\n",
      "\n",
      "Grounding...\n",
      "Solving...\n",
      "Done\n",
      "Solver is True\n",
      "Grounding...\n",
      "Solving...\n"
     ]
    },
    {
     "name": "stderr",
     "output_type": "stream",
     "text": [
      "pathelimination/path_elimination.lp:2:5-25: info: atom does not occur in any rule head:\n",
      "  critical_vertex(V,T)\n",
      "\n",
      "pathelimination/path_elimination.lp:3:5-26: info: atom does not occur in any rule head:\n",
      "  critical_agent(R,V,T)\n",
      "\n"
     ]
    },
    {
     "name": "stdout",
     "output_type": "stream",
     "text": [
      "Done\n",
      "Solver is True\n",
      "Grounding...\n",
      "Solving...\n",
      "Done\n",
      "Solver is True\n",
      "Grounding...\n",
      "Solving...\n",
      "Done\n",
      "Solver is True\n",
      "\n",
      "\n",
      "room_s29_a20_w5_h26\n",
      "26\n",
      "Grounding...\n"
     ]
    },
    {
     "name": "stderr",
     "output_type": "stream",
     "text": [
      "Current agent: 20 - at((29,14),0) => at((29,17),26): 100%|██████████| 20/20 [00:00<00:00, 20.84it/s]\n"
     ]
    },
    {
     "name": "stdout",
     "output_type": "stream",
     "text": [
      "SAT\n",
      "Grounding...\n",
      "Solving...\n",
      "Done\n",
      "Solver is True\n",
      "Grounding...\n"
     ]
    },
    {
     "name": "stderr",
     "output_type": "stream",
     "text": [
      "pathelimination/path_elimination.lp:2:5-25: info: atom does not occur in any rule head:\n",
      "  critical_vertex(V,T)\n",
      "\n",
      "pathelimination/path_elimination.lp:3:5-26: info: atom does not occur in any rule head:\n",
      "  critical_agent(R,V,T)\n",
      "\n"
     ]
    },
    {
     "name": "stdout",
     "output_type": "stream",
     "text": [
      "Solving...\n",
      "Done\n",
      "Solver is True\n",
      "\n",
      "Grounding...\n",
      "Solving...\n",
      "Done\n",
      "Solver is True\n",
      "\n",
      "\n",
      "maze_s15_a20_h98\n",
      "98\n",
      "Grounding...\n"
     ]
    },
    {
     "name": "stderr",
     "output_type": "stream",
     "text": [
      "Current agent: 20 - at((13,22),0) => at((15,22),98): 100%|██████████| 20/20 [00:01<00:00, 15.88it/s]\n"
     ]
    },
    {
     "name": "stdout",
     "output_type": "stream",
     "text": [
      "SAT\n",
      "Grounding...\n",
      "Solving...\n",
      "Done\n",
      "Solver is True\n",
      "Grounding...\n",
      "Solving...\n",
      "Done\n",
      "Solver is True\n",
      "\n"
     ]
    },
    {
     "name": "stderr",
     "output_type": "stream",
     "text": [
      "pathelimination/path_elimination.lp:2:5-25: info: atom does not occur in any rule head:\n",
      "  critical_vertex(V,T)\n",
      "\n",
      "pathelimination/path_elimination.lp:3:5-26: info: atom does not occur in any rule head:\n",
      "  critical_agent(R,V,T)\n",
      "\n"
     ]
    },
    {
     "name": "stdout",
     "output_type": "stream",
     "text": [
      "Grounding...\n",
      "Solving...\n",
      "Done\n",
      "Solver is True\n",
      "\n",
      "\n",
      "room_s19_a5_w4_h25\n",
      "25\n",
      "Grounding...\n"
     ]
    },
    {
     "name": "stderr",
     "output_type": "stream",
     "text": [
      "Current agent: 5 - at((15,2),0) => at((10,6),25): 100%|██████████| 5/5 [00:00<00:00, 31.77it/s]\n"
     ]
    },
    {
     "name": "stdout",
     "output_type": "stream",
     "text": [
      "SAT\n",
      "Grounding...\n",
      "Solving...\n",
      "Done\n",
      "Solver is True\n",
      "Grounding...\n",
      "Solving...\n",
      "Done\n",
      "Solver is True\n",
      "\n",
      "Grounding...\n"
     ]
    },
    {
     "name": "stderr",
     "output_type": "stream",
     "text": [
      "pathelimination/path_elimination.lp:2:5-25: info: atom does not occur in any rule head:\n",
      "  critical_vertex(V,T)\n",
      "\n",
      "pathelimination/path_elimination.lp:3:5-26: info: atom does not occur in any rule head:\n",
      "  critical_agent(R,V,T)\n",
      "\n"
     ]
    },
    {
     "name": "stdout",
     "output_type": "stream",
     "text": [
      "Solving...\n",
      "Done\n",
      "Solver is True\n",
      "\n",
      "\n"
     ]
    }
   ],
   "source": [
    "\n",
    "\n",
    "for instance_name, instance_content in instances_pool:\n",
    "    def approach(instance_name, instance_content):\n",
    "        print(instance_name)\n",
    "        rows = []\n",
    "        \n",
    "        r, s_ipf = base_ipf(instance_content)\n",
    "        \n",
    "        rows.append({\n",
    "            'Step Name' : 'base_ipf',\n",
    "            'Total Time' : s_ipf.total_time,\n",
    "            'Ground Time': s_ipf.total_time - s_ipf.solve_time,\n",
    "            'Solving Time': s_ipf.solve_time,\n",
    "            'SAT' : bool(r),\n",
    "            'Additional Data' : json.dumps(s_ipf.additional_data)\n",
    "        })\n",
    "        \n",
    "        ih, gh, lgh, s = global_heatmap(r + instance_content)\n",
    "        \n",
    "        rows.append({\n",
    "            'Step Name' : 'heatmaps',\n",
    "            'Total Time' : s.total_time,\n",
    "            'Ground Time': s.total_time - s.solve_time,\n",
    "            'Solving Time': s.solve_time,\n",
    "            'SAT' : bool(r),\n",
    "            'Additional Data' : json.dumps(s.additional_data)\n",
    "        })\n",
    "        \n",
    "        \n",
    "        cva ,s =  select_portion_based_on_heatmap(lgh['summed_heatmap_per_path'])\n",
    "        \n",
    "        rows.append({\n",
    "            'Step Name' : 'select_portion_based_on_heatmap',\n",
    "            'Total Time' : s.total_time,\n",
    "            'Ground Time': s.total_time - s.solve_time,\n",
    "            'Solving Time': s.solve_time,\n",
    "            'SAT' : bool(r),\n",
    "            'Additional Data' : json.dumps(s.additional_data)\n",
    "        })\n",
    "        \n",
    "        r,s = solver(r + cva + instance_content + lgh['pwlsh'], 'pathelimination/path_elimination.lp', additional_encodings=['pathelimination/convert_to_kill.lp'])\n",
    "        \n",
    "        rows.append({\n",
    "            'Step Name' : 'path_elimination',\n",
    "            'Total Time' : s.total_time,\n",
    "            'Ground Time': s.total_time - s.solve_time,\n",
    "            'Solving Time': s.solve_time,\n",
    "            'SAT' : bool(r),\n",
    "            'Additional Data' : json.dumps(s.additional_data)\n",
    "        })\n",
    "        \n",
    "        \n",
    "        r,s = solver(r, 'pathselection/path_selection.lp', parameters=['0','--opt-strategy=usc'])\n",
    "        \n",
    "        rows.append({\n",
    "            'Step Name' : 'path_selection',\n",
    "            'Total Time' : s.total_time,\n",
    "            'Ground Time': s.total_time - s.solve_time,\n",
    "            'Solving Time': s.solve_time,\n",
    "            'SAT' : bool(r),\n",
    "            'Additional Data' : json.dumps(s.additional_data)\n",
    "        })\n",
    "        # print(r)\n",
    "        \n",
    "        # r,s = solver(r,'mapf/add_lowest_heatmap_path.lp')\n",
    "        \n",
    "        print()\n",
    "        # print(r)\n",
    "        \n",
    "        r_,s = partial_solving(r, 'mapf/partial_solving.lp', subgraph='mapf/subgraph.lp', precomputed_path=False)\n",
    "        \n",
    "        rows.append({\n",
    "            'Step Name' : 'partial_solving',\n",
    "            'Total Time' : s.total_time,\n",
    "            'Ground Time': s.total_time - s.solve_time,\n",
    "            'Solving Time': s.solve_time,\n",
    "            'SAT' : bool(r_),\n",
    "            'Additional Data' : json.dumps(s.additional_data)\n",
    "        })\n",
    "        \n",
    "        for i in range (1,6,2):\n",
    "            if s.additional_data['ngoal_reached'] < s_ipf.additional_data['nagent']:\n",
    "                r_,s = partial_solving(r, 'mapf/partial_solving.lp', subgraph='mapf/subgraph.lp', precomputed_path=False,  horizon_modifier=i)\n",
    "        \n",
    "                rows.append({\n",
    "                    'Step Name' : f'partial_solving_additional_horizon',\n",
    "                    'Total Time' : s.total_time,\n",
    "                    'Ground Time': s.total_time - s.solve_time,\n",
    "                    'Solving Time': s.solve_time,\n",
    "                    'SAT' : bool(r_),\n",
    "                    'Additional Data' : json.dumps(s.additional_data)\n",
    "                })\n",
    "        \n",
    "        print('\\n')\n",
    "        write_csv(f'benchmarks_result/{instance_name}-approach12.csv', header,rows)\n",
    "        \n",
    "    pool = Pool(1)       \n",
    "    mutex = pool.apply_async(approach,[instance_name,instance_content])\n",
    "\n",
    "    try:\n",
    "        mutex.get(timeout=timeout)\n",
    "    except Exception as e:\n",
    "        print(e)\n",
    "        pool.terminate()"
   ]
  },
  {
   "cell_type": "markdown",
   "metadata": {},
   "source": [
    "## Approach 13: no additional paths, summed heatmap elimination, precomputed path on subgraph"
   ]
  },
  {
   "cell_type": "code",
   "execution_count": null,
   "metadata": {},
   "outputs": [
    {
     "name": "stdout",
     "output_type": "stream",
     "text": [
      "room_s29_a10_w5_h29\n",
      "29\n"
     ]
    },
    {
     "name": "stdout",
     "output_type": "stream",
     "text": [
      "Grounding...\n"
     ]
    },
    {
     "name": "stderr",
     "output_type": "stream",
     "text": [
      "Current agent: 10 - at((12,10),0) => at((21,24),29): 100%|██████████| 10/10 [00:00<00:00, 15.71it/s]\n"
     ]
    },
    {
     "name": "stdout",
     "output_type": "stream",
     "text": [
      "SAT\n",
      "Grounding...\n",
      "Solving...\n",
      "Done\n",
      "Solver is True\n",
      "Grounding...\n",
      "Solving...\n"
     ]
    },
    {
     "name": "stderr",
     "output_type": "stream",
     "text": [
      "pathelimination/path_elimination.lp:2:5-25: info: atom does not occur in any rule head:\n",
      "  critical_vertex(V,T)\n",
      "\n",
      "pathelimination/path_elimination.lp:3:5-26: info: atom does not occur in any rule head:\n",
      "  critical_agent(R,V,T)\n",
      "\n"
     ]
    },
    {
     "name": "stdout",
     "output_type": "stream",
     "text": [
      "Done\n",
      "Solver is True\n",
      "\n",
      "Grounding...\n",
      "Solving...\n",
      "Done\n",
      "Solver is True\n",
      "Grounding...\n",
      "Solving...\n",
      "Done\n",
      "Solver is True\n",
      "random_s20_a15_c75_h28\n",
      "28\n",
      "Grounding...\n"
     ]
    },
    {
     "name": "stderr",
     "output_type": "stream",
     "text": [
      "Current agent: 15 - at((17,7),0) => at((17,10),28): 100%|██████████| 15/15 [00:00<00:00, 35.76it/s]\n"
     ]
    },
    {
     "name": "stdout",
     "output_type": "stream",
     "text": [
      "SAT\n",
      "Grounding...\n",
      "Solving...\n",
      "Done\n",
      "Solver is True\n",
      "Grounding...\n",
      "Solving...\n"
     ]
    },
    {
     "name": "stderr",
     "output_type": "stream",
     "text": [
      "pathelimination/path_elimination.lp:2:5-25: info: atom does not occur in any rule head:\n",
      "  critical_vertex(V,T)\n",
      "\n",
      "pathelimination/path_elimination.lp:3:5-26: info: atom does not occur in any rule head:\n",
      "  critical_agent(R,V,T)\n",
      "\n"
     ]
    },
    {
     "name": "stdout",
     "output_type": "stream",
     "text": [
      "Done\n",
      "Solver is True\n",
      "\n",
      "Grounding...\n",
      "Solving...\n",
      "Done\n",
      "Solver is True\n",
      "maze_s10_a20_h40\n",
      "40\n",
      "Grounding...\n"
     ]
    },
    {
     "name": "stderr",
     "output_type": "stream",
     "text": [
      "Current agent: 20 - at((3,18),0) => at((1,18),4): 100%|██████████| 20/20 [00:00<00:00, 66.83it/s]   \n"
     ]
    },
    {
     "name": "stdout",
     "output_type": "stream",
     "text": [
      "SAT\n",
      "Grounding...\n",
      "Solving...\n",
      "Done\n",
      "Solver is True\n",
      "Grounding...\n",
      "Solving...\n",
      "Done\n",
      "Solver is True\n",
      "\n",
      "Grounding...\n"
     ]
    },
    {
     "name": "stderr",
     "output_type": "stream",
     "text": [
      "pathelimination/path_elimination.lp:2:5-25: info: atom does not occur in any rule head:\n",
      "  critical_vertex(V,T)\n",
      "\n",
      "pathelimination/path_elimination.lp:3:5-26: info: atom does not occur in any rule head:\n",
      "  critical_agent(R,V,T)\n",
      "\n"
     ]
    },
    {
     "name": "stdout",
     "output_type": "stream",
     "text": [
      "Solving...\n",
      "Done\n",
      "Solver is True\n",
      "Grounding...\n",
      "Solving...\n",
      "Done\n",
      "Solver is True\n",
      "Grounding...\n",
      "Solving...\n",
      "Done\n",
      "Solver is True\n",
      "Grounding...\n",
      "Solving...\n",
      "Done\n",
      "Solver is True\n",
      "room_s19_a15_w4_h34\n",
      "34\n",
      "Grounding...\n"
     ]
    },
    {
     "name": "stderr",
     "output_type": "stream",
     "text": [
      "Current agent: 15 - at((15,19),0) => at((19,16),34): 100%|██████████| 15/15 [00:00<00:00, 29.22it/s]\n"
     ]
    },
    {
     "name": "stdout",
     "output_type": "stream",
     "text": [
      "SAT\n",
      "Grounding...\n",
      "Solving...\n",
      "Done\n",
      "Solver is True\n",
      "Grounding...\n",
      "Solving...\n"
     ]
    },
    {
     "name": "stderr",
     "output_type": "stream",
     "text": [
      "pathelimination/path_elimination.lp:2:5-25: info: atom does not occur in any rule head:\n",
      "  critical_vertex(V,T)\n",
      "\n",
      "pathelimination/path_elimination.lp:3:5-26: info: atom does not occur in any rule head:\n",
      "  critical_agent(R,V,T)\n",
      "\n"
     ]
    },
    {
     "name": "stdout",
     "output_type": "stream",
     "text": [
      "Done\n",
      "Solver is True\n",
      "\n",
      "Grounding...\n",
      "Solving...\n",
      "Done\n",
      "Solver is False\n",
      "Grounding...\n",
      "Solving...\n",
      "Done\n",
      "Solver is False\n",
      "Grounding...\n",
      "Solving...\n",
      "Done\n",
      "Solver is False\n",
      "Grounding...\n",
      "Solving...\n",
      "Done\n",
      "Solver is False\n",
      "maze_s20_a15_h68\n",
      "68\n",
      "Grounding...\n"
     ]
    },
    {
     "name": "stderr",
     "output_type": "stream",
     "text": [
      "Current agent: 15 - at((1,32),0) => at((5,32),68): 100%|██████████| 15/15 [00:01<00:00, 12.05it/s]  \n"
     ]
    },
    {
     "name": "stdout",
     "output_type": "stream",
     "text": [
      "SAT\n",
      "Grounding...\n",
      "Solving...\n",
      "Done\n",
      "Solver is True\n",
      "Grounding...\n",
      "Solving...\n",
      "Done\n",
      "Solver is True\n",
      "\n",
      "Grounding...\n"
     ]
    },
    {
     "name": "stderr",
     "output_type": "stream",
     "text": [
      "pathelimination/path_elimination.lp:2:5-25: info: atom does not occur in any rule head:\n",
      "  critical_vertex(V,T)\n",
      "\n",
      "pathelimination/path_elimination.lp:3:5-26: info: atom does not occur in any rule head:\n",
      "  critical_agent(R,V,T)\n",
      "\n"
     ]
    },
    {
     "name": "stdout",
     "output_type": "stream",
     "text": [
      "Solving...\n",
      "Done\n",
      "Solver is True\n",
      "Grounding...\n",
      "Solving...\n",
      "Done\n",
      "Solver is True\n",
      "Grounding...\n",
      "Solving...\n",
      "Done\n",
      "Solver is True\n",
      "Grounding...\n",
      "Solving...\n",
      "Done\n",
      "Solver is True\n",
      "room_s47_a15_w5_h37\n",
      "37\n",
      "Grounding...\n"
     ]
    },
    {
     "name": "stderr",
     "output_type": "stream",
     "text": [
      "Current agent: 15 - at((47,34),0) => at((19,38),37): 100%|██████████| 15/15 [00:02<00:00,  6.59it/s]\n"
     ]
    },
    {
     "name": "stdout",
     "output_type": "stream",
     "text": [
      "SAT\n",
      "Grounding...\n",
      "Solving...\n",
      "Done\n",
      "Solver is True\n"
     ]
    },
    {
     "name": "stderr",
     "output_type": "stream",
     "text": [
      "pathelimination/path_elimination.lp:2:5-25: info: atom does not occur in any rule head:\n",
      "  critical_vertex(V,T)\n",
      "\n",
      "pathelimination/path_elimination.lp:3:5-26: info: atom does not occur in any rule head:\n",
      "  critical_agent(R,V,T)\n",
      "\n"
     ]
    },
    {
     "name": "stdout",
     "output_type": "stream",
     "text": [
      "Grounding...\n",
      "Solving...\n",
      "Done\n",
      "Solver is True\n",
      "\n",
      "Grounding...\n",
      "Solving...\n",
      "Done\n",
      "Solver is True\n",
      "Grounding...\n",
      "Solving...\n",
      "Done\n",
      "Solver is True\n",
      "Grounding...\n",
      "Solving...\n",
      "Done\n",
      "Solver is True\n",
      "Grounding...\n",
      "Solving...\n",
      "Done\n",
      "Solver is True\n",
      "maze_s10_a15_h38\n",
      "38\n",
      "Grounding...\n"
     ]
    },
    {
     "name": "stderr",
     "output_type": "stream",
     "text": [
      "Current agent: 15 - at((9,18),0) => at((10,17),38): 100%|██████████| 15/15 [00:00<00:00, 43.14it/s]\n"
     ]
    },
    {
     "name": "stdout",
     "output_type": "stream",
     "text": [
      "SAT\n",
      "Grounding...\n",
      "Solving...\n",
      "Done\n",
      "Solver is True\n",
      "Grounding...\n"
     ]
    },
    {
     "name": "stderr",
     "output_type": "stream",
     "text": [
      "pathelimination/path_elimination.lp:2:5-25: info: atom does not occur in any rule head:\n",
      "  critical_vertex(V,T)\n",
      "\n",
      "pathelimination/path_elimination.lp:3:5-26: info: atom does not occur in any rule head:\n",
      "  critical_agent(R,V,T)\n",
      "\n"
     ]
    },
    {
     "name": "stdout",
     "output_type": "stream",
     "text": [
      "Solving...\n",
      "Done\n",
      "Solver is True\n",
      "\n",
      "Grounding...\n",
      "Solving...\n",
      "Done\n",
      "Solver is False\n",
      "Grounding...\n",
      "Solving...\n",
      "Done\n",
      "Solver is False\n",
      "Grounding...\n",
      "Solving...\n",
      "Done\n",
      "Solver is False\n",
      "Grounding...\n",
      "Solving...\n",
      "Done\n",
      "Solver is False\n",
      "random_s10_a5_c50_h16\n",
      "16\n",
      "Grounding...\n"
     ]
    },
    {
     "name": "stderr",
     "output_type": "stream",
     "text": [
      "Current agent: 5 - at((9,3),0) => at((9,4),16): 100%|██████████| 5/5 [00:00<00:00, 100.64it/s]\n"
     ]
    },
    {
     "name": "stdout",
     "output_type": "stream",
     "text": [
      "SAT\n",
      "Grounding...\n",
      "Solving...\n",
      "Done\n",
      "Solver is True\n",
      "Grounding...\n",
      "Solving...\n",
      "Done\n",
      "Solver is True\n",
      "\n",
      "Grounding...\n",
      "Solving...\n",
      "Done\n",
      "Solver is False\n",
      "Grounding...\n",
      "Solving...\n"
     ]
    },
    {
     "name": "stderr",
     "output_type": "stream",
     "text": [
      "pathelimination/path_elimination.lp:2:5-25: info: atom does not occur in any rule head:\n",
      "  critical_vertex(V,T)\n",
      "\n",
      "pathelimination/path_elimination.lp:3:5-26: info: atom does not occur in any rule head:\n",
      "  critical_agent(R,V,T)\n",
      "\n"
     ]
    },
    {
     "name": "stdout",
     "output_type": "stream",
     "text": [
      "Done\n",
      "Solver is False\n",
      "Grounding...\n",
      "Solving...\n",
      "Done\n",
      "Solver is False\n",
      "Grounding...\n",
      "Solving...\n",
      "Done\n",
      "Solver is False\n",
      "room_s29_a30_w5_h34\n",
      "34\n",
      "Grounding...\n"
     ]
    },
    {
     "name": "stderr",
     "output_type": "stream",
     "text": [
      "Current agent: 30 - at((28,15),0) => at((29,15),34): 100%|██████████| 30/30 [00:01<00:00, 17.11it/s]\n"
     ]
    },
    {
     "name": "stdout",
     "output_type": "stream",
     "text": [
      "SAT\n",
      "Grounding...\n",
      "Solving...\n"
     ]
    },
    {
     "name": "stderr",
     "output_type": "stream",
     "text": [
      "pathelimination/path_elimination.lp:2:5-25: info: atom does not occur in any rule head:\n",
      "  critical_vertex(V,T)\n",
      "\n",
      "pathelimination/path_elimination.lp:3:5-26: info: atom does not occur in any rule head:\n",
      "  critical_agent(R,V,T)\n",
      "\n"
     ]
    },
    {
     "name": "stdout",
     "output_type": "stream",
     "text": [
      "Done\n",
      "Solver is True\n",
      "Grounding...\n",
      "Solving...\n",
      "Done\n",
      "Solver is True\n",
      "\n",
      "Grounding...\n",
      "Solving...\n",
      "Done\n",
      "Solver is True\n",
      "Grounding...\n",
      "Solving...\n",
      "Done\n",
      "Solver is True\n",
      "Grounding...\n",
      "Solving...\n",
      "Done\n",
      "Solver is True\n",
      "Grounding...\n",
      "Solving...\n",
      "Done\n",
      "Solver is True\n",
      "maze_s10_a25_h45\n",
      "45\n",
      "Grounding...\n"
     ]
    },
    {
     "name": "stderr",
     "output_type": "stream",
     "text": [
      "Current agent: 25 - at((16,15),0) => at((1,18),45): 100%|██████████| 25/25 [00:00<00:00, 37.58it/s] \n"
     ]
    },
    {
     "name": "stdout",
     "output_type": "stream",
     "text": [
      "SAT\n",
      "Grounding...\n",
      "Solving...\n"
     ]
    },
    {
     "name": "stderr",
     "output_type": "stream",
     "text": [
      "pathelimination/path_elimination.lp:2:5-25: info: atom does not occur in any rule head:\n",
      "  critical_vertex(V,T)\n",
      "\n",
      "pathelimination/path_elimination.lp:3:5-26: info: atom does not occur in any rule head:\n",
      "  critical_agent(R,V,T)\n",
      "\n"
     ]
    },
    {
     "name": "stdout",
     "output_type": "stream",
     "text": [
      "Done\n",
      "Solver is True\n",
      "Grounding...\n",
      "Solving...\n",
      "Done\n",
      "Solver is True\n",
      "\n",
      "Grounding...\n",
      "Solving...\n",
      "Done\n",
      "Solver is False\n",
      "Grounding...\n",
      "Solving...\n",
      "Done\n",
      "Solver is False\n",
      "Grounding...\n",
      "Solving...\n",
      "Done\n",
      "Solver is False\n",
      "Grounding...\n",
      "Solving...\n",
      "Done\n",
      "Solver is False\n",
      "room_s47_a10_w5_h59\n",
      "59\n",
      "Grounding...\n"
     ]
    },
    {
     "name": "stderr",
     "output_type": "stream",
     "text": [
      "Current agent: 10 - at((32,47),0) => at((33,1),59): 100%|██████████| 10/10 [00:02<00:00,  4.11it/s]\n"
     ]
    },
    {
     "name": "stdout",
     "output_type": "stream",
     "text": [
      "SAT\n",
      "Grounding...\n",
      "Solving...\n",
      "Done\n",
      "Solver is True\n"
     ]
    },
    {
     "name": "stderr",
     "output_type": "stream",
     "text": [
      "pathelimination/path_elimination.lp:2:5-25: info: atom does not occur in any rule head:\n",
      "  critical_vertex(V,T)\n",
      "\n",
      "pathelimination/path_elimination.lp:3:5-26: info: atom does not occur in any rule head:\n",
      "  critical_agent(R,V,T)\n",
      "\n"
     ]
    },
    {
     "name": "stdout",
     "output_type": "stream",
     "text": [
      "Grounding...\n",
      "Solving...\n",
      "Done\n",
      "Solver is True\n",
      "\n",
      "Grounding...\n",
      "Solving...\n",
      "Done\n",
      "Solver is True\n",
      "room_s47_a5_w5_h50\n",
      "50\n",
      "Grounding...\n"
     ]
    },
    {
     "name": "stderr",
     "output_type": "stream",
     "text": [
      "Current agent: 5 - at((4,39),0) => at((29,16),50): 100%|██████████| 5/5 [00:01<00:00,  3.42it/s] \n"
     ]
    },
    {
     "name": "stdout",
     "output_type": "stream",
     "text": [
      "SAT\n",
      "Grounding...\n",
      "Solving...\n",
      "Done\n",
      "Solver is True\n",
      "Grounding...\n"
     ]
    },
    {
     "name": "stderr",
     "output_type": "stream",
     "text": [
      "pathelimination/path_elimination.lp:2:5-25: info: atom does not occur in any rule head:\n",
      "  critical_vertex(V,T)\n",
      "\n",
      "pathelimination/path_elimination.lp:3:5-26: info: atom does not occur in any rule head:\n",
      "  critical_agent(R,V,T)\n",
      "\n"
     ]
    },
    {
     "name": "stdout",
     "output_type": "stream",
     "text": [
      "Solving...\n",
      "Done\n",
      "Solver is True\n",
      "\n",
      "Grounding...\n",
      "Solving...\n",
      "Done\n",
      "Solver is True\n",
      "random_s40_a35_c75_h54\n",
      "54\n",
      "Grounding...\n"
     ]
    },
    {
     "name": "stderr",
     "output_type": "stream",
     "text": [
      "Current agent: 35 - at((24,39),0) => at((24,18),54): 100%|██████████| 35/35 [00:04<00:00,  8.48it/s]\n"
     ]
    },
    {
     "name": "stdout",
     "output_type": "stream",
     "text": [
      "SAT\n",
      "Grounding...\n",
      "Solving...\n"
     ]
    },
    {
     "name": "stderr",
     "output_type": "stream",
     "text": [
      "pathelimination/path_elimination.lp:2:5-25: info: atom does not occur in any rule head:\n",
      "  critical_vertex(V,T)\n",
      "\n",
      "pathelimination/path_elimination.lp:3:5-26: info: atom does not occur in any rule head:\n",
      "  critical_agent(R,V,T)\n",
      "\n"
     ]
    },
    {
     "name": "stdout",
     "output_type": "stream",
     "text": [
      "Done\n",
      "Solver is True\n",
      "Grounding...\n",
      "Solving...\n",
      "Done\n",
      "Solver is True\n",
      "\n",
      "Grounding...\n",
      "Solving...\n",
      "Done\n",
      "Solver is True\n",
      "Grounding...\n",
      "Solving...\n",
      "Done\n",
      "Solver is True\n",
      "Grounding...\n",
      "Solving...\n",
      "Done\n",
      "Solver is True\n",
      "Grounding...\n",
      "Solving...\n",
      "Done\n",
      "Solver is True\n",
      "random_s30_a25_c75_h50\n",
      "50\n",
      "Grounding...\n"
     ]
    },
    {
     "name": "stderr",
     "output_type": "stream",
     "text": [
      "Current agent: 25 - at((10,28),0) => at((24,30),50): 100%|██████████| 25/25 [00:02<00:00, 11.23it/s]\n"
     ]
    },
    {
     "name": "stdout",
     "output_type": "stream",
     "text": [
      "SAT\n",
      "Grounding...\n",
      "Solving...\n"
     ]
    },
    {
     "name": "stderr",
     "output_type": "stream",
     "text": [
      "pathelimination/path_elimination.lp:2:5-25: info: atom does not occur in any rule head:\n",
      "  critical_vertex(V,T)\n",
      "\n",
      "pathelimination/path_elimination.lp:3:5-26: info: atom does not occur in any rule head:\n",
      "  critical_agent(R,V,T)\n",
      "\n"
     ]
    },
    {
     "name": "stdout",
     "output_type": "stream",
     "text": [
      "Done\n",
      "Solver is True\n",
      "Grounding...\n",
      "Solving...\n",
      "Done\n",
      "Solver is True\n",
      "\n",
      "Grounding...\n",
      "Solving...\n",
      "Done\n",
      "Solver is True\n",
      "room_s19_a25_w4_h30\n",
      "30\n",
      "Grounding...\n"
     ]
    },
    {
     "name": "stderr",
     "output_type": "stream",
     "text": [
      "Current agent: 25 - at((18,19),0) => at((18,17),30): 100%|██████████| 25/25 [00:00<00:00, 40.39it/s]\n"
     ]
    },
    {
     "name": "stdout",
     "output_type": "stream",
     "text": [
      "SAT\n",
      "Grounding...\n",
      "Solving...\n",
      "Done\n",
      "Solver is True\n",
      "Grounding...\n"
     ]
    },
    {
     "name": "stderr",
     "output_type": "stream",
     "text": [
      "pathelimination/path_elimination.lp:2:5-25: info: atom does not occur in any rule head:\n",
      "  critical_vertex(V,T)\n",
      "\n",
      "pathelimination/path_elimination.lp:3:5-26: info: atom does not occur in any rule head:\n",
      "  critical_agent(R,V,T)\n",
      "\n"
     ]
    },
    {
     "name": "stdout",
     "output_type": "stream",
     "text": [
      "Solving...\n",
      "Done\n",
      "Solver is True\n",
      "\n",
      "Grounding...\n",
      "Solving...\n",
      "Done\n",
      "Solver is True\n",
      "random_s20_a15_c50_h43\n",
      "43\n",
      "Grounding...\n"
     ]
    },
    {
     "name": "stderr",
     "output_type": "stream",
     "text": [
      "Current agent: 15 - at((18,7),0) => at((17,17),43): 100%|██████████| 15/15 [00:00<00:00, 41.12it/s]\n"
     ]
    },
    {
     "name": "stdout",
     "output_type": "stream",
     "text": [
      "SAT\n",
      "Grounding...\n",
      "Solving...\n",
      "Done\n",
      "Solver is True\n",
      "Grounding...\n",
      "Solving...\n",
      "Done\n",
      "Solver is True\n",
      "\n"
     ]
    },
    {
     "name": "stderr",
     "output_type": "stream",
     "text": [
      "pathelimination/path_elimination.lp:2:5-25: info: atom does not occur in any rule head:\n",
      "  critical_vertex(V,T)\n",
      "\n",
      "pathelimination/path_elimination.lp:3:5-26: info: atom does not occur in any rule head:\n",
      "  critical_agent(R,V,T)\n",
      "\n"
     ]
    },
    {
     "name": "stdout",
     "output_type": "stream",
     "text": [
      "Grounding...\n",
      "Solving...\n",
      "Done\n",
      "Solver is True\n",
      "Grounding...\n",
      "Solving...\n",
      "Done\n",
      "Solver is True\n",
      "Grounding...\n",
      "Solving...\n",
      "Done\n",
      "Solver is True\n",
      "Grounding...\n",
      "Solving...\n",
      "Done\n",
      "Solver is True\n",
      "random_s10_a5_c75_h14\n",
      "14\n",
      "Grounding...\n"
     ]
    },
    {
     "name": "stderr",
     "output_type": "stream",
     "text": [
      "Current agent: 5 - at((8,10),0) => at((7,1),14): 100%|██████████| 5/5 [00:00<00:00, 99.67it/s]\n"
     ]
    },
    {
     "name": "stdout",
     "output_type": "stream",
     "text": [
      "SAT\n",
      "Grounding...\n",
      "Solving...\n",
      "Done\n",
      "Solver is True\n",
      "Grounding...\n",
      "Solving...\n",
      "Done\n",
      "Solver is True\n",
      "\n",
      "Grounding...\n",
      "Solving...\n",
      "Done\n",
      "Solver is True\n",
      "Grounding...\n",
      "Solving...\n"
     ]
    },
    {
     "name": "stderr",
     "output_type": "stream",
     "text": [
      "pathelimination/path_elimination.lp:2:5-25: info: atom does not occur in any rule head:\n",
      "  critical_vertex(V,T)\n",
      "\n",
      "pathelimination/path_elimination.lp:3:5-26: info: atom does not occur in any rule head:\n",
      "  critical_agent(R,V,T)\n",
      "\n"
     ]
    },
    {
     "name": "stdout",
     "output_type": "stream",
     "text": [
      "Done\n",
      "Solver is True\n",
      "Grounding...\n",
      "Solving...\n",
      "Done\n",
      "Solver is True\n",
      "Grounding...\n",
      "Solving...\n",
      "Done\n",
      "Solver is True\n",
      "room_s29_a20_w5_h26\n",
      "26\n",
      "Grounding...\n"
     ]
    },
    {
     "name": "stderr",
     "output_type": "stream",
     "text": [
      "Current agent: 20 - at((29,14),0) => at((29,17),26): 100%|██████████| 20/20 [00:01<00:00, 19.18it/s]\n"
     ]
    },
    {
     "name": "stdout",
     "output_type": "stream",
     "text": [
      "SAT\n",
      "Grounding...\n",
      "Solving...\n",
      "Done\n",
      "Solver is True\n",
      "Grounding...\n"
     ]
    },
    {
     "name": "stderr",
     "output_type": "stream",
     "text": [
      "pathelimination/path_elimination.lp:2:5-25: info: atom does not occur in any rule head:\n",
      "  critical_vertex(V,T)\n",
      "\n",
      "pathelimination/path_elimination.lp:3:5-26: info: atom does not occur in any rule head:\n",
      "  critical_agent(R,V,T)\n",
      "\n"
     ]
    },
    {
     "name": "stdout",
     "output_type": "stream",
     "text": [
      "Solving...\n",
      "Done\n",
      "Solver is True\n",
      "\n",
      "Grounding...\n",
      "Solving...\n",
      "Done\n",
      "Solver is True\n",
      "maze_s15_a20_h98\n",
      "98\n",
      "Grounding...\n"
     ]
    },
    {
     "name": "stderr",
     "output_type": "stream",
     "text": [
      "Current agent: 20 - at((13,22),0) => at((15,22),98): 100%|██████████| 20/20 [00:01<00:00, 15.22it/s]\n"
     ]
    },
    {
     "name": "stdout",
     "output_type": "stream",
     "text": [
      "SAT\n",
      "Grounding...\n",
      "Solving...\n",
      "Done\n",
      "Solver is True\n",
      "Grounding...\n",
      "Solving...\n",
      "Done\n",
      "Solver is True\n",
      "\n"
     ]
    },
    {
     "name": "stderr",
     "output_type": "stream",
     "text": [
      "pathelimination/path_elimination.lp:2:5-25: info: atom does not occur in any rule head:\n",
      "  critical_vertex(V,T)\n",
      "\n",
      "pathelimination/path_elimination.lp:3:5-26: info: atom does not occur in any rule head:\n",
      "  critical_agent(R,V,T)\n",
      "\n"
     ]
    },
    {
     "name": "stdout",
     "output_type": "stream",
     "text": [
      "Grounding...\n",
      "Solving...\n",
      "Done\n",
      "Solver is True\n",
      "Grounding...\n",
      "Solving...\n",
      "Done\n",
      "Solver is True\n",
      "Grounding...\n",
      "Solving...\n",
      "Done\n",
      "Solver is True\n",
      "Grounding...\n",
      "Solving...\n",
      "Done\n",
      "Solver is True\n",
      "room_s19_a5_w4_h25\n",
      "25\n",
      "Grounding...\n"
     ]
    },
    {
     "name": "stderr",
     "output_type": "stream",
     "text": [
      "Current agent: 5 - at((15,2),0) => at((10,6),25): 100%|██████████| 5/5 [00:00<00:00, 25.69it/s]\n"
     ]
    },
    {
     "name": "stdout",
     "output_type": "stream",
     "text": [
      "SAT\n",
      "Grounding...\n",
      "Solving...\n",
      "Done\n",
      "Solver is True\n",
      "Grounding...\n",
      "Solving...\n",
      "Done\n",
      "Solver is True\n",
      "\n",
      "Grounding...\n"
     ]
    },
    {
     "name": "stderr",
     "output_type": "stream",
     "text": [
      "pathelimination/path_elimination.lp:2:5-25: info: atom does not occur in any rule head:\n",
      "  critical_vertex(V,T)\n",
      "\n",
      "pathelimination/path_elimination.lp:3:5-26: info: atom does not occur in any rule head:\n",
      "  critical_agent(R,V,T)\n",
      "\n"
     ]
    },
    {
     "name": "stdout",
     "output_type": "stream",
     "text": [
      "Solving...\n",
      "Done\n",
      "Solver is True\n",
      "Grounding...\n",
      "Solving...\n",
      "Done\n",
      "Solver is True\n"
     ]
    }
   ],
   "source": [
    "\n",
    "for instance_name, instance_content in instances_pool:\n",
    "    def approach(instance_name,instance_content):\n",
    "        print(instance_name)\n",
    "        rows = []\n",
    "        \n",
    "        r, s_ipf = base_ipf(instance_content)\n",
    "        \n",
    "        rows.append({\n",
    "            'Step Name' : 'base_ipf',\n",
    "            'Total Time' : s_ipf.total_time,\n",
    "            'Ground Time': s_ipf.total_time - s_ipf.solve_time,\n",
    "            'Solving Time': s_ipf.solve_time,\n",
    "            'SAT' : bool(r),\n",
    "            'Additional Data' : json.dumps(s_ipf.additional_data)\n",
    "        })\n",
    "        \n",
    "        ih, gh, lgh, s = global_heatmap(r + instance_content)\n",
    "        \n",
    "        rows.append({\n",
    "            'Step Name' : 'heatmaps',\n",
    "            'Total Time' : s.total_time,\n",
    "            'Ground Time': s.total_time - s.solve_time,\n",
    "            'Solving Time': s.solve_time,\n",
    "            'SAT' : bool(r),\n",
    "            'Additional Data' : json.dumps(s.additional_data)\n",
    "        })\n",
    "        \n",
    "        \n",
    "        cva ,s =  select_portion_based_on_heatmap(lgh['summed_heatmap_per_path'])\n",
    "        \n",
    "        rows.append({\n",
    "            'Step Name' : 'select_portion_based_on_heatmap',\n",
    "            'Total Time' : s.total_time,\n",
    "            'Ground Time': s.total_time - s.solve_time,\n",
    "            'Solving Time': s.solve_time,\n",
    "            'SAT' : bool(r),\n",
    "            'Additional Data' : json.dumps(s.additional_data)\n",
    "        })\n",
    "        \n",
    "        r,s = solver(r + cva + instance_content + lgh['pwlsh'], 'pathelimination/path_elimination.lp', additional_encodings=['pathelimination/convert_to_kill.lp'])\n",
    "        \n",
    "        rows.append({\n",
    "            'Step Name' : 'path_elimination',\n",
    "            'Total Time' : s.total_time,\n",
    "            'Ground Time': s.total_time - s.solve_time,\n",
    "            'Solving Time': s.solve_time,\n",
    "            'SAT' : bool(r),\n",
    "            'Additional Data' : json.dumps(s.additional_data)\n",
    "        })\n",
    "        \n",
    "        \n",
    "        r,s = solver(r, 'pathselection/path_selection.lp', parameters=['0','--opt-strategy=usc'])\n",
    "        \n",
    "        rows.append({\n",
    "            'Step Name' : 'path_selection',\n",
    "            'Total Time' : s.total_time,\n",
    "            'Ground Time': s.total_time - s.solve_time,\n",
    "            'Solving Time': s.solve_time,           \n",
    "            'SAT' : bool(r),\n",
    "            'Additional Data' : json.dumps(s.additional_data)\n",
    "        })\n",
    "        \n",
    "        print()\n",
    "        r_,s = partial_solving(r, 'mapf/partial_solving.lp', subgraph='mapf/subgraph.lp', precomputed_path='mapf/precomputed_path.lp')\n",
    "        \n",
    "        rows.append({\n",
    "            'Step Name' : 'partial_solving',\n",
    "\n",
    "            'Total Time' : s.total_time,\n",
    "            'Ground Time': s.total_time - s.solve_time,\n",
    "            'Solving Time': s.solve_time,\n",
    "            'SAT' : bool(r_),\n",
    "            'Additional Data' : json.dumps(s.additional_data)\n",
    "        })\n",
    "        \n",
    "        for i in range (1,6,2):\n",
    "            if s.additional_data['ngoal_reached'] < s_ipf.additional_data['nagent']:\n",
    "                r_,s = partial_solving(r, 'mapf/partial_solving.lp', subgraph='mapf/subgraph.lp', precomputed_path='mapf/precomputed_path.lp', horizon_modifier=i)\n",
    "        \n",
    "                rows.append({\n",
    "                    'Step Name' : f'partial_solving_additional_horizon',\n",
    "                    'Total Time' : s.total_time,\n",
    "                    'Ground Time': s.total_time - s.solve_time,\n",
    "                    'Solving Time': s.solve_time,\n",
    "                    'SAT' : bool(r_),\n",
    "                    'Additional Data' : json.dumps(s.additional_data)\n",
    "                })\n",
    "        \n",
    "        write_csv(f'benchmarks_result/{instance_name}-approach13.csv', header,rows)\n",
    "        \n",
    "    \n",
    "    pool = Pool(1)       \n",
    "    mutex = pool.apply_async(approach,[instance_name,instance_content])\n",
    "\n",
    "    try:\n",
    "        mutex.get(timeout=timeout)\n",
    "    except Exception as e:\n",
    "        print(e)\n",
    "        pool.terminate()"
   ]
  },
  {
   "cell_type": "markdown",
   "metadata": {},
   "source": [
    "## Approach 14:  additional path, summed heatmap elimination, subgraph approach"
   ]
  },
  {
   "cell_type": "code",
   "execution_count": null,
   "metadata": {},
   "outputs": [
    {
     "name": "stdout",
     "output_type": "stream",
     "text": [
      "room_s29_a10_w5_h29\n",
      "29\n"
     ]
    },
    {
     "name": "stdout",
     "output_type": "stream",
     "text": [
      "Grounding...\n"
     ]
    },
    {
     "name": "stderr",
     "output_type": "stream",
     "text": [
      "Current agent: 10 - at((12,10),0) => at((21,24),29): 100%|██████████| 10/10 [00:00<00:00, 16.21it/s]\n"
     ]
    },
    {
     "name": "stdout",
     "output_type": "stream",
     "text": [
      "SAT\n",
      "Grounding...\n",
      "Solving...\n",
      "Done\n",
      "Solver is True\n",
      "Grounding...\n",
      "Solving...\n"
     ]
    },
    {
     "name": "stderr",
     "output_type": "stream",
     "text": [
      "pathelimination/path_elimination.lp:2:5-25: info: atom does not occur in any rule head:\n",
      "  critical_vertex(V,T)\n",
      "\n",
      "pathelimination/path_elimination.lp:3:5-26: info: atom does not occur in any rule head:\n",
      "  critical_agent(R,V,T)\n",
      "\n"
     ]
    },
    {
     "name": "stdout",
     "output_type": "stream",
     "text": [
      "Done\n",
      "Solver is True\n",
      "Grounding...\n",
      "Solving...\n",
      "Done\n",
      "Solver is True\n",
      "random_s20_a15_c75_h28\n",
      "28\n",
      "Grounding...\n"
     ]
    },
    {
     "name": "stderr",
     "output_type": "stream",
     "text": [
      "Current agent: 15 - at((17,7),0) => at((17,10),28): 100%|██████████| 15/15 [00:00<00:00, 34.51it/s]\n"
     ]
    },
    {
     "name": "stdout",
     "output_type": "stream",
     "text": [
      "SAT\n",
      "Grounding...\n",
      "Solving...\n",
      "Done\n",
      "Solver is True\n",
      "Grounding...\n",
      "Solving...\n"
     ]
    },
    {
     "name": "stderr",
     "output_type": "stream",
     "text": [
      "pathelimination/path_elimination.lp:2:5-25: info: atom does not occur in any rule head:\n",
      "  critical_vertex(V,T)\n",
      "\n",
      "pathelimination/path_elimination.lp:3:5-26: info: atom does not occur in any rule head:\n",
      "  critical_agent(R,V,T)\n",
      "\n"
     ]
    },
    {
     "name": "stdout",
     "output_type": "stream",
     "text": [
      "Done\n",
      "Solver is True\n",
      "Grounding...\n",
      "Solving...\n",
      "Done\n",
      "Solver is True\n",
      "maze_s10_a20_h40\n",
      "40\n",
      "Grounding...\n"
     ]
    },
    {
     "name": "stderr",
     "output_type": "stream",
     "text": [
      "Current agent: 20 - at((3,18),0) => at((1,18),6): 100%|██████████| 20/20 [00:00<00:00, 27.04it/s]  \n"
     ]
    },
    {
     "name": "stdout",
     "output_type": "stream",
     "text": [
      "SAT\n",
      "Grounding...\n",
      "Solving...\n",
      "Done\n",
      "Solver is True\n"
     ]
    },
    {
     "name": "stderr",
     "output_type": "stream",
     "text": [
      "pathelimination/path_elimination.lp:2:5-25: info: atom does not occur in any rule head:\n",
      "  critical_vertex(V,T)\n",
      "\n",
      "pathelimination/path_elimination.lp:3:5-26: info: atom does not occur in any rule head:\n",
      "  critical_agent(R,V,T)\n",
      "\n"
     ]
    },
    {
     "name": "stdout",
     "output_type": "stream",
     "text": [
      "Grounding...\n",
      "Solving...\n",
      "Done\n",
      "Solver is True\n",
      "Grounding...\n",
      "Solving...\n",
      "Done\n",
      "Solver is True\n",
      "Grounding...\n",
      "Solving...\n",
      "Done\n",
      "Solver is True\n",
      "Grounding...\n",
      "Solving...\n",
      "Done\n",
      "Solver is True\n",
      "room_s19_a15_w4_h34\n",
      "34\n",
      "Grounding...\n"
     ]
    },
    {
     "name": "stderr",
     "output_type": "stream",
     "text": [
      "Current agent: 15 - at((15,19),0) => at((19,16),34): 100%|██████████| 15/15 [00:00<00:00, 21.82it/s]\n"
     ]
    },
    {
     "name": "stdout",
     "output_type": "stream",
     "text": [
      "SAT\n",
      "Grounding...\n",
      "Solving...\n",
      "Done\n",
      "Solver is True\n",
      "Grounding...\n"
     ]
    },
    {
     "name": "stderr",
     "output_type": "stream",
     "text": [
      "pathelimination/path_elimination.lp:2:5-25: info: atom does not occur in any rule head:\n",
      "  critical_vertex(V,T)\n",
      "\n",
      "pathelimination/path_elimination.lp:3:5-26: info: atom does not occur in any rule head:\n",
      "  critical_agent(R,V,T)\n",
      "\n"
     ]
    },
    {
     "name": "stdout",
     "output_type": "stream",
     "text": [
      "Solving...\n",
      "Done\n",
      "Solver is True\n",
      "Grounding...\n",
      "Solving...\n",
      "Done\n",
      "Solver is True\n",
      "maze_s20_a15_h68\n",
      "68\n",
      "Grounding...\n"
     ]
    },
    {
     "name": "stderr",
     "output_type": "stream",
     "text": [
      "Current agent: 15 - at((1,32),0) => at((5,32),68): 100%|██████████| 15/15 [00:02<00:00,  6.62it/s]  \n"
     ]
    },
    {
     "name": "stdout",
     "output_type": "stream",
     "text": [
      "SAT\n",
      "Grounding...\n",
      "Solving...\n"
     ]
    },
    {
     "name": "stderr",
     "output_type": "stream",
     "text": [
      "pathelimination/path_elimination.lp:2:5-25: info: atom does not occur in any rule head:\n",
      "  critical_vertex(V,T)\n",
      "\n",
      "pathelimination/path_elimination.lp:3:5-26: info: atom does not occur in any rule head:\n",
      "  critical_agent(R,V,T)\n",
      "\n"
     ]
    },
    {
     "name": "stdout",
     "output_type": "stream",
     "text": [
      "Done\n",
      "Solver is True\n",
      "Grounding...\n",
      "Solving...\n",
      "Done\n",
      "Solver is True\n",
      "Grounding...\n",
      "Solving...\n",
      "Done\n",
      "Solver is True\n",
      "Grounding...\n",
      "Solving...\n",
      "Done\n",
      "Solver is True\n",
      "Grounding...\n",
      "Solving...\n",
      "Done\n",
      "Solver is True\n",
      "Grounding...\n",
      "Solving...\n",
      "Done\n",
      "Solver is True\n",
      "room_s47_a15_w5_h37\n",
      "37\n",
      "Grounding...\n"
     ]
    },
    {
     "name": "stderr",
     "output_type": "stream",
     "text": [
      "Current agent: 15 - at((47,34),0) => at((19,38),37): 100%|██████████| 15/15 [00:03<00:00,  4.67it/s]\n"
     ]
    },
    {
     "name": "stdout",
     "output_type": "stream",
     "text": [
      "SAT\n",
      "Grounding...\n",
      "Solving...\n"
     ]
    },
    {
     "name": "stderr",
     "output_type": "stream",
     "text": [
      "pathelimination/path_elimination.lp:2:5-25: info: atom does not occur in any rule head:\n",
      "  critical_vertex(V,T)\n",
      "\n",
      "pathelimination/path_elimination.lp:3:5-26: info: atom does not occur in any rule head:\n",
      "  critical_agent(R,V,T)\n",
      "\n"
     ]
    },
    {
     "name": "stdout",
     "output_type": "stream",
     "text": [
      "Done\n",
      "Solver is True\n",
      "Grounding...\n",
      "Solving...\n",
      "Done\n",
      "Solver is True\n",
      "Grounding...\n",
      "Solving...\n",
      "Done\n",
      "Solver is True\n",
      "maze_s10_a15_h38\n",
      "38\n",
      "Grounding...\n"
     ]
    },
    {
     "name": "stderr",
     "output_type": "stream",
     "text": [
      "Current agent: 15 - at((9,18),0) => at((10,17),38): 100%|██████████| 15/15 [00:00<00:00, 40.11it/s]\n"
     ]
    },
    {
     "name": "stdout",
     "output_type": "stream",
     "text": [
      "SAT\n",
      "Grounding...\n",
      "Solving...\n",
      "Done\n",
      "Solver is True\n",
      "Grounding...\n"
     ]
    },
    {
     "name": "stderr",
     "output_type": "stream",
     "text": [
      "pathelimination/path_elimination.lp:2:5-25: info: atom does not occur in any rule head:\n",
      "  critical_vertex(V,T)\n",
      "\n",
      "pathelimination/path_elimination.lp:3:5-26: info: atom does not occur in any rule head:\n",
      "  critical_agent(R,V,T)\n",
      "\n"
     ]
    },
    {
     "name": "stdout",
     "output_type": "stream",
     "text": [
      "Solving...\n",
      "Done\n",
      "Solver is True\n",
      "Grounding...\n",
      "Solving...\n",
      "Done\n",
      "Solver is True\n",
      "Grounding...\n",
      "Solving...\n",
      "Done\n",
      "Solver is True\n",
      "random_s10_a5_c50_h16\n",
      "16\n",
      "Grounding...\n"
     ]
    },
    {
     "name": "stderr",
     "output_type": "stream",
     "text": [
      "Current agent: 5 - at((9,3),0) => at((9,4),16): 100%|██████████| 5/5 [00:00<00:00, 100.44it/s]\n"
     ]
    },
    {
     "name": "stdout",
     "output_type": "stream",
     "text": [
      "SAT\n",
      "Grounding...\n",
      "Solving...\n",
      "Done\n",
      "Solver is True\n",
      "Grounding...\n",
      "Solving...\n",
      "Done\n",
      "Solver is True\n",
      "Grounding...\n",
      "Solving...\n",
      "Done\n",
      "Solver is True\n"
     ]
    },
    {
     "name": "stderr",
     "output_type": "stream",
     "text": [
      "pathelimination/path_elimination.lp:2:5-25: info: atom does not occur in any rule head:\n",
      "  critical_vertex(V,T)\n",
      "\n",
      "pathelimination/path_elimination.lp:3:5-26: info: atom does not occur in any rule head:\n",
      "  critical_agent(R,V,T)\n",
      "\n"
     ]
    },
    {
     "name": "stdout",
     "output_type": "stream",
     "text": [
      "room_s29_a30_w5_h34\n",
      "34\n",
      "Grounding...\n"
     ]
    },
    {
     "name": "stderr",
     "output_type": "stream",
     "text": [
      "Current agent: 30 - at((28,15),0) => at((29,15),34): 100%|██████████| 30/30 [00:01<00:00, 16.56it/s]\n"
     ]
    },
    {
     "name": "stdout",
     "output_type": "stream",
     "text": [
      "SAT\n",
      "Grounding...\n",
      "Solving...\n"
     ]
    },
    {
     "name": "stderr",
     "output_type": "stream",
     "text": [
      "pathelimination/path_elimination.lp:2:5-25: info: atom does not occur in any rule head:\n",
      "  critical_vertex(V,T)\n",
      "\n",
      "pathelimination/path_elimination.lp:3:5-26: info: atom does not occur in any rule head:\n",
      "  critical_agent(R,V,T)\n",
      "\n"
     ]
    },
    {
     "name": "stdout",
     "output_type": "stream",
     "text": [
      "Done\n",
      "Solver is True\n",
      "Grounding...\n",
      "Solving...\n",
      "Done\n",
      "Solver is True\n",
      "Grounding...\n",
      "Solving...\n",
      "Done\n",
      "Solver is True\n",
      "maze_s10_a25_h45\n",
      "45\n",
      "Grounding...\n"
     ]
    },
    {
     "name": "stderr",
     "output_type": "stream",
     "text": [
      "Current agent: 25 - at((16,15),0) => at((1,18),45): 100%|██████████| 25/25 [00:00<00:00, 36.26it/s] \n"
     ]
    },
    {
     "name": "stdout",
     "output_type": "stream",
     "text": [
      "SAT\n",
      "Grounding...\n",
      "Solving...\n"
     ]
    },
    {
     "name": "stderr",
     "output_type": "stream",
     "text": [
      "pathelimination/path_elimination.lp:2:5-25: info: atom does not occur in any rule head:\n",
      "  critical_vertex(V,T)\n",
      "\n",
      "pathelimination/path_elimination.lp:3:5-26: info: atom does not occur in any rule head:\n",
      "  critical_agent(R,V,T)\n",
      "\n"
     ]
    },
    {
     "name": "stdout",
     "output_type": "stream",
     "text": [
      "Done\n",
      "Solver is True\n",
      "Grounding...\n",
      "Solving...\n",
      "Done\n",
      "Solver is True\n",
      "Grounding...\n",
      "Solving...\n",
      "Done\n",
      "Solver is True\n",
      "room_s47_a10_w5_h59\n",
      "59\n",
      "Grounding...\n"
     ]
    },
    {
     "name": "stderr",
     "output_type": "stream",
     "text": [
      "Current agent: 10 - at((32,47),0) => at((33,1),59): 100%|██████████| 10/10 [00:03<00:00,  2.71it/s]\n"
     ]
    },
    {
     "name": "stdout",
     "output_type": "stream",
     "text": [
      "SAT\n",
      "Grounding...\n",
      "Solving...\n"
     ]
    },
    {
     "name": "stderr",
     "output_type": "stream",
     "text": [
      "pathelimination/path_elimination.lp:2:5-25: info: atom does not occur in any rule head:\n",
      "  critical_vertex(V,T)\n",
      "\n",
      "pathelimination/path_elimination.lp:3:5-26: info: atom does not occur in any rule head:\n",
      "  critical_agent(R,V,T)\n",
      "\n"
     ]
    },
    {
     "name": "stdout",
     "output_type": "stream",
     "text": [
      "Done\n",
      "Solver is True\n",
      "Grounding...\n",
      "Solving...\n",
      "Done\n",
      "Solver is True\n",
      "Grounding...\n",
      "Solving...\n",
      "Done\n",
      "Solver is True\n",
      "room_s47_a5_w5_h50\n",
      "50\n",
      "Grounding...\n"
     ]
    },
    {
     "name": "stderr",
     "output_type": "stream",
     "text": [
      "Current agent: 5 - at((4,39),0) => at((29,16),50): 100%|██████████| 5/5 [00:02<00:00,  2.43it/s] \n"
     ]
    },
    {
     "name": "stdout",
     "output_type": "stream",
     "text": [
      "SAT\n",
      "Grounding...\n",
      "Solving...\n",
      "Done\n",
      "Solver is True\n"
     ]
    },
    {
     "name": "stderr",
     "output_type": "stream",
     "text": [
      "pathelimination/path_elimination.lp:2:5-25: info: atom does not occur in any rule head:\n",
      "  critical_vertex(V,T)\n",
      "\n",
      "pathelimination/path_elimination.lp:3:5-26: info: atom does not occur in any rule head:\n",
      "  critical_agent(R,V,T)\n",
      "\n"
     ]
    },
    {
     "name": "stdout",
     "output_type": "stream",
     "text": [
      "Grounding...\n",
      "Solving...\n",
      "Done\n",
      "Solver is True\n",
      "Grounding...\n",
      "Solving...\n",
      "Done\n",
      "Solver is True\n",
      "random_s40_a35_c75_h54\n",
      "54\n",
      "Grounding...\n"
     ]
    },
    {
     "name": "stderr",
     "output_type": "stream",
     "text": [
      "Current agent: 35 - at((24,39),0) => at((24,18),54): 100%|██████████| 35/35 [00:07<00:00,  4.42it/s]\n"
     ]
    },
    {
     "name": "stdout",
     "output_type": "stream",
     "text": [
      "SAT\n",
      "Grounding...\n",
      "Solving...\n"
     ]
    },
    {
     "name": "stderr",
     "output_type": "stream",
     "text": [
      "pathelimination/path_elimination.lp:2:5-25: info: atom does not occur in any rule head:\n",
      "  critical_vertex(V,T)\n",
      "\n",
      "pathelimination/path_elimination.lp:3:5-26: info: atom does not occur in any rule head:\n",
      "  critical_agent(R,V,T)\n",
      "\n"
     ]
    },
    {
     "name": "stdout",
     "output_type": "stream",
     "text": [
      "Done\n",
      "Solver is True\n",
      "Grounding...\n",
      "Solving...\n",
      "Done\n",
      "Solver is True\n",
      "Grounding...\n",
      "Solving...\n",
      "Done\n",
      "Solver is True\n",
      "random_s30_a25_c75_h50\n",
      "50\n",
      "Grounding...\n"
     ]
    },
    {
     "name": "stderr",
     "output_type": "stream",
     "text": [
      "Current agent: 25 - at((10,28),0) => at((24,30),50): 100%|██████████| 25/25 [00:02<00:00, 10.56it/s]\n"
     ]
    },
    {
     "name": "stdout",
     "output_type": "stream",
     "text": [
      "SAT\n",
      "Grounding...\n",
      "Solving...\n"
     ]
    },
    {
     "name": "stderr",
     "output_type": "stream",
     "text": [
      "pathelimination/path_elimination.lp:2:5-25: info: atom does not occur in any rule head:\n",
      "  critical_vertex(V,T)\n",
      "\n",
      "pathelimination/path_elimination.lp:3:5-26: info: atom does not occur in any rule head:\n",
      "  critical_agent(R,V,T)\n",
      "\n"
     ]
    },
    {
     "name": "stdout",
     "output_type": "stream",
     "text": [
      "Done\n",
      "Solver is True\n",
      "Grounding...\n",
      "Solving...\n",
      "Done\n",
      "Solver is True\n",
      "Grounding...\n",
      "Solving...\n",
      "Done\n",
      "Solver is True\n",
      "room_s19_a25_w4_h30\n",
      "30\n",
      "Grounding...\n"
     ]
    },
    {
     "name": "stderr",
     "output_type": "stream",
     "text": [
      "Current agent: 25 - at((18,19),0) => at((18,17),30): 100%|██████████| 25/25 [00:01<00:00, 24.63it/s]\n"
     ]
    },
    {
     "name": "stdout",
     "output_type": "stream",
     "text": [
      "SAT\n",
      "Grounding...\n",
      "Solving...\n",
      "Done\n",
      "Solver is True\n"
     ]
    },
    {
     "name": "stderr",
     "output_type": "stream",
     "text": [
      "pathelimination/path_elimination.lp:2:5-25: info: atom does not occur in any rule head:\n",
      "  critical_vertex(V,T)\n",
      "\n",
      "pathelimination/path_elimination.lp:3:5-26: info: atom does not occur in any rule head:\n",
      "  critical_agent(R,V,T)\n",
      "\n"
     ]
    },
    {
     "name": "stdout",
     "output_type": "stream",
     "text": [
      "Grounding...\n",
      "Solving...\n",
      "Done\n",
      "Solver is True\n",
      "Grounding...\n",
      "Solving...\n",
      "Done\n",
      "Solver is True\n",
      "random_s20_a15_c50_h43\n",
      "43\n",
      "Grounding...\n"
     ]
    },
    {
     "name": "stderr",
     "output_type": "stream",
     "text": [
      "Current agent: 15 - at((18,7),0) => at((17,17),43): 100%|██████████| 15/15 [00:00<00:00, 29.41it/s]\n"
     ]
    },
    {
     "name": "stdout",
     "output_type": "stream",
     "text": [
      "SAT\n",
      "Grounding...\n",
      "Solving...\n",
      "Done\n",
      "Solver is True\n",
      "Grounding...\n"
     ]
    },
    {
     "name": "stderr",
     "output_type": "stream",
     "text": [
      "pathelimination/path_elimination.lp:2:5-25: info: atom does not occur in any rule head:\n",
      "  critical_vertex(V,T)\n",
      "\n",
      "pathelimination/path_elimination.lp:3:5-26: info: atom does not occur in any rule head:\n",
      "  critical_agent(R,V,T)\n",
      "\n"
     ]
    },
    {
     "name": "stdout",
     "output_type": "stream",
     "text": [
      "Solving...\n",
      "Done\n",
      "Solver is True\n",
      "Grounding...\n",
      "Solving...\n",
      "Done\n",
      "Solver is True\n",
      "random_s10_a5_c75_h14\n",
      "14\n",
      "Grounding...\n"
     ]
    },
    {
     "name": "stderr",
     "output_type": "stream",
     "text": [
      "Current agent: 5 - at((8,10),0) => at((7,1),14): 100%|██████████| 5/5 [00:00<00:00, 75.13it/s]\n"
     ]
    },
    {
     "name": "stdout",
     "output_type": "stream",
     "text": [
      "SAT\n",
      "Grounding...\n",
      "Solving...\n",
      "Done\n",
      "Solver is True\n",
      "Grounding...\n",
      "Solving...\n",
      "Done\n",
      "Solver is True\n",
      "Grounding...\n",
      "Solving...\n",
      "Done\n",
      "Solver is True\n",
      "Grounding...\n"
     ]
    },
    {
     "name": "stderr",
     "output_type": "stream",
     "text": [
      "pathelimination/path_elimination.lp:2:5-25: info: atom does not occur in any rule head:\n",
      "  critical_vertex(V,T)\n",
      "\n",
      "pathelimination/path_elimination.lp:3:5-26: info: atom does not occur in any rule head:\n",
      "  critical_agent(R,V,T)\n",
      "\n"
     ]
    },
    {
     "name": "stdout",
     "output_type": "stream",
     "text": [
      "Solving...\n",
      "Done\n",
      "Solver is True\n",
      "Grounding...\n",
      "Solving...\n",
      "Done\n",
      "Solver is True\n",
      "Grounding...\n",
      "Solving...\n",
      "Done\n",
      "Solver is True\n",
      "room_s29_a20_w5_h26\n",
      "26\n",
      "Grounding...\n"
     ]
    },
    {
     "name": "stderr",
     "output_type": "stream",
     "text": [
      "Current agent: 20 - at((29,14),0) => at((29,17),26): 100%|██████████| 20/20 [00:01<00:00, 17.88it/s]\n"
     ]
    },
    {
     "name": "stdout",
     "output_type": "stream",
     "text": [
      "SAT\n",
      "Grounding...\n",
      "Solving...\n",
      "Done\n",
      "Solver is True\n",
      "Grounding...\n"
     ]
    },
    {
     "name": "stderr",
     "output_type": "stream",
     "text": [
      "pathelimination/path_elimination.lp:2:5-25: info: atom does not occur in any rule head:\n",
      "  critical_vertex(V,T)\n",
      "\n",
      "pathelimination/path_elimination.lp:3:5-26: info: atom does not occur in any rule head:\n",
      "  critical_agent(R,V,T)\n",
      "\n"
     ]
    },
    {
     "name": "stdout",
     "output_type": "stream",
     "text": [
      "Solving...\n",
      "Done\n",
      "Solver is True\n",
      "Grounding...\n",
      "Solving...\n",
      "Done\n",
      "Solver is True\n",
      "maze_s15_a20_h98\n",
      "98\n",
      "Grounding...\n"
     ]
    },
    {
     "name": "stderr",
     "output_type": "stream",
     "text": [
      "Current agent: 20 - at((13,22),0) => at((15,22),98): 100%|██████████| 20/20 [00:02<00:00,  7.68it/s]\n"
     ]
    },
    {
     "name": "stdout",
     "output_type": "stream",
     "text": [
      "SAT\n",
      "Grounding...\n",
      "Solving...\n"
     ]
    },
    {
     "name": "stderr",
     "output_type": "stream",
     "text": [
      "pathelimination/path_elimination.lp:2:5-25: info: atom does not occur in any rule head:\n",
      "  critical_vertex(V,T)\n",
      "\n",
      "pathelimination/path_elimination.lp:3:5-26: info: atom does not occur in any rule head:\n",
      "  critical_agent(R,V,T)\n",
      "\n"
     ]
    },
    {
     "name": "stdout",
     "output_type": "stream",
     "text": [
      "Done\n",
      "Solver is True\n",
      "Grounding...\n",
      "Solving...\n",
      "Done\n",
      "Solver is True\n",
      "Grounding...\n",
      "Solving...\n",
      "Done\n",
      "Solver is True\n",
      "room_s19_a5_w4_h25\n",
      "25\n",
      "Grounding...\n"
     ]
    },
    {
     "name": "stderr",
     "output_type": "stream",
     "text": [
      "Current agent: 5 - at((15,2),0) => at((10,6),25): 100%|██████████| 5/5 [00:00<00:00, 25.39it/s]\n"
     ]
    },
    {
     "name": "stdout",
     "output_type": "stream",
     "text": [
      "SAT\n",
      "Grounding...\n",
      "Solving...\n",
      "Done\n",
      "Solver is True\n",
      "Grounding...\n",
      "Solving...\n",
      "Done\n",
      "Solver is True\n",
      "Grounding...\n"
     ]
    },
    {
     "name": "stderr",
     "output_type": "stream",
     "text": [
      "pathelimination/path_elimination.lp:2:5-25: info: atom does not occur in any rule head:\n",
      "  critical_vertex(V,T)\n",
      "\n",
      "pathelimination/path_elimination.lp:3:5-26: info: atom does not occur in any rule head:\n",
      "  critical_agent(R,V,T)\n",
      "\n"
     ]
    },
    {
     "name": "stdout",
     "output_type": "stream",
     "text": [
      "Solving...\n",
      "Done\n",
      "Solver is True\n"
     ]
    }
   ],
   "source": [
    "\n",
    "for instance_name, instance_content in instances_pool:\n",
    "    def approach(instance_name,instance_content):\n",
    "        print(instance_name)\n",
    "        rows = []\n",
    "        \n",
    "        r, s_ipf = base_ipf(instance_content, additional_paths_computation=True)\n",
    "        \n",
    "        rows.append({\n",
    "            'Step Name' : 'base_ipf',\n",
    "            'Total Time' : s_ipf.total_time,\n",
    "            'Ground Time': s_ipf.total_time - s_ipf.solve_time,\n",
    "            'Solving Time': s_ipf.solve_time,\n",
    "            'SAT' : bool(r),\n",
    "            'Additional Data' : json.dumps(s_ipf.additional_data)\n",
    "        })\n",
    "        \n",
    "        ih, gh, lgh, s = global_heatmap(r + instance_content)\n",
    "        \n",
    "        rows.append({\n",
    "            'Step Name' : 'heatmaps',\n",
    "            'Total Time' : s.total_time,\n",
    "            'Ground Time': s.total_time - s.solve_time,\n",
    "            'Solving Time': s.solve_time,\n",
    "            'SAT' : bool(r),\n",
    "            'Additional Data' : json.dumps(s.additional_data)\n",
    "        })\n",
    "        \n",
    "        \n",
    "        cva ,s =  select_portion_based_on_heatmap(lgh['summed_heatmap_per_path'])\n",
    "        \n",
    "        rows.append({\n",
    "            'Step Name' : 'select_portion_based_on_heatmap',\n",
    "            'Total Time' : s.total_time,\n",
    "            'Ground Time': s.total_time - s.solve_time,\n",
    "            'Solving Time': s.solve_time,\n",
    "            'SAT' : bool(r),\n",
    "            'Additional Data' : json.dumps(s.additional_data)\n",
    "        })\n",
    "        \n",
    "        r,s = solver(r + cva + instance_content + lgh['pwlsh'], 'pathelimination/path_elimination.lp', additional_encodings=['pathelimination/convert_to_kill.lp'])\n",
    "        \n",
    "        rows.append({\n",
    "            'Step Name' : 'path_elimination',\n",
    "            'Total Time' : s.total_time,\n",
    "            'Ground Time': s.total_time - s.solve_time,\n",
    "            'Solving Time': s.solve_time,\n",
    "            'SAT' : bool(r),\n",
    "            'Additional Data' : json.dumps(s.additional_data)\n",
    "        })\n",
    "        \n",
    "        \n",
    "        r,s = solver(r, 'pathselection/path_selection.lp', parameters=['0','--opt-strategy=usc'])\n",
    "        \n",
    "        rows.append({\n",
    "            'Step Name' : 'path_selection',\n",
    "            'Total Time' : s.total_time,\n",
    "            'Ground Time': s.total_time - s.solve_time,\n",
    "            'Solving Time': s.solve_time,\n",
    "            'SAT' : bool(r),\n",
    "            'Additional Data' : json.dumps(s.additional_data)\n",
    "        })\n",
    "        \n",
    "        \n",
    "        r_,s = partial_solving(r, 'mapf/partial_solving.lp', subgraph='mapf/subgraph.lp', precomputed_path=False)\n",
    "        \n",
    "        rows.append({\n",
    "            'Step Name' : 'partial_solving',\n",
    "\n",
    "            'Total Time' : s.total_time,\n",
    "            'Ground Time': s.total_time - s.solve_time,\n",
    "            'Solving Time': s.solve_time,\n",
    "            'SAT' : bool(r_),\n",
    "            'Additional Data' : json.dumps(s.additional_data)\n",
    "        })\n",
    "        \n",
    "        for i in range (1,6,2):\n",
    "            if s.additional_data['ngoal_reached'] < s_ipf.additional_data['nagent']:\n",
    "                r_,s = partial_solving(r, 'mapf/partial_solving.lp', subgraph='mapf/subgraph.lp', precomputed_path=False,  horizon_modifier=i)\n",
    "        \n",
    "                rows.append({\n",
    "                    'Step Name' : f'partial_solving_additional_horizon',\n",
    "                    'Total Time' : s.total_time,\n",
    "                    'Ground Time': s.total_time - s.solve_time,\n",
    "                    'Solving Time': s.solve_time,\n",
    "                    'SAT' : bool(r_),\n",
    "                    'Additional Data' : json.dumps(s.additional_data)\n",
    "                })\n",
    "        \n",
    "\n",
    "        write_csv(f'benchmarks_result/{instance_name}-approach14.csv', header,rows)\n",
    "        \n",
    "    pool = Pool(1)       \n",
    "    mutex = pool.apply_async(approach,[instance_name,instance_content])\n",
    "\n",
    "    try:\n",
    "        mutex.get(timeout=timeout)\n",
    "    except Exception as e:\n",
    "        print(e)\n",
    "        pool.terminate()"
   ]
  },
  {
   "cell_type": "markdown",
   "metadata": {},
   "source": [
    "## Approach 15: no additional paths, summed heatmap elimination, precomputed path +  subgraph with corridor and diamond\n"
   ]
  },
  {
   "cell_type": "code",
   "execution_count": null,
   "metadata": {},
   "outputs": [
    {
     "name": "stdout",
     "output_type": "stream",
     "text": [
      "room_s29_a10_w5_h29\n",
      "29\n"
     ]
    },
    {
     "name": "stdout",
     "output_type": "stream",
     "text": [
      "Grounding...\n"
     ]
    },
    {
     "name": "stderr",
     "output_type": "stream",
     "text": [
      "Current agent: 10 - at((12,10),0) => at((21,24),29): 100%|██████████| 10/10 [00:00<00:00, 15.70it/s]\n"
     ]
    },
    {
     "name": "stdout",
     "output_type": "stream",
     "text": [
      "SAT\n",
      "Grounding...\n",
      "Solving...\n",
      "Done\n",
      "Solver is True\n",
      "Grounding...\n",
      "Solving...\n"
     ]
    },
    {
     "name": "stderr",
     "output_type": "stream",
     "text": [
      "pathelimination/path_elimination.lp:2:5-25: info: atom does not occur in any rule head:\n",
      "  critical_vertex(V,T)\n",
      "\n",
      "pathelimination/path_elimination.lp:3:5-26: info: atom does not occur in any rule head:\n",
      "  critical_agent(R,V,T)\n",
      "\n"
     ]
    },
    {
     "name": "stdout",
     "output_type": "stream",
     "text": [
      "Done\n",
      "Solver is True\n",
      "Grounding...\n",
      "Solving...\n",
      "Done\n",
      "Solver is True\n",
      "Grounding...\n",
      "Solving...\n",
      "Done\n",
      "Solver is True\n",
      "Grounding...\n",
      "Solving...\n",
      "Done\n",
      "Solver is True\n",
      "\n",
      "\n",
      "random_s20_a15_c75_h28\n",
      "28\n",
      "Grounding...\n"
     ]
    },
    {
     "name": "stderr",
     "output_type": "stream",
     "text": [
      "Current agent: 15 - at((17,7),0) => at((17,10),28): 100%|██████████| 15/15 [00:00<00:00, 30.31it/s]\n"
     ]
    },
    {
     "name": "stdout",
     "output_type": "stream",
     "text": [
      "SAT\n",
      "Grounding...\n",
      "Solving...\n",
      "Done\n",
      "Solver is True\n",
      "Grounding...\n",
      "Solving...\n"
     ]
    },
    {
     "name": "stderr",
     "output_type": "stream",
     "text": [
      "pathelimination/path_elimination.lp:2:5-25: info: atom does not occur in any rule head:\n",
      "  critical_vertex(V,T)\n",
      "\n",
      "pathelimination/path_elimination.lp:3:5-26: info: atom does not occur in any rule head:\n",
      "  critical_agent(R,V,T)\n",
      "\n"
     ]
    },
    {
     "name": "stdout",
     "output_type": "stream",
     "text": [
      "Done\n",
      "Solver is True\n",
      "Grounding...\n",
      "Solving...\n",
      "Done\n",
      "Solver is True\n",
      "Grounding...\n",
      "Solving...\n",
      "Done\n",
      "Solver is True\n",
      "\n",
      "\n",
      "maze_s10_a20_h40\n",
      "40\n",
      "Grounding...\n"
     ]
    },
    {
     "name": "stderr",
     "output_type": "stream",
     "text": [
      "Current agent: 20 - at((3,18),0) => at((1,18),6): 100%|██████████| 20/20 [00:00<00:00, 26.54it/s]  \n"
     ]
    },
    {
     "name": "stdout",
     "output_type": "stream",
     "text": [
      "SAT\n",
      "Grounding...\n",
      "Solving...\n",
      "Done\n",
      "Solver is True\n"
     ]
    },
    {
     "name": "stderr",
     "output_type": "stream",
     "text": [
      "pathelimination/path_elimination.lp:2:5-25: info: atom does not occur in any rule head:\n",
      "  critical_vertex(V,T)\n",
      "\n",
      "pathelimination/path_elimination.lp:3:5-26: info: atom does not occur in any rule head:\n",
      "  critical_agent(R,V,T)\n",
      "\n"
     ]
    },
    {
     "name": "stdout",
     "output_type": "stream",
     "text": [
      "Grounding...\n",
      "Solving...\n",
      "Done\n",
      "Solver is True\n",
      "Grounding...\n",
      "Solving...\n",
      "Done\n",
      "Solver is True\n",
      "Grounding...\n",
      "Solving...\n",
      "Done\n",
      "Solver is False\n",
      "Grounding...\n",
      "Solving...\n",
      "Done\n",
      "Solver is False\n",
      "Grounding...\n",
      "Solving...\n",
      "Done\n",
      "Solver is False\n",
      "Grounding...\n",
      "Solving...\n",
      "Done\n",
      "Solver is False\n",
      "\n",
      "\n",
      "room_s19_a15_w4_h34\n",
      "34\n",
      "Grounding...\n"
     ]
    },
    {
     "name": "stderr",
     "output_type": "stream",
     "text": [
      "Current agent: 15 - at((15,19),0) => at((19,16),34): 100%|██████████| 15/15 [00:00<00:00, 22.76it/s]\n"
     ]
    },
    {
     "name": "stdout",
     "output_type": "stream",
     "text": [
      "SAT\n",
      "Grounding...\n",
      "Solving...\n",
      "Done\n",
      "Solver is True\n",
      "Grounding...\n"
     ]
    },
    {
     "name": "stderr",
     "output_type": "stream",
     "text": [
      "pathelimination/path_elimination.lp:2:5-25: info: atom does not occur in any rule head:\n",
      "  critical_vertex(V,T)\n",
      "\n",
      "pathelimination/path_elimination.lp:3:5-26: info: atom does not occur in any rule head:\n",
      "  critical_agent(R,V,T)\n",
      "\n"
     ]
    },
    {
     "name": "stdout",
     "output_type": "stream",
     "text": [
      "Solving...\n",
      "Done\n",
      "Solver is True\n",
      "Grounding...\n",
      "Solving...\n",
      "Done\n",
      "Solver is True\n",
      "Grounding...\n",
      "Solving...\n",
      "Done\n",
      "Solver is True\n",
      "\n",
      "\n",
      "maze_s20_a15_h68\n",
      "68\n",
      "Grounding...\n"
     ]
    },
    {
     "name": "stderr",
     "output_type": "stream",
     "text": [
      "Current agent: 15 - at((1,32),0) => at((5,32),68): 100%|██████████| 15/15 [00:02<00:00,  6.51it/s]  \n"
     ]
    },
    {
     "name": "stdout",
     "output_type": "stream",
     "text": [
      "SAT\n",
      "Grounding...\n",
      "Solving...\n"
     ]
    },
    {
     "name": "stderr",
     "output_type": "stream",
     "text": [
      "pathelimination/path_elimination.lp:2:5-25: info: atom does not occur in any rule head:\n",
      "  critical_vertex(V,T)\n",
      "\n",
      "pathelimination/path_elimination.lp:3:5-26: info: atom does not occur in any rule head:\n",
      "  critical_agent(R,V,T)\n",
      "\n"
     ]
    },
    {
     "name": "stdout",
     "output_type": "stream",
     "text": [
      "Done\n",
      "Solver is True\n",
      "Grounding...\n",
      "Solving...\n",
      "Done\n",
      "Solver is True\n",
      "Grounding...\n",
      "Solving...\n",
      "Done\n",
      "Solver is True\n",
      "Grounding...\n",
      "Solving...\n",
      "Done\n",
      "Solver is True\n",
      "Grounding...\n",
      "Solving...\n",
      "Done\n",
      "Solver is True\n",
      "Grounding...\n",
      "Solving...\n",
      "Done\n",
      "Solver is True\n",
      "Grounding...\n",
      "Solving...\n",
      "Done\n",
      "Solver is True\n",
      "\n",
      "\n",
      "room_s47_a15_w5_h37\n",
      "37\n",
      "Grounding...\n"
     ]
    },
    {
     "name": "stderr",
     "output_type": "stream",
     "text": [
      "Current agent: 15 - at((47,34),0) => at((19,38),37): 100%|██████████| 15/15 [00:03<00:00,  4.65it/s]\n"
     ]
    },
    {
     "name": "stdout",
     "output_type": "stream",
     "text": [
      "SAT\n",
      "Grounding...\n",
      "Solving...\n"
     ]
    },
    {
     "name": "stderr",
     "output_type": "stream",
     "text": [
      "pathelimination/path_elimination.lp:2:5-25: info: atom does not occur in any rule head:\n",
      "  critical_vertex(V,T)\n",
      "\n",
      "pathelimination/path_elimination.lp:3:5-26: info: atom does not occur in any rule head:\n",
      "  critical_agent(R,V,T)\n",
      "\n"
     ]
    },
    {
     "name": "stdout",
     "output_type": "stream",
     "text": [
      "Done\n",
      "Solver is True\n",
      "Grounding...\n",
      "Solving...\n",
      "Done\n",
      "Solver is True\n",
      "Grounding...\n",
      "Solving...\n",
      "Done\n",
      "Solver is True\n",
      "Grounding...\n",
      "Solving...\n",
      "Done\n",
      "Solver is True\n",
      "Grounding...\n",
      "Solving...\n",
      "Done\n",
      "Solver is True\n",
      "Grounding...\n",
      "Solving...\n",
      "Done\n",
      "Solver is True\n",
      "Grounding...\n",
      "Solving...\n",
      "Done\n",
      "Solver is True\n",
      "\n",
      "\n",
      "maze_s10_a15_h38\n",
      "38\n",
      "Grounding...\n"
     ]
    },
    {
     "name": "stderr",
     "output_type": "stream",
     "text": [
      "Current agent: 15 - at((9,18),0) => at((10,17),38): 100%|██████████| 15/15 [00:00<00:00, 42.55it/s]\n"
     ]
    },
    {
     "name": "stdout",
     "output_type": "stream",
     "text": [
      "SAT\n",
      "Grounding...\n",
      "Solving...\n",
      "Done\n",
      "Solver is True\n",
      "Grounding...\n"
     ]
    },
    {
     "name": "stderr",
     "output_type": "stream",
     "text": [
      "pathelimination/path_elimination.lp:2:5-25: info: atom does not occur in any rule head:\n",
      "  critical_vertex(V,T)\n",
      "\n",
      "pathelimination/path_elimination.lp:3:5-26: info: atom does not occur in any rule head:\n",
      "  critical_agent(R,V,T)\n",
      "\n"
     ]
    },
    {
     "name": "stdout",
     "output_type": "stream",
     "text": [
      "Solving...\n",
      "Done\n",
      "Solver is True\n",
      "Grounding...\n",
      "Solving...\n",
      "Done\n",
      "Solver is True\n",
      "Grounding...\n",
      "Solving...\n",
      "Done\n",
      "Solver is False\n",
      "Grounding...\n",
      "Solving...\n",
      "Done\n",
      "Solver is False\n",
      "Grounding...\n",
      "Solving...\n",
      "Done\n",
      "Solver is False\n",
      "Grounding...\n",
      "Solving...\n",
      "Done\n",
      "Solver is False\n",
      "\n",
      "\n",
      "random_s10_a5_c50_h16\n",
      "16\n",
      "Grounding...\n"
     ]
    },
    {
     "name": "stderr",
     "output_type": "stream",
     "text": [
      "Current agent: 5 - at((9,3),0) => at((9,4),16): 100%|██████████| 5/5 [00:00<00:00, 108.59it/s]\n"
     ]
    },
    {
     "name": "stdout",
     "output_type": "stream",
     "text": [
      "SAT\n",
      "Grounding...\n",
      "Solving...\n",
      "Done\n",
      "Solver is True\n",
      "Grounding...\n",
      "Solving...\n",
      "Done\n",
      "Solver is True\n",
      "Grounding...\n",
      "Solving...\n",
      "Done\n",
      "Solver is True\n",
      "Grounding...\n",
      "Solving...\n",
      "Done\n",
      "Solver is True\n",
      "\n",
      "\n"
     ]
    },
    {
     "name": "stderr",
     "output_type": "stream",
     "text": [
      "pathelimination/path_elimination.lp:2:5-25: info: atom does not occur in any rule head:\n",
      "  critical_vertex(V,T)\n",
      "\n",
      "pathelimination/path_elimination.lp:3:5-26: info: atom does not occur in any rule head:\n",
      "  critical_agent(R,V,T)\n",
      "\n"
     ]
    },
    {
     "name": "stdout",
     "output_type": "stream",
     "text": [
      "room_s29_a30_w5_h34\n",
      "34\n",
      "Grounding...\n"
     ]
    },
    {
     "name": "stderr",
     "output_type": "stream",
     "text": [
      "Current agent: 30 - at((28,15),0) => at((29,15),34): 100%|██████████| 30/30 [00:01<00:00, 15.76it/s]\n"
     ]
    },
    {
     "name": "stdout",
     "output_type": "stream",
     "text": [
      "SAT\n",
      "Grounding...\n",
      "Solving...\n"
     ]
    },
    {
     "name": "stderr",
     "output_type": "stream",
     "text": [
      "pathelimination/path_elimination.lp:2:5-25: info: atom does not occur in any rule head:\n",
      "  critical_vertex(V,T)\n",
      "\n",
      "pathelimination/path_elimination.lp:3:5-26: info: atom does not occur in any rule head:\n",
      "  critical_agent(R,V,T)\n",
      "\n"
     ]
    },
    {
     "name": "stdout",
     "output_type": "stream",
     "text": [
      "Done\n",
      "Solver is True\n",
      "Grounding...\n",
      "Solving...\n",
      "Done\n",
      "Solver is True\n",
      "Grounding...\n",
      "Solving...\n",
      "Done\n",
      "Solver is True\n",
      "Grounding...\n",
      "Solving...\n",
      "Done\n",
      "Solver is True\n",
      "Grounding...\n",
      "Solving...\n",
      "Done\n",
      "Solver is True\n",
      "Grounding...\n",
      "Solving...\n",
      "Done\n",
      "Solver is True\n",
      "Grounding...\n",
      "Solving...\n",
      "Done\n",
      "Solver is True\n",
      "\n",
      "\n",
      "maze_s10_a25_h45\n",
      "45\n",
      "Grounding...\n"
     ]
    },
    {
     "name": "stderr",
     "output_type": "stream",
     "text": [
      "Current agent: 25 - at((16,15),0) => at((1,18),45): 100%|██████████| 25/25 [00:00<00:00, 36.69it/s] \n"
     ]
    },
    {
     "name": "stdout",
     "output_type": "stream",
     "text": [
      "SAT\n",
      "Grounding...\n",
      "Solving...\n"
     ]
    },
    {
     "name": "stderr",
     "output_type": "stream",
     "text": [
      "pathelimination/path_elimination.lp:2:5-25: info: atom does not occur in any rule head:\n",
      "  critical_vertex(V,T)\n",
      "\n",
      "pathelimination/path_elimination.lp:3:5-26: info: atom does not occur in any rule head:\n",
      "  critical_agent(R,V,T)\n",
      "\n"
     ]
    },
    {
     "name": "stdout",
     "output_type": "stream",
     "text": [
      "Done\n",
      "Solver is True\n",
      "Grounding...\n",
      "Solving...\n",
      "Done\n",
      "Solver is True\n",
      "Grounding...\n",
      "Solving...\n",
      "Done\n",
      "Solver is True\n",
      "Grounding...\n",
      "Solving...\n",
      "Done\n",
      "Solver is False\n",
      "Grounding...\n",
      "Solving...\n",
      "Done\n",
      "Solver is False\n",
      "Grounding...\n",
      "Solving...\n",
      "Done\n",
      "Solver is False\n",
      "Grounding...\n",
      "Solving...\n",
      "Done\n",
      "Solver is False\n",
      "\n",
      "\n",
      "room_s47_a10_w5_h59\n",
      "59\n",
      "Grounding...\n"
     ]
    },
    {
     "name": "stderr",
     "output_type": "stream",
     "text": [
      "Current agent: 10 - at((32,47),0) => at((33,1),59): 100%|██████████| 10/10 [00:03<00:00,  2.72it/s]\n"
     ]
    },
    {
     "name": "stdout",
     "output_type": "stream",
     "text": [
      "SAT\n",
      "Grounding...\n",
      "Solving...\n"
     ]
    },
    {
     "name": "stderr",
     "output_type": "stream",
     "text": [
      "pathelimination/path_elimination.lp:2:5-25: info: atom does not occur in any rule head:\n",
      "  critical_vertex(V,T)\n",
      "\n",
      "pathelimination/path_elimination.lp:3:5-26: info: atom does not occur in any rule head:\n",
      "  critical_agent(R,V,T)\n",
      "\n"
     ]
    },
    {
     "name": "stdout",
     "output_type": "stream",
     "text": [
      "Done\n",
      "Solver is True\n",
      "Grounding...\n",
      "Solving...\n",
      "Done\n",
      "Solver is True\n",
      "Grounding...\n",
      "Solving...\n",
      "Done\n",
      "Solver is True\n",
      "Grounding...\n",
      "Solving...\n",
      "Done\n",
      "Solver is True\n",
      "\n",
      "\n",
      "room_s47_a5_w5_h50\n",
      "50\n",
      "Grounding...\n"
     ]
    },
    {
     "name": "stderr",
     "output_type": "stream",
     "text": [
      "Current agent: 5 - at((4,39),0) => at((29,16),50): 100%|██████████| 5/5 [00:02<00:00,  2.43it/s] \n"
     ]
    },
    {
     "name": "stdout",
     "output_type": "stream",
     "text": [
      "SAT\n",
      "Grounding...\n",
      "Solving...\n",
      "Done\n",
      "Solver is True\n"
     ]
    },
    {
     "name": "stderr",
     "output_type": "stream",
     "text": [
      "pathelimination/path_elimination.lp:2:5-25: info: atom does not occur in any rule head:\n",
      "  critical_vertex(V,T)\n",
      "\n",
      "pathelimination/path_elimination.lp:3:5-26: info: atom does not occur in any rule head:\n",
      "  critical_agent(R,V,T)\n",
      "\n"
     ]
    },
    {
     "name": "stdout",
     "output_type": "stream",
     "text": [
      "Grounding...\n",
      "Solving...\n",
      "Done\n",
      "Solver is True\n",
      "Grounding...\n",
      "Solving...\n",
      "Done\n",
      "Solver is True\n",
      "Grounding...\n",
      "Solving...\n",
      "Done\n",
      "Solver is True\n",
      "\n",
      "\n",
      "random_s40_a35_c75_h54\n",
      "54\n",
      "Grounding...\n"
     ]
    },
    {
     "name": "stderr",
     "output_type": "stream",
     "text": [
      "Current agent: 35 - at((24,39),0) => at((24,18),54): 100%|██████████| 35/35 [00:07<00:00,  4.47it/s]\n"
     ]
    },
    {
     "name": "stdout",
     "output_type": "stream",
     "text": [
      "SAT\n",
      "Grounding...\n",
      "Solving...\n"
     ]
    },
    {
     "name": "stderr",
     "output_type": "stream",
     "text": [
      "pathelimination/path_elimination.lp:2:5-25: info: atom does not occur in any rule head:\n",
      "  critical_vertex(V,T)\n",
      "\n",
      "pathelimination/path_elimination.lp:3:5-26: info: atom does not occur in any rule head:\n",
      "  critical_agent(R,V,T)\n",
      "\n"
     ]
    },
    {
     "name": "stdout",
     "output_type": "stream",
     "text": [
      "Done\n",
      "Solver is True\n",
      "Grounding...\n",
      "Solving...\n",
      "Done\n",
      "Solver is True\n",
      "Grounding...\n",
      "Solving...\n",
      "Done\n",
      "Solver is True\n",
      "Grounding...\n",
      "Solving...\n",
      "Done\n",
      "Solver is True\n",
      "\n",
      "\n",
      "random_s30_a25_c75_h50\n",
      "50\n",
      "Grounding...\n"
     ]
    },
    {
     "name": "stderr",
     "output_type": "stream",
     "text": [
      "Current agent: 25 - at((10,28),0) => at((24,30),50): 100%|██████████| 25/25 [00:02<00:00, 10.87it/s]\n"
     ]
    },
    {
     "name": "stdout",
     "output_type": "stream",
     "text": [
      "SAT\n",
      "Grounding...\n",
      "Solving...\n"
     ]
    },
    {
     "name": "stderr",
     "output_type": "stream",
     "text": [
      "pathelimination/path_elimination.lp:2:5-25: info: atom does not occur in any rule head:\n",
      "  critical_vertex(V,T)\n",
      "\n",
      "pathelimination/path_elimination.lp:3:5-26: info: atom does not occur in any rule head:\n",
      "  critical_agent(R,V,T)\n",
      "\n"
     ]
    },
    {
     "name": "stdout",
     "output_type": "stream",
     "text": [
      "Done\n",
      "Solver is True\n",
      "Grounding...\n",
      "Solving...\n",
      "Done\n",
      "Solver is True\n",
      "Grounding...\n",
      "Solving...\n",
      "Done\n",
      "Solver is True\n",
      "Grounding...\n",
      "Solving...\n",
      "Done\n",
      "Solver is True\n",
      "\n",
      "\n",
      "room_s19_a25_w4_h30\n",
      "30\n",
      "Grounding...\n"
     ]
    },
    {
     "name": "stderr",
     "output_type": "stream",
     "text": [
      "Current agent: 25 - at((18,19),0) => at((18,17),30): 100%|██████████| 25/25 [00:00<00:00, 25.51it/s]\n"
     ]
    },
    {
     "name": "stdout",
     "output_type": "stream",
     "text": [
      "SAT\n",
      "Grounding...\n",
      "Solving...\n",
      "Done\n",
      "Solver is True\n"
     ]
    },
    {
     "name": "stderr",
     "output_type": "stream",
     "text": [
      "pathelimination/path_elimination.lp:2:5-25: info: atom does not occur in any rule head:\n",
      "  critical_vertex(V,T)\n",
      "\n",
      "pathelimination/path_elimination.lp:3:5-26: info: atom does not occur in any rule head:\n",
      "  critical_agent(R,V,T)\n",
      "\n"
     ]
    },
    {
     "name": "stdout",
     "output_type": "stream",
     "text": [
      "Grounding...\n",
      "Solving...\n",
      "Done\n",
      "Solver is True\n",
      "Grounding...\n",
      "Solving...\n",
      "Done\n",
      "Solver is True\n",
      "Grounding...\n",
      "Solving...\n",
      "Done\n",
      "Solver is True\n",
      "Grounding...\n",
      "Solving...\n",
      "Done\n",
      "Solver is True\n",
      "Grounding...\n",
      "Solving...\n",
      "Done\n",
      "Solver is True\n",
      "Grounding...\n",
      "Solving...\n",
      "Done\n",
      "Solver is True\n",
      "\n",
      "\n",
      "random_s20_a15_c50_h43\n",
      "43\n",
      "Grounding...\n"
     ]
    },
    {
     "name": "stderr",
     "output_type": "stream",
     "text": [
      "Current agent: 15 - at((18,7),0) => at((17,17),43): 100%|██████████| 15/15 [00:00<00:00, 28.68it/s] \n"
     ]
    },
    {
     "name": "stdout",
     "output_type": "stream",
     "text": [
      "SAT\n",
      "Grounding...\n",
      "Solving...\n",
      "Done\n",
      "Solver is True\n",
      "Grounding...\n"
     ]
    },
    {
     "name": "stderr",
     "output_type": "stream",
     "text": [
      "pathelimination/path_elimination.lp:2:5-25: info: atom does not occur in any rule head:\n",
      "  critical_vertex(V,T)\n",
      "\n",
      "pathelimination/path_elimination.lp:3:5-26: info: atom does not occur in any rule head:\n",
      "  critical_agent(R,V,T)\n",
      "\n"
     ]
    },
    {
     "name": "stdout",
     "output_type": "stream",
     "text": [
      "Solving...\n",
      "Done\n",
      "Solver is True\n",
      "Grounding...\n",
      "Solving...\n",
      "Done\n",
      "Solver is True\n",
      "Grounding...\n",
      "Solving...\n",
      "Done\n",
      "Solver is True\n",
      "Grounding...\n",
      "Solving...\n",
      "Done\n",
      "Solver is True\n",
      "Grounding...\n",
      "Solving...\n",
      "Done\n",
      "Solver is True\n",
      "Grounding...\n",
      "Solving...\n",
      "Done\n",
      "Solver is True\n",
      "\n",
      "\n",
      "random_s10_a5_c75_h14\n",
      "14\n",
      "Grounding...\n"
     ]
    },
    {
     "name": "stderr",
     "output_type": "stream",
     "text": [
      "Current agent: 5 - at((8,10),0) => at((7,1),14): 100%|██████████| 5/5 [00:00<00:00, 64.52it/s]\n"
     ]
    },
    {
     "name": "stdout",
     "output_type": "stream",
     "text": [
      "SAT\n",
      "Grounding...\n",
      "Solving...\n",
      "Done\n",
      "Solver is True\n",
      "Grounding...\n",
      "Solving...\n",
      "Done\n",
      "Solver is True\n",
      "Grounding...\n",
      "Solving...\n",
      "Done\n",
      "Solver is True\n",
      "Grounding...\n",
      "Solving...\n",
      "Done\n",
      "Solver is True\n",
      "Grounding...\n"
     ]
    },
    {
     "name": "stderr",
     "output_type": "stream",
     "text": [
      "pathelimination/path_elimination.lp:2:5-25: info: atom does not occur in any rule head:\n",
      "  critical_vertex(V,T)\n",
      "\n",
      "pathelimination/path_elimination.lp:3:5-26: info: atom does not occur in any rule head:\n",
      "  critical_agent(R,V,T)\n",
      "\n"
     ]
    },
    {
     "name": "stdout",
     "output_type": "stream",
     "text": [
      "Solving...\n",
      "Done\n",
      "Solver is True\n",
      "Grounding...\n",
      "Solving...\n",
      "Done\n",
      "Solver is True\n",
      "Grounding...\n",
      "Solving...\n",
      "Done\n",
      "Solver is True\n",
      "\n",
      "\n",
      "room_s29_a20_w5_h26\n",
      "26\n",
      "Grounding...\n"
     ]
    },
    {
     "name": "stderr",
     "output_type": "stream",
     "text": [
      "Current agent: 20 - at((29,14),0) => at((29,17),26): 100%|██████████| 20/20 [00:01<00:00, 18.54it/s]\n"
     ]
    },
    {
     "name": "stdout",
     "output_type": "stream",
     "text": [
      "SAT\n",
      "Grounding...\n",
      "Solving...\n",
      "Done\n",
      "Solver is True\n"
     ]
    },
    {
     "name": "stderr",
     "output_type": "stream",
     "text": [
      "pathelimination/path_elimination.lp:2:5-25: info: atom does not occur in any rule head:\n",
      "  critical_vertex(V,T)\n",
      "\n",
      "pathelimination/path_elimination.lp:3:5-26: info: atom does not occur in any rule head:\n",
      "  critical_agent(R,V,T)\n",
      "\n"
     ]
    },
    {
     "name": "stdout",
     "output_type": "stream",
     "text": [
      "Grounding...\n",
      "Solving...\n",
      "Done\n",
      "Solver is True\n",
      "Grounding...\n",
      "Solving...\n",
      "Done\n",
      "Solver is True\n",
      "Grounding...\n",
      "Solving...\n",
      "Done\n",
      "Solver is True\n",
      "\n",
      "\n",
      "maze_s15_a20_h98\n",
      "98\n",
      "Grounding...\n"
     ]
    },
    {
     "name": "stderr",
     "output_type": "stream",
     "text": [
      "Current agent: 20 - at((13,22),0) => at((15,22),98): 100%|██████████| 20/20 [00:02<00:00,  7.70it/s]\n"
     ]
    },
    {
     "name": "stdout",
     "output_type": "stream",
     "text": [
      "SAT\n",
      "Grounding...\n",
      "Solving...\n"
     ]
    },
    {
     "name": "stderr",
     "output_type": "stream",
     "text": [
      "pathelimination/path_elimination.lp:2:5-25: info: atom does not occur in any rule head:\n",
      "  critical_vertex(V,T)\n",
      "\n",
      "pathelimination/path_elimination.lp:3:5-26: info: atom does not occur in any rule head:\n",
      "  critical_agent(R,V,T)\n",
      "\n"
     ]
    },
    {
     "name": "stdout",
     "output_type": "stream",
     "text": [
      "Done\n",
      "Solver is True\n",
      "Grounding...\n",
      "Solving...\n",
      "Done\n",
      "Solver is True\n",
      "Grounding...\n",
      "Solving...\n",
      "Done\n",
      "Solver is True\n",
      "Grounding...\n",
      "Solving...\n",
      "Done\n",
      "Solver is True\n",
      "Grounding...\n",
      "Solving...\n",
      "Done\n",
      "Solver is True\n",
      "Grounding...\n",
      "Solving...\n",
      "Done\n",
      "Solver is True\n",
      "Grounding...\n",
      "Solving...\n",
      "Done\n",
      "Solver is True\n",
      "\n",
      "\n",
      "room_s19_a5_w4_h25\n",
      "25\n",
      "Grounding...\n"
     ]
    },
    {
     "name": "stderr",
     "output_type": "stream",
     "text": [
      "Current agent: 5 - at((15,2),0) => at((10,6),25): 100%|██████████| 5/5 [00:00<00:00, 24.72it/s]\n"
     ]
    },
    {
     "name": "stdout",
     "output_type": "stream",
     "text": [
      "SAT\n",
      "Grounding...\n",
      "Solving...\n",
      "Done\n",
      "Solver is True\n",
      "Grounding...\n",
      "Solving...\n",
      "Done\n",
      "Solver is True\n",
      "Grounding...\n",
      "Solving...\n",
      "Done\n",
      "Solver is True\n"
     ]
    },
    {
     "name": "stderr",
     "output_type": "stream",
     "text": [
      "pathelimination/path_elimination.lp:2:5-25: info: atom does not occur in any rule head:\n",
      "  critical_vertex(V,T)\n",
      "\n",
      "pathelimination/path_elimination.lp:3:5-26: info: atom does not occur in any rule head:\n",
      "  critical_agent(R,V,T)\n",
      "\n"
     ]
    },
    {
     "name": "stdout",
     "output_type": "stream",
     "text": [
      "Grounding...\n",
      "Solving...\n",
      "Done\n",
      "Solver is True\n",
      "Grounding...\n",
      "Solving...\n",
      "Done\n",
      "Solver is True\n",
      "Grounding...\n",
      "Solving...\n",
      "Done\n",
      "Solver is True\n",
      "\n",
      "\n"
     ]
    }
   ],
   "source": [
    "for instance_name, instance_content in instances_pool:\n",
    "    def approach(instance_name, instance_content):\n",
    "        print(instance_name)\n",
    "        rows = []\n",
    "        \n",
    "        r, s_ipf = base_ipf(instance_content, additional_paths_computation=True)\n",
    "        \n",
    "        rows.append({\n",
    "            'Step Name' : 'base_ipf',\n",
    "            'Total Time' : s_ipf.total_time,\n",
    "            'Ground Time': s_ipf.total_time - s_ipf.solve_time,\n",
    "            'Solving Time': s_ipf.solve_time,\n",
    "            'SAT' : bool(r),\n",
    "            'Additional Data' : json.dumps(s_ipf.additional_data)\n",
    "        })\n",
    "        \n",
    "        ih, gh, lgh, s = global_heatmap(r + instance_content)\n",
    "        \n",
    "        rows.append({\n",
    "            'Step Name' : 'heatmaps',\n",
    "            'Total Time' : s.total_time,\n",
    "            'Ground Time': s.total_time - s.solve_time,\n",
    "            'Solving Time': s.solve_time,\n",
    "            'SAT' : bool(r),\n",
    "            'Additional Data' : json.dumps(s.additional_data)\n",
    "        })\n",
    "        \n",
    "        \n",
    "        cva ,s =  select_portion_based_on_heatmap(lgh['summed_heatmap_per_path'])\n",
    "\n",
    "        \n",
    "        rows.append({\n",
    "            'Step Name' : 'select_portion_based_on_heatmap',\n",
    "            'Total Time' : s.total_time,\n",
    "            'Ground Time': s.total_time - s.solve_time,\n",
    "            'Solving Time': s.solve_time,\n",
    "            'SAT' : bool(r),\n",
    "            'Additional Data' : json.dumps(s.additional_data)\n",
    "        })\n",
    "        \n",
    "        r,s = solver(r + cva + instance_content + lgh['pwlsh'], 'pathelimination/path_elimination.lp', additional_encodings=['pathelimination/convert_to_kill.lp'])\n",
    "        \n",
    "        rows.append({\n",
    "            'Step Name' : 'path_elimination',\n",
    "            'Total Time' : s.total_time,\n",
    "            'Ground Time': s.total_time - s.solve_time,\n",
    "            'Solving Time': s.solve_time,\n",
    "            'SAT' : bool(r),\n",
    "            'Additional Data' : json.dumps(s.additional_data)\n",
    "        })\n",
    "        \n",
    "        \n",
    "        r,s = solver(r, 'pathselection/path_selection.lp', parameters=['0','--opt-strategy=usc'])\n",
    "        \n",
    "        rows.append({\n",
    "            'Step Name' : 'path_selection',\n",
    "            'Total Time' : s.total_time,\n",
    "            'Ground Time': s.total_time - s.solve_time,\n",
    "            'Solving Time': s.solve_time,\n",
    "            'SAT' : bool(r),\n",
    "            'Additional Data' : json.dumps(s.additional_data)\n",
    "        })\n",
    "        # print(r)\n",
    "        \n",
    "        r,s = solver(r,'strategies/diamond.lp', additional_encodings=['strategies/corridor.lp', 'strategies/determination.lp'])\n",
    "        \n",
    "        rows.append({\n",
    "            'Step Name' : 'strategy',\n",
    "            'Total Time' : s.total_time,\n",
    "            'Ground Time': s.total_time - s.solve_time,\n",
    "            'Solving Time': s.solve_time,\n",
    "            'SAT' : bool(r),\n",
    "            'Additional Data' : json.dumps(s.additional_data)\n",
    "        })\n",
    "\n",
    "        r_,s = partial_solving(r, 'mapf/partial_solving.lp', subgraph='mapf/subgraph.lp', precomputed_path='mapf/precomputed_path.lp')\n",
    "        \n",
    "        rows.append({\n",
    "            'Step Name' : 'partial_solving',\n",
    "            'Total Time' : s.total_time,\n",
    "            'Ground Time': s.total_time - s.solve_time,\n",
    "            'Solving Time': s.solve_time,\n",
    "            'SAT' : bool(r_),\n",
    "            'Additional Data' : json.dumps(s.additional_data)\n",
    "        })\n",
    "        \n",
    "        for i in range (1,6,2):\n",
    "            if s.additional_data['ngoal_reached'] < s_ipf.additional_data['nagent']:\n",
    "                r_,s = partial_solving(r, 'mapf/partial_solving.lp', subgraph='mapf/subgraph.lp', precomputed_path='mapf/precomputed_path.lp',  horizon_modifier=i)\n",
    "        \n",
    "                rows.append({\n",
    "                    'Step Name' : f'partial_solving_additional_horizon',\n",
    "                    'Total Time' : s.total_time,\n",
    "                    'Ground Time': s.total_time - s.solve_time,\n",
    "                    'Solving Time': s.solve_time,\n",
    "                    'SAT' : bool(r_),\n",
    "                    'Additional Data' : json.dumps(s.additional_data)\n",
    "                })\n",
    "        \n",
    "        print('\\n')\n",
    "        write_csv(f'benchmarks_result/{instance_name}-approach015.csv', header,rows)\n",
    "        \n",
    "    pool = Pool(1)       \n",
    "    mutex = pool.apply_async(approach,[instance_name,instance_content])\n",
    "\n",
    "    try:\n",
    "        mutex.get(timeout=timeout)\n",
    "    except Exception as e:\n",
    "        print(e)\n",
    "        pool.terminate()"
   ]
  }
 ],
 "metadata": {
  "kernelspec": {
   "display_name": "cbplanmerging",
   "language": "python",
   "name": "python3"
  },
  "language_info": {
   "codemirror_mode": {
    "name": "ipython",
    "version": 3
   },
   "file_extension": ".py",
   "mimetype": "text/x-python",
   "name": "python",
   "nbconvert_exporter": "python",
   "pygments_lexer": "ipython3",
   "version": "3.11.5"
  },
  "orig_nbformat": 4
 },
 "nbformat": 4,
 "nbformat_minor": 2
}
