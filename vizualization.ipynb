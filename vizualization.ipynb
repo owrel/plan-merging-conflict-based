{
 "cells": [
  {
   "cell_type": "code",
   "execution_count": 578,
   "metadata": {},
   "outputs": [],
   "source": [
    "import os\n",
    "import csv\n",
    "import numpy as np\n",
    "import json\n",
    "from os import path\n",
    "\n"
   ]
  },
  {
   "cell_type": "code",
   "execution_count": 579,
   "metadata": {},
   "outputs": [],
   "source": [
    "approaches_reference = {\n",
    "    'approach01' : {\n",
    "        'name' : 'NStPc',\n",
    "        'description' : \"No additional path, heatmap simple threshold elimination, pre-computed path on full graph\"\n",
    "    },\n",
    "    'approach02' : {\n",
    "        'name' : 'NStSg',\n",
    "        'description' : \"No additional path, heatmap simple threshold elimination, subgraph approach\"\n",
    "    },\n",
    "    'approach03': {\n",
    "        'name' : 'NStSgPc',\n",
    "        'description' : 'No additional paths, simple threshold elimination, precomputed path on subgraph' \n",
    "    },\n",
    "    'approach04' : {\n",
    "        'name' : 'AStPc',\n",
    "        'description' : \"Additional path, heatmap simple threshold elimination, pre-computed path on full graph\"\n",
    "    },\n",
    "    'approach05' : {\n",
    "        'name' : 'AStSg',\n",
    "        'description' : \"Additional path, heatmap simple threshold elimination, subgraph approach\"\n",
    "    },\n",
    "    'approach06': {\n",
    "        'name' : 'AStSgPc',\n",
    "        'description' : 'Additional paths, simple threshold elimination, precomputed path on subgraph' \n",
    "    },\n",
    "    'approach07' : {\n",
    "        'name' : 'NStSgC',\n",
    "        'description' : \"No Additional path, heatmap simple threshold elimination, subgraph approach with corridor\"\n",
    "    },\n",
    "    'approach08' : {\n",
    "        'name' : 'NStSgD',\n",
    "        'description' : \"No Additional path, heatmap simple threshold elimination, subgraph approach with diamond\"\n",
    "    },\n",
    "    'approach09' : {\n",
    "        'name' : 'NStSgCD',\n",
    "        'description' : \" No Additional path, heatmap simple threshold elimination, subgraph approach with diamond and corridor\"\n",
    "    },\n",
    "    'approach10' : {\n",
    "        'name' : 'AStSgCD',\n",
    "        'description' : \" No Additional path, heatmap simple threshold elimination, subgraph approach with diamond and corridor\"\n",
    "    },\n",
    "    'approach11' : {\n",
    "        'name' : 'NShPc',\n",
    "        'description' : \"No additional path, summed heatmap elimination, pre-computed path on full graph\"\n",
    "    },\n",
    "    'approach12' : {\n",
    "        'name' : 'NShSg',\n",
    "        'description' : \"No additional path, summed heatmap elimination, subgraph approach\"\n",
    "    },\n",
    "    'approach13': {\n",
    "        'name' : 'NShSgPc',\n",
    "        'description' : 'No additional paths, summed heatmap elimination, precomputed path on subgraph' \n",
    "    },\n",
    "    'approach14' : {\n",
    "        'name' : 'AShPc',\n",
    "        'description' : \"Additional path, summed heatmap elimination, subgraph approach\"\n",
    "    },\n",
    "    'approach15' : {\n",
    "        'name' : 'NShPcCD',\n",
    "        'description' : \"Additional path, summed heatmap elimination, subgraph approach with diamond and corridor\"\n",
    "    },\n",
    "    'base_mapf': {\n",
    "        'name' : 'MAPF',\n",
    "        'description' : 'Classical MAPF approach'\n",
    "    }\n",
    "}"
   ]
  },
  {
   "cell_type": "code",
   "execution_count": 580,
   "metadata": {},
   "outputs": [
    {
     "name": "stdout",
     "output_type": "stream",
     "text": [
      "\\begin{table}[H]\n",
      "\\begin{center}\n",
      "\\caption{Table of the approaches reference name and their description}\n",
      "\\label{tbl:approach_ref_and_desc}\n",
      "\\begin{tabular}{ | p{2cm} | p{8cm}|  } \n",
      "\t\\hline\n",
      "\tName & Value \\\\\n",
      "\t\\hline\n",
      "\t\\hline\n",
      "\t\\textbf{NStPc} & No additional path, heatmap simple threshold elimination, pre-computed path on full graph \\\\\n",
      "\t\\hline\n",
      "\t\\textbf{NStSg} & No additional path, heatmap simple threshold elimination, subgraph approach \\\\\n",
      "\t\\hline\n",
      "\t\\textbf{NStSgPc} & No additional paths, simple threshold elimination, precomputed path on subgraph \\\\\n",
      "\t\\hline\n",
      "\t\\textbf{AStPc} & Additional path, heatmap simple threshold elimination, pre-computed path on full graph \\\\\n",
      "\t\\hline\n",
      "\t\\textbf{AStSg} & Additional path, heatmap simple threshold elimination, subgraph approach \\\\\n",
      "\t\\hline\n",
      "\t\\textbf{AStSgPc} & Additional paths, simple threshold elimination, precomputed path on subgraph \\\\\n",
      "\t\\hline\n",
      "\t\\textbf{NStSgC} & No Additional path, heatmap simple threshold elimination, subgraph approach with corridor \\\\\n",
      "\t\\hline\n",
      "\t\\textbf{NStSgD} & No Additional path, heatmap simple threshold elimination, subgraph approach with diamond \\\\\n",
      "\t\\hline\n",
      "\t\\textbf{NStSgCD} &  No Additional path, heatmap simple threshold elimination, subgraph approach with diamond and corridor \\\\\n",
      "\t\\hline\n",
      "\t\\textbf{AStSgCD} &  No Additional path, heatmap simple threshold elimination, subgraph approach with diamond and corridor \\\\\n",
      "\t\\hline\n",
      "\t\\textbf{NShPc} & No additional path, summed heatmap elimination, pre-computed path on full graph \\\\\n",
      "\t\\hline\n",
      "\t\\textbf{NShSg} & No additional path, summed heatmap elimination, subgraph approach \\\\\n",
      "\t\\hline\n",
      "\t\\textbf{NShSgPc} & No additional paths, summed heatmap elimination, precomputed path on subgraph \\\\\n",
      "\t\\hline\n",
      "\t\\textbf{AShPc} & Additional path, summed heatmap elimination, subgraph approach \\\\\n",
      "\t\\hline\n",
      "\t\\textbf{NShPcCD} & Additional path, summed heatmap elimination, subgraph approach with diamond and corridor \\\\\n",
      "\t\\hline\n",
      "\t\\textbf{MAPF} & Classical MAPF approach \\\\\n",
      "\t\\hline\n",
      "\\end{tabular}\n",
      "\\end{center}\n",
      "\\end{table}\n"
     ]
    }
   ],
   "source": [
    "\n",
    "print('\\\\begin{table}[H]')\n",
    "print('\\\\begin{center}')\n",
    "print('\\\\caption{Table of the approaches reference name and their description}')\n",
    "print('\\\\label{tbl:approach_ref_and_desc}')\n",
    "print('\\\\begin{tabular}{ | p{2cm} | p{8cm}|  } ')\n",
    "\n",
    "print('\\t\\\\hline')\n",
    "print('\\tName & Value \\\\\\\\')\n",
    "print('\\t\\\\hline')\n",
    "\n",
    "for approach in approaches_reference:\n",
    "    print('\\t\\\\hline')\n",
    "    print(\"\\t\\\\textbf{\" +approaches_reference[approach]['name'] + \"} & \" + f\"{approaches_reference[approach]['description']} \\\\\\\\\")\n",
    "print('\\t\\\\hline')\n",
    "print('\\\\end{tabular}')\n",
    "\n",
    "print('\\\\end{center}')\n",
    "print('\\\\end{table}')\n"
   ]
  },
  {
   "cell_type": "code",
   "execution_count": 581,
   "metadata": {},
   "outputs": [],
   "source": [
    "benchmarks_paths = 'benchmarks_result'\n",
    "csvs = [path.join(benchmarks_paths, file) for file in os.listdir(\n",
    "    benchmarks_paths) if path.isfile(path.join(benchmarks_paths, file))]\n",
    "\n"
   ]
  },
  {
   "cell_type": "code",
   "execution_count": 582,
   "metadata": {},
   "outputs": [],
   "source": [
    "approaches = {}\n",
    "instances = set()\n",
    "header = None\n",
    "np.random.shuffle(csvs)\n",
    "for c in csvs:\n",
    "    if 'instance' in c :\n",
    "        continue\n",
    "    with open(c) as csv_file:\n",
    "        content = csv.reader(csv_file,delimiter=';')\n",
    "        rows = [row for row in content]\n",
    "        header = rows[0]\n",
    "\n",
    "    approach_name = c[c.index('-')+1:c.index('.')]\n",
    "    instance_name = c[c.index('/')+1:c.index('-')]\n",
    "    instances.add(instance_name)\n",
    "    \n",
    "    if not approach_name in approaches:\n",
    "        approaches[approach_name] = {instance_name:rows[1:]}\n",
    "    else:\n",
    "        approaches[approach_name][instance_name] = rows[1:]"
   ]
  },
  {
   "cell_type": "code",
   "execution_count": 583,
   "metadata": {},
   "outputs": [
    {
     "name": "stdout",
     "output_type": "stream",
     "text": [
      "Approach approach01: sum: 524.7615966796875, mean: 34.9841064453125, median: 13.899969339370728\n",
      "Approach approach05: sum: 187.30633783340454, mean: 9.858228307021292, median: 6.503636598587036\n",
      "Approach approach13: sum: 217.1787931919098, mean: 13.573674574494362, median: 7.3106138706207275\n",
      "Approach base_mapf: sum: 941.4166352748871, mean: 47.07083176374435, median: 10.697507977485657\n",
      "Approach approach04: sum: 529.6492638587952, mean: 37.832090275628225, median: 14.810846090316772\n",
      "Approach approach09: sum: 240.36804151535034, mean: 12.018402075767517, median: 6.127305030822754\n",
      "Approach approach11: sum: 538.3994996547699, mean: 35.89329997698466, median: 14.129933595657349\n",
      "Approach approach15: sum: 250.4105818271637, mean: 14.730034225127277, median: 7.037921190261841\n",
      "Approach approach03: sum: 214.62753462791443, mean: 12.625149095759673, median: 6.1449408531188965\n",
      "Approach approach02: sum: 235.40209460258484, mean: 11.770104730129242, median: 5.869832515716553\n",
      "Approach approach14: sum: 268.1775782108307, mean: 13.408878910541535, median: 6.87766695022583\n",
      "Approach approach06: sum: 163.0017750263214, mean: 10.187610939145088, median: 6.536328315734863\n",
      "Approach approach08: sum: 240.5050332546234, mean: 12.02525166273117, median: 6.07623827457428\n",
      "Approach approach12: sum: 239.73076915740967, mean: 11.986538457870484, median: 5.920208692550659\n",
      "Approach approach07: sum: 240.46874380111694, mean: 12.023437190055848, median: 6.203662037849426\n",
      "Approach approach10: sum: 169.51777410507202, mean: 10.594860881567001, median: 6.93121862411499\n"
     ]
    }
   ],
   "source": [
    "for approach in approaches:\n",
    "    total_time = np.array([])\n",
    "    for instance in approaches[approach]:\n",
    "        sub_total = 0\n",
    "        is_sat = True\n",
    "        for step in approaches[approach][instance]:\n",
    "\n",
    "            if step[4] != 'True':\n",
    "                is_sat = False\n",
    "            else:\n",
    "                sub_total += float(step[1])\n",
    "            \n",
    "            if step[0] == 'partial_solving':\n",
    "                break\n",
    "        if is_sat:\n",
    "            total_time = np.append(total_time, sub_total)\n",
    "\n",
    "    print(f'Approach {approach}: sum: {total_time.sum()}, mean: {total_time.mean()}, median: {np.median(total_time)}')"
   ]
  },
  {
   "cell_type": "code",
   "execution_count": 584,
   "metadata": {},
   "outputs": [],
   "source": [
    "n_additional_horizon = 5\n",
    "def table_instance(instances:list[any],instance_name):\n",
    "\n",
    "\n",
    "    # print(instance_name, len(instances.keys()))\n",
    "    \n",
    "    ret = f\"{instance_name} &\"\n",
    "    total_time = 0\n",
    "    for instance in instances:\n",
    "        for step in instances[instance]:\n",
    "            # print(step)\n",
    "            total_time += float(step[1])\n",
    "            if step[0] == 'partial_solving':\n",
    "                break\n",
    "            \n",
    "    ret += \" {0:0.2f} &\".format(total_time)\n",
    "    \n",
    "    n_sat = 0\n",
    "    for instance in instances:\n",
    "        for step in instances[instance]:\n",
    "            if step[0] == 'base_mapf':\n",
    "                n_sat+=1\n",
    "            if step[0] == 'partial_solving':\n",
    "                # print(instance_name, type(step[4]), step[4])\n",
    "                if step[4] == \"True\":\n",
    "                    n_sat += 1\n",
    "    \n",
    "    ret += f\" {n_sat} &\"\n",
    "    \n",
    "    ret += \" \\cellcolor{lightgrey} \"\n",
    "    \n",
    "    \n",
    "    solving_proportion = {i:[] for i in range(0,4)}\n",
    "\n",
    "    nagent = 0\n",
    "    for instance in instances:\n",
    "        solving_id = 0\n",
    "\n",
    "        for step in instances[instance]:\n",
    "            additional_data = json.loads(step[-1].replace(\"'\", '\"').replace('True', 'true').replace('False', 'false'))\n",
    "            \n",
    "            \n",
    "            if step[0] == 'base_mapf':\n",
    "                for i in range(4):\n",
    "                    solving_proportion[i].append(1)\n",
    "            else:\n",
    "                if step[0] == 'base_ipf':\n",
    "                    nagent = additional_data['nagent']\n",
    "                \n",
    "                if 'partial_solving' == step[0]:\n",
    "                    solving_proportion[solving_id].append(additional_data['ngoal_reached']/nagent)\n",
    "                    solving_id += 1\n",
    "                    \n",
    "                if 'partial_solving_additional_horizon' == step[0]:\n",
    "                    solving_proportion[solving_id].append(additional_data['ngoal_reached']/nagent)\n",
    "                    solving_id += 1\n",
    "    \n",
    "    \n",
    "    for s in solving_proportion:\n",
    "        solving_proportion[s] += [1 for _ in range(len(instances)-len(solving_proportion[s])) ]\n",
    "        ret += \"& {0:0.2f} \".format(float(\"{0:0.2f}\".format(np.mean(solving_proportion[s]))))\n",
    "    ret += ' \\\\\\\\'\n",
    "\n",
    "        \n",
    "    \n",
    "\n",
    "    # print(solving_proportion)\n",
    "    return ret"
   ]
  },
  {
   "cell_type": "code",
   "execution_count": 585,
   "metadata": {},
   "outputs": [
    {
     "name": "stdout",
     "output_type": "stream",
     "text": [
      "\\begin{table}[H]\n",
      "\\begin{center}\n",
      "\\begin{tabular}{@{}llllllll@{}}\n",
      "\\toprule\n",
      " &  &  & \\multicolumn{5}{c}{\\% Agent Completed} \\\\ \\cmidrule(l){4-8} \n",
      "\\multirow{-2}{*}{Approach} & \\multirow{-2}{*}{Total Time} & \\multirow{-2}{*}{\\# SAT} & \\multicolumn{1}{l|}{Horizon} & \\multicolumn{1}{c}{0} & \\multicolumn{1}{c}{1} & \\multicolumn{1}{c}{3} & \\multicolumn{1}{c}{5} \\\\ \\midrule\n",
      "NStPc & 544.96 & 15 & \\cellcolor{lightgrey} & 0.83 & 0.84 & 0.85 & 0.85  \\\\\n",
      "AStSg & 187.31 & 19 & \\cellcolor{lightgrey} & 0.99 & 0.99 & 1.00 & 1.00  \\\\\n",
      "NShSgPc & 235.05 & 16 & \\cellcolor{lightgrey} & 0.74 & 0.76 & 0.76 & 0.78  \\\\\n",
      "MAPF & 941.42 & 20 & \\cellcolor{lightgrey} & 1.00 & 1.00 & 1.00 & 1.00  \\\\\n",
      "AStPc & 557.29 & 14 & \\cellcolor{lightgrey} & 0.76 & 0.76 & 0.76 & 0.77  \\\\\n",
      "NStSgCD & 240.37 & 20 & \\cellcolor{lightgrey} & 0.99 & 0.99 & 0.99 & 0.99  \\\\\n",
      "NShPc & 556.84 & 15 & \\cellcolor{lightgrey} & 0.85 & 0.86 & 0.86 & 0.86  \\\\\n",
      "NShPcCD & 270.90 & 17 & \\cellcolor{lightgrey} & 0.80 & 0.80 & 0.81 & 0.81  \\\\\n",
      "NStSgPc & 228.87 & 17 & \\cellcolor{lightgrey} & 0.76 & 0.78 & 0.79 & 0.79  \\\\\n",
      "NStSg & 235.40 & 20 & \\cellcolor{lightgrey} & 0.99 & 0.99 & 0.99 & 0.99  \\\\\n",
      "AShPc & 268.18 & 20 & \\cellcolor{lightgrey} & 0.98 & 0.98 & 0.99 & 1.00  \\\\\n",
      "AStSgPc & 181.91 & 16 & \\cellcolor{lightgrey} & 0.76 & 0.77 & 0.78 & 0.78  \\\\\n",
      "NStSgD & 240.51 & 20 & \\cellcolor{lightgrey} & 0.99 & 0.99 & 0.99 & 0.99  \\\\\n",
      "NShSg & 239.73 & 20 & \\cellcolor{lightgrey} & 0.98 & 0.98 & 0.98 & 0.99  \\\\\n",
      "NStSgC & 240.47 & 20 & \\cellcolor{lightgrey} & 0.99 & 0.99 & 0.99 & 0.99  \\\\\n",
      "AStSgCD & 189.32 & 16 & \\cellcolor{lightgrey} & 0.76 & 0.77 & 0.78 & 0.78  \\\\\n",
      "\\end{tabular}\n",
      "\\end{center}\n",
      "\\end{table}\n"
     ]
    }
   ],
   "source": [
    "print(\"\\\\begin{table}[H]\")\n",
    "print(\"\\\\begin{center}\")\n",
    "print(\"\\\\begin{tabular}{@{}llllllll@{}}\")\n",
    "print(\"\\\\toprule\")\n",
    "print(\" &  &  & \\multicolumn{5}{c}{\\% Agent Completed} \\\\\\\\ \\\\cmidrule(l){4-8} \")\n",
    "print(\"\\multirow{-2}{*}{Approach} & \\multirow{-2}{*}{Total Time} & \\multirow{-2}{*}{\\# SAT} & \\multicolumn{1}{l|}{Horizon} & \\multicolumn{1}{c}{0} & \\multicolumn{1}{c}{1} & \\multicolumn{1}{c}{3} & \\multicolumn{1}{c}{5} \\\\\\\\ \\midrule\")\n",
    "\n",
    "for approach in approaches:\n",
    "    print(table_instance(approaches[approach], approaches_reference[approach]['name']))\n",
    "\n",
    "\n",
    "print('\\\\end{tabular}')\n",
    "print('\\\\end{center}')\n",
    "print('\\\\end{table}')\n",
    "\n",
    "\n"
   ]
  },
  {
   "cell_type": "code",
   "execution_count": 586,
   "metadata": {},
   "outputs": [
    {
     "name": "stdout",
     "output_type": "stream",
     "text": [
      "approach01\n",
      "\tHorizon modifier 0: 0.8256862745098039\n",
      "\tHorizon modifier 1: 0.8398039215686275\n",
      "\tHorizon modifier 2: 0.8476470588235294\n",
      "\tHorizon modifier 3: 0.85\n",
      "approach05\n",
      "\tHorizon modifier 0: 0.9903508771929824\n",
      "\tHorizon modifier 1: 0.993859649122807\n",
      "\tHorizon modifier 2: 0.9964912280701754\n",
      "\tHorizon modifier 3: 0.9964912280701754\n",
      "approach13\n",
      "\tHorizon modifier 0: 0.7446428571428572\n",
      "\tHorizon modifier 1: 0.7610714285714286\n",
      "\tHorizon modifier 2: 0.7635714285714286\n",
      "\tHorizon modifier 3: 0.7760714285714286\n",
      "approach04\n",
      "\tHorizon modifier 0: 0.7572549019607843\n",
      "\tHorizon modifier 1: 0.7596078431372549\n",
      "\tHorizon modifier 2: 0.7619607843137255\n",
      "\tHorizon modifier 3: 0.7688235294117647\n",
      "approach09\n",
      "\tHorizon modifier 0: 0.9860714285714286\n",
      "\tHorizon modifier 1: 0.9894047619047619\n",
      "\tHorizon modifier 2: 0.991904761904762\n",
      "\tHorizon modifier 3: 0.991904761904762\n",
      "approach11\n",
      "\tHorizon modifier 0: 0.8470588235294118\n",
      "\tHorizon modifier 1: 0.8588235294117648\n",
      "\tHorizon modifier 2: 0.8588235294117648\n",
      "\tHorizon modifier 3: 0.861764705882353\n",
      "approach15\n",
      "\tHorizon modifier 0: 0.796\n",
      "\tHorizon modifier 1: 0.8009999999999999\n",
      "\tHorizon modifier 2: 0.8109999999999999\n",
      "\tHorizon modifier 3: 0.813\n",
      "approach03\n",
      "\tHorizon modifier 0: 0.760547619047619\n",
      "\tHorizon modifier 1: 0.7792142857142856\n",
      "\tHorizon modifier 2: 0.7908809523809524\n",
      "\tHorizon modifier 3: 0.7923095238095238\n",
      "approach02\n",
      "\tHorizon modifier 0: 0.9860714285714286\n",
      "\tHorizon modifier 1: 0.9894047619047619\n",
      "\tHorizon modifier 2: 0.991904761904762\n",
      "\tHorizon modifier 3: 0.991904761904762\n",
      "approach14\n",
      "\tHorizon modifier 0: 0.9808333333333333\n",
      "\tHorizon modifier 1: 0.9841666666666666\n",
      "\tHorizon modifier 2: 0.9866666666666667\n",
      "\tHorizon modifier 3: 0.9966666666666667\n",
      "approach06\n",
      "\tHorizon modifier 0: 0.7640350877192982\n",
      "\tHorizon modifier 1: 0.7714035087719298\n",
      "\tHorizon modifier 2: 0.7817543859649124\n",
      "\tHorizon modifier 3: 0.7843859649122806\n",
      "approach08\n",
      "\tHorizon modifier 0: 0.9860714285714286\n",
      "\tHorizon modifier 1: 0.9894047619047619\n",
      "\tHorizon modifier 2: 0.991904761904762\n",
      "\tHorizon modifier 3: 0.991904761904762\n",
      "approach12\n",
      "\tHorizon modifier 0: 0.9760714285714286\n",
      "\tHorizon modifier 1: 0.9794047619047619\n",
      "\tHorizon modifier 2: 0.981904761904762\n",
      "\tHorizon modifier 3: 0.991904761904762\n",
      "approach07\n",
      "\tHorizon modifier 0: 0.9860714285714286\n",
      "\tHorizon modifier 1: 0.9894047619047619\n",
      "\tHorizon modifier 2: 0.991904761904762\n",
      "\tHorizon modifier 3: 0.991904761904762\n",
      "approach10\n",
      "\tHorizon modifier 0: 0.7640350877192983\n",
      "\tHorizon modifier 1: 0.7714035087719298\n",
      "\tHorizon modifier 2: 0.7817543859649123\n",
      "\tHorizon modifier 3: 0.7843859649122807\n"
     ]
    }
   ],
   "source": [
    "approach_solvability = {}\n",
    "for approach in approaches :\n",
    "    if approach != 'base_mapf':\n",
    "        approach_solvability[approach] = {} \n",
    "        for instance in approaches[approach]:\n",
    "            solving_proportion = []\n",
    "            nagent = 0\n",
    "            for step in approaches[approach][instance]:\n",
    "                if step[0] == 'base_ipf':\n",
    "\n",
    "                    additional_data = json.loads(step[-1].replace(\"'\", '\"').replace('True', 'true').replace('False', 'false'))\n",
    "                    nagent = additional_data['nagent']\n",
    "                    \n",
    "                if 'partial_solving' in step[0]:\n",
    "\n",
    "                    additional_data = json.loads(step[-1].replace(\"'\", '\"').replace('True', 'true').replace('False', 'false'))\n",
    "                    solving_proportion.append(additional_data['ngoal_reached']/nagent)\n",
    "\n",
    "\n",
    "            for i,sp in enumerate(solving_proportion):\n",
    "                if i in approach_solvability[approach]:\n",
    "                    approach_solvability[approach][i].append(sp)\n",
    "                else:\n",
    "                    approach_solvability[approach][i] = [sp]\n",
    "            for k in approach_solvability[approach]:\n",
    "                if k != 0:\n",
    "                    approach_solvability[approach][k] += [1 for i in range(0,len(approach_solvability[approach][0]) -len(approach_solvability[approach][k]))]\n",
    "                    \n",
    "\n",
    "for approach in approach_solvability:\n",
    "    print(approach)\n",
    "    for horizon_modifier in approach_solvability[approach]:\n",
    "        print(f\"\\tHorizon modifier {horizon_modifier}: {np.mean(approach_solvability[approach][horizon_modifier])}\" )"
   ]
  },
  {
   "cell_type": "code",
   "execution_count": 587,
   "metadata": {},
   "outputs": [],
   "source": [
    "import matplotlib.pyplot as plt\n",
    "from mycolorpy import colorlist as mcp\n",
    "\n",
    "max_time = 100*60\n",
    "\n",
    "\n",
    "colors = mcp.gen_color(cmap=\"hsv\",n=16)\n"
   ]
  },
  {
   "cell_type": "code",
   "execution_count": 588,
   "metadata": {},
   "outputs": [],
   "source": [
    "cactus = {}\n",
    "\n",
    "\n",
    "\n",
    "for approach in approaches:\n",
    "    cactus[approach] = {'x':[0],'y':[0]}\n",
    "\n",
    "    \n",
    "    for instance in instances:\n",
    "        if not instance in approaches[approach]:\n",
    "            approaches[approach][instance] = [['time_out', 10*60, 0 , 0, True, \"{}\"  ]]\n",
    "    \n",
    "    current_time = 0\n",
    "    n_solved = 0\n",
    "    strict_n_solved = 0\n",
    "    for instance in instances:\n",
    "        for step in approaches[approach][instance]:\n",
    "\n",
    "            current_time += float(step[1])\n",
    "            if step[0] == 'base_mapf':\n",
    "                if step[4] == 'True':\n",
    "                    n_solved +=1\n",
    "            if step[0] == 'partial_solving':\n",
    "                if step[4] == 'True':\n",
    "                    n_solved +=1\n",
    "                \n",
    "                \n",
    "                \n",
    "                break\n",
    "        if current_time < max_time:\n",
    "            cactus[approach]['x'].append(n_solved)\n",
    "            cactus[approach]['y'].append(current_time)\n",
    "\n",
    "            "
   ]
  },
  {
   "cell_type": "code",
   "execution_count": 589,
   "metadata": {},
   "outputs": [
    {
     "data": {
      "image/png": "[encoded data removed]",
      "text/plain": [
       "<Figure size 640x480 with 1 Axes>"
      ]
     },
     "metadata": {},
     "output_type": "display_data"
    }
   ],
   "source": [
    "\n",
    "\n",
    "for c,approach in enumerate(cactus.keys()):\n",
    "    plt.plot(cactus[approach]['x'],cactus[approach]['y'],label=approaches_reference[approach]['name'],color=colors[c])\n",
    "\n",
    "\n",
    "plt.xticks(range(len(instances)+6))\n",
    "\n",
    "plt.legend()\n",
    "plt.tight_layout()\n",
    "plt.show()\n",
    "\n",
    "\n",
    "\n"
   ]
  },
  {
   "cell_type": "code",
   "execution_count": 590,
   "metadata": {},
   "outputs": [],
   "source": [
    "cactus = {}\n",
    "\n",
    "for approach in approaches:\n",
    "    cactus[approach] = {'x':[0],'y':[0]}\n",
    "\n",
    "    \n",
    "    for instance in instances:\n",
    "        if not instance in approaches[approach]:\n",
    "            approaches[approach][instance] = [['time_out', 10*60, 0 , 0, True, \"{}\"  ]]\n",
    "    \n",
    "    current_time = 0\n",
    "    n_solved = 0\n",
    "\n",
    "    for instance in instances:\n",
    "        for step in approaches[approach][instance]:\n",
    "            if step[0] == 'base_mapf':\n",
    "                if step[4] == 'True':\n",
    "                    n_solved +=1\n",
    "                current_time += float(step[1])\n",
    "            else: \n",
    "                if 'partial_solving_additional_horizon' == step[0]:\n",
    "                    additional_data = json.loads(step[-1].replace(\"'\", '\"').replace('True', 'true').replace('False', 'false'))\n",
    "                    \n",
    "                    if additional_data['nagent'] == additional_data['ngoal_reached']:\n",
    "                        current_time += float(step[1])\n",
    "                        n_solved +=1\n",
    "                        break\n",
    "                    else:\n",
    "                        if step == approaches[approach][instance][-1]:\n",
    "                            current_time += float(step[1])\n",
    "                else:\n",
    "                    current_time += float(step[1])\n",
    "                    if 'partial_solving' == step[0]:\n",
    "                        additional_data = json.loads(step[-1].replace(\"'\", '\"').replace('True', 'true').replace('False', 'false'))\n",
    "                        current_time += float(step[1])\n",
    "                        if additional_data['nagent'] == additional_data['ngoal_reached']:\n",
    "                            n_solved +=1\n",
    "                            break\n",
    "                    \n",
    "                    \n",
    "        if current_time < max_time:\n",
    "            cactus[approach]['x'].append(n_solved)\n",
    "            cactus[approach]['y'].append(current_time)\n"
   ]
  },
  {
   "cell_type": "code",
   "execution_count": 591,
   "metadata": {},
   "outputs": [
    {
     "data": {
      "image/png": "[encoded data removed]",
      "text/plain": [
       "<Figure size 640x480 with 1 Axes>"
      ]
     },
     "metadata": {},
     "output_type": "display_data"
    }
   ],
   "source": [
    "for c,approach in enumerate(cactus.keys()):\n",
    "    plt.plot(cactus[approach]['x'],cactus[approach]['y'],label=approaches_reference[approach]['name'],color=colors[c])\n",
    "\n",
    "plt.xticks(range(len(instances)+3))\n",
    "\n",
    "plt.legend()\n",
    "plt.tight_layout()\n",
    "plt.show()"
   ]
  },
  {
   "cell_type": "code",
   "execution_count": 592,
   "metadata": {},
   "outputs": [],
   "source": [
    "# % Please add the following required packages to your document preamble:\n",
    "# % \\usepackage{booktabs}\n",
    "# % \\usepackage{multirow}\n",
    "# \\begin{table}[]\n",
    "# \\begin{tabular}{@{}llllllllll@{}}\n",
    "# \\toprule\n",
    "# \\multirow{2}{*}{Approach Name} & \\multirow{2}{*}{Total Time} & \\multirow{2}{*}{\\# Solved} & \\multicolumn{7}{c}{\\% Agent Completed}                                                                                                                                       \\\\ \\cmidrule(l){4-10} \n",
    "#                                &                             &                            & \\multicolumn{1}{l|}{Horizon} & \\multicolumn{1}{c}{0} & \\multicolumn{1}{c}{1} & \\multicolumn{1}{c}{2} & \\multicolumn{1}{c}{3} & \\multicolumn{1}{c}{4} & \\multicolumn{1}{c}{5} \\\\ \\midrule\n",
    "#                                &                             &                            &                              &                       &                       &                       &                       &                       &                      \n",
    "# \\end{tabular}\n",
    "# \\end{table}"
   ]
  },
  {
   "cell_type": "markdown",
   "metadata": {},
   "source": []
  },
  {
   "cell_type": "code",
   "execution_count": 593,
   "metadata": {},
   "outputs": [],
   "source": [
    "from wrapper import read, pretty_file_name, solver, mapf, base_ipf, pe_simple_threshold, global_heatmap, partial_solving, select_portion_based_on_heatmap"
   ]
  },
  {
   "cell_type": "code",
   "execution_count": 594,
   "metadata": {},
   "outputs": [
    {
     "name": "stdout",
     "output_type": "stream",
     "text": [
      "1\n",
      "29\n",
      "Grounding...\n"
     ]
    },
    {
     "name": "stderr",
     "output_type": "stream",
     "text": [
      "Current agent: 10 - at((12,10),0) => at((21,24),29): 100%|██████████| 10/10 [00:00<00:00, 13.25it/s]\n"
     ]
    },
    {
     "name": "stdout",
     "output_type": "stream",
     "text": [
      "29\n",
      "Grounding...\n"
     ]
    },
    {
     "name": "stderr",
     "output_type": "stream",
     "text": [
      "Current agent: 10 - at((12,10),0) => at((21,24),29): 100%|██████████| 10/10 [00:00<00:00, 14.71it/s]\n"
     ]
    },
    {
     "name": "stdout",
     "output_type": "stream",
     "text": [
      "28\n",
      "Grounding...\n"
     ]
    },
    {
     "name": "stderr",
     "output_type": "stream",
     "text": [
      "Current agent: 15 - at((17,7),0) => at((17,10),28): 100%|██████████| 15/15 [00:00<00:00, 34.96it/s]\n"
     ]
    },
    {
     "name": "stdout",
     "output_type": "stream",
     "text": [
      "28\n",
      "Grounding...\n"
     ]
    },
    {
     "name": "stderr",
     "output_type": "stream",
     "text": [
      "Current agent: 15 - at((17,7),0) => at((17,10),28): 100%|██████████| 15/15 [00:00<00:00, 34.04it/s]\n"
     ]
    },
    {
     "name": "stdout",
     "output_type": "stream",
     "text": [
      "40\n",
      "Grounding...\n"
     ]
    },
    {
     "name": "stderr",
     "output_type": "stream",
     "text": [
      "Current agent: 20 - at((3,18),0) => at((1,18),4): 100%|██████████| 20/20 [00:00<00:00, 46.13it/s]  \n"
     ]
    },
    {
     "name": "stdout",
     "output_type": "stream",
     "text": [
      "40\n",
      "Grounding...\n"
     ]
    },
    {
     "name": "stderr",
     "output_type": "stream",
     "text": [
      "Current agent: 20 - at((3,18),0) => at((1,18),6): 100%|██████████| 20/20 [00:00<00:00, 26.76it/s]   \n"
     ]
    },
    {
     "name": "stdout",
     "output_type": "stream",
     "text": [
      "34\n",
      "Grounding...\n"
     ]
    },
    {
     "name": "stderr",
     "output_type": "stream",
     "text": [
      "Current agent: 15 - at((15,19),0) => at((19,16),34): 100%|██████████| 15/15 [00:00<00:00, 24.78it/s]\n"
     ]
    },
    {
     "name": "stdout",
     "output_type": "stream",
     "text": [
      "34\n",
      "Grounding...\n"
     ]
    },
    {
     "name": "stderr",
     "output_type": "stream",
     "text": [
      "Current agent: 15 - at((15,19),0) => at((19,16),34): 100%|██████████| 15/15 [00:00<00:00, 20.67it/s]\n"
     ]
    },
    {
     "name": "stdout",
     "output_type": "stream",
     "text": [
      "68\n",
      "Grounding...\n"
     ]
    },
    {
     "name": "stderr",
     "output_type": "stream",
     "text": [
      "Current agent: 15 - at((1,32),0) => at((5,32),68): 100%|██████████| 15/15 [00:01<00:00,  8.85it/s]  \n"
     ]
    },
    {
     "name": "stdout",
     "output_type": "stream",
     "text": [
      "68\n",
      "Grounding...\n"
     ]
    },
    {
     "name": "stderr",
     "output_type": "stream",
     "text": [
      "Current agent: 15 - at((1,32),0) => at((5,32),68): 100%|██████████| 15/15 [00:02<00:00,  5.76it/s]  \n"
     ]
    },
    {
     "name": "stdout",
     "output_type": "stream",
     "text": [
      "37\n",
      "Grounding...\n"
     ]
    },
    {
     "name": "stderr",
     "output_type": "stream",
     "text": [
      "Current agent: 15 - at((47,34),0) => at((19,38),37): 100%|██████████| 15/15 [00:02<00:00,  5.76it/s]\n"
     ]
    },
    {
     "name": "stdout",
     "output_type": "stream",
     "text": [
      "37\n",
      "Grounding...\n"
     ]
    },
    {
     "name": "stderr",
     "output_type": "stream",
     "text": [
      "Current agent: 15 - at((47,34),0) => at((19,38),37): 100%|██████████| 15/15 [00:03<00:00,  3.89it/s]\n"
     ]
    },
    {
     "name": "stdout",
     "output_type": "stream",
     "text": [
      "38\n",
      "Grounding...\n"
     ]
    },
    {
     "name": "stderr",
     "output_type": "stream",
     "text": [
      "Current agent: 15 - at((9,18),0) => at((10,17),38): 100%|██████████| 15/15 [00:00<00:00, 44.64it/s]\n"
     ]
    },
    {
     "name": "stdout",
     "output_type": "stream",
     "text": [
      "38\n",
      "Grounding...\n"
     ]
    },
    {
     "name": "stderr",
     "output_type": "stream",
     "text": [
      "Current agent: 15 - at((9,18),0) => at((10,17),38): 100%|██████████| 15/15 [00:00<00:00, 44.51it/s]\n"
     ]
    },
    {
     "name": "stdout",
     "output_type": "stream",
     "text": [
      "16\n",
      "Grounding...\n"
     ]
    },
    {
     "name": "stderr",
     "output_type": "stream",
     "text": [
      "Current agent: 5 - at((9,3),0) => at((9,4),16): 100%|██████████| 5/5 [00:00<00:00, 135.15it/s]\n"
     ]
    },
    {
     "name": "stdout",
     "output_type": "stream",
     "text": [
      "16\n",
      "Grounding...\n"
     ]
    },
    {
     "name": "stderr",
     "output_type": "stream",
     "text": [
      "Current agent: 5 - at((9,3),0) => at((9,4),16): 100%|██████████| 5/5 [00:00<00:00, 123.72it/s]\n"
     ]
    },
    {
     "name": "stdout",
     "output_type": "stream",
     "text": [
      "34\n",
      "Grounding...\n"
     ]
    },
    {
     "name": "stderr",
     "output_type": "stream",
     "text": [
      "Current agent: 30 - at((28,15),0) => at((29,15),34): 100%|██████████| 30/30 [00:01<00:00, 16.30it/s]\n"
     ]
    },
    {
     "name": "stdout",
     "output_type": "stream",
     "text": [
      "34\n",
      "Grounding...\n"
     ]
    },
    {
     "name": "stderr",
     "output_type": "stream",
     "text": [
      "Current agent: 30 - at((28,15),0) => at((29,15),34): 100%|██████████| 30/30 [00:02<00:00, 14.35it/s]\n"
     ]
    },
    {
     "name": "stdout",
     "output_type": "stream",
     "text": [
      "45\n",
      "Grounding...\n"
     ]
    },
    {
     "name": "stderr",
     "output_type": "stream",
     "text": [
      "Current agent: 25 - at((16,15),0) => at((1,18),45): 100%|██████████| 25/25 [00:00<00:00, 42.97it/s] \n"
     ]
    },
    {
     "name": "stdout",
     "output_type": "stream",
     "text": [
      "45\n",
      "Grounding...\n"
     ]
    },
    {
     "name": "stderr",
     "output_type": "stream",
     "text": [
      "Current agent: 25 - at((16,15),0) => at((1,18),45): 100%|██████████| 25/25 [00:00<00:00, 39.66it/s] \n"
     ]
    },
    {
     "name": "stdout",
     "output_type": "stream",
     "text": [
      "59\n",
      "Grounding...\n"
     ]
    },
    {
     "name": "stderr",
     "output_type": "stream",
     "text": [
      "Current agent: 10 - at((32,47),0) => at((33,1),59): 100%|██████████| 10/10 [00:03<00:00,  3.30it/s]\n"
     ]
    },
    {
     "name": "stdout",
     "output_type": "stream",
     "text": [
      "59\n",
      "Grounding...\n"
     ]
    },
    {
     "name": "stderr",
     "output_type": "stream",
     "text": [
      "Current agent: 10 - at((32,47),0) => at((33,1),59): 100%|██████████| 10/10 [00:04<00:00,  2.07it/s]\n"
     ]
    },
    {
     "name": "stdout",
     "output_type": "stream",
     "text": [
      "50\n",
      "Grounding...\n"
     ]
    },
    {
     "name": "stderr",
     "output_type": "stream",
     "text": [
      "Current agent: 5 - at((4,39),0) => at((29,16),50): 100%|██████████| 5/5 [00:01<00:00,  2.65it/s] \n"
     ]
    },
    {
     "name": "stdout",
     "output_type": "stream",
     "text": [
      "50\n",
      "Grounding...\n"
     ]
    },
    {
     "name": "stderr",
     "output_type": "stream",
     "text": [
      "Current agent: 5 - at((4,39),0) => at((29,16),50): 100%|██████████| 5/5 [00:02<00:00,  1.84it/s] \n"
     ]
    },
    {
     "name": "stdout",
     "output_type": "stream",
     "text": [
      "54\n",
      "Grounding...\n"
     ]
    },
    {
     "name": "stderr",
     "output_type": "stream",
     "text": [
      "Current agent: 35 - at((24,39),0) => at((24,18),54): 100%|██████████| 35/35 [00:05<00:00,  6.57it/s]\n"
     ]
    },
    {
     "name": "stdout",
     "output_type": "stream",
     "text": [
      "54\n",
      "Grounding...\n"
     ]
    },
    {
     "name": "stderr",
     "output_type": "stream",
     "text": [
      "Current agent: 35 - at((24,39),0) => at((24,18),54): 100%|██████████| 35/35 [00:08<00:00,  4.00it/s]\n"
     ]
    },
    {
     "name": "stdout",
     "output_type": "stream",
     "text": [
      "50\n",
      "Grounding...\n"
     ]
    },
    {
     "name": "stderr",
     "output_type": "stream",
     "text": [
      "Current agent: 25 - at((10,28),0) => at((24,30),50): 100%|██████████| 25/25 [00:02<00:00, 10.71it/s]\n"
     ]
    },
    {
     "name": "stdout",
     "output_type": "stream",
     "text": [
      "50\n",
      "Grounding...\n"
     ]
    },
    {
     "name": "stderr",
     "output_type": "stream",
     "text": [
      "Current agent: 25 - at((10,28),0) => at((24,30),50): 100%|██████████| 25/25 [00:02<00:00,  9.92it/s]\n"
     ]
    },
    {
     "name": "stdout",
     "output_type": "stream",
     "text": [
      "30\n",
      "Grounding...\n"
     ]
    },
    {
     "name": "stderr",
     "output_type": "stream",
     "text": [
      "Current agent: 25 - at((18,19),0) => at((18,17),30): 100%|██████████| 25/25 [00:00<00:00, 37.08it/s]\n"
     ]
    },
    {
     "name": "stdout",
     "output_type": "stream",
     "text": [
      "30\n",
      "Grounding...\n"
     ]
    },
    {
     "name": "stderr",
     "output_type": "stream",
     "text": [
      "Current agent: 25 - at((18,19),0) => at((18,17),30): 100%|██████████| 25/25 [00:00<00:00, 27.01it/s]\n"
     ]
    },
    {
     "name": "stdout",
     "output_type": "stream",
     "text": [
      "43\n",
      "Grounding...\n"
     ]
    },
    {
     "name": "stderr",
     "output_type": "stream",
     "text": [
      "Current agent: 15 - at((18,7),0) => at((17,17),43): 100%|██████████| 15/15 [00:00<00:00, 36.76it/s] \n"
     ]
    },
    {
     "name": "stdout",
     "output_type": "stream",
     "text": [
      "43\n",
      "Grounding...\n"
     ]
    },
    {
     "name": "stderr",
     "output_type": "stream",
     "text": [
      "Current agent: 15 - at((18,7),0) => at((17,17),43): 100%|██████████| 15/15 [00:00<00:00, 30.26it/s]\n"
     ]
    },
    {
     "name": "stdout",
     "output_type": "stream",
     "text": [
      "14\n",
      "Grounding...\n"
     ]
    },
    {
     "name": "stderr",
     "output_type": "stream",
     "text": [
      "Current agent: 5 - at((8,10),0) => at((7,1),14): 100%|██████████| 5/5 [00:00<00:00, 101.17it/s]\n"
     ]
    },
    {
     "name": "stdout",
     "output_type": "stream",
     "text": [
      "14\n",
      "Grounding...\n"
     ]
    },
    {
     "name": "stderr",
     "output_type": "stream",
     "text": [
      "Current agent: 5 - at((8,10),0) => at((7,1),14): 100%|██████████| 5/5 [00:00<00:00, 66.38it/s]\n"
     ]
    },
    {
     "name": "stdout",
     "output_type": "stream",
     "text": [
      "26\n",
      "Grounding...\n"
     ]
    },
    {
     "name": "stderr",
     "output_type": "stream",
     "text": [
      "Current agent: 20 - at((29,14),0) => at((29,17),26): 100%|██████████| 20/20 [00:01<00:00, 17.82it/s]\n"
     ]
    },
    {
     "name": "stdout",
     "output_type": "stream",
     "text": [
      "26\n",
      "Grounding...\n"
     ]
    },
    {
     "name": "stderr",
     "output_type": "stream",
     "text": [
      "Current agent: 20 - at((29,14),0) => at((29,17),26): 100%|██████████| 20/20 [00:01<00:00, 16.48it/s]\n"
     ]
    },
    {
     "name": "stdout",
     "output_type": "stream",
     "text": [
      "98\n",
      "Grounding...\n"
     ]
    },
    {
     "name": "stderr",
     "output_type": "stream",
     "text": [
      "Current agent: 20 - at((13,22),0) => at((15,22),98): 100%|██████████| 20/20 [00:01<00:00, 10.91it/s]\n"
     ]
    },
    {
     "name": "stdout",
     "output_type": "stream",
     "text": [
      "98\n",
      "Grounding...\n"
     ]
    },
    {
     "name": "stderr",
     "output_type": "stream",
     "text": [
      "Current agent: 20 - at((13,22),0) => at((15,22),98): 100%|██████████| 20/20 [00:02<00:00,  6.67it/s]\n"
     ]
    },
    {
     "name": "stdout",
     "output_type": "stream",
     "text": [
      "25\n",
      "Grounding...\n"
     ]
    },
    {
     "name": "stderr",
     "output_type": "stream",
     "text": [
      "Current agent: 5 - at((15,2),0) => at((10,6),25): 100%|██████████| 5/5 [00:00<00:00, 25.14it/s]\n"
     ]
    },
    {
     "name": "stdout",
     "output_type": "stream",
     "text": [
      "25\n",
      "Grounding...\n"
     ]
    },
    {
     "name": "stderr",
     "output_type": "stream",
     "text": [
      "Current agent: 5 - at((15,2),0) => at((10,6),25): 100%|██████████| 5/5 [00:00<00:00, 20.61it/s]\n"
     ]
    },
    {
     "name": "stdout",
     "output_type": "stream",
     "text": [
      "2\n",
      "29\n",
      "Grounding...\n"
     ]
    },
    {
     "name": "stderr",
     "output_type": "stream",
     "text": [
      "Current agent: 10 - at((12,10),0) => at((21,24),29): 100%|██████████| 10/10 [00:00<00:00, 14.76it/s]\n"
     ]
    },
    {
     "name": "stdout",
     "output_type": "stream",
     "text": [
      "29\n",
      "Grounding...\n"
     ]
    },
    {
     "name": "stderr",
     "output_type": "stream",
     "text": [
      "Current agent: 10 - at((12,10),0) => at((21,24),29): 100%|██████████| 10/10 [00:00<00:00, 14.93it/s]\n"
     ]
    },
    {
     "name": "stdout",
     "output_type": "stream",
     "text": [
      "28\n",
      "Grounding...\n"
     ]
    },
    {
     "name": "stderr",
     "output_type": "stream",
     "text": [
      "Current agent: 15 - at((17,7),0) => at((17,10),28): 100%|██████████| 15/15 [00:00<00:00, 35.07it/s]\n"
     ]
    },
    {
     "name": "stdout",
     "output_type": "stream",
     "text": [
      "28\n",
      "Grounding...\n"
     ]
    },
    {
     "name": "stderr",
     "output_type": "stream",
     "text": [
      "Current agent: 15 - at((17,7),0) => at((17,10),28): 100%|██████████| 15/15 [00:00<00:00, 28.05it/s]\n"
     ]
    },
    {
     "name": "stdout",
     "output_type": "stream",
     "text": [
      "40\n",
      "Grounding...\n"
     ]
    },
    {
     "name": "stderr",
     "output_type": "stream",
     "text": [
      "Current agent: 20 - at((3,18),0) => at((1,18),4): 100%|██████████| 20/20 [00:00<00:00, 47.30it/s]  \n"
     ]
    },
    {
     "name": "stdout",
     "output_type": "stream",
     "text": [
      "40\n",
      "Grounding...\n"
     ]
    },
    {
     "name": "stderr",
     "output_type": "stream",
     "text": [
      "Current agent: 20 - at((3,18),0) => at((1,18),6): 100%|██████████| 20/20 [00:00<00:00, 24.83it/s]   \n"
     ]
    },
    {
     "name": "stdout",
     "output_type": "stream",
     "text": [
      "34\n",
      "Grounding...\n"
     ]
    },
    {
     "name": "stderr",
     "output_type": "stream",
     "text": [
      "Current agent: 15 - at((15,19),0) => at((19,16),34): 100%|██████████| 15/15 [00:00<00:00, 28.52it/s]\n"
     ]
    },
    {
     "name": "stdout",
     "output_type": "stream",
     "text": [
      "34\n",
      "Grounding...\n"
     ]
    },
    {
     "name": "stderr",
     "output_type": "stream",
     "text": [
      "Current agent: 15 - at((15,19),0) => at((19,16),34): 100%|██████████| 15/15 [00:00<00:00, 18.90it/s]\n"
     ]
    },
    {
     "name": "stdout",
     "output_type": "stream",
     "text": [
      "68\n",
      "Grounding...\n"
     ]
    },
    {
     "name": "stderr",
     "output_type": "stream",
     "text": [
      "Current agent: 15 - at((1,32),0) => at((5,32),68): 100%|██████████| 15/15 [00:01<00:00,  8.79it/s]  \n"
     ]
    },
    {
     "name": "stdout",
     "output_type": "stream",
     "text": [
      "68\n",
      "Grounding...\n"
     ]
    },
    {
     "name": "stderr",
     "output_type": "stream",
     "text": [
      "Current agent: 15 - at((1,32),0) => at((5,32),68): 100%|██████████| 15/15 [00:02<00:00,  5.79it/s]  \n"
     ]
    },
    {
     "name": "stdout",
     "output_type": "stream",
     "text": [
      "37\n",
      "Grounding...\n"
     ]
    },
    {
     "name": "stderr",
     "output_type": "stream",
     "text": [
      "Current agent: 15 - at((47,34),0) => at((19,38),37): 100%|██████████| 15/15 [00:02<00:00,  5.54it/s]\n"
     ]
    },
    {
     "name": "stdout",
     "output_type": "stream",
     "text": [
      "37\n",
      "Grounding...\n"
     ]
    },
    {
     "name": "stderr",
     "output_type": "stream",
     "text": [
      "Current agent: 15 - at((47,34),0) => at((19,38),37): 100%|██████████| 15/15 [00:03<00:00,  4.13it/s]\n"
     ]
    },
    {
     "name": "stdout",
     "output_type": "stream",
     "text": [
      "38\n",
      "Grounding...\n"
     ]
    },
    {
     "name": "stderr",
     "output_type": "stream",
     "text": [
      "Current agent: 15 - at((9,18),0) => at((10,17),38): 100%|██████████| 15/15 [00:00<00:00, 41.86it/s]\n"
     ]
    },
    {
     "name": "stdout",
     "output_type": "stream",
     "text": [
      "38\n",
      "Grounding...\n"
     ]
    },
    {
     "name": "stderr",
     "output_type": "stream",
     "text": [
      "Current agent: 15 - at((9,18),0) => at((10,17),38): 100%|██████████| 15/15 [00:00<00:00, 41.25it/s]\n"
     ]
    },
    {
     "name": "stdout",
     "output_type": "stream",
     "text": [
      "16\n",
      "Grounding...\n"
     ]
    },
    {
     "name": "stderr",
     "output_type": "stream",
     "text": [
      "Current agent: 5 - at((9,3),0) => at((9,4),16): 100%|██████████| 5/5 [00:00<00:00, 143.79it/s]\n"
     ]
    },
    {
     "name": "stdout",
     "output_type": "stream",
     "text": [
      "16\n",
      "Grounding...\n"
     ]
    },
    {
     "name": "stderr",
     "output_type": "stream",
     "text": [
      "Current agent: 5 - at((9,3),0) => at((9,4),16): 100%|██████████| 5/5 [00:00<00:00, 100.76it/s]\n"
     ]
    },
    {
     "name": "stdout",
     "output_type": "stream",
     "text": [
      "34\n",
      "Grounding...\n"
     ]
    },
    {
     "name": "stderr",
     "output_type": "stream",
     "text": [
      "Current agent: 30 - at((28,15),0) => at((29,15),34): 100%|██████████| 30/30 [00:01<00:00, 16.13it/s]\n"
     ]
    },
    {
     "name": "stdout",
     "output_type": "stream",
     "text": [
      "34\n",
      "Grounding...\n"
     ]
    },
    {
     "name": "stderr",
     "output_type": "stream",
     "text": [
      "Current agent: 30 - at((28,15),0) => at((29,15),34): 100%|██████████| 30/30 [00:02<00:00, 14.46it/s]\n"
     ]
    },
    {
     "name": "stdout",
     "output_type": "stream",
     "text": [
      "45\n",
      "Grounding...\n"
     ]
    },
    {
     "name": "stderr",
     "output_type": "stream",
     "text": [
      "Current agent: 25 - at((16,15),0) => at((1,18),45): 100%|██████████| 25/25 [00:00<00:00, 36.26it/s] \n"
     ]
    },
    {
     "name": "stdout",
     "output_type": "stream",
     "text": [
      "45\n",
      "Grounding...\n"
     ]
    },
    {
     "name": "stderr",
     "output_type": "stream",
     "text": [
      "Current agent: 25 - at((16,15),0) => at((1,18),45): 100%|██████████| 25/25 [00:00<00:00, 36.09it/s] \n"
     ]
    },
    {
     "name": "stdout",
     "output_type": "stream",
     "text": [
      "59\n",
      "Grounding...\n"
     ]
    },
    {
     "name": "stderr",
     "output_type": "stream",
     "text": [
      "Current agent: 10 - at((32,47),0) => at((33,1),59): 100%|██████████| 10/10 [00:03<00:00,  3.21it/s]\n"
     ]
    },
    {
     "name": "stdout",
     "output_type": "stream",
     "text": [
      "59\n",
      "Grounding...\n"
     ]
    },
    {
     "name": "stderr",
     "output_type": "stream",
     "text": [
      "Current agent: 10 - at((32,47),0) => at((33,1),59): 100%|██████████| 10/10 [00:04<00:00,  2.16it/s]\n"
     ]
    },
    {
     "name": "stdout",
     "output_type": "stream",
     "text": [
      "50\n",
      "Grounding...\n"
     ]
    },
    {
     "name": "stderr",
     "output_type": "stream",
     "text": [
      "Current agent: 5 - at((4,39),0) => at((29,16),50): 100%|██████████| 5/5 [00:01<00:00,  2.79it/s] \n"
     ]
    },
    {
     "name": "stdout",
     "output_type": "stream",
     "text": [
      "50\n",
      "Grounding...\n"
     ]
    },
    {
     "name": "stderr",
     "output_type": "stream",
     "text": [
      "Current agent: 5 - at((4,39),0) => at((29,16),50): 100%|██████████| 5/5 [00:02<00:00,  2.03it/s] \n"
     ]
    },
    {
     "name": "stdout",
     "output_type": "stream",
     "text": [
      "54\n",
      "Grounding...\n"
     ]
    },
    {
     "name": "stderr",
     "output_type": "stream",
     "text": [
      "Current agent: 35 - at((24,39),0) => at((24,18),54): 100%|██████████| 35/35 [00:05<00:00,  6.33it/s]\n"
     ]
    },
    {
     "name": "stdout",
     "output_type": "stream",
     "text": [
      "54\n",
      "Grounding...\n"
     ]
    },
    {
     "name": "stderr",
     "output_type": "stream",
     "text": [
      "Current agent: 35 - at((24,39),0) => at((24,18),54): 100%|██████████| 35/35 [00:09<00:00,  3.68it/s]\n"
     ]
    },
    {
     "name": "stdout",
     "output_type": "stream",
     "text": [
      "50\n",
      "Grounding...\n"
     ]
    },
    {
     "name": "stderr",
     "output_type": "stream",
     "text": [
      "Current agent: 25 - at((10,28),0) => at((24,30),50): 100%|██████████| 25/25 [00:02<00:00, 10.43it/s]\n"
     ]
    },
    {
     "name": "stdout",
     "output_type": "stream",
     "text": [
      "50\n",
      "Grounding...\n"
     ]
    },
    {
     "name": "stderr",
     "output_type": "stream",
     "text": [
      "Current agent: 25 - at((10,28),0) => at((24,30),50): 100%|██████████| 25/25 [00:02<00:00, 10.18it/s]\n"
     ]
    },
    {
     "name": "stdout",
     "output_type": "stream",
     "text": [
      "30\n",
      "Grounding...\n"
     ]
    },
    {
     "name": "stderr",
     "output_type": "stream",
     "text": [
      "Current agent: 25 - at((18,19),0) => at((18,17),30): 100%|██████████| 25/25 [00:00<00:00, 35.35it/s]\n"
     ]
    },
    {
     "name": "stdout",
     "output_type": "stream",
     "text": [
      "30\n",
      "Grounding...\n"
     ]
    },
    {
     "name": "stderr",
     "output_type": "stream",
     "text": [
      "Current agent: 25 - at((18,19),0) => at((18,17),30): 100%|██████████| 25/25 [00:00<00:00, 26.55it/s]\n"
     ]
    },
    {
     "name": "stdout",
     "output_type": "stream",
     "text": [
      "43\n",
      "Grounding...\n"
     ]
    },
    {
     "name": "stderr",
     "output_type": "stream",
     "text": [
      "Current agent: 15 - at((18,7),0) => at((17,17),43): 100%|██████████| 15/15 [00:00<00:00, 37.27it/s] \n"
     ]
    },
    {
     "name": "stdout",
     "output_type": "stream",
     "text": [
      "43\n",
      "Grounding...\n"
     ]
    },
    {
     "name": "stderr",
     "output_type": "stream",
     "text": [
      "Current agent: 15 - at((18,7),0) => at((17,17),43): 100%|██████████| 15/15 [00:00<00:00, 27.24it/s] \n"
     ]
    },
    {
     "name": "stdout",
     "output_type": "stream",
     "text": [
      "14\n",
      "Grounding...\n"
     ]
    },
    {
     "name": "stderr",
     "output_type": "stream",
     "text": [
      "Current agent: 5 - at((8,10),0) => at((7,1),14): 100%|██████████| 5/5 [00:00<00:00, 82.15it/s]\n"
     ]
    },
    {
     "name": "stdout",
     "output_type": "stream",
     "text": [
      "14\n",
      "Grounding...\n"
     ]
    },
    {
     "name": "stderr",
     "output_type": "stream",
     "text": [
      "Current agent: 5 - at((8,10),0) => at((7,1),14): 100%|██████████| 5/5 [00:00<00:00, 89.58it/s]\n"
     ]
    },
    {
     "name": "stdout",
     "output_type": "stream",
     "text": [
      "26\n",
      "Grounding...\n"
     ]
    },
    {
     "name": "stderr",
     "output_type": "stream",
     "text": [
      "Current agent: 20 - at((29,14),0) => at((29,17),26): 100%|██████████| 20/20 [00:01<00:00, 18.94it/s]\n"
     ]
    },
    {
     "name": "stdout",
     "output_type": "stream",
     "text": [
      "26\n",
      "Grounding...\n"
     ]
    },
    {
     "name": "stderr",
     "output_type": "stream",
     "text": [
      "Current agent: 20 - at((29,14),0) => at((29,17),26): 100%|██████████| 20/20 [00:01<00:00, 17.32it/s]\n"
     ]
    },
    {
     "name": "stdout",
     "output_type": "stream",
     "text": [
      "98\n",
      "Grounding...\n"
     ]
    },
    {
     "name": "stderr",
     "output_type": "stream",
     "text": [
      "Current agent: 20 - at((13,22),0) => at((15,22),98): 100%|██████████| 20/20 [00:01<00:00, 11.26it/s]\n"
     ]
    },
    {
     "name": "stdout",
     "output_type": "stream",
     "text": [
      "98\n",
      "Grounding...\n"
     ]
    },
    {
     "name": "stderr",
     "output_type": "stream",
     "text": [
      "Current agent: 20 - at((13,22),0) => at((15,22),98): 100%|██████████| 20/20 [00:03<00:00,  6.32it/s]\n"
     ]
    },
    {
     "name": "stdout",
     "output_type": "stream",
     "text": [
      "25\n",
      "Grounding...\n"
     ]
    },
    {
     "name": "stderr",
     "output_type": "stream",
     "text": [
      "Current agent: 5 - at((15,2),0) => at((10,6),25): 100%|██████████| 5/5 [00:00<00:00, 19.29it/s]\n"
     ]
    },
    {
     "name": "stdout",
     "output_type": "stream",
     "text": [
      "25\n",
      "Grounding...\n"
     ]
    },
    {
     "name": "stderr",
     "output_type": "stream",
     "text": [
      "Current agent: 5 - at((15,2),0) => at((10,6),25): 100%|██████████| 5/5 [00:00<00:00, 18.59it/s]\n"
     ]
    },
    {
     "name": "stdout",
     "output_type": "stream",
     "text": [
      "3\n",
      "29\n",
      "Grounding...\n"
     ]
    },
    {
     "name": "stderr",
     "output_type": "stream",
     "text": [
      "Current agent: 10 - at((12,10),0) => at((21,24),29): 100%|██████████| 10/10 [00:00<00:00, 11.95it/s]\n"
     ]
    },
    {
     "name": "stdout",
     "output_type": "stream",
     "text": [
      "29\n",
      "Grounding...\n"
     ]
    },
    {
     "name": "stderr",
     "output_type": "stream",
     "text": [
      "Current agent: 10 - at((12,10),0) => at((21,24),29): 100%|██████████| 10/10 [00:00<00:00, 13.41it/s]\n"
     ]
    },
    {
     "name": "stdout",
     "output_type": "stream",
     "text": [
      "28\n",
      "Grounding...\n"
     ]
    },
    {
     "name": "stderr",
     "output_type": "stream",
     "text": [
      "Current agent: 15 - at((17,7),0) => at((17,10),28): 100%|██████████| 15/15 [00:00<00:00, 28.96it/s]\n"
     ]
    },
    {
     "name": "stdout",
     "output_type": "stream",
     "text": [
      "28\n",
      "Grounding...\n"
     ]
    },
    {
     "name": "stderr",
     "output_type": "stream",
     "text": [
      "Current agent: 15 - at((17,7),0) => at((17,10),28): 100%|██████████| 15/15 [00:00<00:00, 27.87it/s]\n"
     ]
    },
    {
     "name": "stdout",
     "output_type": "stream",
     "text": [
      "40\n",
      "Grounding...\n"
     ]
    },
    {
     "name": "stderr",
     "output_type": "stream",
     "text": [
      "Current agent: 20 - at((3,18),0) => at((1,18),4): 100%|██████████| 20/20 [00:00<00:00, 33.90it/s]   \n"
     ]
    },
    {
     "name": "stdout",
     "output_type": "stream",
     "text": [
      "40\n",
      "Grounding...\n"
     ]
    },
    {
     "name": "stderr",
     "output_type": "stream",
     "text": [
      "Current agent: 20 - at((3,18),0) => at((1,18),6): 100%|██████████| 20/20 [00:01<00:00, 19.59it/s]   \n"
     ]
    },
    {
     "name": "stdout",
     "output_type": "stream",
     "text": [
      "34\n",
      "Grounding...\n"
     ]
    },
    {
     "name": "stderr",
     "output_type": "stream",
     "text": [
      "Current agent: 15 - at((15,19),0) => at((19,16),34): 100%|██████████| 15/15 [00:00<00:00, 23.43it/s]\n"
     ]
    },
    {
     "name": "stdout",
     "output_type": "stream",
     "text": [
      "34\n",
      "Grounding...\n"
     ]
    },
    {
     "name": "stderr",
     "output_type": "stream",
     "text": [
      "Current agent: 15 - at((15,19),0) => at((19,16),34): 100%|██████████| 15/15 [00:00<00:00, 18.79it/s]\n"
     ]
    },
    {
     "name": "stdout",
     "output_type": "stream",
     "text": [
      "68\n",
      "Grounding...\n"
     ]
    },
    {
     "name": "stderr",
     "output_type": "stream",
     "text": [
      "Current agent: 1 - at((27,6),0) => at((37,6),38):   0%|          | 0/15 [00:00<?, ?it/s]\n"
     ]
    },
    {
     "ename": "KeyboardInterrupt",
     "evalue": "",
     "output_type": "error",
     "traceback": [
      "\u001b[0;31m---------------------------------------------------------------------------\u001b[0m",
      "\u001b[0;31mKeyboardInterrupt\u001b[0m                         Traceback (most recent call last)",
      "Cell \u001b[0;32mIn[594], line 14\u001b[0m\n\u001b[1;32m     12\u001b[0m \u001b[39mprint\u001b[39m(npath)\n\u001b[1;32m     13\u001b[0m \u001b[39mfor\u001b[39;00m instance_name, instance_content \u001b[39min\u001b[39;00m instances_pool:\n\u001b[0;32m---> 14\u001b[0m     r,s \u001b[39m=\u001b[39m base_ipf(instance_content,npaths\u001b[39m=\u001b[39;49mnpath)\n\u001b[1;32m     15\u001b[0m     total_na \u001b[39m+\u001b[39m\u001b[39m=\u001b[39m s\u001b[39m.\u001b[39mtotal_time\n\u001b[1;32m     16\u001b[0m     r,s \u001b[39m=\u001b[39m base_ipf(instance_content,npaths\u001b[39m=\u001b[39mnpath,additional_paths_computation\u001b[39m=\u001b[39m\u001b[39mTrue\u001b[39;00m)\n",
      "File \u001b[0;32m~/Master/conflict-based-plan-merging/wrapper/ipf.py:156\u001b[0m, in \u001b[0;36mbase_ipf\u001b[0;34m(instance, horizon, npaths, encoding, use_optimization, horizon_modifier, additional_paths_computation, additional_paths_horizon_modifier, additional_encodings)\u001b[0m\n\u001b[1;32m    154\u001b[0m om \u001b[39m=\u001b[39m OnModelNaiveIPF(agent_id)\n\u001b[1;32m    155\u001b[0m of \u001b[39m=\u001b[39m OnFinish()\n\u001b[0;32m--> 156\u001b[0m ctl\u001b[39m.\u001b[39;49msolve(\n\u001b[1;32m    157\u001b[0m     on_model\u001b[39m=\u001b[39;49mom, on_finish\u001b[39m=\u001b[39;49mof, assumptions\u001b[39m=\u001b[39;49m[\n\u001b[1;32m    158\u001b[0m         (start_pos, \u001b[39mTrue\u001b[39;49;00m), (goal_pos, \u001b[39mTrue\u001b[39;49;00m)]\n\u001b[1;32m    159\u001b[0m )\n\u001b[1;32m    160\u001b[0m stats(ctl)\n\u001b[1;32m    161\u001b[0m ret\u001b[39m.\u001b[39mappend(om\u001b[39m.\u001b[39mret)\n",
      "File \u001b[0;32m~/.virtualenvs/pmheatmap/lib/python3.11/site-packages/clingo/control.py:789\u001b[0m, in \u001b[0;36mControl.solve\u001b[0;34m(self, assumptions, on_model, on_unsat, on_statistics, on_finish, on_core, yield_, async_)\u001b[0m\n\u001b[1;32m    785\u001b[0m \u001b[39mif\u001b[39;00m async_:\n\u001b[1;32m    786\u001b[0m     mode \u001b[39m|\u001b[39m\u001b[39m=\u001b[39m _lib\u001b[39m.\u001b[39mclingo_solve_mode_async\n\u001b[1;32m    788\u001b[0m handle \u001b[39m=\u001b[39m SolveHandle(\n\u001b[0;32m--> 789\u001b[0m     _c_call(\n\u001b[1;32m    790\u001b[0m         \u001b[39m\"\u001b[39;49m\u001b[39mclingo_solve_handle_t*\u001b[39;49m\u001b[39m\"\u001b[39;49m,\n\u001b[1;32m    791\u001b[0m         _lib\u001b[39m.\u001b[39;49mclingo_control_solve,\n\u001b[1;32m    792\u001b[0m         \u001b[39mself\u001b[39;49m\u001b[39m.\u001b[39;49m_rep,\n\u001b[1;32m    793\u001b[0m         mode,\n\u001b[1;32m    794\u001b[0m         p_ass,\n\u001b[1;32m    795\u001b[0m         \u001b[39mlen\u001b[39;49m(assumptions),\n\u001b[1;32m    796\u001b[0m         _lib\u001b[39m.\u001b[39;49mpyclingo_solve_event_callback,\n\u001b[1;32m    797\u001b[0m         \u001b[39mself\u001b[39;49m\u001b[39m.\u001b[39;49m_handler,\n\u001b[1;32m    798\u001b[0m         handler\u001b[39m=\u001b[39;49mdata,\n\u001b[1;32m    799\u001b[0m     ),\n\u001b[1;32m    800\u001b[0m     data,\n\u001b[1;32m    801\u001b[0m )\n\u001b[1;32m    803\u001b[0m \u001b[39mif\u001b[39;00m \u001b[39mnot\u001b[39;00m yield_ \u001b[39mand\u001b[39;00m \u001b[39mnot\u001b[39;00m async_:\n\u001b[1;32m    804\u001b[0m     \u001b[39mwith\u001b[39;00m handle:\n",
      "File \u001b[0;32m~/.virtualenvs/pmheatmap/lib/python3.11/site-packages/clingo/_internal.py:44\u001b[0m, in \u001b[0;36m_c_call\u001b[0;34m(c_type, c_fun, handler, *args)\u001b[0m\n\u001b[1;32m     42\u001b[0m \u001b[39melse\u001b[39;00m:\n\u001b[1;32m     43\u001b[0m     p_ret \u001b[39m=\u001b[39m c_type\n\u001b[0;32m---> 44\u001b[0m _handle_error(c_fun(\u001b[39m*\u001b[39;49margs, p_ret), handler)\n\u001b[1;32m     45\u001b[0m \u001b[39mreturn\u001b[39;00m p_ret[\u001b[39m0\u001b[39m]\n",
      "File \u001b[0;32m~/.virtualenvs/pmheatmap/lib/python3.11/site-packages/clingo/_internal.py:71\u001b[0m, in \u001b[0;36m_handle_error\u001b[0;34m(ret, handler)\u001b[0m\n\u001b[1;32m     65\u001b[0m code \u001b[39m=\u001b[39m _lib\u001b[39m.\u001b[39mclingo_error_code()\n\u001b[1;32m     66\u001b[0m \u001b[39mif\u001b[39;00m (\n\u001b[1;32m     67\u001b[0m     code \u001b[39m==\u001b[39m _lib\u001b[39m.\u001b[39mclingo_error_unknown\n\u001b[1;32m     68\u001b[0m     \u001b[39mand\u001b[39;00m handler \u001b[39mis\u001b[39;00m \u001b[39mnot\u001b[39;00m \u001b[39mNone\u001b[39;00m\n\u001b[1;32m     69\u001b[0m     \u001b[39mand\u001b[39;00m handler\u001b[39m.\u001b[39merror \u001b[39mis\u001b[39;00m \u001b[39mnot\u001b[39;00m \u001b[39mNone\u001b[39;00m\n\u001b[1;32m     70\u001b[0m ):\n\u001b[0;32m---> 71\u001b[0m     \u001b[39mraise\u001b[39;00m handler\u001b[39m.\u001b[39merror[\u001b[39m0\u001b[39m](handler\u001b[39m.\u001b[39merror[\u001b[39m1\u001b[39m])\u001b[39m.\u001b[39mwith_traceback(handler\u001b[39m.\u001b[39merror[\u001b[39m2\u001b[39m])\n\u001b[1;32m     72\u001b[0m msg \u001b[39m=\u001b[39m _ffi\u001b[39m.\u001b[39mstring(_lib\u001b[39m.\u001b[39mclingo_error_message())\u001b[39m.\u001b[39mdecode()\n\u001b[1;32m     73\u001b[0m \u001b[39mif\u001b[39;00m code \u001b[39m==\u001b[39m _lib\u001b[39m.\u001b[39mclingo_error_bad_alloc:\n",
      "File \u001b[0;32m~/.virtualenvs/pmheatmap/lib/python3.11/site-packages/clingo/control.py:107\u001b[0m, in \u001b[0;36m_pyclingo_solve_event_callback\u001b[0;34m(type_, event, data, goon)\u001b[0m\n\u001b[1;32m    103\u001b[0m         \u001b[39mif\u001b[39;00m \u001b[39mself\u001b[39m\u001b[39m.\u001b[39m_on_statistics \u001b[39mis\u001b[39;00m \u001b[39mnot\u001b[39;00m \u001b[39mNone\u001b[39;00m:\n\u001b[1;32m    104\u001b[0m             \u001b[39mself\u001b[39m\u001b[39m.\u001b[39m_on_statistics(_mutable_statistics(step), _mutable_statistics(accu))\n\u001b[0;32m--> 107\u001b[0m \u001b[39m@_ffi\u001b[39m\u001b[39m.\u001b[39mdef_extern(\n\u001b[1;32m    108\u001b[0m     onerror\u001b[39m=\u001b[39m_cb_error_handler(\u001b[39m\"\u001b[39m\u001b[39mdata\u001b[39m\u001b[39m\"\u001b[39m), name\u001b[39m=\u001b[39m\u001b[39m\"\u001b[39m\u001b[39mpyclingo_solve_event_callback\u001b[39m\u001b[39m\"\u001b[39m\n\u001b[1;32m    109\u001b[0m )\n\u001b[1;32m    110\u001b[0m \u001b[39mdef\u001b[39;00m \u001b[39m_pyclingo_solve_event_callback\u001b[39m(type_, event, data, goon):\n\u001b[1;32m    111\u001b[0m \u001b[39m    \u001b[39m\u001b[39m\"\"\"\u001b[39;00m\n\u001b[1;32m    112\u001b[0m \u001b[39m    Low-level solve event handler.\u001b[39;00m\n\u001b[1;32m    113\u001b[0m \u001b[39m    \"\"\"\u001b[39;00m\n\u001b[1;32m    114\u001b[0m     handler \u001b[39m=\u001b[39m _ffi\u001b[39m.\u001b[39mfrom_handle(data)\u001b[39m.\u001b[39mdata\n",
      "\u001b[0;31mKeyboardInterrupt\u001b[0m: "
     ]
    }
   ],
   "source": [
    "instances_pool_path = 'instances'\n",
    "instances_pool = [(pretty_file_name(file), read(path.join(instances_pool_path, file))) for file in os.listdir(\n",
    "    instances_pool_path) if path.isfile(path.join(instances_pool_path, file))]\n",
    "\n",
    "npaths = list(range(1,10)) + list(range(10,30,3)) + list(range(30,100,10))\n",
    "x_na = []\n",
    "x_a = []\n",
    "\n",
    "for npath in npaths:\n",
    "    total_na = 0\n",
    "    total_a = 0\n",
    "    print(npath)\n",
    "    for instance_name, instance_content in instances_pool:\n",
    "        r,s = base_ipf(instance_content,npaths=npath)\n",
    "        total_na += s.total_time\n",
    "        r,s = base_ipf(instance_content,npaths=npath,additional_paths_computation=True)\n",
    "        total_a += s.total_time\n",
    "    \n",
    "    x_a.append(total_a)\n",
    "    x_na.append(total_na)\n",
    "\n",
    "\n",
    "plt.plot(npaths,x_na,label=\"No additional path computation\")\n",
    "plt.plot(npaths,x_a,label=\"Additional path computation\")\n",
    "\n",
    "    \n",
    "plt.legend()\n",
    "plt.tight_layout()\n",
    "plt.show()\n",
    "        "
   ]
  },
  {
   "cell_type": "code",
   "execution_count": null,
   "metadata": {},
   "outputs": [
    {
     "data": {
      "image/png": "[encoded data removed]",
      "text/plain": [
       "<Figure size 640x480 with 1 Axes>"
      ]
     },
     "metadata": {},
     "output_type": "display_data"
    }
   ],
   "source": [
    "plt.plot(npaths,x_na,label=\"No additional path computation\")\n",
    "plt.plot(npaths,x_a,label=\"Additional path computation\")\n",
    "\n",
    "    \n",
    "plt.legend()\n",
    "plt.tight_layout()\n",
    "plt.show()\n",
    "        "
   ]
  }
 ],
 "metadata": {
  "kernelspec": {
   "display_name": "pmheatmap",
   "language": "python",
   "name": "python3"
  },
  "language_info": {
   "codemirror_mode": {
    "name": "ipython",
    "version": 3
   },
   "file_extension": ".py",
   "mimetype": "text/x-python",
   "name": "python",
   "nbconvert_exporter": "python",
   "pygments_lexer": "ipython3",
   "version": "3.11.5"
  },
  "orig_nbformat": 4
 },
 "nbformat": 4,
 "nbformat_minor": 2
}
