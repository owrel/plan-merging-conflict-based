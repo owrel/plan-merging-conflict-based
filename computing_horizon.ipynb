{
 "cells": [
  {
   "cell_type": "code",
   "execution_count": 1,
   "metadata": {},
   "outputs": [
    {
     "name": "stdout",
     "output_type": "stream",
     "text": [
      "['instances/room_s29_a10_w5_h29.lp', 'instances/random_x25_y25_a20_c75_h36.lp', 'instances/room_x30_y30_a15_w5_h44.lp', 'instances/room_x20_y20_a10_w5_h26.lp', 'instances/random_s20_a15_c75_h28.lp', 'instances/maze_s10_a20_h40.lp', 'instances/room_s19_a15_w4_h34.lp', 'instances/maze_x15_y15_a15_h61.lp', 'instances/maze_s20_a15_h68.lp', 'instances/maze_x10_y10_a15_h68.lp', 'instances/room_s47_a15_w5_h37.lp', 'instances/maze_s10_a15_h38.lp', 'instances/random_x10_y10_a5_c50_h15.lp', 'instances/random_x20_y20_a15_c85_h21.lp', 'instances/random_s10_a5_c50_h16.lp', 'instances/random_x15_y15_a10_c85_h19.lp', 'instances/random_x10_y10_a5_c50_h26.lp', 'instances/random_x15_y15_a15_c85_h21.lp', 'instances/maze_x10_y10_a20_h58.lp', 'instances/room_s29_a30_w5_h34.lp', 'instances/room_x20_y20_a30_w5_h36.lp', 'instances/maze_s10_a25_h45.lp', 'instances/room_s47_a10_w5_h59.lp', 'instances/random_x15_y15_a15_c50_h39.lp', 'instances/random_x20_y20_a15_c50_h50.lp', 'instances/random_x25_y25_a20_c50_h81.lp', 'instances/random_x10_y10_a5_c90_h12.lp', 'instances/random_x15_y15_a15_c50_h42.lp', 'instances/random_x15_y15_a5_c90_h16.lp', 'instances/maze_x15_y15_a10_h74.lp', 'instances/room_x15_y15_a30_w5_h22.lp', 'instances/room_s47_a5_w5_h50.lp', 'instances/random_s40_a35_c75_h54.lp', 'instances/maze_x10_y10_a5_h68.lp', 'instances/random_s30_a25_c75_h50.lp', 'instances/room_s19_a25_w4_h30.lp', 'instances/random_s20_a15_c50_h43.lp', 'instances/random_s10_a5_c75_h14.lp', 'instances/room_x10_y15_a40_w5_h23.lp', 'instances/room_s29_a20_w5_h26.lp', 'instances/random_x10_y10_a5_c50_h22.lp', 'instances/maze_s15_a20_h98.lp', 'instances/room_s19_a5_w4_h25.lp', 'instances/random_x25_y25_a25_c78_h34.lp']\n"
     ]
    }
   ],
   "source": [
    "from wrapper import pretty_file_name, make_horizon\n",
    "from os import path\n",
    "\n",
    "import os\n",
    "instances_pool_path = 'instances'\n",
    "\n",
    "instances_pool = [path.join(instances_pool_path, file) for file in os.listdir(\n",
    "    instances_pool_path) if path.isfile(path.join(instances_pool_path, file))]\n",
    "\n",
    "print(instances_pool)"
   ]
  },
  {
   "cell_type": "code",
   "execution_count": 2,
   "metadata": {},
   "outputs": [
    {
     "name": "stdout",
     "output_type": "stream",
     "text": [
      "instances/room_s29_a10_w5_h29.lp\n",
      "instances/random_x25_y25_a20_c75_h36.lp\n"
     ]
    },
    {
     "name": "stderr",
     "output_type": "stream",
     "text": [
      "  0%|          | 0/99 [00:00<?, ?it/s]"
     ]
    },
    {
     "name": "stderr",
     "output_type": "stream",
     "text": [
      "Current agent: 1 - at((9,3),0) => at((21,7),16):  15%|█▌        | 15/99 [00:02<00:11,  7.03it/s]\n",
      "Current agent: 2 - at((13,23),0) => at((12,4),24):  23%|██▎       | 23/99 [00:04<00:14,  5.31it/s]\n",
      "Current agent: 3 - at((15,12),0) => at((2,13),18):  17%|█▋        | 17/99 [00:02<00:12,  6.75it/s]\n",
      "Current agent: 4 - at((8,20),0) => at((14,1),29):  28%|██▊       | 28/99 [00:05<00:14,  4.74it/s]\n",
      "Current agent: 5 - at((18,22),0) => at((17,3),28):  27%|██▋       | 27/99 [00:05<00:14,  4.81it/s]\n",
      "Current agent: 6 - at((4,14),0) => at((11,3),18):  17%|█▋        | 17/99 [00:02<00:12,  6.59it/s]\n",
      "Current agent: 7 - at((11,23),0) => at((25,1),36):  35%|███▌      | 35/99 [00:08<00:15,  4.01it/s]\n",
      "Current agent: 8 - at((16,24),0) => at((16,19),11):  10%|█         | 10/99 [00:01<00:12,  7.14it/s]\n",
      "Current agent: 9 - at((23,22),0) => at((17,7),21):  20%|██        | 20/99 [00:04<00:18,  4.29it/s]\n",
      "Current agent: 10 - at((5,8),0) => at((4,21),16):  15%|█▌        | 15/99 [00:02<00:14,  5.83it/s]\n",
      "Current agent: 11 - at((3,11),0) => at((7,1),14):  13%|█▎        | 13/99 [00:02<00:15,  5.49it/s]\n",
      "Current agent: 12 - at((10,6),0) => at((21,6),11):  10%|█         | 10/99 [00:01<00:14,  5.97it/s]\n",
      "Current agent: 13 - at((21,24),0) => at((20,24),1):   0%|          | 0/99 [00:00<?, ?it/s]\n",
      "Current agent: 14 - at((6,18),0) => at((19,10),21):  20%|██        | 20/99 [00:04<00:17,  4.41it/s]\n",
      "Current agent: 15 - at((4,15),0) => at((23,22),26):  25%|██▌       | 25/99 [00:04<00:14,  5.04it/s]\n",
      "Current agent: 16 - at((21,13),0) => at((4,17),21):  20%|██        | 20/99 [00:03<00:13,  5.74it/s]\n",
      "Current agent: 17 - at((19,13),0) => at((2,17),21):  20%|██        | 20/99 [00:03<00:13,  5.82it/s]\n",
      "Current agent: 18 - at((2,3),0) => at((15,13),23):  22%|██▏       | 22/99 [00:04<00:14,  5.43it/s]\n",
      "Current agent: 19 - at((10,24),0) => at((18,22),12):  11%|█         | 11/99 [00:01<00:11,  7.96it/s]\n",
      "Current agent: 20 - at((1,9),0) => at((3,10),3):   2%|▏         | 2/99 [00:00<00:09, 10.50it/s]\n"
     ]
    },
    {
     "name": "stdout",
     "output_type": "stream",
     "text": [
      "instances/room_x30_y30_a15_w5_h44.lp\n"
     ]
    },
    {
     "name": "stderr",
     "output_type": "stream",
     "text": [
      "Current agent: 1 - at((17,9),0) => at((16,1),13):  12%|█▏        | 12/99 [00:02<00:17,  5.08it/s]\n",
      "Current agent: 2 - at((4,23),0) => at((26,13),32):  31%|███▏      | 31/99 [00:10<00:24,  2.82it/s]\n",
      "Current agent: 3 - at((1,4),0) => at((11,20),26):  25%|██▌       | 25/99 [00:07<00:23,  3.20it/s]\n",
      "Current agent: 4 - at((3,19),0) => at((19,29),26):  25%|██▌       | 25/99 [00:07<00:22,  3.23it/s]\n",
      "Current agent: 5 - at((20,14),0) => at((23,11),6):   5%|▌         | 5/99 [00:00<00:14,  6.62it/s]\n",
      "Current agent: 6 - at((28,10),0) => at((4,10),30):  29%|██▉       | 29/99 [00:10<00:24,  2.87it/s]\n",
      "Current agent: 7 - at((1,23),0) => at((20,3),39):  38%|███▊      | 38/99 [00:16<00:26,  2.34it/s]\n",
      "Current agent: 8 - at((3,29),0) => at((29,11),44):  43%|████▎     | 43/99 [00:20<00:26,  2.10it/s]\n",
      "Current agent: 9 - at((21,13),0) => at((21,27),18):  17%|█▋        | 17/99 [00:04<00:20,  3.92it/s]\n",
      "Current agent: 10 - at((27,27),0) => at((25,1),36):  35%|███▌      | 35/99 [00:14<00:26,  2.44it/s]\n",
      "Current agent: 11 - at((27,1),0) => at((15,20),33):  32%|███▏      | 32/99 [00:12<00:26,  2.55it/s]\n",
      "Current agent: 12 - at((19,28),0) => at((10,26),15):  14%|█▍        | 14/99 [00:03<00:19,  4.40it/s]\n",
      "Current agent: 13 - at((25,16),0) => at((20,9),12):  11%|█         | 11/99 [00:02<00:17,  4.99it/s]\n",
      "Current agent: 14 - at((29,14),0) => at((15,21),21):  20%|██        | 20/99 [00:06<00:26,  2.94it/s]\n",
      "Current agent: 15 - at((19,23),0) => at((28,3),29):  28%|██▊       | 28/99 [00:11<00:28,  2.47it/s]\n"
     ]
    },
    {
     "name": "stdout",
     "output_type": "stream",
     "text": [
      "instances/room_x20_y20_a10_w5_h26.lp\n"
     ]
    },
    {
     "name": "stderr",
     "output_type": "stream",
     "text": [
      "Current agent: 1 - at((19,4),0) => at((1,4),24):  23%|██▎       | 23/99 [00:03<00:12,  6.30it/s]\n",
      "Current agent: 2 - at((20,16),0) => at((7,9),20):  19%|█▉        | 19/99 [00:02<00:11,  7.15it/s]\n",
      "Current agent: 3 - at((3,13),0) => at((15,5),24):  23%|██▎       | 23/99 [00:03<00:11,  6.50it/s]\n",
      "Current agent: 4 - at((16,3),0) => at((15,20),26):  25%|██▌       | 25/99 [00:04<00:11,  6.17it/s]\n",
      "Current agent: 5 - at((13,3),0) => at((17,4),5):   4%|▍         | 4/99 [00:00<00:09, 10.12it/s]\n",
      "Current agent: 6 - at((11,14),0) => at((13,11),11):  10%|█         | 10/99 [00:01<00:11,  7.69it/s]\n",
      "Current agent: 7 - at((5,9),0) => at((13,3),14):  13%|█▎        | 13/99 [00:01<00:09,  8.74it/s]\n",
      "Current agent: 8 - at((5,2),0) => at((20,10),23):  22%|██▏       | 22/99 [00:03<00:11,  6.67it/s]\n",
      "Current agent: 9 - at((19,8),0) => at((12,15),16):  15%|█▌        | 15/99 [00:02<00:13,  6.09it/s]\n",
      "Current agent: 10 - at((16,16),0) => at((3,5),24):  23%|██▎       | 23/99 [00:03<00:11,  6.48it/s]\n"
     ]
    },
    {
     "name": "stdout",
     "output_type": "stream",
     "text": [
      "instances/random_s20_a15_c75_h28.lp\n",
      "instances/maze_s10_a20_h40.lp\n",
      "instances/room_s19_a15_w4_h34.lp\n",
      "instances/maze_x15_y15_a15_h61.lp\n"
     ]
    },
    {
     "name": "stderr",
     "output_type": "stream",
     "text": [
      "Current agent: 1 - at((3,28),0) => at((11,27),21):  20%|██        | 20/99 [00:03<00:12,  6.25it/s]\n",
      "Current agent: 2 - at((25,6),0) => at((16,11),34):  33%|███▎      | 33/99 [00:07<00:14,  4.61it/s]\n",
      "Current agent: 3 - at((13,9),0) => at((17,3),26):  25%|██▌       | 25/99 [00:04<00:13,  5.43it/s]\n",
      "Current agent: 4 - at((5,16),0) => at((17,10),28):  27%|██▋       | 27/99 [00:05<00:13,  5.25it/s]\n",
      "Current agent: 5 - at((7,1),0) => at((19,1),44):  43%|████▎     | 43/99 [00:11<00:15,  3.73it/s]\n",
      "Current agent: 6 - at((4,25),0) => at((11,19),29):  28%|██▊       | 28/99 [00:05<00:13,  5.23it/s]\n",
      "Current agent: 7 - at((6,7),0) => at((19,15),23):  22%|██▏       | 22/99 [00:03<00:12,  6.11it/s]\n",
      "Current agent: 8 - at((7,15),0) => at((16,17),31):  30%|███       | 30/99 [00:05<00:13,  5.06it/s]\n",
      "Current agent: 9 - at((27,25),0) => at((17,11),60):  60%|█████▉    | 59/99 [00:19<00:13,  2.99it/s]\n",
      "Current agent: 10 - at((29,27),0) => at((3,28),43):  42%|████▏     | 42/99 [00:10<00:14,  3.88it/s]\n",
      "Current agent: 11 - at((25,8),0) => at((27,8),4):   3%|▎         | 3/99 [00:00<00:08, 11.81it/s]\n",
      "Current agent: 12 - at((17,1),0) => at((5,11),58):  58%|█████▊    | 57/99 [00:18<00:13,  3.03it/s]\n",
      "Current agent: 13 - at((27,3),0) => at((17,5),44):  43%|████▎     | 43/99 [00:11<00:14,  3.83it/s]\n",
      "Current agent: 14 - at((8,23),0) => at((13,29),15):  14%|█▍        | 14/99 [00:01<00:10,  7.80it/s]\n",
      "Current agent: 15 - at((21,29),0) => at((17,24),9):   8%|▊         | 8/99 [00:00<00:09,  9.66it/s]\n"
     ]
    },
    {
     "name": "stdout",
     "output_type": "stream",
     "text": [
      "instances/maze_s20_a15_h68.lp\n",
      "instances/maze_x10_y10_a15_h68.lp\n"
     ]
    },
    {
     "name": "stderr",
     "output_type": "stream",
     "text": [
      "Current agent: 1 - at((2,1),0) => at((5,17),33):  32%|███▏      | 32/99 [00:03<00:07,  8.87it/s]\n",
      "Current agent: 2 - at((11,9),0) => at((17,19),20):  19%|█▉        | 19/99 [00:01<00:06, 12.32it/s]\n",
      "Current agent: 3 - at((17,6),0) => at((1,10),52):  52%|█████▏    | 51/99 [00:07<00:07,  6.62it/s]\n",
      "Current agent: 4 - at((12,7),0) => at((3,19),45):  44%|████▍     | 44/99 [00:05<00:07,  7.38it/s]\n",
      "Current agent: 5 - at((4,13),0) => at((13,19),25):  24%|██▍       | 24/99 [00:02<00:06, 10.76it/s]\n",
      "Current agent: 6 - at((13,19),0) => at((17,7),68):  68%|██████▊   | 67/99 [00:12<00:06,  5.31it/s]\n",
      "Current agent: 7 - at((19,6),0) => at((19,11),43):  42%|████▏     | 42/99 [00:05<00:07,  7.48it/s]\n",
      "Current agent: 8 - at((13,1),0) => at((11,6),11):  10%|█         | 10/99 [00:00<00:05, 17.55it/s]\n",
      "Current agent: 9 - at((5,12),0) => at((10,7),32):  31%|███▏      | 31/99 [00:03<00:07,  9.16it/s]\n",
      "Current agent: 10 - at((9,4),0) => at((1,18),36):  35%|███▌      | 35/99 [00:04<00:07,  8.43it/s]\n",
      "Current agent: 11 - at((7,16),0) => at((5,10),8):   7%|▋         | 7/99 [00:00<00:04, 21.15it/s]\n",
      "Current agent: 12 - at((8,17),0) => at((13,8),42):  41%|████▏     | 41/99 [00:05<00:07,  7.70it/s]\n",
      "Current agent: 13 - at((10,5),0) => at((1,16),36):  35%|███▌      | 35/99 [00:04<00:07,  8.53it/s]\n",
      "Current agent: 14 - at((5,19),0) => at((13,17),10):   9%|▉         | 9/99 [00:00<00:04, 18.63it/s]\n",
      "Current agent: 15 - at((11,18),0) => at((1,3),39):  38%|███▊      | 38/99 [00:04<00:07,  8.07it/s]\n"
     ]
    },
    {
     "name": "stdout",
     "output_type": "stream",
     "text": [
      "instances/room_s47_a15_w5_h37.lp\n",
      "instances/maze_s10_a15_h38.lp\n",
      "instances/random_x10_y10_a5_c50_h15.lp\n"
     ]
    },
    {
     "name": "stderr",
     "output_type": "stream",
     "text": [
      "Current agent: 1 - at((9,10),0) => at((1,6),14):  13%|█▎        | 13/99 [00:00<00:01, 49.50it/s]\n",
      "Current agent: 2 - at((3,5),0) => at((10,1),11):  10%|█         | 10/99 [00:00<00:01, 62.07it/s]\n",
      "Current agent: 3 - at((4,3),0) => at((10,6),11):  10%|█         | 10/99 [00:00<00:01, 66.36it/s]\n",
      "Current agent: 4 - at((6,9),0) => at((9,7),5):   4%|▍         | 4/99 [00:00<00:01, 80.68it/s]\n",
      "Current agent: 5 - at((10,5),0) => at((3,3),11):  10%|█         | 10/99 [00:00<00:01, 49.61it/s]\n"
     ]
    },
    {
     "name": "stdout",
     "output_type": "stream",
     "text": [
      "instances/random_x20_y20_a15_c85_h21.lp\n"
     ]
    },
    {
     "name": "stderr",
     "output_type": "stream",
     "text": [
      "Current agent: 1 - at((15,5),0) => at((18,17),21):  20%|██        | 20/99 [00:03<00:12,  6.21it/s]\n",
      "Current agent: 2 - at((13,17),0) => at((12,17),1):   0%|          | 0/99 [00:00<?, ?it/s]\n",
      "Current agent: 3 - at((19,17),0) => at((9,15),12):  11%|█         | 11/99 [00:01<00:10,  8.77it/s]\n",
      "Current agent: 4 - at((18,5),0) => at((13,4),8):   7%|▋         | 7/99 [00:00<00:08, 10.30it/s]\n",
      "Current agent: 5 - at((15,15),0) => at((4,15),13):  12%|█▏        | 12/99 [00:01<00:10,  8.36it/s]\n",
      "Current agent: 6 - at((15,11),0) => at((2,3),21):  20%|██        | 20/99 [00:03<00:12,  6.50it/s]\n",
      "Current agent: 7 - at((13,10),0) => at((19,6),10):   9%|▉         | 9/99 [00:00<00:09,  9.37it/s]\n",
      "Current agent: 8 - at((11,2),0) => at((6,14),17):  16%|█▌        | 16/99 [00:02<00:11,  7.25it/s]\n",
      "Current agent: 9 - at((7,20),0) => at((3,11),13):  12%|█▏        | 12/99 [00:01<00:10,  8.17it/s]\n",
      "Current agent: 10 - at((5,15),0) => at((9,4),15):  14%|█▍        | 14/99 [00:01<00:10,  7.87it/s]\n",
      "Current agent: 11 - at((16,20),0) => at((8,7),21):  20%|██        | 20/99 [00:03<00:12,  6.46it/s]\n",
      "Current agent: 12 - at((2,17),0) => at((14,16),13):  12%|█▏        | 12/99 [00:01<00:10,  8.29it/s]\n",
      "Current agent: 13 - at((2,18),0) => at((4,3),19):  18%|█▊        | 18/99 [00:02<00:11,  6.85it/s]\n",
      "Current agent: 14 - at((5,12),0) => at((17,11),13):  12%|█▏        | 12/99 [00:01<00:10,  8.46it/s]\n",
      "Current agent: 15 - at((4,17),0) => at((14,13),14):  13%|█▎        | 13/99 [00:01<00:10,  8.05it/s]\n"
     ]
    },
    {
     "name": "stdout",
     "output_type": "stream",
     "text": [
      "instances/random_s10_a5_c50_h16.lp\n",
      "instances/random_x15_y15_a10_c85_h19.lp\n"
     ]
    },
    {
     "name": "stderr",
     "output_type": "stream",
     "text": [
      "Current agent: 1 - at((4,3),0) => at((14,12),19):  18%|█▊        | 18/99 [00:01<00:08, 10.11it/s]\n",
      "Current agent: 2 - at((3,12),0) => at((7,7),9):   8%|▊         | 8/99 [00:00<00:05, 15.89it/s]\n",
      "Current agent: 3 - at((14,13),0) => at((6,14),11):  10%|█         | 10/99 [00:00<00:06, 14.56it/s]\n",
      "Current agent: 4 - at((14,5),0) => at((3,12),18):  17%|█▋        | 17/99 [00:01<00:07, 11.29it/s]\n",
      "Current agent: 5 - at((8,13),0) => at((3,15),7):   6%|▌         | 6/99 [00:00<00:05, 18.55it/s]\n",
      "Current agent: 6 - at((11,9),0) => at((5,3),12):  11%|█         | 11/99 [00:00<00:06, 13.84it/s]\n",
      "Current agent: 7 - at((11,5),0) => at((2,11),15):  14%|█▍        | 14/99 [00:01<00:06, 12.40it/s]\n",
      "Current agent: 8 - at((8,2),0) => at((7,5),4):   3%|▎         | 3/99 [00:00<00:05, 16.58it/s]\n",
      "Current agent: 9 - at((9,15),0) => at((4,8),12):  11%|█         | 11/99 [00:00<00:07, 11.26it/s]\n",
      "Current agent: 10 - at((6,9),0) => at((13,11),11):  10%|█         | 10/99 [00:00<00:06, 14.49it/s]\n"
     ]
    },
    {
     "name": "stdout",
     "output_type": "stream",
     "text": [
      "instances/random_x10_y10_a5_c50_h26.lp\n"
     ]
    },
    {
     "name": "stderr",
     "output_type": "stream",
     "text": [
      "Current agent: 1 - at((10,1),0) => at((4,8),17):  16%|█▌        | 16/99 [00:00<00:01, 50.12it/s]\n",
      "Current agent: 2 - at((1,10),0) => at((7,1),23):  22%|██▏       | 22/99 [00:00<00:02, 37.53it/s]\n",
      "Current agent: 3 - at((2,10),0) => at((5,5),26):  25%|██▌       | 25/99 [00:00<00:02, 36.05it/s]\n",
      "Current agent: 4 - at((10,6),0) => at((4,7),11):  10%|█         | 10/99 [00:00<00:01, 67.39it/s]\n",
      "Current agent: 5 - at((10,9),0) => at((9,2),8):   7%|▋         | 7/99 [00:00<00:01, 85.28it/s]\n"
     ]
    },
    {
     "name": "stdout",
     "output_type": "stream",
     "text": [
      "instances/random_x15_y15_a15_c85_h21.lp\n"
     ]
    },
    {
     "name": "stderr",
     "output_type": "stream",
     "text": [
      "Current agent: 1 - at((12,7),0) => at((2,13),16):  15%|█▌        | 15/99 [00:01<00:07, 11.50it/s]\n",
      "Current agent: 2 - at((11,2),0) => at((13,6),6):   5%|▌         | 5/99 [00:00<00:04, 19.74it/s]\n",
      "Current agent: 3 - at((15,12),0) => at((13,13),3):   2%|▏         | 2/99 [00:00<00:04, 19.89it/s]\n",
      "Current agent: 4 - at((5,12),0) => at((14,15),12):  11%|█         | 11/99 [00:00<00:06, 13.41it/s]\n",
      "Current agent: 5 - at((3,9),0) => at((15,1),20):  19%|█▉        | 19/99 [00:01<00:07, 10.51it/s]\n",
      "Current agent: 6 - at((11,11),0) => at((15,14),7):   6%|▌         | 6/99 [00:00<00:05, 16.32it/s]\n",
      "Current agent: 7 - at((15,13),0) => at((6,11),11):  10%|█         | 10/99 [00:00<00:06, 14.53it/s]\n",
      "Current agent: 8 - at((6,14),0) => at((6,6),8):   7%|▋         | 7/99 [00:00<00:05, 16.66it/s]\n",
      "Current agent: 9 - at((8,12),0) => at((5,10),5):   4%|▍         | 4/99 [00:00<00:04, 21.25it/s]\n",
      "Current agent: 10 - at((2,4),0) => at((14,7),15):  14%|█▍        | 14/99 [00:01<00:09,  9.24it/s]\n",
      "Current agent: 11 - at((8,7),0) => at((3,5),11):  10%|█         | 10/99 [00:00<00:08, 11.04it/s]\n",
      "Current agent: 12 - at((2,13),0) => at((11,1),21):  20%|██        | 20/99 [00:01<00:07, 10.25it/s]\n",
      "Current agent: 13 - at((7,14),0) => at((5,8),8):   7%|▋         | 7/99 [00:00<00:05, 16.55it/s]\n",
      "Current agent: 14 - at((2,7),0) => at((2,1),8):   7%|▋         | 7/99 [00:00<00:05, 16.99it/s]\n",
      "Current agent: 15 - at((4,5),0) => at((15,10),18):  17%|█▋        | 17/99 [00:01<00:07, 11.07it/s]\n"
     ]
    },
    {
     "name": "stdout",
     "output_type": "stream",
     "text": [
      "instances/maze_x10_y10_a20_h58.lp\n"
     ]
    },
    {
     "name": "stderr",
     "output_type": "stream",
     "text": [
      "Current agent: 1 - at((3,18),0) => at((17,7),55):  55%|█████▍    | 54/99 [00:09<00:07,  5.97it/s]\n",
      "Current agent: 2 - at((7,13),0) => at((11,6),33):  32%|███▏      | 32/99 [00:03<00:07,  8.88it/s]\n",
      "Current agent: 3 - at((15,19),0) => at((13,14),15):  14%|█▍        | 14/99 [00:00<00:05, 14.49it/s]\n",
      "Current agent: 4 - at((16,3),0) => at((3,7),29):  28%|██▊       | 28/99 [00:03<00:08,  7.93it/s]\n",
      "Current agent: 5 - at((7,16),0) => at((2,1),22):  21%|██        | 21/99 [00:01<00:06, 11.55it/s]\n",
      "Current agent: 6 - at((9,16),0) => at((17,9),49):  48%|████▊     | 48/99 [00:07<00:08,  6.14it/s]\n",
      "Current agent: 7 - at((3,3),0) => at((3,4),1):   0%|          | 0/99 [00:00<?, ?it/s]\n",
      "Current agent: 8 - at((11,11),0) => at((4,13),37):  36%|███▋      | 36/99 [00:04<00:07,  8.38it/s]\n",
      "Current agent: 9 - at((7,1),0) => at((19,19),34):  33%|███▎      | 33/99 [00:03<00:07,  8.76it/s]\n",
      "Current agent: 10 - at((1,6),0) => at((19,8),34):  33%|███▎      | 33/99 [00:03<00:07,  9.00it/s]\n",
      "Current agent: 11 - at((15,1),0) => at((3,14),41):  40%|████      | 40/99 [00:05<00:07,  7.84it/s]\n",
      "Current agent: 12 - at((17,7),0) => at((17,3),4):   3%|▎         | 3/99 [00:00<00:03, 25.18it/s]\n",
      "Current agent: 13 - at((11,2),0) => at((13,9),13):  12%|█▏        | 12/99 [00:00<00:05, 15.66it/s]\n",
      "Current agent: 14 - at((9,9),0) => at((11,3),28):  27%|██▋       | 27/99 [00:02<00:07,  9.98it/s]\n",
      "Current agent: 15 - at((19,2),0) => at((5,12),40):  39%|███▉      | 39/99 [00:04<00:07,  7.93it/s]\n",
      "Current agent: 16 - at((1,15),0) => at((7,16),11):  10%|█         | 10/99 [00:00<00:06, 13.17it/s]\n",
      "Current agent: 17 - at((4,13),0) => at((15,18),58):  58%|█████▊    | 57/99 [00:10<00:07,  5.51it/s]\n",
      "Current agent: 18 - at((6,3),0) => at((9,15),33):  32%|███▏      | 32/99 [00:03<00:07,  9.11it/s]\n",
      "Current agent: 19 - at((18,11),0) => at((19,4),40):  39%|███▉      | 39/99 [00:04<00:07,  7.94it/s]\n",
      "Current agent: 20 - at((16,7),0) => at((4,5),24):  23%|██▎       | 23/99 [00:02<00:06, 11.11it/s]\n"
     ]
    },
    {
     "name": "stdout",
     "output_type": "stream",
     "text": [
      "instances/room_s29_a30_w5_h34.lp\n",
      "instances/room_x20_y20_a30_w5_h36.lp\n"
     ]
    },
    {
     "name": "stderr",
     "output_type": "stream",
     "text": [
      "Current agent: 1 - at((17,20),0) => at((9,3),25):  24%|██▍       | 24/99 [00:04<00:12,  5.86it/s]\n",
      "Current agent: 2 - at((19,5),0) => at((4,10),28):  27%|██▋       | 27/99 [00:06<00:16,  4.31it/s]\n",
      "Current agent: 3 - at((7,12),0) => at((15,15),11):  10%|█         | 10/99 [00:01<00:10,  8.45it/s]\n",
      "Current agent: 4 - at((8,10),0) => at((1,7),10):   9%|▉         | 9/99 [00:00<00:08, 10.22it/s]\n",
      "Current agent: 5 - at((19,3),0) => at((3,15),36):  35%|███▌      | 35/99 [00:07<00:13,  4.88it/s]\n",
      "Current agent: 6 - at((3,3),0) => at((19,5),22):  21%|██        | 21/99 [00:03<00:12,  6.14it/s]\n",
      "Current agent: 7 - at((13,10),0) => at((19,10),12):  11%|█         | 11/99 [00:01<00:09,  9.16it/s]\n",
      "Current agent: 8 - at((11,15),0) => at((7,9),10):   9%|▉         | 9/99 [00:00<00:09,  9.25it/s]\n",
      "Current agent: 9 - at((16,19),0) => at((17,4),24):  23%|██▎       | 23/99 [00:04<00:15,  4.80it/s]\n",
      "Current agent: 10 - at((7,1),0) => at((8,8),14):  13%|█▎        | 13/99 [00:01<00:10,  8.08it/s]\n",
      "Current agent: 11 - at((1,3),0) => at((13,17),26):  25%|██▌       | 25/99 [00:04<00:12,  6.06it/s]\n",
      "Current agent: 12 - at((4,1),0) => at((16,9),20):  19%|█▉        | 19/99 [00:02<00:12,  6.52it/s]\n",
      "Current agent: 13 - at((18,20),0) => at((10,4),24):  23%|██▎       | 23/99 [00:03<00:11,  6.41it/s]\n",
      "Current agent: 14 - at((5,5),0) => at((5,16),17):  16%|█▌        | 16/99 [00:02<00:10,  7.78it/s]\n",
      "Current agent: 15 - at((8,19),0) => at((1,1),29):  28%|██▊       | 28/99 [00:04<00:12,  5.70it/s]\n",
      "Current agent: 16 - at((11,16),0) => at((16,7),14):  13%|█▎        | 13/99 [00:01<00:10,  8.53it/s]\n",
      "Current agent: 17 - at((9,1),0) => at((15,9),14):  13%|█▎        | 13/99 [00:01<00:09,  8.61it/s]\n",
      "Current agent: 18 - at((1,17),0) => at((16,15),17):  16%|█▌        | 16/99 [00:02<00:10,  7.80it/s]\n",
      "Current agent: 19 - at((16,13),0) => at((9,7),13):  12%|█▏        | 12/99 [00:01<00:09,  9.00it/s]\n",
      "Current agent: 20 - at((1,10),0) => at((15,5),19):  18%|█▊        | 18/99 [00:03<00:14,  5.52it/s]\n",
      "Current agent: 21 - at((19,4),0) => at((15,16),26):  25%|██▌       | 25/99 [00:04<00:12,  6.06it/s]\n",
      "Current agent: 22 - at((9,3),0) => at((14,13),17):  16%|█▌        | 16/99 [00:02<00:10,  7.64it/s]\n",
      "Current agent: 23 - at((15,15),0) => at((16,11),5):   4%|▍         | 4/99 [00:00<00:07, 12.44it/s]\n",
      "Current agent: 24 - at((7,11),0) => at((17,16),15):  14%|█▍        | 14/99 [00:01<00:10,  8.25it/s]\n",
      "Current agent: 25 - at((20,18),0) => at((13,8),17):  16%|█▌        | 16/99 [00:02<00:11,  7.16it/s]\n",
      "Current agent: 26 - at((3,19),0) => at((8,9),19):  18%|█▊        | 18/99 [00:02<00:11,  6.79it/s]\n",
      "Current agent: 27 - at((4,8),0) => at((17,1),20):  19%|█▉        | 19/99 [00:03<00:14,  5.43it/s]\n",
      "Current agent: 28 - at((15,17),0) => at((12,7),13):  12%|█▏        | 12/99 [00:01<00:09,  9.01it/s]\n",
      "Current agent: 29 - at((17,19),0) => at((7,1),28):  27%|██▋       | 27/99 [00:04<00:12,  5.79it/s]\n",
      "Current agent: 30 - at((20,4),0) => at((15,2),9):   8%|▊         | 8/99 [00:00<00:09, 10.10it/s]\n"
     ]
    },
    {
     "name": "stdout",
     "output_type": "stream",
     "text": [
      "instances/maze_s10_a25_h45.lp\n",
      "instances/room_s47_a10_w5_h59.lp\n",
      "instances/random_x15_y15_a15_c50_h39.lp\n"
     ]
    },
    {
     "name": "stderr",
     "output_type": "stream",
     "text": [
      "Current agent: 1 - at((4,5),0) => at((4,1),6):   5%|▌         | 5/99 [00:00<00:02, 40.50it/s]\n",
      "Current agent: 2 - at((8,14),0) => at((11,10),9):   8%|▊         | 8/99 [00:00<00:04, 22.18it/s]\n",
      "Current agent: 3 - at((5,4),0) => at((10,11),18):  17%|█▋        | 17/99 [00:01<00:04, 16.49it/s]\n",
      "Current agent: 4 - at((12,10),0) => at((12,3),9):   8%|▊         | 8/99 [00:00<00:02, 34.51it/s]\n",
      "Current agent: 5 - at((13,12),0) => at((11,15),5):   4%|▍         | 4/99 [00:00<00:02, 42.81it/s]\n",
      "Current agent: 6 - at((7,6),0) => at((6,7),2):   1%|          | 1/99 [00:00<00:02, 34.73it/s]\n",
      "Current agent: 7 - at((4,2),0) => at((14,1),17):  16%|█▌        | 16/99 [00:00<00:03, 22.82it/s]\n",
      "Current agent: 8 - at((1,6),0) => at((7,1),13):  12%|█▏        | 12/99 [00:00<00:03, 23.97it/s]\n",
      "Current agent: 9 - at((14,12),0) => at((3,14),19):  18%|█▊        | 18/99 [00:00<00:04, 19.90it/s]\n",
      "Current agent: 10 - at((12,3),0) => at((14,6),5):   4%|▍         | 4/99 [00:00<00:02, 43.14it/s]\n",
      "Current agent: 11 - at((9,3),0) => at((12,1),7):   6%|▌         | 6/99 [00:00<00:02, 38.94it/s]\n",
      "Current agent: 12 - at((3,1),0) => at((6,5),7):   6%|▌         | 6/99 [00:00<00:03, 26.33it/s]\n",
      "Current agent: 13 - at((9,1),0) => at((2,8),34):  33%|███▎      | 33/99 [00:02<00:05, 13.09it/s]\n",
      "Current agent: 14 - at((6,14),0) => at((7,12),3):   2%|▏         | 2/99 [00:00<00:02, 36.54it/s]\n",
      "Current agent: 15 - at((1,14),0) => at((2,6),39):  38%|███▊      | 38/99 [00:03<00:04, 12.32it/s]\n"
     ]
    },
    {
     "name": "stdout",
     "output_type": "stream",
     "text": [
      "instances/random_x20_y20_a15_c50_h50.lp\n"
     ]
    },
    {
     "name": "stderr",
     "output_type": "stream",
     "text": [
      "Current agent: 1 - at((5,14),0) => at((6,18),7):   6%|▌         | 6/99 [00:00<00:04, 18.68it/s]\n",
      "Current agent: 2 - at((3,11),0) => at((2,9),3):   2%|▏         | 2/99 [00:00<00:03, 26.26it/s]\n",
      "Current agent: 3 - at((18,10),0) => at((17,18),13):  12%|█▏        | 12/99 [00:00<00:06, 14.01it/s]\n",
      "Current agent: 4 - at((11,3),0) => at((12,12),14):  13%|█▎        | 13/99 [00:00<00:05, 14.63it/s]\n",
      "Current agent: 5 - at((11,2),0) => at((11,11),13):  12%|█▏        | 12/99 [00:00<00:05, 15.56it/s]\n",
      "Current agent: 6 - at((13,14),0) => at((11,5),13):  12%|█▏        | 12/99 [00:00<00:05, 15.27it/s]\n",
      "Current agent: 7 - at((13,8),0) => at((17,2),14):  13%|█▎        | 13/99 [00:00<00:05, 14.44it/s]\n",
      "Current agent: 8 - at((17,18),0) => at((19,10),14):  13%|█▎        | 13/99 [00:00<00:05, 14.47it/s]\n",
      "Current agent: 9 - at((12,17),0) => at((11,13),7):   6%|▌         | 6/99 [00:00<00:04, 21.91it/s]\n",
      "Current agent: 10 - at((9,2),0) => at((13,16),20):  19%|█▉        | 19/99 [00:01<00:06, 11.91it/s]\n",
      "Current agent: 11 - at((7,16),0) => at((13,5),17):  16%|█▌        | 16/99 [00:01<00:06, 13.01it/s]\n",
      "Current agent: 12 - at((13,16),0) => at((1,10),24):  23%|██▎       | 23/99 [00:02<00:07, 10.63it/s]\n",
      "Current agent: 13 - at((14,19),0) => at((10,14),33):  32%|███▏      | 32/99 [00:04<00:09,  6.75it/s]\n",
      "Current agent: 14 - at((18,7),0) => at((8,5),20):  19%|█▉        | 19/99 [00:02<00:08,  9.04it/s]\n",
      "Current agent: 15 - at((13,20),0) => at((3,4),50):  49%|████▉     | 49/99 [00:07<00:07,  6.32it/s]\n"
     ]
    },
    {
     "name": "stdout",
     "output_type": "stream",
     "text": [
      "instances/random_x25_y25_a20_c50_h81.lp\n"
     ]
    },
    {
     "name": "stderr",
     "output_type": "stream",
     "text": [
      "Current agent: 1 - at((21,14),0) => at((2,18),51):  51%|█████     | 50/99 [00:12<00:11,  4.16it/s]\n",
      "Current agent: 2 - at((5,18),0) => at((18,11),60):  60%|█████▉    | 59/99 [00:16<00:10,  3.64it/s]\n",
      "Current agent: 3 - at((19,8),0) => at((12,7),8):   7%|▋         | 7/99 [00:00<00:07, 12.67it/s]\n",
      "Current agent: 4 - at((5,13),0) => at((23,9),58):  58%|█████▊    | 57/99 [00:14<00:10,  3.91it/s]\n",
      "Current agent: 5 - at((2,4),0) => at((17,23),38):  37%|███▋      | 37/99 [00:06<00:11,  5.40it/s]\n",
      "Current agent: 6 - at((11,22),0) => at((4,12),17):  16%|█▌        | 16/99 [00:01<00:09,  9.05it/s]\n",
      "Current agent: 7 - at((10,24),0) => at((13,21),6):   5%|▌         | 5/99 [00:00<00:06, 14.53it/s]\n",
      "Current agent: 8 - at((14,6),0) => at((25,17),66):  66%|██████▌   | 65/99 [00:18<00:09,  3.47it/s]\n",
      "Current agent: 9 - at((20,4),0) => at((11,6),15):  14%|█▍        | 14/99 [00:01<00:08,  9.48it/s]\n",
      "Current agent: 10 - at((12,8),0) => at((25,14),65):  65%|██████▍   | 64/99 [00:18<00:09,  3.54it/s]\n",
      "Current agent: 11 - at((6,1),0) => at((16,15),24):  23%|██▎       | 23/99 [00:03<00:10,  7.32it/s]\n",
      "Current agent: 12 - at((12,2),0) => at((23,1),36):  35%|███▌      | 35/99 [00:06<00:11,  5.64it/s]\n",
      "Current agent: 13 - at((9,1),0) => at((17,1),28):  27%|██▋       | 27/99 [00:04<00:10,  6.59it/s]\n",
      "Current agent: 14 - at((24,4),0) => at((24,21),73):  73%|███████▎  | 72/99 [00:22<00:08,  3.22it/s]\n",
      "Current agent: 15 - at((19,18),0) => at((11,16),40):  39%|███▉      | 39/99 [00:07<00:11,  5.17it/s]\n",
      "Current agent: 16 - at((17,4),0) => at((20,23),66):  66%|██████▌   | 65/99 [00:18<00:09,  3.48it/s]\n",
      "Current agent: 17 - at((1,20),0) => at((25,15),51):  51%|█████     | 50/99 [00:13<00:13,  3.65it/s]\n",
      "Current agent: 18 - at((22,18),0) => at((13,18),33):  32%|███▏      | 32/99 [00:05<00:11,  5.90it/s]\n",
      "Current agent: 19 - at((6,11),0) => at((3,17),21):  20%|██        | 20/99 [00:02<00:09,  7.96it/s]\n",
      "Current agent: 20 - at((6,18),0) => at((3,4),27):  26%|██▋       | 26/99 [00:04<00:12,  5.95it/s]\n"
     ]
    },
    {
     "name": "stdout",
     "output_type": "stream",
     "text": [
      "instances/random_x10_y10_a5_c90_h12.lp\n"
     ]
    },
    {
     "name": "stderr",
     "output_type": "stream",
     "text": [
      "Current agent: 1 - at((2,7),0) => at((9,2),12):  11%|█         | 11/99 [00:00<00:03, 26.76it/s]\n",
      "Current agent: 2 - at((2,9),0) => at((1,6),4):   3%|▎         | 3/99 [00:00<00:02, 43.23it/s]\n",
      "Current agent: 3 - at((9,10),0) => at((10,10),1):   0%|          | 0/99 [00:00<?, ?it/s]\n",
      "Current agent: 4 - at((7,1),0) => at((5,5),6):   5%|▌         | 5/99 [00:00<00:02, 42.68it/s]\n",
      "Current agent: 5 - at((9,8),0) => at((4,9),6):   5%|▌         | 5/99 [00:00<00:03, 30.47it/s]\n"
     ]
    },
    {
     "name": "stdout",
     "output_type": "stream",
     "text": [
      "instances/random_x15_y15_a15_c50_h42.lp\n"
     ]
    },
    {
     "name": "stderr",
     "output_type": "stream",
     "text": [
      "Current agent: 1 - at((11,13),0) => at((6,8),20):  19%|█▉        | 19/99 [00:01<00:04, 18.60it/s]\n",
      "Current agent: 2 - at((11,6),0) => at((11,9),3):   2%|▏         | 2/99 [00:00<00:03, 25.98it/s]\n",
      "Current agent: 3 - at((4,5),0) => at((10,14),21):  20%|██        | 20/99 [00:01<00:04, 18.04it/s]\n",
      "Current agent: 4 - at((10,13),0) => at((4,14),13):  12%|█▏        | 12/99 [00:00<00:03, 26.36it/s]\n",
      "Current agent: 5 - at((5,3),0) => at((1,6),7):   6%|▌         | 6/99 [00:00<00:02, 39.87it/s]\n",
      "Current agent: 6 - at((4,9),0) => at((14,14),21):  20%|██        | 20/99 [00:01<00:05, 15.28it/s]\n",
      "Current agent: 7 - at((7,6),0) => at((5,2),6):   5%|▌         | 5/99 [00:00<00:02, 36.60it/s]\n",
      "Current agent: 8 - at((3,3),0) => at((3,9),40):  39%|███▉      | 39/99 [00:03<00:05, 11.01it/s]\n",
      "Current agent: 9 - at((9,10),0) => at((2,3),24):  23%|██▎       | 23/99 [00:01<00:04, 17.05it/s]\n",
      "Current agent: 10 - at((1,6),0) => at((4,9),38):  37%|███▋      | 37/99 [00:03<00:05, 11.46it/s]\n",
      "Current agent: 11 - at((11,12),0) => at((2,14),17):  16%|█▌        | 16/99 [00:00<00:03, 23.00it/s]\n",
      "Current agent: 12 - at((11,14),0) => at((12,4),11):  10%|█         | 10/99 [00:00<00:02, 31.53it/s]\n",
      "Current agent: 13 - at((13,1),0) => at((12,12),16):  15%|█▌        | 15/99 [00:00<00:03, 24.57it/s]\n",
      "Current agent: 14 - at((2,14),0) => at((10,11),19):  18%|█▊        | 18/99 [00:00<00:04, 20.21it/s]\n",
      "Current agent: 15 - at((2,13),0) => at((3,2),40):  39%|███▉      | 39/99 [00:03<00:04, 12.11it/s]\n"
     ]
    },
    {
     "name": "stdout",
     "output_type": "stream",
     "text": [
      "instances/random_x15_y15_a5_c90_h16.lp\n"
     ]
    },
    {
     "name": "stderr",
     "output_type": "stream",
     "text": [
      "Current agent: 1 - at((8,14),0) => at((5,1),16):  15%|█▌        | 15/99 [00:01<00:07, 10.56it/s]\n",
      "Current agent: 2 - at((3,15),0) => at((6,11),7):   6%|▌         | 6/99 [00:00<00:05, 15.92it/s]\n",
      "Current agent: 3 - at((3,11),0) => at((12,15),13):  12%|█▏        | 12/99 [00:00<00:07, 12.16it/s]\n",
      "Current agent: 4 - at((14,2),0) => at((4,3),11):  10%|█         | 10/99 [00:00<00:06, 13.55it/s]\n",
      "Current agent: 5 - at((5,8),0) => at((15,7),13):  12%|█▏        | 12/99 [00:00<00:06, 12.51it/s]\n"
     ]
    },
    {
     "name": "stdout",
     "output_type": "stream",
     "text": [
      "instances/maze_x15_y15_a10_h74.lp\n"
     ]
    },
    {
     "name": "stderr",
     "output_type": "stream",
     "text": [
      "Current agent: 1 - at((12,15),0) => at((27,16),30):  29%|██▉       | 29/99 [00:05<00:14,  4.85it/s]\n",
      "Current agent: 2 - at((5,9),0) => at((9,23),30):  29%|██▉       | 29/99 [00:05<00:13,  5.05it/s]\n",
      "Current agent: 3 - at((23,15),0) => at((4,9),29):  28%|██▊       | 28/99 [00:05<00:14,  4.88it/s]\n",
      "Current agent: 4 - at((11,5),0) => at((5,14),33):  32%|███▏      | 32/99 [00:06<00:14,  4.70it/s]\n",
      "Current agent: 5 - at((19,15),0) => at((24,17),31):  30%|███       | 30/99 [00:06<00:13,  4.96it/s]\n",
      "Current agent: 6 - at((29,3),0) => at((13,11),44):  43%|████▎     | 43/99 [00:11<00:14,  3.81it/s]\n",
      "Current agent: 7 - at((7,9),0) => at((3,13),32):  31%|███▏      | 31/99 [00:06<00:13,  4.86it/s]\n",
      "Current agent: 8 - at((16,19),0) => at((15,7),53):  53%|█████▎    | 52/99 [00:15<00:14,  3.27it/s]\n",
      "Current agent: 9 - at((21,29),0) => at((11,25),18):  17%|█▋        | 17/99 [00:02<00:11,  6.97it/s]\n",
      "Current agent: 10 - at((25,25),0) => at((27,17),74):  74%|███████▎  | 73/99 [00:29<00:10,  2.48it/s]\n"
     ]
    },
    {
     "name": "stdout",
     "output_type": "stream",
     "text": [
      "instances/room_x15_y15_a30_w5_h22.lp\n"
     ]
    },
    {
     "name": "stderr",
     "output_type": "stream",
     "text": [
      "Current agent: 1 - at((13,11),0) => at((11,2),15):  14%|█▍        | 14/99 [00:01<00:07, 11.49it/s]\n",
      "Current agent: 2 - at((10,9),0) => at((15,8),8):   7%|▋         | 7/99 [00:00<00:05, 17.74it/s]\n",
      "Current agent: 3 - at((7,3),0) => at((8,9),7):   6%|▌         | 6/99 [00:00<00:04, 19.65it/s]\n",
      "Current agent: 4 - at((13,7),0) => at((11,1),10):   9%|▉         | 9/99 [00:00<00:05, 15.86it/s]\n",
      "Current agent: 5 - at((8,12),0) => at((7,9),4):   3%|▎         | 3/99 [00:00<00:04, 22.41it/s]\n",
      "Current agent: 6 - at((11,8),0) => at((12,13),8):   7%|▋         | 7/99 [00:00<00:06, 13.51it/s]\n",
      "Current agent: 7 - at((7,13),0) => at((7,15),2):   1%|          | 1/99 [00:00<00:06, 14.18it/s]\n",
      "Current agent: 8 - at((2,13),0) => at((3,15),3):   2%|▏         | 2/99 [00:00<00:05, 17.57it/s]\n",
      "Current agent: 9 - at((10,11),0) => at((13,10),4):   3%|▎         | 3/99 [00:00<00:05, 17.85it/s]\n",
      "Current agent: 10 - at((13,9),0) => at((8,2),14):  13%|█▎        | 13/99 [00:00<00:06, 13.04it/s]\n",
      "Current agent: 11 - at((13,15),0) => at((11,10),7):   6%|▌         | 6/99 [00:00<00:04, 19.59it/s]\n",
      "Current agent: 12 - at((5,10),0) => at((7,2),12):  11%|█         | 11/99 [00:00<00:06, 14.28it/s]\n",
      "Current agent: 13 - at((3,11),0) => at((15,11),16):  15%|█▌        | 15/99 [00:01<00:06, 12.03it/s]\n",
      "Current agent: 14 - at((3,9),0) => at((2,9),1):   0%|          | 0/99 [00:00<?, ?it/s]\n",
      "Current agent: 15 - at((15,1),0) => at((2,10),22):  21%|██        | 21/99 [00:02<00:07, 10.34it/s]\n",
      "Current agent: 16 - at((11,5),0) => at((5,3),8):   7%|▋         | 7/99 [00:00<00:05, 17.71it/s]\n",
      "Current agent: 17 - at((15,8),0) => at((9,2),14):  13%|█▎        | 13/99 [00:00<00:06, 13.08it/s]\n",
      "Current agent: 18 - at((3,2),0) => at((3,13),17):  16%|█▌        | 16/99 [00:01<00:07, 11.82it/s]\n",
      "Current agent: 19 - at((4,4),0) => at((8,8),10):   9%|▉         | 9/99 [00:00<00:05, 15.10it/s]\n",
      "Current agent: 20 - at((6,13),0) => at((10,7),10):   9%|▉         | 9/99 [00:00<00:05, 15.63it/s]\n",
      "Current agent: 21 - at((13,8),0) => at((1,6),18):  17%|█▋        | 17/99 [00:01<00:07, 11.29it/s]\n",
      "Current agent: 22 - at((1,7),0) => at((4,14),10):   9%|▉         | 9/99 [00:00<00:05, 15.49it/s]\n",
      "Current agent: 23 - at((9,13),0) => at((4,12),6):   5%|▌         | 5/99 [00:00<00:04, 20.68it/s]\n",
      "Current agent: 24 - at((13,12),0) => at((10,2),17):  16%|█▌        | 16/99 [00:01<00:07, 11.57it/s]\n",
      "Current agent: 25 - at((2,7),0) => at((13,8),16):  15%|█▌        | 15/99 [00:01<00:06, 12.01it/s]\n",
      "Current agent: 26 - at((3,1),0) => at((9,4),9):   8%|▊         | 8/99 [00:00<00:05, 16.28it/s]\n",
      "Current agent: 27 - at((4,13),0) => at((2,5),12):  11%|█         | 11/99 [00:00<00:06, 13.73it/s]\n",
      "Current agent: 28 - at((12,13),0) => at((14,13),2):   1%|          | 1/99 [00:00<00:05, 17.27it/s]\n",
      "Current agent: 29 - at((4,10),0) => at((5,4),13):  12%|█▏        | 12/99 [00:00<00:06, 13.62it/s]\n",
      "Current agent: 30 - at((1,11),0) => at((4,4),10):   9%|▉         | 9/99 [00:00<00:05, 15.70it/s]\n"
     ]
    },
    {
     "name": "stdout",
     "output_type": "stream",
     "text": [
      "instances/room_s47_a5_w5_h50.lp\n",
      "instances/random_s40_a35_c75_h54.lp\n",
      "instances/maze_x10_y10_a5_h68.lp\n"
     ]
    },
    {
     "name": "stderr",
     "output_type": "stream",
     "text": [
      "Current agent: 1 - at((17,16),0) => at((5,17),67):  67%|██████▋   | 66/99 [00:13<00:06,  4.86it/s]\n",
      "Current agent: 2 - at((4,17),0) => at((3,17),1):   0%|          | 0/99 [00:00<?, ?it/s]\n",
      "Current agent: 3 - at((1,7),0) => at((1,13),18):  17%|█▋        | 17/99 [00:01<00:06, 13.42it/s]\n",
      "Current agent: 4 - at((9,14),0) => at((17,11),61):  61%|██████    | 60/99 [00:10<00:06,  5.87it/s]\n",
      "Current agent: 5 - at((17,15),0) => at((19,19),6):   5%|▌         | 5/99 [00:00<00:03, 24.24it/s]\n"
     ]
    },
    {
     "name": "stdout",
     "output_type": "stream",
     "text": [
      "instances/random_s30_a25_c75_h50.lp\n",
      "instances/room_s19_a25_w4_h30.lp\n",
      "instances/random_s20_a15_c50_h43.lp\n",
      "instances/random_s10_a5_c75_h14.lp\n",
      "instances/room_x10_y15_a40_w5_h23.lp\n"
     ]
    },
    {
     "name": "stderr",
     "output_type": "stream",
     "text": [
      "Current agent: 1 - at((1,1),0) => at((10,9),17):  16%|█▌        | 16/99 [00:01<00:05, 14.78it/s]\n",
      "Current agent: 2 - at((2,10),0) => at((8,12),12):  11%|█         | 11/99 [00:00<00:04, 18.53it/s]\n",
      "Current agent: 3 - at((8,11),0) => at((10,8),5):   4%|▍         | 4/99 [00:00<00:03, 29.83it/s]\n",
      "Current agent: 4 - at((3,5),0) => at((1,2),5):   4%|▍         | 4/99 [00:00<00:02, 32.03it/s]\n",
      "Current agent: 5 - at((7,6),0) => at((10,14),11):  10%|█         | 10/99 [00:00<00:04, 21.55it/s]\n",
      "Current agent: 6 - at((9,2),0) => at((10,1),2):   1%|          | 1/99 [00:00<00:03, 24.97it/s]\n",
      "Current agent: 7 - at((3,14),0) => at((10,4),21):  20%|██        | 20/99 [00:01<00:05, 13.67it/s]\n",
      "Current agent: 8 - at((9,5),0) => at((5,11),10):   9%|▉         | 9/99 [00:00<00:03, 22.57it/s]\n",
      "Current agent: 9 - at((8,14),0) => at((7,2),13):  12%|█▏        | 12/99 [00:00<00:04, 19.50it/s]\n",
      "Current agent: 10 - at((5,15),0) => at((2,7),13):  12%|█▏        | 12/99 [00:00<00:04, 19.28it/s]\n",
      "Current agent: 11 - at((8,10),0) => at((8,3),9):   8%|▊         | 8/99 [00:00<00:03, 24.18it/s]\n",
      "Current agent: 12 - at((8,4),0) => at((2,13),17):  16%|█▌        | 16/99 [00:00<00:05, 16.02it/s]\n",
      "Current agent: 13 - at((10,4),0) => at((3,4),7):   6%|▌         | 6/99 [00:00<00:03, 24.41it/s]\n",
      "Current agent: 14 - at((5,13),0) => at((1,9),8):   7%|▋         | 7/99 [00:00<00:03, 26.98it/s]\n",
      "Current agent: 15 - at((3,15),0) => at((1,10),7):   6%|▌         | 6/99 [00:00<00:03, 28.71it/s]\n",
      "Current agent: 16 - at((5,9),0) => at((9,3),10):   9%|▉         | 9/99 [00:00<00:03, 22.56it/s]\n",
      "Current agent: 17 - at((9,10),0) => at((10,10),1):   0%|          | 0/99 [00:00<?, ?it/s]\n",
      "Current agent: 18 - at((8,15),0) => at((1,11),17):  16%|█▌        | 16/99 [00:01<00:05, 15.91it/s]\n",
      "Current agent: 19 - at((1,15),0) => at((3,9),8):   7%|▋         | 7/99 [00:00<00:03, 25.78it/s]\n",
      "Current agent: 20 - at((1,14),0) => at((3,7),9):   8%|▊         | 8/99 [00:00<00:03, 24.68it/s]\n",
      "Current agent: 21 - at((10,15),0) => at((2,14),23):  22%|██▏       | 22/99 [00:01<00:06, 11.17it/s]\n",
      "Current agent: 22 - at((8,9),0) => at((1,8),8):   7%|▋         | 7/99 [00:00<00:03, 25.30it/s]\n",
      "Current agent: 23 - at((9,11),0) => at((10,2),14):  13%|█▎        | 13/99 [00:00<00:04, 17.92it/s]\n",
      "Current agent: 24 - at((1,11),0) => at((3,8),5):   4%|▍         | 4/99 [00:00<00:03, 30.30it/s]\n",
      "Current agent: 25 - at((7,10),0) => at((5,10),6):   5%|▌         | 5/99 [00:00<00:03, 24.89it/s]\n",
      "Current agent: 26 - at((7,14),0) => at((4,1),18):  17%|█▋        | 17/99 [00:01<00:05, 15.07it/s]\n",
      "Current agent: 27 - at((2,4),0) => at((7,7),8):   7%|▋         | 7/99 [00:00<00:04, 21.00it/s]\n",
      "Current agent: 28 - at((10,9),0) => at((8,1),12):  11%|█         | 11/99 [00:00<00:05, 15.42it/s]\n",
      "Current agent: 29 - at((1,7),0) => at((2,2),6):   5%|▌         | 5/99 [00:00<00:03, 27.91it/s]\n",
      "Current agent: 30 - at((2,2),0) => at((9,2),11):  10%|█         | 10/99 [00:00<00:04, 21.55it/s]\n",
      "Current agent: 31 - at((10,5),0) => at((4,5),8):   7%|▋         | 7/99 [00:00<00:03, 26.11it/s]\n",
      "Current agent: 32 - at((8,1),0) => at((7,13),15):  14%|█▍        | 14/99 [00:01<00:06, 13.38it/s]\n",
      "Current agent: 33 - at((2,9),0) => at((9,14),14):  13%|█▎        | 13/99 [00:00<00:05, 15.33it/s]\n",
      "Current agent: 34 - at((2,3),0) => at((9,1),11):  10%|█         | 10/99 [00:00<00:04, 21.72it/s]\n",
      "Current agent: 35 - at((2,14),0) => at((3,11),6):   5%|▌         | 5/99 [00:00<00:04, 21.25it/s]\n",
      "Current agent: 36 - at((10,11),0) => at((1,12),16):  15%|█▌        | 15/99 [00:00<00:05, 16.41it/s]\n",
      "Current agent: 37 - at((10,7),0) => at((9,5),7):   6%|▌         | 6/99 [00:00<00:03, 25.93it/s]\n",
      "Current agent: 38 - at((3,2),0) => at((5,3),3):   2%|▏         | 2/99 [00:00<00:02, 32.77it/s]\n",
      "Current agent: 39 - at((2,1),0) => at((7,14),20):  19%|█▉        | 19/99 [00:01<00:05, 14.35it/s]\n",
      "Current agent: 40 - at((7,13),0) => at((3,5),16):  15%|█▌        | 15/99 [00:00<00:05, 16.35it/s]\n"
     ]
    },
    {
     "name": "stdout",
     "output_type": "stream",
     "text": [
      "instances/room_s29_a20_w5_h26.lp\n",
      "instances/random_x10_y10_a5_c50_h22.lp\n"
     ]
    },
    {
     "name": "stderr",
     "output_type": "stream",
     "text": [
      "Current agent: 1 - at((10,5),0) => at((9,1),5):   4%|▍         | 4/99 [00:00<00:01, 85.83it/s]\n",
      "Current agent: 2 - at((6,9),0) => at((5,10),6):   5%|▌         | 5/99 [00:00<00:01, 73.21it/s]\n",
      "Current agent: 3 - at((8,8),0) => at((7,1),12):  11%|█         | 11/99 [00:00<00:01, 69.47it/s]\n",
      "Current agent: 4 - at((5,8),0) => at((1,8),6):   5%|▌         | 5/99 [00:00<00:01, 86.64it/s]\n",
      "Current agent: 5 - at((9,1),0) => at((1,7),22):  21%|██        | 21/99 [00:00<00:01, 40.78it/s]\n"
     ]
    },
    {
     "name": "stdout",
     "output_type": "stream",
     "text": [
      "instances/maze_s15_a20_h98.lp\n",
      "instances/room_s19_a5_w4_h25.lp\n",
      "instances/random_x25_y25_a25_c78_h34.lp\n"
     ]
    },
    {
     "name": "stderr",
     "output_type": "stream",
     "text": [
      "Current agent: 1 - at((2,1),0) => at((12,10),19):  18%|█▊        | 18/99 [00:03<00:16,  4.87it/s]\n",
      "Current agent: 2 - at((20,23),0) => at((19,15),9):   8%|▊         | 8/99 [00:01<00:12,  7.38it/s]\n",
      "Current agent: 3 - at((8,6),0) => at((14,5),13):  12%|█▏        | 12/99 [00:01<00:13,  6.26it/s]\n",
      "Current agent: 4 - at((22,21),0) => at((21,12),12):  11%|█         | 11/99 [00:01<00:13,  6.58it/s]\n",
      "Current agent: 5 - at((24,3),0) => at((23,8),6):   5%|▌         | 5/99 [00:00<00:11,  8.43it/s]\n",
      "Current agent: 6 - at((18,23),0) => at((20,17),8):   7%|▋         | 7/99 [00:00<00:11,  8.04it/s]\n",
      "Current agent: 7 - at((19,25),0) => at((5,17),22):  21%|██        | 21/99 [00:04<00:16,  4.81it/s]\n",
      "Current agent: 8 - at((9,18),0) => at((19,11),17):  16%|█▌        | 16/99 [00:02<00:14,  5.57it/s]\n",
      "Current agent: 9 - at((9,7),0) => at((15,11),12):  11%|█         | 11/99 [00:01<00:13,  6.66it/s]\n",
      "Current agent: 10 - at((1,20),0) => at((22,13),28):  27%|██▋       | 27/99 [00:06<00:18,  3.99it/s]\n",
      "Current agent: 11 - at((4,12),0) => at((20,18),22):  21%|██        | 21/99 [00:04<00:16,  4.75it/s]\n",
      "Current agent: 12 - at((8,22),0) => at((3,14),13):  12%|█▏        | 12/99 [00:02<00:15,  5.60it/s]\n",
      "Current agent: 13 - at((23,11),0) => at((21,19),10):   9%|▉         | 9/99 [00:01<00:12,  7.21it/s]\n",
      "Current agent: 14 - at((11,8),0) => at((10,14),13):  12%|█▏        | 12/99 [00:01<00:13,  6.34it/s]\n",
      "Current agent: 15 - at((21,4),0) => at((15,9),11):  10%|█         | 10/99 [00:01<00:12,  6.93it/s]\n",
      "Current agent: 16 - at((14,15),0) => at((18,8),11):  10%|█         | 10/99 [00:01<00:12,  6.94it/s]\n",
      "Current agent: 17 - at((24,6),0) => at((11,24),31):  30%|███       | 30/99 [00:07<00:18,  3.76it/s]\n",
      "Current agent: 18 - at((6,14),0) => at((1,7),12):  11%|█         | 11/99 [00:02<00:16,  5.38it/s]\n",
      "Current agent: 19 - at((13,3),0) => at((3,23),34):  33%|███▎      | 33/99 [00:09<00:19,  3.46it/s]\n",
      "Current agent: 20 - at((10,12),0) => at((14,20),14):  13%|█▎        | 13/99 [00:02<00:16,  5.15it/s]\n",
      "Current agent: 21 - at((3,3),0) => at((16,1),23):  22%|██▏       | 22/99 [00:05<00:18,  4.18it/s]\n",
      "Current agent: 22 - at((5,6),0) => at((21,4),24):  23%|██▎       | 23/99 [00:05<00:16,  4.54it/s]\n",
      "Current agent: 23 - at((20,3),0) => at((17,3),5):   4%|▍         | 4/99 [00:00<00:10,  8.68it/s]\n",
      "Current agent: 24 - at((15,21),0) => at((11,14),13):  12%|█▏        | 12/99 [00:01<00:13,  6.40it/s]\n",
      "Current agent: 25 - at((18,10),0) => at((6,18),22):  21%|██        | 21/99 [00:05<00:20,  3.81it/s]\n"
     ]
    }
   ],
   "source": [
    "for instance in instances_pool:\n",
    "    print(instance)\n",
    "    elems = make_horizon(instance)\n",
    "    if elems:\n",
    "        with open(instance,'a') as file:\n",
    "            for elem in elems:\n",
    "               file.write(f'\\nhorizon{elem}.')\n",
    "    "
   ]
  }
 ],
 "metadata": {
  "kernelspec": {
   "display_name": "pmheatmap",
   "language": "python",
   "name": "python3"
  },
  "language_info": {
   "codemirror_mode": {
    "name": "ipython",
    "version": 3
   },
   "file_extension": ".py",
   "mimetype": "text/x-python",
   "name": "python",
   "nbconvert_exporter": "python",
   "pygments_lexer": "ipython3",
   "version": "3.11.5"
  },
  "orig_nbformat": 4
 },
 "nbformat": 4,
 "nbformat_minor": 2
}
